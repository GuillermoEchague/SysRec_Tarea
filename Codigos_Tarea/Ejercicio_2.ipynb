{
  "nbformat": 4,
  "nbformat_minor": 0,
  "metadata": {
    "colab": {
      "name": "Ejercicio_2.ipynb",
      "provenance": [],
      "collapsed_sections": [],
      "toc_visible": true
    },
    "kernelspec": {
      "name": "python3",
      "display_name": "Python 3"
    },
    "widgets": {
      "application/vnd.jupyter.widget-state+json": {
        "2e947683a7dd4103b7f10f82b9445454": {
          "model_module": "@jupyter-widgets/controls",
          "model_name": "HBoxModel",
          "state": {
            "_view_name": "HBoxView",
            "_dom_classes": [],
            "_model_name": "HBoxModel",
            "_view_module": "@jupyter-widgets/controls",
            "_model_module_version": "1.5.0",
            "_view_count": null,
            "_view_module_version": "1.5.0",
            "box_style": "",
            "layout": "IPY_MODEL_f074eee1177b42b0bc6a5d173e8c04ea",
            "_model_module": "@jupyter-widgets/controls",
            "children": [
              "IPY_MODEL_c0ff12e9a0be48ffa7e62d92118bf0fc",
              "IPY_MODEL_30abd0459a994035bb10e3f8f53cf265"
            ]
          }
        },
        "f074eee1177b42b0bc6a5d173e8c04ea": {
          "model_module": "@jupyter-widgets/base",
          "model_name": "LayoutModel",
          "state": {
            "_view_name": "LayoutView",
            "grid_template_rows": null,
            "right": null,
            "justify_content": null,
            "_view_module": "@jupyter-widgets/base",
            "overflow": null,
            "_model_module_version": "1.2.0",
            "_view_count": null,
            "flex_flow": null,
            "width": null,
            "min_width": null,
            "border": null,
            "align_items": null,
            "bottom": null,
            "_model_module": "@jupyter-widgets/base",
            "top": null,
            "grid_column": null,
            "overflow_y": null,
            "overflow_x": null,
            "grid_auto_flow": null,
            "grid_area": null,
            "grid_template_columns": null,
            "flex": null,
            "_model_name": "LayoutModel",
            "justify_items": null,
            "grid_row": null,
            "max_height": null,
            "align_content": null,
            "visibility": null,
            "align_self": null,
            "height": null,
            "min_height": null,
            "padding": null,
            "grid_auto_rows": null,
            "grid_gap": null,
            "max_width": null,
            "order": null,
            "_view_module_version": "1.2.0",
            "grid_template_areas": null,
            "object_position": null,
            "object_fit": null,
            "grid_auto_columns": null,
            "margin": null,
            "display": null,
            "left": null
          }
        },
        "c0ff12e9a0be48ffa7e62d92118bf0fc": {
          "model_module": "@jupyter-widgets/controls",
          "model_name": "FloatProgressModel",
          "state": {
            "_view_name": "ProgressView",
            "style": "IPY_MODEL_e8bee1d9dd4c44349de1c5bb3ccbfce1",
            "_dom_classes": [],
            "description": "100%",
            "_model_name": "FloatProgressModel",
            "bar_style": "success",
            "max": 15,
            "_view_module": "@jupyter-widgets/controls",
            "_model_module_version": "1.5.0",
            "value": 15,
            "_view_count": null,
            "_view_module_version": "1.5.0",
            "orientation": "horizontal",
            "min": 0,
            "description_tooltip": null,
            "_model_module": "@jupyter-widgets/controls",
            "layout": "IPY_MODEL_9b389cd45e6144e5b3e8a651f81aa822"
          }
        },
        "30abd0459a994035bb10e3f8f53cf265": {
          "model_module": "@jupyter-widgets/controls",
          "model_name": "HTMLModel",
          "state": {
            "_view_name": "HTMLView",
            "style": "IPY_MODEL_1b2d2dfc690b4736ba2a0d39f0f92457",
            "_dom_classes": [],
            "description": "",
            "_model_name": "HTMLModel",
            "placeholder": "​",
            "_view_module": "@jupyter-widgets/controls",
            "_model_module_version": "1.5.0",
            "value": " 15/15 [00:11&lt;00:00,  1.32it/s]",
            "_view_count": null,
            "_view_module_version": "1.5.0",
            "description_tooltip": null,
            "_model_module": "@jupyter-widgets/controls",
            "layout": "IPY_MODEL_98c16833cfe4449db55cb5d7339901aa"
          }
        },
        "e8bee1d9dd4c44349de1c5bb3ccbfce1": {
          "model_module": "@jupyter-widgets/controls",
          "model_name": "ProgressStyleModel",
          "state": {
            "_view_name": "StyleView",
            "_model_name": "ProgressStyleModel",
            "description_width": "initial",
            "_view_module": "@jupyter-widgets/base",
            "_model_module_version": "1.5.0",
            "_view_count": null,
            "_view_module_version": "1.2.0",
            "bar_color": null,
            "_model_module": "@jupyter-widgets/controls"
          }
        },
        "9b389cd45e6144e5b3e8a651f81aa822": {
          "model_module": "@jupyter-widgets/base",
          "model_name": "LayoutModel",
          "state": {
            "_view_name": "LayoutView",
            "grid_template_rows": null,
            "right": null,
            "justify_content": null,
            "_view_module": "@jupyter-widgets/base",
            "overflow": null,
            "_model_module_version": "1.2.0",
            "_view_count": null,
            "flex_flow": null,
            "width": null,
            "min_width": null,
            "border": null,
            "align_items": null,
            "bottom": null,
            "_model_module": "@jupyter-widgets/base",
            "top": null,
            "grid_column": null,
            "overflow_y": null,
            "overflow_x": null,
            "grid_auto_flow": null,
            "grid_area": null,
            "grid_template_columns": null,
            "flex": null,
            "_model_name": "LayoutModel",
            "justify_items": null,
            "grid_row": null,
            "max_height": null,
            "align_content": null,
            "visibility": null,
            "align_self": null,
            "height": null,
            "min_height": null,
            "padding": null,
            "grid_auto_rows": null,
            "grid_gap": null,
            "max_width": null,
            "order": null,
            "_view_module_version": "1.2.0",
            "grid_template_areas": null,
            "object_position": null,
            "object_fit": null,
            "grid_auto_columns": null,
            "margin": null,
            "display": null,
            "left": null
          }
        },
        "1b2d2dfc690b4736ba2a0d39f0f92457": {
          "model_module": "@jupyter-widgets/controls",
          "model_name": "DescriptionStyleModel",
          "state": {
            "_view_name": "StyleView",
            "_model_name": "DescriptionStyleModel",
            "description_width": "",
            "_view_module": "@jupyter-widgets/base",
            "_model_module_version": "1.5.0",
            "_view_count": null,
            "_view_module_version": "1.2.0",
            "_model_module": "@jupyter-widgets/controls"
          }
        },
        "98c16833cfe4449db55cb5d7339901aa": {
          "model_module": "@jupyter-widgets/base",
          "model_name": "LayoutModel",
          "state": {
            "_view_name": "LayoutView",
            "grid_template_rows": null,
            "right": null,
            "justify_content": null,
            "_view_module": "@jupyter-widgets/base",
            "overflow": null,
            "_model_module_version": "1.2.0",
            "_view_count": null,
            "flex_flow": null,
            "width": null,
            "min_width": null,
            "border": null,
            "align_items": null,
            "bottom": null,
            "_model_module": "@jupyter-widgets/base",
            "top": null,
            "grid_column": null,
            "overflow_y": null,
            "overflow_x": null,
            "grid_auto_flow": null,
            "grid_area": null,
            "grid_template_columns": null,
            "flex": null,
            "_model_name": "LayoutModel",
            "justify_items": null,
            "grid_row": null,
            "max_height": null,
            "align_content": null,
            "visibility": null,
            "align_self": null,
            "height": null,
            "min_height": null,
            "padding": null,
            "grid_auto_rows": null,
            "grid_gap": null,
            "max_width": null,
            "order": null,
            "_view_module_version": "1.2.0",
            "grid_template_areas": null,
            "object_position": null,
            "object_fit": null,
            "grid_auto_columns": null,
            "margin": null,
            "display": null,
            "left": null
          }
        },
        "6b55783a1dee4c36835c18b71fb39a0a": {
          "model_module": "@jupyter-widgets/controls",
          "model_name": "HBoxModel",
          "state": {
            "_view_name": "HBoxView",
            "_dom_classes": [],
            "_model_name": "HBoxModel",
            "_view_module": "@jupyter-widgets/controls",
            "_model_module_version": "1.5.0",
            "_view_count": null,
            "_view_module_version": "1.5.0",
            "box_style": "",
            "layout": "IPY_MODEL_6fa43f79057a4d6688ddf82b670bca0d",
            "_model_module": "@jupyter-widgets/controls",
            "children": [
              "IPY_MODEL_ffcc4bc04d0142199404a7501cd97d08",
              "IPY_MODEL_9c628100d2e6432ebb6b4fb5fd394ff0"
            ]
          }
        },
        "6fa43f79057a4d6688ddf82b670bca0d": {
          "model_module": "@jupyter-widgets/base",
          "model_name": "LayoutModel",
          "state": {
            "_view_name": "LayoutView",
            "grid_template_rows": null,
            "right": null,
            "justify_content": null,
            "_view_module": "@jupyter-widgets/base",
            "overflow": null,
            "_model_module_version": "1.2.0",
            "_view_count": null,
            "flex_flow": null,
            "width": null,
            "min_width": null,
            "border": null,
            "align_items": null,
            "bottom": null,
            "_model_module": "@jupyter-widgets/base",
            "top": null,
            "grid_column": null,
            "overflow_y": null,
            "overflow_x": null,
            "grid_auto_flow": null,
            "grid_area": null,
            "grid_template_columns": null,
            "flex": null,
            "_model_name": "LayoutModel",
            "justify_items": null,
            "grid_row": null,
            "max_height": null,
            "align_content": null,
            "visibility": null,
            "align_self": null,
            "height": null,
            "min_height": null,
            "padding": null,
            "grid_auto_rows": null,
            "grid_gap": null,
            "max_width": null,
            "order": null,
            "_view_module_version": "1.2.0",
            "grid_template_areas": null,
            "object_position": null,
            "object_fit": null,
            "grid_auto_columns": null,
            "margin": null,
            "display": null,
            "left": null
          }
        },
        "ffcc4bc04d0142199404a7501cd97d08": {
          "model_module": "@jupyter-widgets/controls",
          "model_name": "FloatProgressModel",
          "state": {
            "_view_name": "ProgressView",
            "style": "IPY_MODEL_b0acd12b02e34f94adec4f84a9323051",
            "_dom_classes": [],
            "description": "100%",
            "_model_name": "FloatProgressModel",
            "bar_style": "success",
            "max": 15,
            "_view_module": "@jupyter-widgets/controls",
            "_model_module_version": "1.5.0",
            "value": 15,
            "_view_count": null,
            "_view_module_version": "1.5.0",
            "orientation": "horizontal",
            "min": 0,
            "description_tooltip": null,
            "_model_module": "@jupyter-widgets/controls",
            "layout": "IPY_MODEL_5c72b3dd897b42158baf4593ae606a46"
          }
        },
        "9c628100d2e6432ebb6b4fb5fd394ff0": {
          "model_module": "@jupyter-widgets/controls",
          "model_name": "HTMLModel",
          "state": {
            "_view_name": "HTMLView",
            "style": "IPY_MODEL_0237a558cd1d438e84befe56f318e111",
            "_dom_classes": [],
            "description": "",
            "_model_name": "HTMLModel",
            "placeholder": "​",
            "_view_module": "@jupyter-widgets/controls",
            "_model_module_version": "1.5.0",
            "value": " 15/15 [00:38&lt;00:00,  2.56s/it]",
            "_view_count": null,
            "_view_module_version": "1.5.0",
            "description_tooltip": null,
            "_model_module": "@jupyter-widgets/controls",
            "layout": "IPY_MODEL_be2b96a95f8a42efb096136fda5d4fa4"
          }
        },
        "b0acd12b02e34f94adec4f84a9323051": {
          "model_module": "@jupyter-widgets/controls",
          "model_name": "ProgressStyleModel",
          "state": {
            "_view_name": "StyleView",
            "_model_name": "ProgressStyleModel",
            "description_width": "initial",
            "_view_module": "@jupyter-widgets/base",
            "_model_module_version": "1.5.0",
            "_view_count": null,
            "_view_module_version": "1.2.0",
            "bar_color": null,
            "_model_module": "@jupyter-widgets/controls"
          }
        },
        "5c72b3dd897b42158baf4593ae606a46": {
          "model_module": "@jupyter-widgets/base",
          "model_name": "LayoutModel",
          "state": {
            "_view_name": "LayoutView",
            "grid_template_rows": null,
            "right": null,
            "justify_content": null,
            "_view_module": "@jupyter-widgets/base",
            "overflow": null,
            "_model_module_version": "1.2.0",
            "_view_count": null,
            "flex_flow": null,
            "width": null,
            "min_width": null,
            "border": null,
            "align_items": null,
            "bottom": null,
            "_model_module": "@jupyter-widgets/base",
            "top": null,
            "grid_column": null,
            "overflow_y": null,
            "overflow_x": null,
            "grid_auto_flow": null,
            "grid_area": null,
            "grid_template_columns": null,
            "flex": null,
            "_model_name": "LayoutModel",
            "justify_items": null,
            "grid_row": null,
            "max_height": null,
            "align_content": null,
            "visibility": null,
            "align_self": null,
            "height": null,
            "min_height": null,
            "padding": null,
            "grid_auto_rows": null,
            "grid_gap": null,
            "max_width": null,
            "order": null,
            "_view_module_version": "1.2.0",
            "grid_template_areas": null,
            "object_position": null,
            "object_fit": null,
            "grid_auto_columns": null,
            "margin": null,
            "display": null,
            "left": null
          }
        },
        "0237a558cd1d438e84befe56f318e111": {
          "model_module": "@jupyter-widgets/controls",
          "model_name": "DescriptionStyleModel",
          "state": {
            "_view_name": "StyleView",
            "_model_name": "DescriptionStyleModel",
            "description_width": "",
            "_view_module": "@jupyter-widgets/base",
            "_model_module_version": "1.5.0",
            "_view_count": null,
            "_view_module_version": "1.2.0",
            "_model_module": "@jupyter-widgets/controls"
          }
        },
        "be2b96a95f8a42efb096136fda5d4fa4": {
          "model_module": "@jupyter-widgets/base",
          "model_name": "LayoutModel",
          "state": {
            "_view_name": "LayoutView",
            "grid_template_rows": null,
            "right": null,
            "justify_content": null,
            "_view_module": "@jupyter-widgets/base",
            "overflow": null,
            "_model_module_version": "1.2.0",
            "_view_count": null,
            "flex_flow": null,
            "width": null,
            "min_width": null,
            "border": null,
            "align_items": null,
            "bottom": null,
            "_model_module": "@jupyter-widgets/base",
            "top": null,
            "grid_column": null,
            "overflow_y": null,
            "overflow_x": null,
            "grid_auto_flow": null,
            "grid_area": null,
            "grid_template_columns": null,
            "flex": null,
            "_model_name": "LayoutModel",
            "justify_items": null,
            "grid_row": null,
            "max_height": null,
            "align_content": null,
            "visibility": null,
            "align_self": null,
            "height": null,
            "min_height": null,
            "padding": null,
            "grid_auto_rows": null,
            "grid_gap": null,
            "max_width": null,
            "order": null,
            "_view_module_version": "1.2.0",
            "grid_template_areas": null,
            "object_position": null,
            "object_fit": null,
            "grid_auto_columns": null,
            "margin": null,
            "display": null,
            "left": null
          }
        },
        "66fbbc8117424a03b8d7f30555b23759": {
          "model_module": "@jupyter-widgets/controls",
          "model_name": "HBoxModel",
          "state": {
            "_view_name": "HBoxView",
            "_dom_classes": [],
            "_model_name": "HBoxModel",
            "_view_module": "@jupyter-widgets/controls",
            "_model_module_version": "1.5.0",
            "_view_count": null,
            "_view_module_version": "1.5.0",
            "box_style": "",
            "layout": "IPY_MODEL_723fb4ac511240209af44c48ecbad9de",
            "_model_module": "@jupyter-widgets/controls",
            "children": [
              "IPY_MODEL_0a71491c9dc2419a9a55d7b1aaec7175",
              "IPY_MODEL_ac760f4289634a23ba859d64bc001012"
            ]
          }
        },
        "723fb4ac511240209af44c48ecbad9de": {
          "model_module": "@jupyter-widgets/base",
          "model_name": "LayoutModel",
          "state": {
            "_view_name": "LayoutView",
            "grid_template_rows": null,
            "right": null,
            "justify_content": null,
            "_view_module": "@jupyter-widgets/base",
            "overflow": null,
            "_model_module_version": "1.2.0",
            "_view_count": null,
            "flex_flow": null,
            "width": null,
            "min_width": null,
            "border": null,
            "align_items": null,
            "bottom": null,
            "_model_module": "@jupyter-widgets/base",
            "top": null,
            "grid_column": null,
            "overflow_y": null,
            "overflow_x": null,
            "grid_auto_flow": null,
            "grid_area": null,
            "grid_template_columns": null,
            "flex": null,
            "_model_name": "LayoutModel",
            "justify_items": null,
            "grid_row": null,
            "max_height": null,
            "align_content": null,
            "visibility": null,
            "align_self": null,
            "height": null,
            "min_height": null,
            "padding": null,
            "grid_auto_rows": null,
            "grid_gap": null,
            "max_width": null,
            "order": null,
            "_view_module_version": "1.2.0",
            "grid_template_areas": null,
            "object_position": null,
            "object_fit": null,
            "grid_auto_columns": null,
            "margin": null,
            "display": null,
            "left": null
          }
        },
        "0a71491c9dc2419a9a55d7b1aaec7175": {
          "model_module": "@jupyter-widgets/controls",
          "model_name": "FloatProgressModel",
          "state": {
            "_view_name": "ProgressView",
            "style": "IPY_MODEL_32d558f2b72742ce89267ffe425948e3",
            "_dom_classes": [],
            "description": "100%",
            "_model_name": "FloatProgressModel",
            "bar_style": "success",
            "max": 15,
            "_view_module": "@jupyter-widgets/controls",
            "_model_module_version": "1.5.0",
            "value": 15,
            "_view_count": null,
            "_view_module_version": "1.5.0",
            "orientation": "horizontal",
            "min": 0,
            "description_tooltip": null,
            "_model_module": "@jupyter-widgets/controls",
            "layout": "IPY_MODEL_9dd29707a7e941e8b993a08d89fe6a1c"
          }
        },
        "ac760f4289634a23ba859d64bc001012": {
          "model_module": "@jupyter-widgets/controls",
          "model_name": "HTMLModel",
          "state": {
            "_view_name": "HTMLView",
            "style": "IPY_MODEL_f61296310b1140bcb3d0f3502e65cd46",
            "_dom_classes": [],
            "description": "",
            "_model_name": "HTMLModel",
            "placeholder": "​",
            "_view_module": "@jupyter-widgets/controls",
            "_model_module_version": "1.5.0",
            "value": " 15/15 [00:27&lt;00:00,  1.81s/it]",
            "_view_count": null,
            "_view_module_version": "1.5.0",
            "description_tooltip": null,
            "_model_module": "@jupyter-widgets/controls",
            "layout": "IPY_MODEL_2e1886f0b00c47c2ac523259742ed943"
          }
        },
        "32d558f2b72742ce89267ffe425948e3": {
          "model_module": "@jupyter-widgets/controls",
          "model_name": "ProgressStyleModel",
          "state": {
            "_view_name": "StyleView",
            "_model_name": "ProgressStyleModel",
            "description_width": "initial",
            "_view_module": "@jupyter-widgets/base",
            "_model_module_version": "1.5.0",
            "_view_count": null,
            "_view_module_version": "1.2.0",
            "bar_color": null,
            "_model_module": "@jupyter-widgets/controls"
          }
        },
        "9dd29707a7e941e8b993a08d89fe6a1c": {
          "model_module": "@jupyter-widgets/base",
          "model_name": "LayoutModel",
          "state": {
            "_view_name": "LayoutView",
            "grid_template_rows": null,
            "right": null,
            "justify_content": null,
            "_view_module": "@jupyter-widgets/base",
            "overflow": null,
            "_model_module_version": "1.2.0",
            "_view_count": null,
            "flex_flow": null,
            "width": null,
            "min_width": null,
            "border": null,
            "align_items": null,
            "bottom": null,
            "_model_module": "@jupyter-widgets/base",
            "top": null,
            "grid_column": null,
            "overflow_y": null,
            "overflow_x": null,
            "grid_auto_flow": null,
            "grid_area": null,
            "grid_template_columns": null,
            "flex": null,
            "_model_name": "LayoutModel",
            "justify_items": null,
            "grid_row": null,
            "max_height": null,
            "align_content": null,
            "visibility": null,
            "align_self": null,
            "height": null,
            "min_height": null,
            "padding": null,
            "grid_auto_rows": null,
            "grid_gap": null,
            "max_width": null,
            "order": null,
            "_view_module_version": "1.2.0",
            "grid_template_areas": null,
            "object_position": null,
            "object_fit": null,
            "grid_auto_columns": null,
            "margin": null,
            "display": null,
            "left": null
          }
        },
        "f61296310b1140bcb3d0f3502e65cd46": {
          "model_module": "@jupyter-widgets/controls",
          "model_name": "DescriptionStyleModel",
          "state": {
            "_view_name": "StyleView",
            "_model_name": "DescriptionStyleModel",
            "description_width": "",
            "_view_module": "@jupyter-widgets/base",
            "_model_module_version": "1.5.0",
            "_view_count": null,
            "_view_module_version": "1.2.0",
            "_model_module": "@jupyter-widgets/controls"
          }
        },
        "2e1886f0b00c47c2ac523259742ed943": {
          "model_module": "@jupyter-widgets/base",
          "model_name": "LayoutModel",
          "state": {
            "_view_name": "LayoutView",
            "grid_template_rows": null,
            "right": null,
            "justify_content": null,
            "_view_module": "@jupyter-widgets/base",
            "overflow": null,
            "_model_module_version": "1.2.0",
            "_view_count": null,
            "flex_flow": null,
            "width": null,
            "min_width": null,
            "border": null,
            "align_items": null,
            "bottom": null,
            "_model_module": "@jupyter-widgets/base",
            "top": null,
            "grid_column": null,
            "overflow_y": null,
            "overflow_x": null,
            "grid_auto_flow": null,
            "grid_area": null,
            "grid_template_columns": null,
            "flex": null,
            "_model_name": "LayoutModel",
            "justify_items": null,
            "grid_row": null,
            "max_height": null,
            "align_content": null,
            "visibility": null,
            "align_self": null,
            "height": null,
            "min_height": null,
            "padding": null,
            "grid_auto_rows": null,
            "grid_gap": null,
            "max_width": null,
            "order": null,
            "_view_module_version": "1.2.0",
            "grid_template_areas": null,
            "object_position": null,
            "object_fit": null,
            "grid_auto_columns": null,
            "margin": null,
            "display": null,
            "left": null
          }
        },
        "20c078d865ef4b60bf868476144eb044": {
          "model_module": "@jupyter-widgets/controls",
          "model_name": "HBoxModel",
          "state": {
            "_view_name": "HBoxView",
            "_dom_classes": [],
            "_model_name": "HBoxModel",
            "_view_module": "@jupyter-widgets/controls",
            "_model_module_version": "1.5.0",
            "_view_count": null,
            "_view_module_version": "1.5.0",
            "box_style": "",
            "layout": "IPY_MODEL_ceddf64396304477ab0f30d8e9c89812",
            "_model_module": "@jupyter-widgets/controls",
            "children": [
              "IPY_MODEL_6ce4c2d84297493dab1e04ec79b304f1",
              "IPY_MODEL_0a8703b61ffe4d3a85eb0b0ef21a8193"
            ]
          }
        },
        "ceddf64396304477ab0f30d8e9c89812": {
          "model_module": "@jupyter-widgets/base",
          "model_name": "LayoutModel",
          "state": {
            "_view_name": "LayoutView",
            "grid_template_rows": null,
            "right": null,
            "justify_content": null,
            "_view_module": "@jupyter-widgets/base",
            "overflow": null,
            "_model_module_version": "1.2.0",
            "_view_count": null,
            "flex_flow": null,
            "width": null,
            "min_width": null,
            "border": null,
            "align_items": null,
            "bottom": null,
            "_model_module": "@jupyter-widgets/base",
            "top": null,
            "grid_column": null,
            "overflow_y": null,
            "overflow_x": null,
            "grid_auto_flow": null,
            "grid_area": null,
            "grid_template_columns": null,
            "flex": null,
            "_model_name": "LayoutModel",
            "justify_items": null,
            "grid_row": null,
            "max_height": null,
            "align_content": null,
            "visibility": null,
            "align_self": null,
            "height": null,
            "min_height": null,
            "padding": null,
            "grid_auto_rows": null,
            "grid_gap": null,
            "max_width": null,
            "order": null,
            "_view_module_version": "1.2.0",
            "grid_template_areas": null,
            "object_position": null,
            "object_fit": null,
            "grid_auto_columns": null,
            "margin": null,
            "display": null,
            "left": null
          }
        },
        "6ce4c2d84297493dab1e04ec79b304f1": {
          "model_module": "@jupyter-widgets/controls",
          "model_name": "FloatProgressModel",
          "state": {
            "_view_name": "ProgressView",
            "style": "IPY_MODEL_8a5ce6ac62e0442892c494cc349641c9",
            "_dom_classes": [],
            "description": "100%",
            "_model_name": "FloatProgressModel",
            "bar_style": "success",
            "max": 15,
            "_view_module": "@jupyter-widgets/controls",
            "_model_module_version": "1.5.0",
            "value": 15,
            "_view_count": null,
            "_view_module_version": "1.5.0",
            "orientation": "horizontal",
            "min": 0,
            "description_tooltip": null,
            "_model_module": "@jupyter-widgets/controls",
            "layout": "IPY_MODEL_836d9c0f52354026a5fe9b1cc8829d32"
          }
        },
        "0a8703b61ffe4d3a85eb0b0ef21a8193": {
          "model_module": "@jupyter-widgets/controls",
          "model_name": "HTMLModel",
          "state": {
            "_view_name": "HTMLView",
            "style": "IPY_MODEL_00a2c153d36249af84288cb1ad7a3090",
            "_dom_classes": [],
            "description": "",
            "_model_name": "HTMLModel",
            "placeholder": "​",
            "_view_module": "@jupyter-widgets/controls",
            "_model_module_version": "1.5.0",
            "value": " 15/15 [00:15&lt;00:00,  1.05s/it]",
            "_view_count": null,
            "_view_module_version": "1.5.0",
            "description_tooltip": null,
            "_model_module": "@jupyter-widgets/controls",
            "layout": "IPY_MODEL_9b44d02cdddd421c9d6013e57249987e"
          }
        },
        "8a5ce6ac62e0442892c494cc349641c9": {
          "model_module": "@jupyter-widgets/controls",
          "model_name": "ProgressStyleModel",
          "state": {
            "_view_name": "StyleView",
            "_model_name": "ProgressStyleModel",
            "description_width": "initial",
            "_view_module": "@jupyter-widgets/base",
            "_model_module_version": "1.5.0",
            "_view_count": null,
            "_view_module_version": "1.2.0",
            "bar_color": null,
            "_model_module": "@jupyter-widgets/controls"
          }
        },
        "836d9c0f52354026a5fe9b1cc8829d32": {
          "model_module": "@jupyter-widgets/base",
          "model_name": "LayoutModel",
          "state": {
            "_view_name": "LayoutView",
            "grid_template_rows": null,
            "right": null,
            "justify_content": null,
            "_view_module": "@jupyter-widgets/base",
            "overflow": null,
            "_model_module_version": "1.2.0",
            "_view_count": null,
            "flex_flow": null,
            "width": null,
            "min_width": null,
            "border": null,
            "align_items": null,
            "bottom": null,
            "_model_module": "@jupyter-widgets/base",
            "top": null,
            "grid_column": null,
            "overflow_y": null,
            "overflow_x": null,
            "grid_auto_flow": null,
            "grid_area": null,
            "grid_template_columns": null,
            "flex": null,
            "_model_name": "LayoutModel",
            "justify_items": null,
            "grid_row": null,
            "max_height": null,
            "align_content": null,
            "visibility": null,
            "align_self": null,
            "height": null,
            "min_height": null,
            "padding": null,
            "grid_auto_rows": null,
            "grid_gap": null,
            "max_width": null,
            "order": null,
            "_view_module_version": "1.2.0",
            "grid_template_areas": null,
            "object_position": null,
            "object_fit": null,
            "grid_auto_columns": null,
            "margin": null,
            "display": null,
            "left": null
          }
        },
        "00a2c153d36249af84288cb1ad7a3090": {
          "model_module": "@jupyter-widgets/controls",
          "model_name": "DescriptionStyleModel",
          "state": {
            "_view_name": "StyleView",
            "_model_name": "DescriptionStyleModel",
            "description_width": "",
            "_view_module": "@jupyter-widgets/base",
            "_model_module_version": "1.5.0",
            "_view_count": null,
            "_view_module_version": "1.2.0",
            "_model_module": "@jupyter-widgets/controls"
          }
        },
        "9b44d02cdddd421c9d6013e57249987e": {
          "model_module": "@jupyter-widgets/base",
          "model_name": "LayoutModel",
          "state": {
            "_view_name": "LayoutView",
            "grid_template_rows": null,
            "right": null,
            "justify_content": null,
            "_view_module": "@jupyter-widgets/base",
            "overflow": null,
            "_model_module_version": "1.2.0",
            "_view_count": null,
            "flex_flow": null,
            "width": null,
            "min_width": null,
            "border": null,
            "align_items": null,
            "bottom": null,
            "_model_module": "@jupyter-widgets/base",
            "top": null,
            "grid_column": null,
            "overflow_y": null,
            "overflow_x": null,
            "grid_auto_flow": null,
            "grid_area": null,
            "grid_template_columns": null,
            "flex": null,
            "_model_name": "LayoutModel",
            "justify_items": null,
            "grid_row": null,
            "max_height": null,
            "align_content": null,
            "visibility": null,
            "align_self": null,
            "height": null,
            "min_height": null,
            "padding": null,
            "grid_auto_rows": null,
            "grid_gap": null,
            "max_width": null,
            "order": null,
            "_view_module_version": "1.2.0",
            "grid_template_areas": null,
            "object_position": null,
            "object_fit": null,
            "grid_auto_columns": null,
            "margin": null,
            "display": null,
            "left": null
          }
        },
        "628ca7e7847c4c7482db5d201c5936af": {
          "model_module": "@jupyter-widgets/controls",
          "model_name": "HBoxModel",
          "state": {
            "_view_name": "HBoxView",
            "_dom_classes": [],
            "_model_name": "HBoxModel",
            "_view_module": "@jupyter-widgets/controls",
            "_model_module_version": "1.5.0",
            "_view_count": null,
            "_view_module_version": "1.5.0",
            "box_style": "",
            "layout": "IPY_MODEL_2ed33660256c4c90a576c0c439ee4e40",
            "_model_module": "@jupyter-widgets/controls",
            "children": [
              "IPY_MODEL_d2cb8cada30e4c14a1f564abdc6f155e",
              "IPY_MODEL_ca12954daa664beba48cbd18b82c453b"
            ]
          }
        },
        "2ed33660256c4c90a576c0c439ee4e40": {
          "model_module": "@jupyter-widgets/base",
          "model_name": "LayoutModel",
          "state": {
            "_view_name": "LayoutView",
            "grid_template_rows": null,
            "right": null,
            "justify_content": null,
            "_view_module": "@jupyter-widgets/base",
            "overflow": null,
            "_model_module_version": "1.2.0",
            "_view_count": null,
            "flex_flow": null,
            "width": null,
            "min_width": null,
            "border": null,
            "align_items": null,
            "bottom": null,
            "_model_module": "@jupyter-widgets/base",
            "top": null,
            "grid_column": null,
            "overflow_y": null,
            "overflow_x": null,
            "grid_auto_flow": null,
            "grid_area": null,
            "grid_template_columns": null,
            "flex": null,
            "_model_name": "LayoutModel",
            "justify_items": null,
            "grid_row": null,
            "max_height": null,
            "align_content": null,
            "visibility": null,
            "align_self": null,
            "height": null,
            "min_height": null,
            "padding": null,
            "grid_auto_rows": null,
            "grid_gap": null,
            "max_width": null,
            "order": null,
            "_view_module_version": "1.2.0",
            "grid_template_areas": null,
            "object_position": null,
            "object_fit": null,
            "grid_auto_columns": null,
            "margin": null,
            "display": null,
            "left": null
          }
        },
        "d2cb8cada30e4c14a1f564abdc6f155e": {
          "model_module": "@jupyter-widgets/controls",
          "model_name": "FloatProgressModel",
          "state": {
            "_view_name": "ProgressView",
            "style": "IPY_MODEL_b2f7a1f7a1eb4e5ab68e55fe5cc8a2f8",
            "_dom_classes": [],
            "description": "100%",
            "_model_name": "FloatProgressModel",
            "bar_style": "success",
            "max": 15,
            "_view_module": "@jupyter-widgets/controls",
            "_model_module_version": "1.5.0",
            "value": 15,
            "_view_count": null,
            "_view_module_version": "1.5.0",
            "orientation": "horizontal",
            "min": 0,
            "description_tooltip": null,
            "_model_module": "@jupyter-widgets/controls",
            "layout": "IPY_MODEL_15f8495ef19a408399df79acf35cc813"
          }
        },
        "ca12954daa664beba48cbd18b82c453b": {
          "model_module": "@jupyter-widgets/controls",
          "model_name": "HTMLModel",
          "state": {
            "_view_name": "HTMLView",
            "style": "IPY_MODEL_c555c3d7910b48fba9e7d599054c2bd5",
            "_dom_classes": [],
            "description": "",
            "_model_name": "HTMLModel",
            "placeholder": "​",
            "_view_module": "@jupyter-widgets/controls",
            "_model_module_version": "1.5.0",
            "value": " 15/15 [00:41&lt;00:00,  2.77s/it]",
            "_view_count": null,
            "_view_module_version": "1.5.0",
            "description_tooltip": null,
            "_model_module": "@jupyter-widgets/controls",
            "layout": "IPY_MODEL_1659aecb111548c1852cf0350846a525"
          }
        },
        "b2f7a1f7a1eb4e5ab68e55fe5cc8a2f8": {
          "model_module": "@jupyter-widgets/controls",
          "model_name": "ProgressStyleModel",
          "state": {
            "_view_name": "StyleView",
            "_model_name": "ProgressStyleModel",
            "description_width": "initial",
            "_view_module": "@jupyter-widgets/base",
            "_model_module_version": "1.5.0",
            "_view_count": null,
            "_view_module_version": "1.2.0",
            "bar_color": null,
            "_model_module": "@jupyter-widgets/controls"
          }
        },
        "15f8495ef19a408399df79acf35cc813": {
          "model_module": "@jupyter-widgets/base",
          "model_name": "LayoutModel",
          "state": {
            "_view_name": "LayoutView",
            "grid_template_rows": null,
            "right": null,
            "justify_content": null,
            "_view_module": "@jupyter-widgets/base",
            "overflow": null,
            "_model_module_version": "1.2.0",
            "_view_count": null,
            "flex_flow": null,
            "width": null,
            "min_width": null,
            "border": null,
            "align_items": null,
            "bottom": null,
            "_model_module": "@jupyter-widgets/base",
            "top": null,
            "grid_column": null,
            "overflow_y": null,
            "overflow_x": null,
            "grid_auto_flow": null,
            "grid_area": null,
            "grid_template_columns": null,
            "flex": null,
            "_model_name": "LayoutModel",
            "justify_items": null,
            "grid_row": null,
            "max_height": null,
            "align_content": null,
            "visibility": null,
            "align_self": null,
            "height": null,
            "min_height": null,
            "padding": null,
            "grid_auto_rows": null,
            "grid_gap": null,
            "max_width": null,
            "order": null,
            "_view_module_version": "1.2.0",
            "grid_template_areas": null,
            "object_position": null,
            "object_fit": null,
            "grid_auto_columns": null,
            "margin": null,
            "display": null,
            "left": null
          }
        },
        "c555c3d7910b48fba9e7d599054c2bd5": {
          "model_module": "@jupyter-widgets/controls",
          "model_name": "DescriptionStyleModel",
          "state": {
            "_view_name": "StyleView",
            "_model_name": "DescriptionStyleModel",
            "description_width": "",
            "_view_module": "@jupyter-widgets/base",
            "_model_module_version": "1.5.0",
            "_view_count": null,
            "_view_module_version": "1.2.0",
            "_model_module": "@jupyter-widgets/controls"
          }
        },
        "1659aecb111548c1852cf0350846a525": {
          "model_module": "@jupyter-widgets/base",
          "model_name": "LayoutModel",
          "state": {
            "_view_name": "LayoutView",
            "grid_template_rows": null,
            "right": null,
            "justify_content": null,
            "_view_module": "@jupyter-widgets/base",
            "overflow": null,
            "_model_module_version": "1.2.0",
            "_view_count": null,
            "flex_flow": null,
            "width": null,
            "min_width": null,
            "border": null,
            "align_items": null,
            "bottom": null,
            "_model_module": "@jupyter-widgets/base",
            "top": null,
            "grid_column": null,
            "overflow_y": null,
            "overflow_x": null,
            "grid_auto_flow": null,
            "grid_area": null,
            "grid_template_columns": null,
            "flex": null,
            "_model_name": "LayoutModel",
            "justify_items": null,
            "grid_row": null,
            "max_height": null,
            "align_content": null,
            "visibility": null,
            "align_self": null,
            "height": null,
            "min_height": null,
            "padding": null,
            "grid_auto_rows": null,
            "grid_gap": null,
            "max_width": null,
            "order": null,
            "_view_module_version": "1.2.0",
            "grid_template_areas": null,
            "object_position": null,
            "object_fit": null,
            "grid_auto_columns": null,
            "margin": null,
            "display": null,
            "left": null
          }
        },
        "63e91ae5ab034c95ad4611bbdf0a7924": {
          "model_module": "@jupyter-widgets/controls",
          "model_name": "HBoxModel",
          "state": {
            "_view_name": "HBoxView",
            "_dom_classes": [],
            "_model_name": "HBoxModel",
            "_view_module": "@jupyter-widgets/controls",
            "_model_module_version": "1.5.0",
            "_view_count": null,
            "_view_module_version": "1.5.0",
            "box_style": "",
            "layout": "IPY_MODEL_c02f02238fc545bd955b8131d8d39db7",
            "_model_module": "@jupyter-widgets/controls",
            "children": [
              "IPY_MODEL_0c4de51aa2a64f8e866d70291a94bb47",
              "IPY_MODEL_f570ade36d604f51a3e8c9e23ebdd78d"
            ]
          }
        },
        "c02f02238fc545bd955b8131d8d39db7": {
          "model_module": "@jupyter-widgets/base",
          "model_name": "LayoutModel",
          "state": {
            "_view_name": "LayoutView",
            "grid_template_rows": null,
            "right": null,
            "justify_content": null,
            "_view_module": "@jupyter-widgets/base",
            "overflow": null,
            "_model_module_version": "1.2.0",
            "_view_count": null,
            "flex_flow": null,
            "width": null,
            "min_width": null,
            "border": null,
            "align_items": null,
            "bottom": null,
            "_model_module": "@jupyter-widgets/base",
            "top": null,
            "grid_column": null,
            "overflow_y": null,
            "overflow_x": null,
            "grid_auto_flow": null,
            "grid_area": null,
            "grid_template_columns": null,
            "flex": null,
            "_model_name": "LayoutModel",
            "justify_items": null,
            "grid_row": null,
            "max_height": null,
            "align_content": null,
            "visibility": null,
            "align_self": null,
            "height": null,
            "min_height": null,
            "padding": null,
            "grid_auto_rows": null,
            "grid_gap": null,
            "max_width": null,
            "order": null,
            "_view_module_version": "1.2.0",
            "grid_template_areas": null,
            "object_position": null,
            "object_fit": null,
            "grid_auto_columns": null,
            "margin": null,
            "display": null,
            "left": null
          }
        },
        "0c4de51aa2a64f8e866d70291a94bb47": {
          "model_module": "@jupyter-widgets/controls",
          "model_name": "FloatProgressModel",
          "state": {
            "_view_name": "ProgressView",
            "style": "IPY_MODEL_a25d31b19fd443f4a935b854876b162d",
            "_dom_classes": [],
            "description": "100%",
            "_model_name": "FloatProgressModel",
            "bar_style": "success",
            "max": 15,
            "_view_module": "@jupyter-widgets/controls",
            "_model_module_version": "1.5.0",
            "value": 15,
            "_view_count": null,
            "_view_module_version": "1.5.0",
            "orientation": "horizontal",
            "min": 0,
            "description_tooltip": null,
            "_model_module": "@jupyter-widgets/controls",
            "layout": "IPY_MODEL_8c86ec1a054648d3abd5dc999b8ece66"
          }
        },
        "f570ade36d604f51a3e8c9e23ebdd78d": {
          "model_module": "@jupyter-widgets/controls",
          "model_name": "HTMLModel",
          "state": {
            "_view_name": "HTMLView",
            "style": "IPY_MODEL_597273d67fb34101a6ca54162e52d8fa",
            "_dom_classes": [],
            "description": "",
            "_model_name": "HTMLModel",
            "placeholder": "​",
            "_view_module": "@jupyter-widgets/controls",
            "_model_module_version": "1.5.0",
            "value": " 15/15 [00:27&lt;00:00,  1.84s/it]",
            "_view_count": null,
            "_view_module_version": "1.5.0",
            "description_tooltip": null,
            "_model_module": "@jupyter-widgets/controls",
            "layout": "IPY_MODEL_2958885cffaf41afac0b82c885a061e5"
          }
        },
        "a25d31b19fd443f4a935b854876b162d": {
          "model_module": "@jupyter-widgets/controls",
          "model_name": "ProgressStyleModel",
          "state": {
            "_view_name": "StyleView",
            "_model_name": "ProgressStyleModel",
            "description_width": "initial",
            "_view_module": "@jupyter-widgets/base",
            "_model_module_version": "1.5.0",
            "_view_count": null,
            "_view_module_version": "1.2.0",
            "bar_color": null,
            "_model_module": "@jupyter-widgets/controls"
          }
        },
        "8c86ec1a054648d3abd5dc999b8ece66": {
          "model_module": "@jupyter-widgets/base",
          "model_name": "LayoutModel",
          "state": {
            "_view_name": "LayoutView",
            "grid_template_rows": null,
            "right": null,
            "justify_content": null,
            "_view_module": "@jupyter-widgets/base",
            "overflow": null,
            "_model_module_version": "1.2.0",
            "_view_count": null,
            "flex_flow": null,
            "width": null,
            "min_width": null,
            "border": null,
            "align_items": null,
            "bottom": null,
            "_model_module": "@jupyter-widgets/base",
            "top": null,
            "grid_column": null,
            "overflow_y": null,
            "overflow_x": null,
            "grid_auto_flow": null,
            "grid_area": null,
            "grid_template_columns": null,
            "flex": null,
            "_model_name": "LayoutModel",
            "justify_items": null,
            "grid_row": null,
            "max_height": null,
            "align_content": null,
            "visibility": null,
            "align_self": null,
            "height": null,
            "min_height": null,
            "padding": null,
            "grid_auto_rows": null,
            "grid_gap": null,
            "max_width": null,
            "order": null,
            "_view_module_version": "1.2.0",
            "grid_template_areas": null,
            "object_position": null,
            "object_fit": null,
            "grid_auto_columns": null,
            "margin": null,
            "display": null,
            "left": null
          }
        },
        "597273d67fb34101a6ca54162e52d8fa": {
          "model_module": "@jupyter-widgets/controls",
          "model_name": "DescriptionStyleModel",
          "state": {
            "_view_name": "StyleView",
            "_model_name": "DescriptionStyleModel",
            "description_width": "",
            "_view_module": "@jupyter-widgets/base",
            "_model_module_version": "1.5.0",
            "_view_count": null,
            "_view_module_version": "1.2.0",
            "_model_module": "@jupyter-widgets/controls"
          }
        },
        "2958885cffaf41afac0b82c885a061e5": {
          "model_module": "@jupyter-widgets/base",
          "model_name": "LayoutModel",
          "state": {
            "_view_name": "LayoutView",
            "grid_template_rows": null,
            "right": null,
            "justify_content": null,
            "_view_module": "@jupyter-widgets/base",
            "overflow": null,
            "_model_module_version": "1.2.0",
            "_view_count": null,
            "flex_flow": null,
            "width": null,
            "min_width": null,
            "border": null,
            "align_items": null,
            "bottom": null,
            "_model_module": "@jupyter-widgets/base",
            "top": null,
            "grid_column": null,
            "overflow_y": null,
            "overflow_x": null,
            "grid_auto_flow": null,
            "grid_area": null,
            "grid_template_columns": null,
            "flex": null,
            "_model_name": "LayoutModel",
            "justify_items": null,
            "grid_row": null,
            "max_height": null,
            "align_content": null,
            "visibility": null,
            "align_self": null,
            "height": null,
            "min_height": null,
            "padding": null,
            "grid_auto_rows": null,
            "grid_gap": null,
            "max_width": null,
            "order": null,
            "_view_module_version": "1.2.0",
            "grid_template_areas": null,
            "object_position": null,
            "object_fit": null,
            "grid_auto_columns": null,
            "margin": null,
            "display": null,
            "left": null
          }
        },
        "5df244aff8c94addb91da9a539436cfe": {
          "model_module": "@jupyter-widgets/controls",
          "model_name": "HBoxModel",
          "state": {
            "_view_name": "HBoxView",
            "_dom_classes": [],
            "_model_name": "HBoxModel",
            "_view_module": "@jupyter-widgets/controls",
            "_model_module_version": "1.5.0",
            "_view_count": null,
            "_view_module_version": "1.5.0",
            "box_style": "",
            "layout": "IPY_MODEL_a60dca9112b04660a49e79a0255100f0",
            "_model_module": "@jupyter-widgets/controls",
            "children": [
              "IPY_MODEL_b24317329fcc4ecb8ddaf565ccd62a3d",
              "IPY_MODEL_9dd16a73e40d4358b07c45b6aed8f31b"
            ]
          }
        },
        "a60dca9112b04660a49e79a0255100f0": {
          "model_module": "@jupyter-widgets/base",
          "model_name": "LayoutModel",
          "state": {
            "_view_name": "LayoutView",
            "grid_template_rows": null,
            "right": null,
            "justify_content": null,
            "_view_module": "@jupyter-widgets/base",
            "overflow": null,
            "_model_module_version": "1.2.0",
            "_view_count": null,
            "flex_flow": null,
            "width": null,
            "min_width": null,
            "border": null,
            "align_items": null,
            "bottom": null,
            "_model_module": "@jupyter-widgets/base",
            "top": null,
            "grid_column": null,
            "overflow_y": null,
            "overflow_x": null,
            "grid_auto_flow": null,
            "grid_area": null,
            "grid_template_columns": null,
            "flex": null,
            "_model_name": "LayoutModel",
            "justify_items": null,
            "grid_row": null,
            "max_height": null,
            "align_content": null,
            "visibility": null,
            "align_self": null,
            "height": null,
            "min_height": null,
            "padding": null,
            "grid_auto_rows": null,
            "grid_gap": null,
            "max_width": null,
            "order": null,
            "_view_module_version": "1.2.0",
            "grid_template_areas": null,
            "object_position": null,
            "object_fit": null,
            "grid_auto_columns": null,
            "margin": null,
            "display": null,
            "left": null
          }
        },
        "b24317329fcc4ecb8ddaf565ccd62a3d": {
          "model_module": "@jupyter-widgets/controls",
          "model_name": "FloatProgressModel",
          "state": {
            "_view_name": "ProgressView",
            "style": "IPY_MODEL_9a5b368bdd5f49b1abf6cbf86a7e5581",
            "_dom_classes": [],
            "description": "100%",
            "_model_name": "FloatProgressModel",
            "bar_style": "success",
            "max": 15,
            "_view_module": "@jupyter-widgets/controls",
            "_model_module_version": "1.5.0",
            "value": 15,
            "_view_count": null,
            "_view_module_version": "1.5.0",
            "orientation": "horizontal",
            "min": 0,
            "description_tooltip": null,
            "_model_module": "@jupyter-widgets/controls",
            "layout": "IPY_MODEL_c2b7ea354b8c4ab290ab54b0b0e82865"
          }
        },
        "9dd16a73e40d4358b07c45b6aed8f31b": {
          "model_module": "@jupyter-widgets/controls",
          "model_name": "HTMLModel",
          "state": {
            "_view_name": "HTMLView",
            "style": "IPY_MODEL_d3f34106725b4ccd9b66cfd547037841",
            "_dom_classes": [],
            "description": "",
            "_model_name": "HTMLModel",
            "placeholder": "​",
            "_view_module": "@jupyter-widgets/controls",
            "_model_module_version": "1.5.0",
            "value": " 15/15 [00:13&lt;00:00,  1.08it/s]",
            "_view_count": null,
            "_view_module_version": "1.5.0",
            "description_tooltip": null,
            "_model_module": "@jupyter-widgets/controls",
            "layout": "IPY_MODEL_f81a8d42c8634a3781d69d682ab1c77c"
          }
        },
        "9a5b368bdd5f49b1abf6cbf86a7e5581": {
          "model_module": "@jupyter-widgets/controls",
          "model_name": "ProgressStyleModel",
          "state": {
            "_view_name": "StyleView",
            "_model_name": "ProgressStyleModel",
            "description_width": "initial",
            "_view_module": "@jupyter-widgets/base",
            "_model_module_version": "1.5.0",
            "_view_count": null,
            "_view_module_version": "1.2.0",
            "bar_color": null,
            "_model_module": "@jupyter-widgets/controls"
          }
        },
        "c2b7ea354b8c4ab290ab54b0b0e82865": {
          "model_module": "@jupyter-widgets/base",
          "model_name": "LayoutModel",
          "state": {
            "_view_name": "LayoutView",
            "grid_template_rows": null,
            "right": null,
            "justify_content": null,
            "_view_module": "@jupyter-widgets/base",
            "overflow": null,
            "_model_module_version": "1.2.0",
            "_view_count": null,
            "flex_flow": null,
            "width": null,
            "min_width": null,
            "border": null,
            "align_items": null,
            "bottom": null,
            "_model_module": "@jupyter-widgets/base",
            "top": null,
            "grid_column": null,
            "overflow_y": null,
            "overflow_x": null,
            "grid_auto_flow": null,
            "grid_area": null,
            "grid_template_columns": null,
            "flex": null,
            "_model_name": "LayoutModel",
            "justify_items": null,
            "grid_row": null,
            "max_height": null,
            "align_content": null,
            "visibility": null,
            "align_self": null,
            "height": null,
            "min_height": null,
            "padding": null,
            "grid_auto_rows": null,
            "grid_gap": null,
            "max_width": null,
            "order": null,
            "_view_module_version": "1.2.0",
            "grid_template_areas": null,
            "object_position": null,
            "object_fit": null,
            "grid_auto_columns": null,
            "margin": null,
            "display": null,
            "left": null
          }
        },
        "d3f34106725b4ccd9b66cfd547037841": {
          "model_module": "@jupyter-widgets/controls",
          "model_name": "DescriptionStyleModel",
          "state": {
            "_view_name": "StyleView",
            "_model_name": "DescriptionStyleModel",
            "description_width": "",
            "_view_module": "@jupyter-widgets/base",
            "_model_module_version": "1.5.0",
            "_view_count": null,
            "_view_module_version": "1.2.0",
            "_model_module": "@jupyter-widgets/controls"
          }
        },
        "f81a8d42c8634a3781d69d682ab1c77c": {
          "model_module": "@jupyter-widgets/base",
          "model_name": "LayoutModel",
          "state": {
            "_view_name": "LayoutView",
            "grid_template_rows": null,
            "right": null,
            "justify_content": null,
            "_view_module": "@jupyter-widgets/base",
            "overflow": null,
            "_model_module_version": "1.2.0",
            "_view_count": null,
            "flex_flow": null,
            "width": null,
            "min_width": null,
            "border": null,
            "align_items": null,
            "bottom": null,
            "_model_module": "@jupyter-widgets/base",
            "top": null,
            "grid_column": null,
            "overflow_y": null,
            "overflow_x": null,
            "grid_auto_flow": null,
            "grid_area": null,
            "grid_template_columns": null,
            "flex": null,
            "_model_name": "LayoutModel",
            "justify_items": null,
            "grid_row": null,
            "max_height": null,
            "align_content": null,
            "visibility": null,
            "align_self": null,
            "height": null,
            "min_height": null,
            "padding": null,
            "grid_auto_rows": null,
            "grid_gap": null,
            "max_width": null,
            "order": null,
            "_view_module_version": "1.2.0",
            "grid_template_areas": null,
            "object_position": null,
            "object_fit": null,
            "grid_auto_columns": null,
            "margin": null,
            "display": null,
            "left": null
          }
        },
        "c92ea10df79747c4b6f0b946ab752cd0": {
          "model_module": "@jupyter-widgets/controls",
          "model_name": "HBoxModel",
          "state": {
            "_view_name": "HBoxView",
            "_dom_classes": [],
            "_model_name": "HBoxModel",
            "_view_module": "@jupyter-widgets/controls",
            "_model_module_version": "1.5.0",
            "_view_count": null,
            "_view_module_version": "1.5.0",
            "box_style": "",
            "layout": "IPY_MODEL_38ad1ef06ebc42428c8f2e84aca6ee20",
            "_model_module": "@jupyter-widgets/controls",
            "children": [
              "IPY_MODEL_bf6e2341b345439d90256cdec8b0be54",
              "IPY_MODEL_0560b334ca154f03986baf8d26948880"
            ]
          }
        },
        "38ad1ef06ebc42428c8f2e84aca6ee20": {
          "model_module": "@jupyter-widgets/base",
          "model_name": "LayoutModel",
          "state": {
            "_view_name": "LayoutView",
            "grid_template_rows": null,
            "right": null,
            "justify_content": null,
            "_view_module": "@jupyter-widgets/base",
            "overflow": null,
            "_model_module_version": "1.2.0",
            "_view_count": null,
            "flex_flow": null,
            "width": null,
            "min_width": null,
            "border": null,
            "align_items": null,
            "bottom": null,
            "_model_module": "@jupyter-widgets/base",
            "top": null,
            "grid_column": null,
            "overflow_y": null,
            "overflow_x": null,
            "grid_auto_flow": null,
            "grid_area": null,
            "grid_template_columns": null,
            "flex": null,
            "_model_name": "LayoutModel",
            "justify_items": null,
            "grid_row": null,
            "max_height": null,
            "align_content": null,
            "visibility": null,
            "align_self": null,
            "height": null,
            "min_height": null,
            "padding": null,
            "grid_auto_rows": null,
            "grid_gap": null,
            "max_width": null,
            "order": null,
            "_view_module_version": "1.2.0",
            "grid_template_areas": null,
            "object_position": null,
            "object_fit": null,
            "grid_auto_columns": null,
            "margin": null,
            "display": null,
            "left": null
          }
        },
        "bf6e2341b345439d90256cdec8b0be54": {
          "model_module": "@jupyter-widgets/controls",
          "model_name": "FloatProgressModel",
          "state": {
            "_view_name": "ProgressView",
            "style": "IPY_MODEL_f8af4df7b5ff41279588c2fb5e51961b",
            "_dom_classes": [],
            "description": "100%",
            "_model_name": "FloatProgressModel",
            "bar_style": "success",
            "max": 15,
            "_view_module": "@jupyter-widgets/controls",
            "_model_module_version": "1.5.0",
            "value": 15,
            "_view_count": null,
            "_view_module_version": "1.5.0",
            "orientation": "horizontal",
            "min": 0,
            "description_tooltip": null,
            "_model_module": "@jupyter-widgets/controls",
            "layout": "IPY_MODEL_2121ca7761014183ae8b37e7007df6f7"
          }
        },
        "0560b334ca154f03986baf8d26948880": {
          "model_module": "@jupyter-widgets/controls",
          "model_name": "HTMLModel",
          "state": {
            "_view_name": "HTMLView",
            "style": "IPY_MODEL_55e00efa529c424bb11b2dafdba83cda",
            "_dom_classes": [],
            "description": "",
            "_model_name": "HTMLModel",
            "placeholder": "​",
            "_view_module": "@jupyter-widgets/controls",
            "_model_module_version": "1.5.0",
            "value": " 15/15 [03:49&lt;00:00, 15.27s/it]",
            "_view_count": null,
            "_view_module_version": "1.5.0",
            "description_tooltip": null,
            "_model_module": "@jupyter-widgets/controls",
            "layout": "IPY_MODEL_34be74dc4c3d4751ada5ad410e1925fb"
          }
        },
        "f8af4df7b5ff41279588c2fb5e51961b": {
          "model_module": "@jupyter-widgets/controls",
          "model_name": "ProgressStyleModel",
          "state": {
            "_view_name": "StyleView",
            "_model_name": "ProgressStyleModel",
            "description_width": "initial",
            "_view_module": "@jupyter-widgets/base",
            "_model_module_version": "1.5.0",
            "_view_count": null,
            "_view_module_version": "1.2.0",
            "bar_color": null,
            "_model_module": "@jupyter-widgets/controls"
          }
        },
        "2121ca7761014183ae8b37e7007df6f7": {
          "model_module": "@jupyter-widgets/base",
          "model_name": "LayoutModel",
          "state": {
            "_view_name": "LayoutView",
            "grid_template_rows": null,
            "right": null,
            "justify_content": null,
            "_view_module": "@jupyter-widgets/base",
            "overflow": null,
            "_model_module_version": "1.2.0",
            "_view_count": null,
            "flex_flow": null,
            "width": null,
            "min_width": null,
            "border": null,
            "align_items": null,
            "bottom": null,
            "_model_module": "@jupyter-widgets/base",
            "top": null,
            "grid_column": null,
            "overflow_y": null,
            "overflow_x": null,
            "grid_auto_flow": null,
            "grid_area": null,
            "grid_template_columns": null,
            "flex": null,
            "_model_name": "LayoutModel",
            "justify_items": null,
            "grid_row": null,
            "max_height": null,
            "align_content": null,
            "visibility": null,
            "align_self": null,
            "height": null,
            "min_height": null,
            "padding": null,
            "grid_auto_rows": null,
            "grid_gap": null,
            "max_width": null,
            "order": null,
            "_view_module_version": "1.2.0",
            "grid_template_areas": null,
            "object_position": null,
            "object_fit": null,
            "grid_auto_columns": null,
            "margin": null,
            "display": null,
            "left": null
          }
        },
        "55e00efa529c424bb11b2dafdba83cda": {
          "model_module": "@jupyter-widgets/controls",
          "model_name": "DescriptionStyleModel",
          "state": {
            "_view_name": "StyleView",
            "_model_name": "DescriptionStyleModel",
            "description_width": "",
            "_view_module": "@jupyter-widgets/base",
            "_model_module_version": "1.5.0",
            "_view_count": null,
            "_view_module_version": "1.2.0",
            "_model_module": "@jupyter-widgets/controls"
          }
        },
        "34be74dc4c3d4751ada5ad410e1925fb": {
          "model_module": "@jupyter-widgets/base",
          "model_name": "LayoutModel",
          "state": {
            "_view_name": "LayoutView",
            "grid_template_rows": null,
            "right": null,
            "justify_content": null,
            "_view_module": "@jupyter-widgets/base",
            "overflow": null,
            "_model_module_version": "1.2.0",
            "_view_count": null,
            "flex_flow": null,
            "width": null,
            "min_width": null,
            "border": null,
            "align_items": null,
            "bottom": null,
            "_model_module": "@jupyter-widgets/base",
            "top": null,
            "grid_column": null,
            "overflow_y": null,
            "overflow_x": null,
            "grid_auto_flow": null,
            "grid_area": null,
            "grid_template_columns": null,
            "flex": null,
            "_model_name": "LayoutModel",
            "justify_items": null,
            "grid_row": null,
            "max_height": null,
            "align_content": null,
            "visibility": null,
            "align_self": null,
            "height": null,
            "min_height": null,
            "padding": null,
            "grid_auto_rows": null,
            "grid_gap": null,
            "max_width": null,
            "order": null,
            "_view_module_version": "1.2.0",
            "grid_template_areas": null,
            "object_position": null,
            "object_fit": null,
            "grid_auto_columns": null,
            "margin": null,
            "display": null,
            "left": null
          }
        },
        "7bd2cba244774dd6acb13d847c546716": {
          "model_module": "@jupyter-widgets/controls",
          "model_name": "HBoxModel",
          "state": {
            "_view_name": "HBoxView",
            "_dom_classes": [],
            "_model_name": "HBoxModel",
            "_view_module": "@jupyter-widgets/controls",
            "_model_module_version": "1.5.0",
            "_view_count": null,
            "_view_module_version": "1.5.0",
            "box_style": "",
            "layout": "IPY_MODEL_20b2a0cc5384464793943e4682338e65",
            "_model_module": "@jupyter-widgets/controls",
            "children": [
              "IPY_MODEL_f9ff2673627c411b9dd5088b6e0aea54",
              "IPY_MODEL_e17b4783f18746308b4042248a788206"
            ]
          }
        },
        "20b2a0cc5384464793943e4682338e65": {
          "model_module": "@jupyter-widgets/base",
          "model_name": "LayoutModel",
          "state": {
            "_view_name": "LayoutView",
            "grid_template_rows": null,
            "right": null,
            "justify_content": null,
            "_view_module": "@jupyter-widgets/base",
            "overflow": null,
            "_model_module_version": "1.2.0",
            "_view_count": null,
            "flex_flow": null,
            "width": null,
            "min_width": null,
            "border": null,
            "align_items": null,
            "bottom": null,
            "_model_module": "@jupyter-widgets/base",
            "top": null,
            "grid_column": null,
            "overflow_y": null,
            "overflow_x": null,
            "grid_auto_flow": null,
            "grid_area": null,
            "grid_template_columns": null,
            "flex": null,
            "_model_name": "LayoutModel",
            "justify_items": null,
            "grid_row": null,
            "max_height": null,
            "align_content": null,
            "visibility": null,
            "align_self": null,
            "height": null,
            "min_height": null,
            "padding": null,
            "grid_auto_rows": null,
            "grid_gap": null,
            "max_width": null,
            "order": null,
            "_view_module_version": "1.2.0",
            "grid_template_areas": null,
            "object_position": null,
            "object_fit": null,
            "grid_auto_columns": null,
            "margin": null,
            "display": null,
            "left": null
          }
        },
        "f9ff2673627c411b9dd5088b6e0aea54": {
          "model_module": "@jupyter-widgets/controls",
          "model_name": "FloatProgressModel",
          "state": {
            "_view_name": "ProgressView",
            "style": "IPY_MODEL_b0cc37db93c14f96b85bb1a99c9b0ae9",
            "_dom_classes": [],
            "description": "100%",
            "_model_name": "FloatProgressModel",
            "bar_style": "success",
            "max": 15,
            "_view_module": "@jupyter-widgets/controls",
            "_model_module_version": "1.5.0",
            "value": 15,
            "_view_count": null,
            "_view_module_version": "1.5.0",
            "orientation": "horizontal",
            "min": 0,
            "description_tooltip": null,
            "_model_module": "@jupyter-widgets/controls",
            "layout": "IPY_MODEL_dbf5c8b22354445a8c33e2b0c083f0ad"
          }
        },
        "e17b4783f18746308b4042248a788206": {
          "model_module": "@jupyter-widgets/controls",
          "model_name": "HTMLModel",
          "state": {
            "_view_name": "HTMLView",
            "style": "IPY_MODEL_5dac333bc09e4478b1161a74bc366a2f",
            "_dom_classes": [],
            "description": "",
            "_model_name": "HTMLModel",
            "placeholder": "​",
            "_view_module": "@jupyter-widgets/controls",
            "_model_module_version": "1.5.0",
            "value": " 15/15 [00:47&lt;00:00,  3.16s/it]",
            "_view_count": null,
            "_view_module_version": "1.5.0",
            "description_tooltip": null,
            "_model_module": "@jupyter-widgets/controls",
            "layout": "IPY_MODEL_90d52c701a5c4b45a5b7057c5decea3f"
          }
        },
        "b0cc37db93c14f96b85bb1a99c9b0ae9": {
          "model_module": "@jupyter-widgets/controls",
          "model_name": "ProgressStyleModel",
          "state": {
            "_view_name": "StyleView",
            "_model_name": "ProgressStyleModel",
            "description_width": "initial",
            "_view_module": "@jupyter-widgets/base",
            "_model_module_version": "1.5.0",
            "_view_count": null,
            "_view_module_version": "1.2.0",
            "bar_color": null,
            "_model_module": "@jupyter-widgets/controls"
          }
        },
        "dbf5c8b22354445a8c33e2b0c083f0ad": {
          "model_module": "@jupyter-widgets/base",
          "model_name": "LayoutModel",
          "state": {
            "_view_name": "LayoutView",
            "grid_template_rows": null,
            "right": null,
            "justify_content": null,
            "_view_module": "@jupyter-widgets/base",
            "overflow": null,
            "_model_module_version": "1.2.0",
            "_view_count": null,
            "flex_flow": null,
            "width": null,
            "min_width": null,
            "border": null,
            "align_items": null,
            "bottom": null,
            "_model_module": "@jupyter-widgets/base",
            "top": null,
            "grid_column": null,
            "overflow_y": null,
            "overflow_x": null,
            "grid_auto_flow": null,
            "grid_area": null,
            "grid_template_columns": null,
            "flex": null,
            "_model_name": "LayoutModel",
            "justify_items": null,
            "grid_row": null,
            "max_height": null,
            "align_content": null,
            "visibility": null,
            "align_self": null,
            "height": null,
            "min_height": null,
            "padding": null,
            "grid_auto_rows": null,
            "grid_gap": null,
            "max_width": null,
            "order": null,
            "_view_module_version": "1.2.0",
            "grid_template_areas": null,
            "object_position": null,
            "object_fit": null,
            "grid_auto_columns": null,
            "margin": null,
            "display": null,
            "left": null
          }
        },
        "5dac333bc09e4478b1161a74bc366a2f": {
          "model_module": "@jupyter-widgets/controls",
          "model_name": "DescriptionStyleModel",
          "state": {
            "_view_name": "StyleView",
            "_model_name": "DescriptionStyleModel",
            "description_width": "",
            "_view_module": "@jupyter-widgets/base",
            "_model_module_version": "1.5.0",
            "_view_count": null,
            "_view_module_version": "1.2.0",
            "_model_module": "@jupyter-widgets/controls"
          }
        },
        "90d52c701a5c4b45a5b7057c5decea3f": {
          "model_module": "@jupyter-widgets/base",
          "model_name": "LayoutModel",
          "state": {
            "_view_name": "LayoutView",
            "grid_template_rows": null,
            "right": null,
            "justify_content": null,
            "_view_module": "@jupyter-widgets/base",
            "overflow": null,
            "_model_module_version": "1.2.0",
            "_view_count": null,
            "flex_flow": null,
            "width": null,
            "min_width": null,
            "border": null,
            "align_items": null,
            "bottom": null,
            "_model_module": "@jupyter-widgets/base",
            "top": null,
            "grid_column": null,
            "overflow_y": null,
            "overflow_x": null,
            "grid_auto_flow": null,
            "grid_area": null,
            "grid_template_columns": null,
            "flex": null,
            "_model_name": "LayoutModel",
            "justify_items": null,
            "grid_row": null,
            "max_height": null,
            "align_content": null,
            "visibility": null,
            "align_self": null,
            "height": null,
            "min_height": null,
            "padding": null,
            "grid_auto_rows": null,
            "grid_gap": null,
            "max_width": null,
            "order": null,
            "_view_module_version": "1.2.0",
            "grid_template_areas": null,
            "object_position": null,
            "object_fit": null,
            "grid_auto_columns": null,
            "margin": null,
            "display": null,
            "left": null
          }
        },
        "826cc3f6e2cd465d8b8095855d723a2d": {
          "model_module": "@jupyter-widgets/controls",
          "model_name": "HBoxModel",
          "state": {
            "_view_name": "HBoxView",
            "_dom_classes": [],
            "_model_name": "HBoxModel",
            "_view_module": "@jupyter-widgets/controls",
            "_model_module_version": "1.5.0",
            "_view_count": null,
            "_view_module_version": "1.5.0",
            "box_style": "",
            "layout": "IPY_MODEL_e79e55620a6f4f8db512544fd27b631a",
            "_model_module": "@jupyter-widgets/controls",
            "children": [
              "IPY_MODEL_e3ec07d1efc447f292e488b59e35bacd",
              "IPY_MODEL_6c37112003d2495088191b6006adacc2"
            ]
          }
        },
        "e79e55620a6f4f8db512544fd27b631a": {
          "model_module": "@jupyter-widgets/base",
          "model_name": "LayoutModel",
          "state": {
            "_view_name": "LayoutView",
            "grid_template_rows": null,
            "right": null,
            "justify_content": null,
            "_view_module": "@jupyter-widgets/base",
            "overflow": null,
            "_model_module_version": "1.2.0",
            "_view_count": null,
            "flex_flow": null,
            "width": null,
            "min_width": null,
            "border": null,
            "align_items": null,
            "bottom": null,
            "_model_module": "@jupyter-widgets/base",
            "top": null,
            "grid_column": null,
            "overflow_y": null,
            "overflow_x": null,
            "grid_auto_flow": null,
            "grid_area": null,
            "grid_template_columns": null,
            "flex": null,
            "_model_name": "LayoutModel",
            "justify_items": null,
            "grid_row": null,
            "max_height": null,
            "align_content": null,
            "visibility": null,
            "align_self": null,
            "height": null,
            "min_height": null,
            "padding": null,
            "grid_auto_rows": null,
            "grid_gap": null,
            "max_width": null,
            "order": null,
            "_view_module_version": "1.2.0",
            "grid_template_areas": null,
            "object_position": null,
            "object_fit": null,
            "grid_auto_columns": null,
            "margin": null,
            "display": null,
            "left": null
          }
        },
        "e3ec07d1efc447f292e488b59e35bacd": {
          "model_module": "@jupyter-widgets/controls",
          "model_name": "FloatProgressModel",
          "state": {
            "_view_name": "ProgressView",
            "style": "IPY_MODEL_46e678815af6415eb985f7298efd972a",
            "_dom_classes": [],
            "description": "100%",
            "_model_name": "FloatProgressModel",
            "bar_style": "success",
            "max": 15,
            "_view_module": "@jupyter-widgets/controls",
            "_model_module_version": "1.5.0",
            "value": 15,
            "_view_count": null,
            "_view_module_version": "1.5.0",
            "orientation": "horizontal",
            "min": 0,
            "description_tooltip": null,
            "_model_module": "@jupyter-widgets/controls",
            "layout": "IPY_MODEL_3a3025e682ab4faf91adc8118f99c2f6"
          }
        },
        "6c37112003d2495088191b6006adacc2": {
          "model_module": "@jupyter-widgets/controls",
          "model_name": "HTMLModel",
          "state": {
            "_view_name": "HTMLView",
            "style": "IPY_MODEL_845b130a91ca4ae0adc33565c310d0fc",
            "_dom_classes": [],
            "description": "",
            "_model_name": "HTMLModel",
            "placeholder": "​",
            "_view_module": "@jupyter-widgets/controls",
            "_model_module_version": "1.5.0",
            "value": " 15/15 [00:23&lt;00:00,  1.58s/it]",
            "_view_count": null,
            "_view_module_version": "1.5.0",
            "description_tooltip": null,
            "_model_module": "@jupyter-widgets/controls",
            "layout": "IPY_MODEL_bf990809187a4da491dcbf24af9962d3"
          }
        },
        "46e678815af6415eb985f7298efd972a": {
          "model_module": "@jupyter-widgets/controls",
          "model_name": "ProgressStyleModel",
          "state": {
            "_view_name": "StyleView",
            "_model_name": "ProgressStyleModel",
            "description_width": "initial",
            "_view_module": "@jupyter-widgets/base",
            "_model_module_version": "1.5.0",
            "_view_count": null,
            "_view_module_version": "1.2.0",
            "bar_color": null,
            "_model_module": "@jupyter-widgets/controls"
          }
        },
        "3a3025e682ab4faf91adc8118f99c2f6": {
          "model_module": "@jupyter-widgets/base",
          "model_name": "LayoutModel",
          "state": {
            "_view_name": "LayoutView",
            "grid_template_rows": null,
            "right": null,
            "justify_content": null,
            "_view_module": "@jupyter-widgets/base",
            "overflow": null,
            "_model_module_version": "1.2.0",
            "_view_count": null,
            "flex_flow": null,
            "width": null,
            "min_width": null,
            "border": null,
            "align_items": null,
            "bottom": null,
            "_model_module": "@jupyter-widgets/base",
            "top": null,
            "grid_column": null,
            "overflow_y": null,
            "overflow_x": null,
            "grid_auto_flow": null,
            "grid_area": null,
            "grid_template_columns": null,
            "flex": null,
            "_model_name": "LayoutModel",
            "justify_items": null,
            "grid_row": null,
            "max_height": null,
            "align_content": null,
            "visibility": null,
            "align_self": null,
            "height": null,
            "min_height": null,
            "padding": null,
            "grid_auto_rows": null,
            "grid_gap": null,
            "max_width": null,
            "order": null,
            "_view_module_version": "1.2.0",
            "grid_template_areas": null,
            "object_position": null,
            "object_fit": null,
            "grid_auto_columns": null,
            "margin": null,
            "display": null,
            "left": null
          }
        },
        "845b130a91ca4ae0adc33565c310d0fc": {
          "model_module": "@jupyter-widgets/controls",
          "model_name": "DescriptionStyleModel",
          "state": {
            "_view_name": "StyleView",
            "_model_name": "DescriptionStyleModel",
            "description_width": "",
            "_view_module": "@jupyter-widgets/base",
            "_model_module_version": "1.5.0",
            "_view_count": null,
            "_view_module_version": "1.2.0",
            "_model_module": "@jupyter-widgets/controls"
          }
        },
        "bf990809187a4da491dcbf24af9962d3": {
          "model_module": "@jupyter-widgets/base",
          "model_name": "LayoutModel",
          "state": {
            "_view_name": "LayoutView",
            "grid_template_rows": null,
            "right": null,
            "justify_content": null,
            "_view_module": "@jupyter-widgets/base",
            "overflow": null,
            "_model_module_version": "1.2.0",
            "_view_count": null,
            "flex_flow": null,
            "width": null,
            "min_width": null,
            "border": null,
            "align_items": null,
            "bottom": null,
            "_model_module": "@jupyter-widgets/base",
            "top": null,
            "grid_column": null,
            "overflow_y": null,
            "overflow_x": null,
            "grid_auto_flow": null,
            "grid_area": null,
            "grid_template_columns": null,
            "flex": null,
            "_model_name": "LayoutModel",
            "justify_items": null,
            "grid_row": null,
            "max_height": null,
            "align_content": null,
            "visibility": null,
            "align_self": null,
            "height": null,
            "min_height": null,
            "padding": null,
            "grid_auto_rows": null,
            "grid_gap": null,
            "max_width": null,
            "order": null,
            "_view_module_version": "1.2.0",
            "grid_template_areas": null,
            "object_position": null,
            "object_fit": null,
            "grid_auto_columns": null,
            "margin": null,
            "display": null,
            "left": null
          }
        },
        "f16e085ff50d476f802ac0c1e21596dd": {
          "model_module": "@jupyter-widgets/controls",
          "model_name": "HBoxModel",
          "state": {
            "_view_name": "HBoxView",
            "_dom_classes": [],
            "_model_name": "HBoxModel",
            "_view_module": "@jupyter-widgets/controls",
            "_model_module_version": "1.5.0",
            "_view_count": null,
            "_view_module_version": "1.5.0",
            "box_style": "",
            "layout": "IPY_MODEL_d7fe76cd87384d4c8d4cea85f423e6e1",
            "_model_module": "@jupyter-widgets/controls",
            "children": [
              "IPY_MODEL_924b8b25d92b4eb5a6e3b67a8000cbc9",
              "IPY_MODEL_cb6398a298414c9e9e7fc8aefc4805c7"
            ]
          }
        },
        "d7fe76cd87384d4c8d4cea85f423e6e1": {
          "model_module": "@jupyter-widgets/base",
          "model_name": "LayoutModel",
          "state": {
            "_view_name": "LayoutView",
            "grid_template_rows": null,
            "right": null,
            "justify_content": null,
            "_view_module": "@jupyter-widgets/base",
            "overflow": null,
            "_model_module_version": "1.2.0",
            "_view_count": null,
            "flex_flow": null,
            "width": null,
            "min_width": null,
            "border": null,
            "align_items": null,
            "bottom": null,
            "_model_module": "@jupyter-widgets/base",
            "top": null,
            "grid_column": null,
            "overflow_y": null,
            "overflow_x": null,
            "grid_auto_flow": null,
            "grid_area": null,
            "grid_template_columns": null,
            "flex": null,
            "_model_name": "LayoutModel",
            "justify_items": null,
            "grid_row": null,
            "max_height": null,
            "align_content": null,
            "visibility": null,
            "align_self": null,
            "height": null,
            "min_height": null,
            "padding": null,
            "grid_auto_rows": null,
            "grid_gap": null,
            "max_width": null,
            "order": null,
            "_view_module_version": "1.2.0",
            "grid_template_areas": null,
            "object_position": null,
            "object_fit": null,
            "grid_auto_columns": null,
            "margin": null,
            "display": null,
            "left": null
          }
        },
        "924b8b25d92b4eb5a6e3b67a8000cbc9": {
          "model_module": "@jupyter-widgets/controls",
          "model_name": "FloatProgressModel",
          "state": {
            "_view_name": "ProgressView",
            "style": "IPY_MODEL_1e465f9cf1b4447eb31c7eeac6fc8a62",
            "_dom_classes": [],
            "description": "100%",
            "_model_name": "FloatProgressModel",
            "bar_style": "success",
            "max": 15,
            "_view_module": "@jupyter-widgets/controls",
            "_model_module_version": "1.5.0",
            "value": 15,
            "_view_count": null,
            "_view_module_version": "1.5.0",
            "orientation": "horizontal",
            "min": 0,
            "description_tooltip": null,
            "_model_module": "@jupyter-widgets/controls",
            "layout": "IPY_MODEL_4258605652494ff190a29edaf19e2270"
          }
        },
        "cb6398a298414c9e9e7fc8aefc4805c7": {
          "model_module": "@jupyter-widgets/controls",
          "model_name": "HTMLModel",
          "state": {
            "_view_name": "HTMLView",
            "style": "IPY_MODEL_c0f393473076427592e0dac019f59106",
            "_dom_classes": [],
            "description": "",
            "_model_name": "HTMLModel",
            "placeholder": "​",
            "_view_module": "@jupyter-widgets/controls",
            "_model_module_version": "1.5.0",
            "value": " 15/15 [02:47&lt;00:00, 11.19s/it]",
            "_view_count": null,
            "_view_module_version": "1.5.0",
            "description_tooltip": null,
            "_model_module": "@jupyter-widgets/controls",
            "layout": "IPY_MODEL_127cb9e7bf104298a95e11644e758024"
          }
        },
        "1e465f9cf1b4447eb31c7eeac6fc8a62": {
          "model_module": "@jupyter-widgets/controls",
          "model_name": "ProgressStyleModel",
          "state": {
            "_view_name": "StyleView",
            "_model_name": "ProgressStyleModel",
            "description_width": "initial",
            "_view_module": "@jupyter-widgets/base",
            "_model_module_version": "1.5.0",
            "_view_count": null,
            "_view_module_version": "1.2.0",
            "bar_color": null,
            "_model_module": "@jupyter-widgets/controls"
          }
        },
        "4258605652494ff190a29edaf19e2270": {
          "model_module": "@jupyter-widgets/base",
          "model_name": "LayoutModel",
          "state": {
            "_view_name": "LayoutView",
            "grid_template_rows": null,
            "right": null,
            "justify_content": null,
            "_view_module": "@jupyter-widgets/base",
            "overflow": null,
            "_model_module_version": "1.2.0",
            "_view_count": null,
            "flex_flow": null,
            "width": null,
            "min_width": null,
            "border": null,
            "align_items": null,
            "bottom": null,
            "_model_module": "@jupyter-widgets/base",
            "top": null,
            "grid_column": null,
            "overflow_y": null,
            "overflow_x": null,
            "grid_auto_flow": null,
            "grid_area": null,
            "grid_template_columns": null,
            "flex": null,
            "_model_name": "LayoutModel",
            "justify_items": null,
            "grid_row": null,
            "max_height": null,
            "align_content": null,
            "visibility": null,
            "align_self": null,
            "height": null,
            "min_height": null,
            "padding": null,
            "grid_auto_rows": null,
            "grid_gap": null,
            "max_width": null,
            "order": null,
            "_view_module_version": "1.2.0",
            "grid_template_areas": null,
            "object_position": null,
            "object_fit": null,
            "grid_auto_columns": null,
            "margin": null,
            "display": null,
            "left": null
          }
        },
        "c0f393473076427592e0dac019f59106": {
          "model_module": "@jupyter-widgets/controls",
          "model_name": "DescriptionStyleModel",
          "state": {
            "_view_name": "StyleView",
            "_model_name": "DescriptionStyleModel",
            "description_width": "",
            "_view_module": "@jupyter-widgets/base",
            "_model_module_version": "1.5.0",
            "_view_count": null,
            "_view_module_version": "1.2.0",
            "_model_module": "@jupyter-widgets/controls"
          }
        },
        "127cb9e7bf104298a95e11644e758024": {
          "model_module": "@jupyter-widgets/base",
          "model_name": "LayoutModel",
          "state": {
            "_view_name": "LayoutView",
            "grid_template_rows": null,
            "right": null,
            "justify_content": null,
            "_view_module": "@jupyter-widgets/base",
            "overflow": null,
            "_model_module_version": "1.2.0",
            "_view_count": null,
            "flex_flow": null,
            "width": null,
            "min_width": null,
            "border": null,
            "align_items": null,
            "bottom": null,
            "_model_module": "@jupyter-widgets/base",
            "top": null,
            "grid_column": null,
            "overflow_y": null,
            "overflow_x": null,
            "grid_auto_flow": null,
            "grid_area": null,
            "grid_template_columns": null,
            "flex": null,
            "_model_name": "LayoutModel",
            "justify_items": null,
            "grid_row": null,
            "max_height": null,
            "align_content": null,
            "visibility": null,
            "align_self": null,
            "height": null,
            "min_height": null,
            "padding": null,
            "grid_auto_rows": null,
            "grid_gap": null,
            "max_width": null,
            "order": null,
            "_view_module_version": "1.2.0",
            "grid_template_areas": null,
            "object_position": null,
            "object_fit": null,
            "grid_auto_columns": null,
            "margin": null,
            "display": null,
            "left": null
          }
        },
        "1b0e2acdd3c74ca68e9e398df7e8b957": {
          "model_module": "@jupyter-widgets/controls",
          "model_name": "HBoxModel",
          "state": {
            "_view_name": "HBoxView",
            "_dom_classes": [],
            "_model_name": "HBoxModel",
            "_view_module": "@jupyter-widgets/controls",
            "_model_module_version": "1.5.0",
            "_view_count": null,
            "_view_module_version": "1.5.0",
            "box_style": "",
            "layout": "IPY_MODEL_a1151839bd614dbd966ca1a1c8a73f8e",
            "_model_module": "@jupyter-widgets/controls",
            "children": [
              "IPY_MODEL_01896743f227425085c5f93a3f4e7d07",
              "IPY_MODEL_c08e9f3380054de19853d011165b9e86"
            ]
          }
        },
        "a1151839bd614dbd966ca1a1c8a73f8e": {
          "model_module": "@jupyter-widgets/base",
          "model_name": "LayoutModel",
          "state": {
            "_view_name": "LayoutView",
            "grid_template_rows": null,
            "right": null,
            "justify_content": null,
            "_view_module": "@jupyter-widgets/base",
            "overflow": null,
            "_model_module_version": "1.2.0",
            "_view_count": null,
            "flex_flow": null,
            "width": null,
            "min_width": null,
            "border": null,
            "align_items": null,
            "bottom": null,
            "_model_module": "@jupyter-widgets/base",
            "top": null,
            "grid_column": null,
            "overflow_y": null,
            "overflow_x": null,
            "grid_auto_flow": null,
            "grid_area": null,
            "grid_template_columns": null,
            "flex": null,
            "_model_name": "LayoutModel",
            "justify_items": null,
            "grid_row": null,
            "max_height": null,
            "align_content": null,
            "visibility": null,
            "align_self": null,
            "height": null,
            "min_height": null,
            "padding": null,
            "grid_auto_rows": null,
            "grid_gap": null,
            "max_width": null,
            "order": null,
            "_view_module_version": "1.2.0",
            "grid_template_areas": null,
            "object_position": null,
            "object_fit": null,
            "grid_auto_columns": null,
            "margin": null,
            "display": null,
            "left": null
          }
        },
        "01896743f227425085c5f93a3f4e7d07": {
          "model_module": "@jupyter-widgets/controls",
          "model_name": "FloatProgressModel",
          "state": {
            "_view_name": "ProgressView",
            "style": "IPY_MODEL_78bf11c9f8fa4a11b80deeb60d03b728",
            "_dom_classes": [],
            "description": "100%",
            "_model_name": "FloatProgressModel",
            "bar_style": "success",
            "max": 15,
            "_view_module": "@jupyter-widgets/controls",
            "_model_module_version": "1.5.0",
            "value": 15,
            "_view_count": null,
            "_view_module_version": "1.5.0",
            "orientation": "horizontal",
            "min": 0,
            "description_tooltip": null,
            "_model_module": "@jupyter-widgets/controls",
            "layout": "IPY_MODEL_5ed900c423ff4202b9b23d22ad5139b3"
          }
        },
        "c08e9f3380054de19853d011165b9e86": {
          "model_module": "@jupyter-widgets/controls",
          "model_name": "HTMLModel",
          "state": {
            "_view_name": "HTMLView",
            "style": "IPY_MODEL_83ae940b87a24ad3b63319d5bf80ff38",
            "_dom_classes": [],
            "description": "",
            "_model_name": "HTMLModel",
            "placeholder": "​",
            "_view_module": "@jupyter-widgets/controls",
            "_model_module_version": "1.5.0",
            "value": " 15/15 [00:26&lt;00:00,  1.76s/it]",
            "_view_count": null,
            "_view_module_version": "1.5.0",
            "description_tooltip": null,
            "_model_module": "@jupyter-widgets/controls",
            "layout": "IPY_MODEL_0a467ff1bee541e596938235c7632888"
          }
        },
        "78bf11c9f8fa4a11b80deeb60d03b728": {
          "model_module": "@jupyter-widgets/controls",
          "model_name": "ProgressStyleModel",
          "state": {
            "_view_name": "StyleView",
            "_model_name": "ProgressStyleModel",
            "description_width": "initial",
            "_view_module": "@jupyter-widgets/base",
            "_model_module_version": "1.5.0",
            "_view_count": null,
            "_view_module_version": "1.2.0",
            "bar_color": null,
            "_model_module": "@jupyter-widgets/controls"
          }
        },
        "5ed900c423ff4202b9b23d22ad5139b3": {
          "model_module": "@jupyter-widgets/base",
          "model_name": "LayoutModel",
          "state": {
            "_view_name": "LayoutView",
            "grid_template_rows": null,
            "right": null,
            "justify_content": null,
            "_view_module": "@jupyter-widgets/base",
            "overflow": null,
            "_model_module_version": "1.2.0",
            "_view_count": null,
            "flex_flow": null,
            "width": null,
            "min_width": null,
            "border": null,
            "align_items": null,
            "bottom": null,
            "_model_module": "@jupyter-widgets/base",
            "top": null,
            "grid_column": null,
            "overflow_y": null,
            "overflow_x": null,
            "grid_auto_flow": null,
            "grid_area": null,
            "grid_template_columns": null,
            "flex": null,
            "_model_name": "LayoutModel",
            "justify_items": null,
            "grid_row": null,
            "max_height": null,
            "align_content": null,
            "visibility": null,
            "align_self": null,
            "height": null,
            "min_height": null,
            "padding": null,
            "grid_auto_rows": null,
            "grid_gap": null,
            "max_width": null,
            "order": null,
            "_view_module_version": "1.2.0",
            "grid_template_areas": null,
            "object_position": null,
            "object_fit": null,
            "grid_auto_columns": null,
            "margin": null,
            "display": null,
            "left": null
          }
        },
        "83ae940b87a24ad3b63319d5bf80ff38": {
          "model_module": "@jupyter-widgets/controls",
          "model_name": "DescriptionStyleModel",
          "state": {
            "_view_name": "StyleView",
            "_model_name": "DescriptionStyleModel",
            "description_width": "",
            "_view_module": "@jupyter-widgets/base",
            "_model_module_version": "1.5.0",
            "_view_count": null,
            "_view_module_version": "1.2.0",
            "_model_module": "@jupyter-widgets/controls"
          }
        },
        "0a467ff1bee541e596938235c7632888": {
          "model_module": "@jupyter-widgets/base",
          "model_name": "LayoutModel",
          "state": {
            "_view_name": "LayoutView",
            "grid_template_rows": null,
            "right": null,
            "justify_content": null,
            "_view_module": "@jupyter-widgets/base",
            "overflow": null,
            "_model_module_version": "1.2.0",
            "_view_count": null,
            "flex_flow": null,
            "width": null,
            "min_width": null,
            "border": null,
            "align_items": null,
            "bottom": null,
            "_model_module": "@jupyter-widgets/base",
            "top": null,
            "grid_column": null,
            "overflow_y": null,
            "overflow_x": null,
            "grid_auto_flow": null,
            "grid_area": null,
            "grid_template_columns": null,
            "flex": null,
            "_model_name": "LayoutModel",
            "justify_items": null,
            "grid_row": null,
            "max_height": null,
            "align_content": null,
            "visibility": null,
            "align_self": null,
            "height": null,
            "min_height": null,
            "padding": null,
            "grid_auto_rows": null,
            "grid_gap": null,
            "max_width": null,
            "order": null,
            "_view_module_version": "1.2.0",
            "grid_template_areas": null,
            "object_position": null,
            "object_fit": null,
            "grid_auto_columns": null,
            "margin": null,
            "display": null,
            "left": null
          }
        },
        "bb05194a3f184138bf5464b0b8baa34e": {
          "model_module": "@jupyter-widgets/controls",
          "model_name": "HBoxModel",
          "state": {
            "_view_name": "HBoxView",
            "_dom_classes": [],
            "_model_name": "HBoxModel",
            "_view_module": "@jupyter-widgets/controls",
            "_model_module_version": "1.5.0",
            "_view_count": null,
            "_view_module_version": "1.5.0",
            "box_style": "",
            "layout": "IPY_MODEL_4744534e5da94c11838a9486c3f09fdd",
            "_model_module": "@jupyter-widgets/controls",
            "children": [
              "IPY_MODEL_968598a27fab4f3d919b7dafd75becb5",
              "IPY_MODEL_c44f581ed46f4e0ea275ea24b664f423"
            ]
          }
        },
        "4744534e5da94c11838a9486c3f09fdd": {
          "model_module": "@jupyter-widgets/base",
          "model_name": "LayoutModel",
          "state": {
            "_view_name": "LayoutView",
            "grid_template_rows": null,
            "right": null,
            "justify_content": null,
            "_view_module": "@jupyter-widgets/base",
            "overflow": null,
            "_model_module_version": "1.2.0",
            "_view_count": null,
            "flex_flow": null,
            "width": null,
            "min_width": null,
            "border": null,
            "align_items": null,
            "bottom": null,
            "_model_module": "@jupyter-widgets/base",
            "top": null,
            "grid_column": null,
            "overflow_y": null,
            "overflow_x": null,
            "grid_auto_flow": null,
            "grid_area": null,
            "grid_template_columns": null,
            "flex": null,
            "_model_name": "LayoutModel",
            "justify_items": null,
            "grid_row": null,
            "max_height": null,
            "align_content": null,
            "visibility": null,
            "align_self": null,
            "height": null,
            "min_height": null,
            "padding": null,
            "grid_auto_rows": null,
            "grid_gap": null,
            "max_width": null,
            "order": null,
            "_view_module_version": "1.2.0",
            "grid_template_areas": null,
            "object_position": null,
            "object_fit": null,
            "grid_auto_columns": null,
            "margin": null,
            "display": null,
            "left": null
          }
        },
        "968598a27fab4f3d919b7dafd75becb5": {
          "model_module": "@jupyter-widgets/controls",
          "model_name": "FloatProgressModel",
          "state": {
            "_view_name": "ProgressView",
            "style": "IPY_MODEL_cf6087a1f4744dcabf2582aa9c5f9eb3",
            "_dom_classes": [],
            "description": "100%",
            "_model_name": "FloatProgressModel",
            "bar_style": "success",
            "max": 100,
            "_view_module": "@jupyter-widgets/controls",
            "_model_module_version": "1.5.0",
            "value": 100,
            "_view_count": null,
            "_view_module_version": "1.5.0",
            "orientation": "horizontal",
            "min": 0,
            "description_tooltip": null,
            "_model_module": "@jupyter-widgets/controls",
            "layout": "IPY_MODEL_1f8eaf66bb50432b9529cad096a5541b"
          }
        },
        "c44f581ed46f4e0ea275ea24b664f423": {
          "model_module": "@jupyter-widgets/controls",
          "model_name": "HTMLModel",
          "state": {
            "_view_name": "HTMLView",
            "style": "IPY_MODEL_30a37ef8bc654d2abd05d2c048b409a0",
            "_dom_classes": [],
            "description": "",
            "_model_name": "HTMLModel",
            "placeholder": "​",
            "_view_module": "@jupyter-widgets/controls",
            "_model_module_version": "1.5.0",
            "value": " 100/100 [00:02&lt;00:00, 34.30it/s, correct=85.36%, skipped=0.08%]",
            "_view_count": null,
            "_view_module_version": "1.5.0",
            "description_tooltip": null,
            "_model_module": "@jupyter-widgets/controls",
            "layout": "IPY_MODEL_b05ceac5518d421597abdecb0806a03f"
          }
        },
        "cf6087a1f4744dcabf2582aa9c5f9eb3": {
          "model_module": "@jupyter-widgets/controls",
          "model_name": "ProgressStyleModel",
          "state": {
            "_view_name": "StyleView",
            "_model_name": "ProgressStyleModel",
            "description_width": "initial",
            "_view_module": "@jupyter-widgets/base",
            "_model_module_version": "1.5.0",
            "_view_count": null,
            "_view_module_version": "1.2.0",
            "bar_color": null,
            "_model_module": "@jupyter-widgets/controls"
          }
        },
        "1f8eaf66bb50432b9529cad096a5541b": {
          "model_module": "@jupyter-widgets/base",
          "model_name": "LayoutModel",
          "state": {
            "_view_name": "LayoutView",
            "grid_template_rows": null,
            "right": null,
            "justify_content": null,
            "_view_module": "@jupyter-widgets/base",
            "overflow": null,
            "_model_module_version": "1.2.0",
            "_view_count": null,
            "flex_flow": null,
            "width": null,
            "min_width": null,
            "border": null,
            "align_items": null,
            "bottom": null,
            "_model_module": "@jupyter-widgets/base",
            "top": null,
            "grid_column": null,
            "overflow_y": null,
            "overflow_x": null,
            "grid_auto_flow": null,
            "grid_area": null,
            "grid_template_columns": null,
            "flex": null,
            "_model_name": "LayoutModel",
            "justify_items": null,
            "grid_row": null,
            "max_height": null,
            "align_content": null,
            "visibility": null,
            "align_self": null,
            "height": null,
            "min_height": null,
            "padding": null,
            "grid_auto_rows": null,
            "grid_gap": null,
            "max_width": null,
            "order": null,
            "_view_module_version": "1.2.0",
            "grid_template_areas": null,
            "object_position": null,
            "object_fit": null,
            "grid_auto_columns": null,
            "margin": null,
            "display": null,
            "left": null
          }
        },
        "30a37ef8bc654d2abd05d2c048b409a0": {
          "model_module": "@jupyter-widgets/controls",
          "model_name": "DescriptionStyleModel",
          "state": {
            "_view_name": "StyleView",
            "_model_name": "DescriptionStyleModel",
            "description_width": "",
            "_view_module": "@jupyter-widgets/base",
            "_model_module_version": "1.5.0",
            "_view_count": null,
            "_view_module_version": "1.2.0",
            "_model_module": "@jupyter-widgets/controls"
          }
        },
        "b05ceac5518d421597abdecb0806a03f": {
          "model_module": "@jupyter-widgets/base",
          "model_name": "LayoutModel",
          "state": {
            "_view_name": "LayoutView",
            "grid_template_rows": null,
            "right": null,
            "justify_content": null,
            "_view_module": "@jupyter-widgets/base",
            "overflow": null,
            "_model_module_version": "1.2.0",
            "_view_count": null,
            "flex_flow": null,
            "width": null,
            "min_width": null,
            "border": null,
            "align_items": null,
            "bottom": null,
            "_model_module": "@jupyter-widgets/base",
            "top": null,
            "grid_column": null,
            "overflow_y": null,
            "overflow_x": null,
            "grid_auto_flow": null,
            "grid_area": null,
            "grid_template_columns": null,
            "flex": null,
            "_model_name": "LayoutModel",
            "justify_items": null,
            "grid_row": null,
            "max_height": null,
            "align_content": null,
            "visibility": null,
            "align_self": null,
            "height": null,
            "min_height": null,
            "padding": null,
            "grid_auto_rows": null,
            "grid_gap": null,
            "max_width": null,
            "order": null,
            "_view_module_version": "1.2.0",
            "grid_template_areas": null,
            "object_position": null,
            "object_fit": null,
            "grid_auto_columns": null,
            "margin": null,
            "display": null,
            "left": null
          }
        },
        "6b9ad5d239064f5fb93ad4fc3f2aa6a8": {
          "model_module": "@jupyter-widgets/controls",
          "model_name": "HBoxModel",
          "state": {
            "_view_name": "HBoxView",
            "_dom_classes": [],
            "_model_name": "HBoxModel",
            "_view_module": "@jupyter-widgets/controls",
            "_model_module_version": "1.5.0",
            "_view_count": null,
            "_view_module_version": "1.5.0",
            "box_style": "",
            "layout": "IPY_MODEL_81ffe7d9c8514a7da5c5ee4d2c116216",
            "_model_module": "@jupyter-widgets/controls",
            "children": [
              "IPY_MODEL_f72d8c62f5c74a96a76d2599128c0174",
              "IPY_MODEL_e8c4b584427344bca434e0e53bbf712a"
            ]
          }
        },
        "81ffe7d9c8514a7da5c5ee4d2c116216": {
          "model_module": "@jupyter-widgets/base",
          "model_name": "LayoutModel",
          "state": {
            "_view_name": "LayoutView",
            "grid_template_rows": null,
            "right": null,
            "justify_content": null,
            "_view_module": "@jupyter-widgets/base",
            "overflow": null,
            "_model_module_version": "1.2.0",
            "_view_count": null,
            "flex_flow": null,
            "width": null,
            "min_width": null,
            "border": null,
            "align_items": null,
            "bottom": null,
            "_model_module": "@jupyter-widgets/base",
            "top": null,
            "grid_column": null,
            "overflow_y": null,
            "overflow_x": null,
            "grid_auto_flow": null,
            "grid_area": null,
            "grid_template_columns": null,
            "flex": null,
            "_model_name": "LayoutModel",
            "justify_items": null,
            "grid_row": null,
            "max_height": null,
            "align_content": null,
            "visibility": null,
            "align_self": null,
            "height": null,
            "min_height": null,
            "padding": null,
            "grid_auto_rows": null,
            "grid_gap": null,
            "max_width": null,
            "order": null,
            "_view_module_version": "1.2.0",
            "grid_template_areas": null,
            "object_position": null,
            "object_fit": null,
            "grid_auto_columns": null,
            "margin": null,
            "display": null,
            "left": null
          }
        },
        "f72d8c62f5c74a96a76d2599128c0174": {
          "model_module": "@jupyter-widgets/controls",
          "model_name": "FloatProgressModel",
          "state": {
            "_view_name": "ProgressView",
            "style": "IPY_MODEL_a566b01c9a914913992b8edf691911ed",
            "_dom_classes": [],
            "description": "100%",
            "_model_name": "FloatProgressModel",
            "bar_style": "success",
            "max": 100,
            "_view_module": "@jupyter-widgets/controls",
            "_model_module_version": "1.5.0",
            "value": 100,
            "_view_count": null,
            "_view_module_version": "1.5.0",
            "orientation": "horizontal",
            "min": 0,
            "description_tooltip": null,
            "_model_module": "@jupyter-widgets/controls",
            "layout": "IPY_MODEL_4cb9e7a2f6c642329f53ab349c647a7e"
          }
        },
        "e8c4b584427344bca434e0e53bbf712a": {
          "model_module": "@jupyter-widgets/controls",
          "model_name": "HTMLModel",
          "state": {
            "_view_name": "HTMLView",
            "style": "IPY_MODEL_c4e66538a724420eb48a0e12cb298d0a",
            "_dom_classes": [],
            "description": "",
            "_model_name": "HTMLModel",
            "placeholder": "​",
            "_view_module": "@jupyter-widgets/controls",
            "_model_module_version": "1.5.0",
            "value": " 100/100 [01:57&lt;00:00,  1.18s/it, correct=85.29%, skipped=0.07%]",
            "_view_count": null,
            "_view_module_version": "1.5.0",
            "description_tooltip": null,
            "_model_module": "@jupyter-widgets/controls",
            "layout": "IPY_MODEL_61e654fd37144df1ac77e74fbb19a174"
          }
        },
        "a566b01c9a914913992b8edf691911ed": {
          "model_module": "@jupyter-widgets/controls",
          "model_name": "ProgressStyleModel",
          "state": {
            "_view_name": "StyleView",
            "_model_name": "ProgressStyleModel",
            "description_width": "initial",
            "_view_module": "@jupyter-widgets/base",
            "_model_module_version": "1.5.0",
            "_view_count": null,
            "_view_module_version": "1.2.0",
            "bar_color": null,
            "_model_module": "@jupyter-widgets/controls"
          }
        },
        "4cb9e7a2f6c642329f53ab349c647a7e": {
          "model_module": "@jupyter-widgets/base",
          "model_name": "LayoutModel",
          "state": {
            "_view_name": "LayoutView",
            "grid_template_rows": null,
            "right": null,
            "justify_content": null,
            "_view_module": "@jupyter-widgets/base",
            "overflow": null,
            "_model_module_version": "1.2.0",
            "_view_count": null,
            "flex_flow": null,
            "width": null,
            "min_width": null,
            "border": null,
            "align_items": null,
            "bottom": null,
            "_model_module": "@jupyter-widgets/base",
            "top": null,
            "grid_column": null,
            "overflow_y": null,
            "overflow_x": null,
            "grid_auto_flow": null,
            "grid_area": null,
            "grid_template_columns": null,
            "flex": null,
            "_model_name": "LayoutModel",
            "justify_items": null,
            "grid_row": null,
            "max_height": null,
            "align_content": null,
            "visibility": null,
            "align_self": null,
            "height": null,
            "min_height": null,
            "padding": null,
            "grid_auto_rows": null,
            "grid_gap": null,
            "max_width": null,
            "order": null,
            "_view_module_version": "1.2.0",
            "grid_template_areas": null,
            "object_position": null,
            "object_fit": null,
            "grid_auto_columns": null,
            "margin": null,
            "display": null,
            "left": null
          }
        },
        "c4e66538a724420eb48a0e12cb298d0a": {
          "model_module": "@jupyter-widgets/controls",
          "model_name": "DescriptionStyleModel",
          "state": {
            "_view_name": "StyleView",
            "_model_name": "DescriptionStyleModel",
            "description_width": "",
            "_view_module": "@jupyter-widgets/base",
            "_model_module_version": "1.5.0",
            "_view_count": null,
            "_view_module_version": "1.2.0",
            "_model_module": "@jupyter-widgets/controls"
          }
        },
        "61e654fd37144df1ac77e74fbb19a174": {
          "model_module": "@jupyter-widgets/base",
          "model_name": "LayoutModel",
          "state": {
            "_view_name": "LayoutView",
            "grid_template_rows": null,
            "right": null,
            "justify_content": null,
            "_view_module": "@jupyter-widgets/base",
            "overflow": null,
            "_model_module_version": "1.2.0",
            "_view_count": null,
            "flex_flow": null,
            "width": null,
            "min_width": null,
            "border": null,
            "align_items": null,
            "bottom": null,
            "_model_module": "@jupyter-widgets/base",
            "top": null,
            "grid_column": null,
            "overflow_y": null,
            "overflow_x": null,
            "grid_auto_flow": null,
            "grid_area": null,
            "grid_template_columns": null,
            "flex": null,
            "_model_name": "LayoutModel",
            "justify_items": null,
            "grid_row": null,
            "max_height": null,
            "align_content": null,
            "visibility": null,
            "align_self": null,
            "height": null,
            "min_height": null,
            "padding": null,
            "grid_auto_rows": null,
            "grid_gap": null,
            "max_width": null,
            "order": null,
            "_view_module_version": "1.2.0",
            "grid_template_areas": null,
            "object_position": null,
            "object_fit": null,
            "grid_auto_columns": null,
            "margin": null,
            "display": null,
            "left": null
          }
        },
        "2026cf2ad1e441d09fe7e068252669a2": {
          "model_module": "@jupyter-widgets/controls",
          "model_name": "HBoxModel",
          "state": {
            "_view_name": "HBoxView",
            "_dom_classes": [],
            "_model_name": "HBoxModel",
            "_view_module": "@jupyter-widgets/controls",
            "_model_module_version": "1.5.0",
            "_view_count": null,
            "_view_module_version": "1.5.0",
            "box_style": "",
            "layout": "IPY_MODEL_918d11a1ff0340bd82313b1aeb969ec5",
            "_model_module": "@jupyter-widgets/controls",
            "children": [
              "IPY_MODEL_35a192c2c22e4b34929308ae9bc53901",
              "IPY_MODEL_296499375f00439aaf231eee244699be"
            ]
          }
        },
        "918d11a1ff0340bd82313b1aeb969ec5": {
          "model_module": "@jupyter-widgets/base",
          "model_name": "LayoutModel",
          "state": {
            "_view_name": "LayoutView",
            "grid_template_rows": null,
            "right": null,
            "justify_content": null,
            "_view_module": "@jupyter-widgets/base",
            "overflow": null,
            "_model_module_version": "1.2.0",
            "_view_count": null,
            "flex_flow": null,
            "width": null,
            "min_width": null,
            "border": null,
            "align_items": null,
            "bottom": null,
            "_model_module": "@jupyter-widgets/base",
            "top": null,
            "grid_column": null,
            "overflow_y": null,
            "overflow_x": null,
            "grid_auto_flow": null,
            "grid_area": null,
            "grid_template_columns": null,
            "flex": null,
            "_model_name": "LayoutModel",
            "justify_items": null,
            "grid_row": null,
            "max_height": null,
            "align_content": null,
            "visibility": null,
            "align_self": null,
            "height": null,
            "min_height": null,
            "padding": null,
            "grid_auto_rows": null,
            "grid_gap": null,
            "max_width": null,
            "order": null,
            "_view_module_version": "1.2.0",
            "grid_template_areas": null,
            "object_position": null,
            "object_fit": null,
            "grid_auto_columns": null,
            "margin": null,
            "display": null,
            "left": null
          }
        },
        "35a192c2c22e4b34929308ae9bc53901": {
          "model_module": "@jupyter-widgets/controls",
          "model_name": "FloatProgressModel",
          "state": {
            "_view_name": "ProgressView",
            "style": "IPY_MODEL_7b9c0d32827d4b199abee3856e046f4a",
            "_dom_classes": [],
            "description": "100%",
            "_model_name": "FloatProgressModel",
            "bar_style": "success",
            "max": 100,
            "_view_module": "@jupyter-widgets/controls",
            "_model_module_version": "1.5.0",
            "value": 100,
            "_view_count": null,
            "_view_module_version": "1.5.0",
            "orientation": "horizontal",
            "min": 0,
            "description_tooltip": null,
            "_model_module": "@jupyter-widgets/controls",
            "layout": "IPY_MODEL_70c2fcdc7af749e2a1fae2bf1e679f33"
          }
        },
        "296499375f00439aaf231eee244699be": {
          "model_module": "@jupyter-widgets/controls",
          "model_name": "HTMLModel",
          "state": {
            "_view_name": "HTMLView",
            "style": "IPY_MODEL_be774b932b37400387ae72b5c0b82d32",
            "_dom_classes": [],
            "description": "",
            "_model_name": "HTMLModel",
            "placeholder": "​",
            "_view_module": "@jupyter-widgets/controls",
            "_model_module_version": "1.5.0",
            "value": " 100/100 [00:05&lt;00:00, 17.47it/s, correct=71.42%, skipped=0.08%]",
            "_view_count": null,
            "_view_module_version": "1.5.0",
            "description_tooltip": null,
            "_model_module": "@jupyter-widgets/controls",
            "layout": "IPY_MODEL_86584be741a440e08fcadd57155342f6"
          }
        },
        "7b9c0d32827d4b199abee3856e046f4a": {
          "model_module": "@jupyter-widgets/controls",
          "model_name": "ProgressStyleModel",
          "state": {
            "_view_name": "StyleView",
            "_model_name": "ProgressStyleModel",
            "description_width": "initial",
            "_view_module": "@jupyter-widgets/base",
            "_model_module_version": "1.5.0",
            "_view_count": null,
            "_view_module_version": "1.2.0",
            "bar_color": null,
            "_model_module": "@jupyter-widgets/controls"
          }
        },
        "70c2fcdc7af749e2a1fae2bf1e679f33": {
          "model_module": "@jupyter-widgets/base",
          "model_name": "LayoutModel",
          "state": {
            "_view_name": "LayoutView",
            "grid_template_rows": null,
            "right": null,
            "justify_content": null,
            "_view_module": "@jupyter-widgets/base",
            "overflow": null,
            "_model_module_version": "1.2.0",
            "_view_count": null,
            "flex_flow": null,
            "width": null,
            "min_width": null,
            "border": null,
            "align_items": null,
            "bottom": null,
            "_model_module": "@jupyter-widgets/base",
            "top": null,
            "grid_column": null,
            "overflow_y": null,
            "overflow_x": null,
            "grid_auto_flow": null,
            "grid_area": null,
            "grid_template_columns": null,
            "flex": null,
            "_model_name": "LayoutModel",
            "justify_items": null,
            "grid_row": null,
            "max_height": null,
            "align_content": null,
            "visibility": null,
            "align_self": null,
            "height": null,
            "min_height": null,
            "padding": null,
            "grid_auto_rows": null,
            "grid_gap": null,
            "max_width": null,
            "order": null,
            "_view_module_version": "1.2.0",
            "grid_template_areas": null,
            "object_position": null,
            "object_fit": null,
            "grid_auto_columns": null,
            "margin": null,
            "display": null,
            "left": null
          }
        },
        "be774b932b37400387ae72b5c0b82d32": {
          "model_module": "@jupyter-widgets/controls",
          "model_name": "DescriptionStyleModel",
          "state": {
            "_view_name": "StyleView",
            "_model_name": "DescriptionStyleModel",
            "description_width": "",
            "_view_module": "@jupyter-widgets/base",
            "_model_module_version": "1.5.0",
            "_view_count": null,
            "_view_module_version": "1.2.0",
            "_model_module": "@jupyter-widgets/controls"
          }
        },
        "86584be741a440e08fcadd57155342f6": {
          "model_module": "@jupyter-widgets/base",
          "model_name": "LayoutModel",
          "state": {
            "_view_name": "LayoutView",
            "grid_template_rows": null,
            "right": null,
            "justify_content": null,
            "_view_module": "@jupyter-widgets/base",
            "overflow": null,
            "_model_module_version": "1.2.0",
            "_view_count": null,
            "flex_flow": null,
            "width": null,
            "min_width": null,
            "border": null,
            "align_items": null,
            "bottom": null,
            "_model_module": "@jupyter-widgets/base",
            "top": null,
            "grid_column": null,
            "overflow_y": null,
            "overflow_x": null,
            "grid_auto_flow": null,
            "grid_area": null,
            "grid_template_columns": null,
            "flex": null,
            "_model_name": "LayoutModel",
            "justify_items": null,
            "grid_row": null,
            "max_height": null,
            "align_content": null,
            "visibility": null,
            "align_self": null,
            "height": null,
            "min_height": null,
            "padding": null,
            "grid_auto_rows": null,
            "grid_gap": null,
            "max_width": null,
            "order": null,
            "_view_module_version": "1.2.0",
            "grid_template_areas": null,
            "object_position": null,
            "object_fit": null,
            "grid_auto_columns": null,
            "margin": null,
            "display": null,
            "left": null
          }
        },
        "ba1af3579d794657b843d6114bcede30": {
          "model_module": "@jupyter-widgets/controls",
          "model_name": "HBoxModel",
          "state": {
            "_view_name": "HBoxView",
            "_dom_classes": [],
            "_model_name": "HBoxModel",
            "_view_module": "@jupyter-widgets/controls",
            "_model_module_version": "1.5.0",
            "_view_count": null,
            "_view_module_version": "1.5.0",
            "box_style": "",
            "layout": "IPY_MODEL_7c3593d2b1c047fd9bba01506740a26b",
            "_model_module": "@jupyter-widgets/controls",
            "children": [
              "IPY_MODEL_753b53d878e841b2820d5ebbf51f1155",
              "IPY_MODEL_8e7a8ba6d0f54121852b83e131330dcb"
            ]
          }
        },
        "7c3593d2b1c047fd9bba01506740a26b": {
          "model_module": "@jupyter-widgets/base",
          "model_name": "LayoutModel",
          "state": {
            "_view_name": "LayoutView",
            "grid_template_rows": null,
            "right": null,
            "justify_content": null,
            "_view_module": "@jupyter-widgets/base",
            "overflow": null,
            "_model_module_version": "1.2.0",
            "_view_count": null,
            "flex_flow": null,
            "width": null,
            "min_width": null,
            "border": null,
            "align_items": null,
            "bottom": null,
            "_model_module": "@jupyter-widgets/base",
            "top": null,
            "grid_column": null,
            "overflow_y": null,
            "overflow_x": null,
            "grid_auto_flow": null,
            "grid_area": null,
            "grid_template_columns": null,
            "flex": null,
            "_model_name": "LayoutModel",
            "justify_items": null,
            "grid_row": null,
            "max_height": null,
            "align_content": null,
            "visibility": null,
            "align_self": null,
            "height": null,
            "min_height": null,
            "padding": null,
            "grid_auto_rows": null,
            "grid_gap": null,
            "max_width": null,
            "order": null,
            "_view_module_version": "1.2.0",
            "grid_template_areas": null,
            "object_position": null,
            "object_fit": null,
            "grid_auto_columns": null,
            "margin": null,
            "display": null,
            "left": null
          }
        },
        "753b53d878e841b2820d5ebbf51f1155": {
          "model_module": "@jupyter-widgets/controls",
          "model_name": "FloatProgressModel",
          "state": {
            "_view_name": "ProgressView",
            "style": "IPY_MODEL_63718326e4ac411cbe90211e07e00222",
            "_dom_classes": [],
            "description": "100%",
            "_model_name": "FloatProgressModel",
            "bar_style": "success",
            "max": 100,
            "_view_module": "@jupyter-widgets/controls",
            "_model_module_version": "1.5.0",
            "value": 100,
            "_view_count": null,
            "_view_module_version": "1.5.0",
            "orientation": "horizontal",
            "min": 0,
            "description_tooltip": null,
            "_model_module": "@jupyter-widgets/controls",
            "layout": "IPY_MODEL_b4a5db93bdf943e79ab999d81d842e42"
          }
        },
        "8e7a8ba6d0f54121852b83e131330dcb": {
          "model_module": "@jupyter-widgets/controls",
          "model_name": "HTMLModel",
          "state": {
            "_view_name": "HTMLView",
            "style": "IPY_MODEL_4c5629ce85014fe6ad8e0fb69f485267",
            "_dom_classes": [],
            "description": "",
            "_model_name": "HTMLModel",
            "placeholder": "​",
            "_view_module": "@jupyter-widgets/controls",
            "_model_module_version": "1.5.0",
            "value": " 100/100 [00:02&lt;00:00, 34.82it/s, correct=71.68%, skipped=0.09%]",
            "_view_count": null,
            "_view_module_version": "1.5.0",
            "description_tooltip": null,
            "_model_module": "@jupyter-widgets/controls",
            "layout": "IPY_MODEL_5458e3f4fe98462f9044bbb7afc1d5d0"
          }
        },
        "63718326e4ac411cbe90211e07e00222": {
          "model_module": "@jupyter-widgets/controls",
          "model_name": "ProgressStyleModel",
          "state": {
            "_view_name": "StyleView",
            "_model_name": "ProgressStyleModel",
            "description_width": "initial",
            "_view_module": "@jupyter-widgets/base",
            "_model_module_version": "1.5.0",
            "_view_count": null,
            "_view_module_version": "1.2.0",
            "bar_color": null,
            "_model_module": "@jupyter-widgets/controls"
          }
        },
        "b4a5db93bdf943e79ab999d81d842e42": {
          "model_module": "@jupyter-widgets/base",
          "model_name": "LayoutModel",
          "state": {
            "_view_name": "LayoutView",
            "grid_template_rows": null,
            "right": null,
            "justify_content": null,
            "_view_module": "@jupyter-widgets/base",
            "overflow": null,
            "_model_module_version": "1.2.0",
            "_view_count": null,
            "flex_flow": null,
            "width": null,
            "min_width": null,
            "border": null,
            "align_items": null,
            "bottom": null,
            "_model_module": "@jupyter-widgets/base",
            "top": null,
            "grid_column": null,
            "overflow_y": null,
            "overflow_x": null,
            "grid_auto_flow": null,
            "grid_area": null,
            "grid_template_columns": null,
            "flex": null,
            "_model_name": "LayoutModel",
            "justify_items": null,
            "grid_row": null,
            "max_height": null,
            "align_content": null,
            "visibility": null,
            "align_self": null,
            "height": null,
            "min_height": null,
            "padding": null,
            "grid_auto_rows": null,
            "grid_gap": null,
            "max_width": null,
            "order": null,
            "_view_module_version": "1.2.0",
            "grid_template_areas": null,
            "object_position": null,
            "object_fit": null,
            "grid_auto_columns": null,
            "margin": null,
            "display": null,
            "left": null
          }
        },
        "4c5629ce85014fe6ad8e0fb69f485267": {
          "model_module": "@jupyter-widgets/controls",
          "model_name": "DescriptionStyleModel",
          "state": {
            "_view_name": "StyleView",
            "_model_name": "DescriptionStyleModel",
            "description_width": "",
            "_view_module": "@jupyter-widgets/base",
            "_model_module_version": "1.5.0",
            "_view_count": null,
            "_view_module_version": "1.2.0",
            "_model_module": "@jupyter-widgets/controls"
          }
        },
        "5458e3f4fe98462f9044bbb7afc1d5d0": {
          "model_module": "@jupyter-widgets/base",
          "model_name": "LayoutModel",
          "state": {
            "_view_name": "LayoutView",
            "grid_template_rows": null,
            "right": null,
            "justify_content": null,
            "_view_module": "@jupyter-widgets/base",
            "overflow": null,
            "_model_module_version": "1.2.0",
            "_view_count": null,
            "flex_flow": null,
            "width": null,
            "min_width": null,
            "border": null,
            "align_items": null,
            "bottom": null,
            "_model_module": "@jupyter-widgets/base",
            "top": null,
            "grid_column": null,
            "overflow_y": null,
            "overflow_x": null,
            "grid_auto_flow": null,
            "grid_area": null,
            "grid_template_columns": null,
            "flex": null,
            "_model_name": "LayoutModel",
            "justify_items": null,
            "grid_row": null,
            "max_height": null,
            "align_content": null,
            "visibility": null,
            "align_self": null,
            "height": null,
            "min_height": null,
            "padding": null,
            "grid_auto_rows": null,
            "grid_gap": null,
            "max_width": null,
            "order": null,
            "_view_module_version": "1.2.0",
            "grid_template_areas": null,
            "object_position": null,
            "object_fit": null,
            "grid_auto_columns": null,
            "margin": null,
            "display": null,
            "left": null
          }
        },
        "862dbf4e938b48a0b4f36ca46c8111f8": {
          "model_module": "@jupyter-widgets/controls",
          "model_name": "HBoxModel",
          "state": {
            "_view_name": "HBoxView",
            "_dom_classes": [],
            "_model_name": "HBoxModel",
            "_view_module": "@jupyter-widgets/controls",
            "_model_module_version": "1.5.0",
            "_view_count": null,
            "_view_module_version": "1.5.0",
            "box_style": "",
            "layout": "IPY_MODEL_c554b94f9a2948d184267af35dbe48cd",
            "_model_module": "@jupyter-widgets/controls",
            "children": [
              "IPY_MODEL_713238e73eeb4338b1b50762101c5e07",
              "IPY_MODEL_337d3b89073a4bea857e0e16ddd1763f"
            ]
          }
        },
        "c554b94f9a2948d184267af35dbe48cd": {
          "model_module": "@jupyter-widgets/base",
          "model_name": "LayoutModel",
          "state": {
            "_view_name": "LayoutView",
            "grid_template_rows": null,
            "right": null,
            "justify_content": null,
            "_view_module": "@jupyter-widgets/base",
            "overflow": null,
            "_model_module_version": "1.2.0",
            "_view_count": null,
            "flex_flow": null,
            "width": null,
            "min_width": null,
            "border": null,
            "align_items": null,
            "bottom": null,
            "_model_module": "@jupyter-widgets/base",
            "top": null,
            "grid_column": null,
            "overflow_y": null,
            "overflow_x": null,
            "grid_auto_flow": null,
            "grid_area": null,
            "grid_template_columns": null,
            "flex": null,
            "_model_name": "LayoutModel",
            "justify_items": null,
            "grid_row": null,
            "max_height": null,
            "align_content": null,
            "visibility": null,
            "align_self": null,
            "height": null,
            "min_height": null,
            "padding": null,
            "grid_auto_rows": null,
            "grid_gap": null,
            "max_width": null,
            "order": null,
            "_view_module_version": "1.2.0",
            "grid_template_areas": null,
            "object_position": null,
            "object_fit": null,
            "grid_auto_columns": null,
            "margin": null,
            "display": null,
            "left": null
          }
        },
        "713238e73eeb4338b1b50762101c5e07": {
          "model_module": "@jupyter-widgets/controls",
          "model_name": "FloatProgressModel",
          "state": {
            "_view_name": "ProgressView",
            "style": "IPY_MODEL_4ec50b1145724695aff66d6a8aebf9d5",
            "_dom_classes": [],
            "description": "100%",
            "_model_name": "FloatProgressModel",
            "bar_style": "success",
            "max": 100,
            "_view_module": "@jupyter-widgets/controls",
            "_model_module_version": "1.5.0",
            "value": 100,
            "_view_count": null,
            "_view_module_version": "1.5.0",
            "orientation": "horizontal",
            "min": 0,
            "description_tooltip": null,
            "_model_module": "@jupyter-widgets/controls",
            "layout": "IPY_MODEL_fa22d9f61ba5463f93b0a3f90e5016d1"
          }
        },
        "337d3b89073a4bea857e0e16ddd1763f": {
          "model_module": "@jupyter-widgets/controls",
          "model_name": "HTMLModel",
          "state": {
            "_view_name": "HTMLView",
            "style": "IPY_MODEL_e58857c3aef340e1abc9ac578db2a0af",
            "_dom_classes": [],
            "description": "",
            "_model_name": "HTMLModel",
            "placeholder": "​",
            "_view_module": "@jupyter-widgets/controls",
            "_model_module_version": "1.5.0",
            "value": " 100/100 [01:49&lt;00:00,  1.09s/it, correct=100.00%, skipped=0.12%]",
            "_view_count": null,
            "_view_module_version": "1.5.0",
            "description_tooltip": null,
            "_model_module": "@jupyter-widgets/controls",
            "layout": "IPY_MODEL_fd9c5fc3cc764eeaab88b838fbb70fd7"
          }
        },
        "4ec50b1145724695aff66d6a8aebf9d5": {
          "model_module": "@jupyter-widgets/controls",
          "model_name": "ProgressStyleModel",
          "state": {
            "_view_name": "StyleView",
            "_model_name": "ProgressStyleModel",
            "description_width": "initial",
            "_view_module": "@jupyter-widgets/base",
            "_model_module_version": "1.5.0",
            "_view_count": null,
            "_view_module_version": "1.2.0",
            "bar_color": null,
            "_model_module": "@jupyter-widgets/controls"
          }
        },
        "fa22d9f61ba5463f93b0a3f90e5016d1": {
          "model_module": "@jupyter-widgets/base",
          "model_name": "LayoutModel",
          "state": {
            "_view_name": "LayoutView",
            "grid_template_rows": null,
            "right": null,
            "justify_content": null,
            "_view_module": "@jupyter-widgets/base",
            "overflow": null,
            "_model_module_version": "1.2.0",
            "_view_count": null,
            "flex_flow": null,
            "width": null,
            "min_width": null,
            "border": null,
            "align_items": null,
            "bottom": null,
            "_model_module": "@jupyter-widgets/base",
            "top": null,
            "grid_column": null,
            "overflow_y": null,
            "overflow_x": null,
            "grid_auto_flow": null,
            "grid_area": null,
            "grid_template_columns": null,
            "flex": null,
            "_model_name": "LayoutModel",
            "justify_items": null,
            "grid_row": null,
            "max_height": null,
            "align_content": null,
            "visibility": null,
            "align_self": null,
            "height": null,
            "min_height": null,
            "padding": null,
            "grid_auto_rows": null,
            "grid_gap": null,
            "max_width": null,
            "order": null,
            "_view_module_version": "1.2.0",
            "grid_template_areas": null,
            "object_position": null,
            "object_fit": null,
            "grid_auto_columns": null,
            "margin": null,
            "display": null,
            "left": null
          }
        },
        "e58857c3aef340e1abc9ac578db2a0af": {
          "model_module": "@jupyter-widgets/controls",
          "model_name": "DescriptionStyleModel",
          "state": {
            "_view_name": "StyleView",
            "_model_name": "DescriptionStyleModel",
            "description_width": "",
            "_view_module": "@jupyter-widgets/base",
            "_model_module_version": "1.5.0",
            "_view_count": null,
            "_view_module_version": "1.2.0",
            "_model_module": "@jupyter-widgets/controls"
          }
        },
        "fd9c5fc3cc764eeaab88b838fbb70fd7": {
          "model_module": "@jupyter-widgets/base",
          "model_name": "LayoutModel",
          "state": {
            "_view_name": "LayoutView",
            "grid_template_rows": null,
            "right": null,
            "justify_content": null,
            "_view_module": "@jupyter-widgets/base",
            "overflow": null,
            "_model_module_version": "1.2.0",
            "_view_count": null,
            "flex_flow": null,
            "width": null,
            "min_width": null,
            "border": null,
            "align_items": null,
            "bottom": null,
            "_model_module": "@jupyter-widgets/base",
            "top": null,
            "grid_column": null,
            "overflow_y": null,
            "overflow_x": null,
            "grid_auto_flow": null,
            "grid_area": null,
            "grid_template_columns": null,
            "flex": null,
            "_model_name": "LayoutModel",
            "justify_items": null,
            "grid_row": null,
            "max_height": null,
            "align_content": null,
            "visibility": null,
            "align_self": null,
            "height": null,
            "min_height": null,
            "padding": null,
            "grid_auto_rows": null,
            "grid_gap": null,
            "max_width": null,
            "order": null,
            "_view_module_version": "1.2.0",
            "grid_template_areas": null,
            "object_position": null,
            "object_fit": null,
            "grid_auto_columns": null,
            "margin": null,
            "display": null,
            "left": null
          }
        },
        "73bda5e45f664258aa9b3505b2dac7c6": {
          "model_module": "@jupyter-widgets/controls",
          "model_name": "HBoxModel",
          "state": {
            "_view_name": "HBoxView",
            "_dom_classes": [],
            "_model_name": "HBoxModel",
            "_view_module": "@jupyter-widgets/controls",
            "_model_module_version": "1.5.0",
            "_view_count": null,
            "_view_module_version": "1.5.0",
            "box_style": "",
            "layout": "IPY_MODEL_5e2437ccf8a5481b854f3ceb0bde5df6",
            "_model_module": "@jupyter-widgets/controls",
            "children": [
              "IPY_MODEL_c4cc6025118144668f5ce88df1debd85",
              "IPY_MODEL_a792bfd340bf4c5ab2a2c7bf28e35354"
            ]
          }
        },
        "5e2437ccf8a5481b854f3ceb0bde5df6": {
          "model_module": "@jupyter-widgets/base",
          "model_name": "LayoutModel",
          "state": {
            "_view_name": "LayoutView",
            "grid_template_rows": null,
            "right": null,
            "justify_content": null,
            "_view_module": "@jupyter-widgets/base",
            "overflow": null,
            "_model_module_version": "1.2.0",
            "_view_count": null,
            "flex_flow": null,
            "width": null,
            "min_width": null,
            "border": null,
            "align_items": null,
            "bottom": null,
            "_model_module": "@jupyter-widgets/base",
            "top": null,
            "grid_column": null,
            "overflow_y": null,
            "overflow_x": null,
            "grid_auto_flow": null,
            "grid_area": null,
            "grid_template_columns": null,
            "flex": null,
            "_model_name": "LayoutModel",
            "justify_items": null,
            "grid_row": null,
            "max_height": null,
            "align_content": null,
            "visibility": null,
            "align_self": null,
            "height": null,
            "min_height": null,
            "padding": null,
            "grid_auto_rows": null,
            "grid_gap": null,
            "max_width": null,
            "order": null,
            "_view_module_version": "1.2.0",
            "grid_template_areas": null,
            "object_position": null,
            "object_fit": null,
            "grid_auto_columns": null,
            "margin": null,
            "display": null,
            "left": null
          }
        },
        "c4cc6025118144668f5ce88df1debd85": {
          "model_module": "@jupyter-widgets/controls",
          "model_name": "FloatProgressModel",
          "state": {
            "_view_name": "ProgressView",
            "style": "IPY_MODEL_507adee82060416cad3dc09043488eb9",
            "_dom_classes": [],
            "description": "100%",
            "_model_name": "FloatProgressModel",
            "bar_style": "success",
            "max": 100,
            "_view_module": "@jupyter-widgets/controls",
            "_model_module_version": "1.5.0",
            "value": 100,
            "_view_count": null,
            "_view_module_version": "1.5.0",
            "orientation": "horizontal",
            "min": 0,
            "description_tooltip": null,
            "_model_module": "@jupyter-widgets/controls",
            "layout": "IPY_MODEL_7a6f25994d98496a92d954569314eba9"
          }
        },
        "a792bfd340bf4c5ab2a2c7bf28e35354": {
          "model_module": "@jupyter-widgets/controls",
          "model_name": "HTMLModel",
          "state": {
            "_view_name": "HTMLView",
            "style": "IPY_MODEL_1a941dd1dc7143cbb7c299856e03750c",
            "_dom_classes": [],
            "description": "",
            "_model_name": "HTMLModel",
            "placeholder": "​",
            "_view_module": "@jupyter-widgets/controls",
            "_model_module_version": "1.5.0",
            "value": " 100/100 [00:05&lt;00:00, 17.91it/s, correct=100.00%, skipped=0.09%]",
            "_view_count": null,
            "_view_module_version": "1.5.0",
            "description_tooltip": null,
            "_model_module": "@jupyter-widgets/controls",
            "layout": "IPY_MODEL_432f4519b3c244c78587b1f2bb5c8290"
          }
        },
        "507adee82060416cad3dc09043488eb9": {
          "model_module": "@jupyter-widgets/controls",
          "model_name": "ProgressStyleModel",
          "state": {
            "_view_name": "StyleView",
            "_model_name": "ProgressStyleModel",
            "description_width": "initial",
            "_view_module": "@jupyter-widgets/base",
            "_model_module_version": "1.5.0",
            "_view_count": null,
            "_view_module_version": "1.2.0",
            "bar_color": null,
            "_model_module": "@jupyter-widgets/controls"
          }
        },
        "7a6f25994d98496a92d954569314eba9": {
          "model_module": "@jupyter-widgets/base",
          "model_name": "LayoutModel",
          "state": {
            "_view_name": "LayoutView",
            "grid_template_rows": null,
            "right": null,
            "justify_content": null,
            "_view_module": "@jupyter-widgets/base",
            "overflow": null,
            "_model_module_version": "1.2.0",
            "_view_count": null,
            "flex_flow": null,
            "width": null,
            "min_width": null,
            "border": null,
            "align_items": null,
            "bottom": null,
            "_model_module": "@jupyter-widgets/base",
            "top": null,
            "grid_column": null,
            "overflow_y": null,
            "overflow_x": null,
            "grid_auto_flow": null,
            "grid_area": null,
            "grid_template_columns": null,
            "flex": null,
            "_model_name": "LayoutModel",
            "justify_items": null,
            "grid_row": null,
            "max_height": null,
            "align_content": null,
            "visibility": null,
            "align_self": null,
            "height": null,
            "min_height": null,
            "padding": null,
            "grid_auto_rows": null,
            "grid_gap": null,
            "max_width": null,
            "order": null,
            "_view_module_version": "1.2.0",
            "grid_template_areas": null,
            "object_position": null,
            "object_fit": null,
            "grid_auto_columns": null,
            "margin": null,
            "display": null,
            "left": null
          }
        },
        "1a941dd1dc7143cbb7c299856e03750c": {
          "model_module": "@jupyter-widgets/controls",
          "model_name": "DescriptionStyleModel",
          "state": {
            "_view_name": "StyleView",
            "_model_name": "DescriptionStyleModel",
            "description_width": "",
            "_view_module": "@jupyter-widgets/base",
            "_model_module_version": "1.5.0",
            "_view_count": null,
            "_view_module_version": "1.2.0",
            "_model_module": "@jupyter-widgets/controls"
          }
        },
        "432f4519b3c244c78587b1f2bb5c8290": {
          "model_module": "@jupyter-widgets/base",
          "model_name": "LayoutModel",
          "state": {
            "_view_name": "LayoutView",
            "grid_template_rows": null,
            "right": null,
            "justify_content": null,
            "_view_module": "@jupyter-widgets/base",
            "overflow": null,
            "_model_module_version": "1.2.0",
            "_view_count": null,
            "flex_flow": null,
            "width": null,
            "min_width": null,
            "border": null,
            "align_items": null,
            "bottom": null,
            "_model_module": "@jupyter-widgets/base",
            "top": null,
            "grid_column": null,
            "overflow_y": null,
            "overflow_x": null,
            "grid_auto_flow": null,
            "grid_area": null,
            "grid_template_columns": null,
            "flex": null,
            "_model_name": "LayoutModel",
            "justify_items": null,
            "grid_row": null,
            "max_height": null,
            "align_content": null,
            "visibility": null,
            "align_self": null,
            "height": null,
            "min_height": null,
            "padding": null,
            "grid_auto_rows": null,
            "grid_gap": null,
            "max_width": null,
            "order": null,
            "_view_module_version": "1.2.0",
            "grid_template_areas": null,
            "object_position": null,
            "object_fit": null,
            "grid_auto_columns": null,
            "margin": null,
            "display": null,
            "left": null
          }
        },
        "613ea73184844309a0367da0acb7127d": {
          "model_module": "@jupyter-widgets/controls",
          "model_name": "HBoxModel",
          "state": {
            "_view_name": "HBoxView",
            "_dom_classes": [],
            "_model_name": "HBoxModel",
            "_view_module": "@jupyter-widgets/controls",
            "_model_module_version": "1.5.0",
            "_view_count": null,
            "_view_module_version": "1.5.0",
            "box_style": "",
            "layout": "IPY_MODEL_e5ca4a7880bd482d85c5c0a4dd56d90e",
            "_model_module": "@jupyter-widgets/controls",
            "children": [
              "IPY_MODEL_febe8b58091f403da83416abbce40129",
              "IPY_MODEL_2aaafa78c9ee45d698b584703b4ecce6"
            ]
          }
        },
        "e5ca4a7880bd482d85c5c0a4dd56d90e": {
          "model_module": "@jupyter-widgets/base",
          "model_name": "LayoutModel",
          "state": {
            "_view_name": "LayoutView",
            "grid_template_rows": null,
            "right": null,
            "justify_content": null,
            "_view_module": "@jupyter-widgets/base",
            "overflow": null,
            "_model_module_version": "1.2.0",
            "_view_count": null,
            "flex_flow": null,
            "width": null,
            "min_width": null,
            "border": null,
            "align_items": null,
            "bottom": null,
            "_model_module": "@jupyter-widgets/base",
            "top": null,
            "grid_column": null,
            "overflow_y": null,
            "overflow_x": null,
            "grid_auto_flow": null,
            "grid_area": null,
            "grid_template_columns": null,
            "flex": null,
            "_model_name": "LayoutModel",
            "justify_items": null,
            "grid_row": null,
            "max_height": null,
            "align_content": null,
            "visibility": null,
            "align_self": null,
            "height": null,
            "min_height": null,
            "padding": null,
            "grid_auto_rows": null,
            "grid_gap": null,
            "max_width": null,
            "order": null,
            "_view_module_version": "1.2.0",
            "grid_template_areas": null,
            "object_position": null,
            "object_fit": null,
            "grid_auto_columns": null,
            "margin": null,
            "display": null,
            "left": null
          }
        },
        "febe8b58091f403da83416abbce40129": {
          "model_module": "@jupyter-widgets/controls",
          "model_name": "FloatProgressModel",
          "state": {
            "_view_name": "ProgressView",
            "style": "IPY_MODEL_267d9c415939429f9456e0f65ec08a13",
            "_dom_classes": [],
            "description": "100%",
            "_model_name": "FloatProgressModel",
            "bar_style": "success",
            "max": 100,
            "_view_module": "@jupyter-widgets/controls",
            "_model_module_version": "1.5.0",
            "value": 100,
            "_view_count": null,
            "_view_module_version": "1.5.0",
            "orientation": "horizontal",
            "min": 0,
            "description_tooltip": null,
            "_model_module": "@jupyter-widgets/controls",
            "layout": "IPY_MODEL_3b94ae90d1c04a2380b4c030f9ed1a08"
          }
        },
        "2aaafa78c9ee45d698b584703b4ecce6": {
          "model_module": "@jupyter-widgets/controls",
          "model_name": "HTMLModel",
          "state": {
            "_view_name": "HTMLView",
            "style": "IPY_MODEL_f25106727c9e4f40b2673a8c355e1cad",
            "_dom_classes": [],
            "description": "",
            "_model_name": "HTMLModel",
            "placeholder": "​",
            "_view_module": "@jupyter-widgets/controls",
            "_model_module_version": "1.5.0",
            "value": " 100/100 [00:02&lt;00:00, 35.82it/s, correct=100.00%, skipped=0.09%]",
            "_view_count": null,
            "_view_module_version": "1.5.0",
            "description_tooltip": null,
            "_model_module": "@jupyter-widgets/controls",
            "layout": "IPY_MODEL_6442eebe39234ae3a6ee3e1303b27dad"
          }
        },
        "267d9c415939429f9456e0f65ec08a13": {
          "model_module": "@jupyter-widgets/controls",
          "model_name": "ProgressStyleModel",
          "state": {
            "_view_name": "StyleView",
            "_model_name": "ProgressStyleModel",
            "description_width": "initial",
            "_view_module": "@jupyter-widgets/base",
            "_model_module_version": "1.5.0",
            "_view_count": null,
            "_view_module_version": "1.2.0",
            "bar_color": null,
            "_model_module": "@jupyter-widgets/controls"
          }
        },
        "3b94ae90d1c04a2380b4c030f9ed1a08": {
          "model_module": "@jupyter-widgets/base",
          "model_name": "LayoutModel",
          "state": {
            "_view_name": "LayoutView",
            "grid_template_rows": null,
            "right": null,
            "justify_content": null,
            "_view_module": "@jupyter-widgets/base",
            "overflow": null,
            "_model_module_version": "1.2.0",
            "_view_count": null,
            "flex_flow": null,
            "width": null,
            "min_width": null,
            "border": null,
            "align_items": null,
            "bottom": null,
            "_model_module": "@jupyter-widgets/base",
            "top": null,
            "grid_column": null,
            "overflow_y": null,
            "overflow_x": null,
            "grid_auto_flow": null,
            "grid_area": null,
            "grid_template_columns": null,
            "flex": null,
            "_model_name": "LayoutModel",
            "justify_items": null,
            "grid_row": null,
            "max_height": null,
            "align_content": null,
            "visibility": null,
            "align_self": null,
            "height": null,
            "min_height": null,
            "padding": null,
            "grid_auto_rows": null,
            "grid_gap": null,
            "max_width": null,
            "order": null,
            "_view_module_version": "1.2.0",
            "grid_template_areas": null,
            "object_position": null,
            "object_fit": null,
            "grid_auto_columns": null,
            "margin": null,
            "display": null,
            "left": null
          }
        },
        "f25106727c9e4f40b2673a8c355e1cad": {
          "model_module": "@jupyter-widgets/controls",
          "model_name": "DescriptionStyleModel",
          "state": {
            "_view_name": "StyleView",
            "_model_name": "DescriptionStyleModel",
            "description_width": "",
            "_view_module": "@jupyter-widgets/base",
            "_model_module_version": "1.5.0",
            "_view_count": null,
            "_view_module_version": "1.2.0",
            "_model_module": "@jupyter-widgets/controls"
          }
        },
        "6442eebe39234ae3a6ee3e1303b27dad": {
          "model_module": "@jupyter-widgets/base",
          "model_name": "LayoutModel",
          "state": {
            "_view_name": "LayoutView",
            "grid_template_rows": null,
            "right": null,
            "justify_content": null,
            "_view_module": "@jupyter-widgets/base",
            "overflow": null,
            "_model_module_version": "1.2.0",
            "_view_count": null,
            "flex_flow": null,
            "width": null,
            "min_width": null,
            "border": null,
            "align_items": null,
            "bottom": null,
            "_model_module": "@jupyter-widgets/base",
            "top": null,
            "grid_column": null,
            "overflow_y": null,
            "overflow_x": null,
            "grid_auto_flow": null,
            "grid_area": null,
            "grid_template_columns": null,
            "flex": null,
            "_model_name": "LayoutModel",
            "justify_items": null,
            "grid_row": null,
            "max_height": null,
            "align_content": null,
            "visibility": null,
            "align_self": null,
            "height": null,
            "min_height": null,
            "padding": null,
            "grid_auto_rows": null,
            "grid_gap": null,
            "max_width": null,
            "order": null,
            "_view_module_version": "1.2.0",
            "grid_template_areas": null,
            "object_position": null,
            "object_fit": null,
            "grid_auto_columns": null,
            "margin": null,
            "display": null,
            "left": null
          }
        },
        "872cd1d2c50a40c4bc4ef374792722a4": {
          "model_module": "@jupyter-widgets/controls",
          "model_name": "HBoxModel",
          "state": {
            "_view_name": "HBoxView",
            "_dom_classes": [],
            "_model_name": "HBoxModel",
            "_view_module": "@jupyter-widgets/controls",
            "_model_module_version": "1.5.0",
            "_view_count": null,
            "_view_module_version": "1.5.0",
            "box_style": "",
            "layout": "IPY_MODEL_abc10ae0fc3b45f385e4d5e622a4e561",
            "_model_module": "@jupyter-widgets/controls",
            "children": [
              "IPY_MODEL_a3fe1b1114564fc88af03610215b9000",
              "IPY_MODEL_090a0980b6b341628cf4f6e131778d8f"
            ]
          }
        },
        "abc10ae0fc3b45f385e4d5e622a4e561": {
          "model_module": "@jupyter-widgets/base",
          "model_name": "LayoutModel",
          "state": {
            "_view_name": "LayoutView",
            "grid_template_rows": null,
            "right": null,
            "justify_content": null,
            "_view_module": "@jupyter-widgets/base",
            "overflow": null,
            "_model_module_version": "1.2.0",
            "_view_count": null,
            "flex_flow": null,
            "width": null,
            "min_width": null,
            "border": null,
            "align_items": null,
            "bottom": null,
            "_model_module": "@jupyter-widgets/base",
            "top": null,
            "grid_column": null,
            "overflow_y": null,
            "overflow_x": null,
            "grid_auto_flow": null,
            "grid_area": null,
            "grid_template_columns": null,
            "flex": null,
            "_model_name": "LayoutModel",
            "justify_items": null,
            "grid_row": null,
            "max_height": null,
            "align_content": null,
            "visibility": null,
            "align_self": null,
            "height": null,
            "min_height": null,
            "padding": null,
            "grid_auto_rows": null,
            "grid_gap": null,
            "max_width": null,
            "order": null,
            "_view_module_version": "1.2.0",
            "grid_template_areas": null,
            "object_position": null,
            "object_fit": null,
            "grid_auto_columns": null,
            "margin": null,
            "display": null,
            "left": null
          }
        },
        "a3fe1b1114564fc88af03610215b9000": {
          "model_module": "@jupyter-widgets/controls",
          "model_name": "FloatProgressModel",
          "state": {
            "_view_name": "ProgressView",
            "style": "IPY_MODEL_999e589570f34f2c9884fc4cb83612cd",
            "_dom_classes": [],
            "description": "100%",
            "_model_name": "FloatProgressModel",
            "bar_style": "success",
            "max": 100,
            "_view_module": "@jupyter-widgets/controls",
            "_model_module_version": "1.5.0",
            "value": 100,
            "_view_count": null,
            "_view_module_version": "1.5.0",
            "orientation": "horizontal",
            "min": 0,
            "description_tooltip": null,
            "_model_module": "@jupyter-widgets/controls",
            "layout": "IPY_MODEL_8cf5a107f4d54064939a034a34bf11d1"
          }
        },
        "090a0980b6b341628cf4f6e131778d8f": {
          "model_module": "@jupyter-widgets/controls",
          "model_name": "HTMLModel",
          "state": {
            "_view_name": "HTMLView",
            "style": "IPY_MODEL_20078c6c1b6840278e47a45c59feb6cd",
            "_dom_classes": [],
            "description": "",
            "_model_name": "HTMLModel",
            "placeholder": "​",
            "_view_module": "@jupyter-widgets/controls",
            "_model_module_version": "1.5.0",
            "value": " 100/100 [01:40&lt;00:00,  1.01s/it, correct=100.00%, skipped=0.06%]",
            "_view_count": null,
            "_view_module_version": "1.5.0",
            "description_tooltip": null,
            "_model_module": "@jupyter-widgets/controls",
            "layout": "IPY_MODEL_7cf10616752a472b8f86bf60159b4edd"
          }
        },
        "999e589570f34f2c9884fc4cb83612cd": {
          "model_module": "@jupyter-widgets/controls",
          "model_name": "ProgressStyleModel",
          "state": {
            "_view_name": "StyleView",
            "_model_name": "ProgressStyleModel",
            "description_width": "initial",
            "_view_module": "@jupyter-widgets/base",
            "_model_module_version": "1.5.0",
            "_view_count": null,
            "_view_module_version": "1.2.0",
            "bar_color": null,
            "_model_module": "@jupyter-widgets/controls"
          }
        },
        "8cf5a107f4d54064939a034a34bf11d1": {
          "model_module": "@jupyter-widgets/base",
          "model_name": "LayoutModel",
          "state": {
            "_view_name": "LayoutView",
            "grid_template_rows": null,
            "right": null,
            "justify_content": null,
            "_view_module": "@jupyter-widgets/base",
            "overflow": null,
            "_model_module_version": "1.2.0",
            "_view_count": null,
            "flex_flow": null,
            "width": null,
            "min_width": null,
            "border": null,
            "align_items": null,
            "bottom": null,
            "_model_module": "@jupyter-widgets/base",
            "top": null,
            "grid_column": null,
            "overflow_y": null,
            "overflow_x": null,
            "grid_auto_flow": null,
            "grid_area": null,
            "grid_template_columns": null,
            "flex": null,
            "_model_name": "LayoutModel",
            "justify_items": null,
            "grid_row": null,
            "max_height": null,
            "align_content": null,
            "visibility": null,
            "align_self": null,
            "height": null,
            "min_height": null,
            "padding": null,
            "grid_auto_rows": null,
            "grid_gap": null,
            "max_width": null,
            "order": null,
            "_view_module_version": "1.2.0",
            "grid_template_areas": null,
            "object_position": null,
            "object_fit": null,
            "grid_auto_columns": null,
            "margin": null,
            "display": null,
            "left": null
          }
        },
        "20078c6c1b6840278e47a45c59feb6cd": {
          "model_module": "@jupyter-widgets/controls",
          "model_name": "DescriptionStyleModel",
          "state": {
            "_view_name": "StyleView",
            "_model_name": "DescriptionStyleModel",
            "description_width": "",
            "_view_module": "@jupyter-widgets/base",
            "_model_module_version": "1.5.0",
            "_view_count": null,
            "_view_module_version": "1.2.0",
            "_model_module": "@jupyter-widgets/controls"
          }
        },
        "7cf10616752a472b8f86bf60159b4edd": {
          "model_module": "@jupyter-widgets/base",
          "model_name": "LayoutModel",
          "state": {
            "_view_name": "LayoutView",
            "grid_template_rows": null,
            "right": null,
            "justify_content": null,
            "_view_module": "@jupyter-widgets/base",
            "overflow": null,
            "_model_module_version": "1.2.0",
            "_view_count": null,
            "flex_flow": null,
            "width": null,
            "min_width": null,
            "border": null,
            "align_items": null,
            "bottom": null,
            "_model_module": "@jupyter-widgets/base",
            "top": null,
            "grid_column": null,
            "overflow_y": null,
            "overflow_x": null,
            "grid_auto_flow": null,
            "grid_area": null,
            "grid_template_columns": null,
            "flex": null,
            "_model_name": "LayoutModel",
            "justify_items": null,
            "grid_row": null,
            "max_height": null,
            "align_content": null,
            "visibility": null,
            "align_self": null,
            "height": null,
            "min_height": null,
            "padding": null,
            "grid_auto_rows": null,
            "grid_gap": null,
            "max_width": null,
            "order": null,
            "_view_module_version": "1.2.0",
            "grid_template_areas": null,
            "object_position": null,
            "object_fit": null,
            "grid_auto_columns": null,
            "margin": null,
            "display": null,
            "left": null
          }
        },
        "5ea29e498136425884e576034dcd47e6": {
          "model_module": "@jupyter-widgets/controls",
          "model_name": "HBoxModel",
          "state": {
            "_view_name": "HBoxView",
            "_dom_classes": [],
            "_model_name": "HBoxModel",
            "_view_module": "@jupyter-widgets/controls",
            "_model_module_version": "1.5.0",
            "_view_count": null,
            "_view_module_version": "1.5.0",
            "box_style": "",
            "layout": "IPY_MODEL_ca65ea0ce1754c61a44b255208ac3357",
            "_model_module": "@jupyter-widgets/controls",
            "children": [
              "IPY_MODEL_335b1a8dd42747f08529f78dffea8ceb",
              "IPY_MODEL_698757901a654883a2b993ec76c7f47a"
            ]
          }
        },
        "ca65ea0ce1754c61a44b255208ac3357": {
          "model_module": "@jupyter-widgets/base",
          "model_name": "LayoutModel",
          "state": {
            "_view_name": "LayoutView",
            "grid_template_rows": null,
            "right": null,
            "justify_content": null,
            "_view_module": "@jupyter-widgets/base",
            "overflow": null,
            "_model_module_version": "1.2.0",
            "_view_count": null,
            "flex_flow": null,
            "width": null,
            "min_width": null,
            "border": null,
            "align_items": null,
            "bottom": null,
            "_model_module": "@jupyter-widgets/base",
            "top": null,
            "grid_column": null,
            "overflow_y": null,
            "overflow_x": null,
            "grid_auto_flow": null,
            "grid_area": null,
            "grid_template_columns": null,
            "flex": null,
            "_model_name": "LayoutModel",
            "justify_items": null,
            "grid_row": null,
            "max_height": null,
            "align_content": null,
            "visibility": null,
            "align_self": null,
            "height": null,
            "min_height": null,
            "padding": null,
            "grid_auto_rows": null,
            "grid_gap": null,
            "max_width": null,
            "order": null,
            "_view_module_version": "1.2.0",
            "grid_template_areas": null,
            "object_position": null,
            "object_fit": null,
            "grid_auto_columns": null,
            "margin": null,
            "display": null,
            "left": null
          }
        },
        "335b1a8dd42747f08529f78dffea8ceb": {
          "model_module": "@jupyter-widgets/controls",
          "model_name": "FloatProgressModel",
          "state": {
            "_view_name": "ProgressView",
            "style": "IPY_MODEL_2d3e8154dad946768e885b2ab4b22279",
            "_dom_classes": [],
            "description": "100%",
            "_model_name": "FloatProgressModel",
            "bar_style": "success",
            "max": 100,
            "_view_module": "@jupyter-widgets/controls",
            "_model_module_version": "1.5.0",
            "value": 100,
            "_view_count": null,
            "_view_module_version": "1.5.0",
            "orientation": "horizontal",
            "min": 0,
            "description_tooltip": null,
            "_model_module": "@jupyter-widgets/controls",
            "layout": "IPY_MODEL_79e871f8236246a89e320ea46dc48085"
          }
        },
        "698757901a654883a2b993ec76c7f47a": {
          "model_module": "@jupyter-widgets/controls",
          "model_name": "HTMLModel",
          "state": {
            "_view_name": "HTMLView",
            "style": "IPY_MODEL_6b784d73ea864f3d9a356835a8b81896",
            "_dom_classes": [],
            "description": "",
            "_model_name": "HTMLModel",
            "placeholder": "​",
            "_view_module": "@jupyter-widgets/controls",
            "_model_module_version": "1.5.0",
            "value": " 100/100 [00:07&lt;00:00, 13.74it/s, correct=75.54%, skipped=0.07%]",
            "_view_count": null,
            "_view_module_version": "1.5.0",
            "description_tooltip": null,
            "_model_module": "@jupyter-widgets/controls",
            "layout": "IPY_MODEL_2af67b641930448aaad831f4ceeb63b6"
          }
        },
        "2d3e8154dad946768e885b2ab4b22279": {
          "model_module": "@jupyter-widgets/controls",
          "model_name": "ProgressStyleModel",
          "state": {
            "_view_name": "StyleView",
            "_model_name": "ProgressStyleModel",
            "description_width": "initial",
            "_view_module": "@jupyter-widgets/base",
            "_model_module_version": "1.5.0",
            "_view_count": null,
            "_view_module_version": "1.2.0",
            "bar_color": null,
            "_model_module": "@jupyter-widgets/controls"
          }
        },
        "79e871f8236246a89e320ea46dc48085": {
          "model_module": "@jupyter-widgets/base",
          "model_name": "LayoutModel",
          "state": {
            "_view_name": "LayoutView",
            "grid_template_rows": null,
            "right": null,
            "justify_content": null,
            "_view_module": "@jupyter-widgets/base",
            "overflow": null,
            "_model_module_version": "1.2.0",
            "_view_count": null,
            "flex_flow": null,
            "width": null,
            "min_width": null,
            "border": null,
            "align_items": null,
            "bottom": null,
            "_model_module": "@jupyter-widgets/base",
            "top": null,
            "grid_column": null,
            "overflow_y": null,
            "overflow_x": null,
            "grid_auto_flow": null,
            "grid_area": null,
            "grid_template_columns": null,
            "flex": null,
            "_model_name": "LayoutModel",
            "justify_items": null,
            "grid_row": null,
            "max_height": null,
            "align_content": null,
            "visibility": null,
            "align_self": null,
            "height": null,
            "min_height": null,
            "padding": null,
            "grid_auto_rows": null,
            "grid_gap": null,
            "max_width": null,
            "order": null,
            "_view_module_version": "1.2.0",
            "grid_template_areas": null,
            "object_position": null,
            "object_fit": null,
            "grid_auto_columns": null,
            "margin": null,
            "display": null,
            "left": null
          }
        },
        "6b784d73ea864f3d9a356835a8b81896": {
          "model_module": "@jupyter-widgets/controls",
          "model_name": "DescriptionStyleModel",
          "state": {
            "_view_name": "StyleView",
            "_model_name": "DescriptionStyleModel",
            "description_width": "",
            "_view_module": "@jupyter-widgets/base",
            "_model_module_version": "1.5.0",
            "_view_count": null,
            "_view_module_version": "1.2.0",
            "_model_module": "@jupyter-widgets/controls"
          }
        },
        "2af67b641930448aaad831f4ceeb63b6": {
          "model_module": "@jupyter-widgets/base",
          "model_name": "LayoutModel",
          "state": {
            "_view_name": "LayoutView",
            "grid_template_rows": null,
            "right": null,
            "justify_content": null,
            "_view_module": "@jupyter-widgets/base",
            "overflow": null,
            "_model_module_version": "1.2.0",
            "_view_count": null,
            "flex_flow": null,
            "width": null,
            "min_width": null,
            "border": null,
            "align_items": null,
            "bottom": null,
            "_model_module": "@jupyter-widgets/base",
            "top": null,
            "grid_column": null,
            "overflow_y": null,
            "overflow_x": null,
            "grid_auto_flow": null,
            "grid_area": null,
            "grid_template_columns": null,
            "flex": null,
            "_model_name": "LayoutModel",
            "justify_items": null,
            "grid_row": null,
            "max_height": null,
            "align_content": null,
            "visibility": null,
            "align_self": null,
            "height": null,
            "min_height": null,
            "padding": null,
            "grid_auto_rows": null,
            "grid_gap": null,
            "max_width": null,
            "order": null,
            "_view_module_version": "1.2.0",
            "grid_template_areas": null,
            "object_position": null,
            "object_fit": null,
            "grid_auto_columns": null,
            "margin": null,
            "display": null,
            "left": null
          }
        },
        "bbaf63e0c33243ff88acbe288374a0dc": {
          "model_module": "@jupyter-widgets/controls",
          "model_name": "HBoxModel",
          "state": {
            "_view_name": "HBoxView",
            "_dom_classes": [],
            "_model_name": "HBoxModel",
            "_view_module": "@jupyter-widgets/controls",
            "_model_module_version": "1.5.0",
            "_view_count": null,
            "_view_module_version": "1.5.0",
            "box_style": "",
            "layout": "IPY_MODEL_638df6f5d89b4cf2b110e95c8d90b081",
            "_model_module": "@jupyter-widgets/controls",
            "children": [
              "IPY_MODEL_60d947907fdf4dd7ad42c53ee1beb51a",
              "IPY_MODEL_833a9e832b8e469eac4eaa6da91344b1"
            ]
          }
        },
        "638df6f5d89b4cf2b110e95c8d90b081": {
          "model_module": "@jupyter-widgets/base",
          "model_name": "LayoutModel",
          "state": {
            "_view_name": "LayoutView",
            "grid_template_rows": null,
            "right": null,
            "justify_content": null,
            "_view_module": "@jupyter-widgets/base",
            "overflow": null,
            "_model_module_version": "1.2.0",
            "_view_count": null,
            "flex_flow": null,
            "width": null,
            "min_width": null,
            "border": null,
            "align_items": null,
            "bottom": null,
            "_model_module": "@jupyter-widgets/base",
            "top": null,
            "grid_column": null,
            "overflow_y": null,
            "overflow_x": null,
            "grid_auto_flow": null,
            "grid_area": null,
            "grid_template_columns": null,
            "flex": null,
            "_model_name": "LayoutModel",
            "justify_items": null,
            "grid_row": null,
            "max_height": null,
            "align_content": null,
            "visibility": null,
            "align_self": null,
            "height": null,
            "min_height": null,
            "padding": null,
            "grid_auto_rows": null,
            "grid_gap": null,
            "max_width": null,
            "order": null,
            "_view_module_version": "1.2.0",
            "grid_template_areas": null,
            "object_position": null,
            "object_fit": null,
            "grid_auto_columns": null,
            "margin": null,
            "display": null,
            "left": null
          }
        },
        "60d947907fdf4dd7ad42c53ee1beb51a": {
          "model_module": "@jupyter-widgets/controls",
          "model_name": "FloatProgressModel",
          "state": {
            "_view_name": "ProgressView",
            "style": "IPY_MODEL_cb882c2356a64a279d8e4b452d4db2c7",
            "_dom_classes": [],
            "description": "100%",
            "_model_name": "FloatProgressModel",
            "bar_style": "success",
            "max": 100,
            "_view_module": "@jupyter-widgets/controls",
            "_model_module_version": "1.5.0",
            "value": 100,
            "_view_count": null,
            "_view_module_version": "1.5.0",
            "orientation": "horizontal",
            "min": 0,
            "description_tooltip": null,
            "_model_module": "@jupyter-widgets/controls",
            "layout": "IPY_MODEL_7a213f81a78b482cac6a06d8e095fc87"
          }
        },
        "833a9e832b8e469eac4eaa6da91344b1": {
          "model_module": "@jupyter-widgets/controls",
          "model_name": "HTMLModel",
          "state": {
            "_view_name": "HTMLView",
            "style": "IPY_MODEL_88e4d14af71a49b583cb2f5672b503e0",
            "_dom_classes": [],
            "description": "",
            "_model_name": "HTMLModel",
            "placeholder": "​",
            "_view_module": "@jupyter-widgets/controls",
            "_model_module_version": "1.5.0",
            "value": " 100/100 [00:03&lt;00:00, 27.36it/s, correct=75.65%, skipped=0.07%]",
            "_view_count": null,
            "_view_module_version": "1.5.0",
            "description_tooltip": null,
            "_model_module": "@jupyter-widgets/controls",
            "layout": "IPY_MODEL_9e936e996ff74482b7fd4aa377e48735"
          }
        },
        "cb882c2356a64a279d8e4b452d4db2c7": {
          "model_module": "@jupyter-widgets/controls",
          "model_name": "ProgressStyleModel",
          "state": {
            "_view_name": "StyleView",
            "_model_name": "ProgressStyleModel",
            "description_width": "initial",
            "_view_module": "@jupyter-widgets/base",
            "_model_module_version": "1.5.0",
            "_view_count": null,
            "_view_module_version": "1.2.0",
            "bar_color": null,
            "_model_module": "@jupyter-widgets/controls"
          }
        },
        "7a213f81a78b482cac6a06d8e095fc87": {
          "model_module": "@jupyter-widgets/base",
          "model_name": "LayoutModel",
          "state": {
            "_view_name": "LayoutView",
            "grid_template_rows": null,
            "right": null,
            "justify_content": null,
            "_view_module": "@jupyter-widgets/base",
            "overflow": null,
            "_model_module_version": "1.2.0",
            "_view_count": null,
            "flex_flow": null,
            "width": null,
            "min_width": null,
            "border": null,
            "align_items": null,
            "bottom": null,
            "_model_module": "@jupyter-widgets/base",
            "top": null,
            "grid_column": null,
            "overflow_y": null,
            "overflow_x": null,
            "grid_auto_flow": null,
            "grid_area": null,
            "grid_template_columns": null,
            "flex": null,
            "_model_name": "LayoutModel",
            "justify_items": null,
            "grid_row": null,
            "max_height": null,
            "align_content": null,
            "visibility": null,
            "align_self": null,
            "height": null,
            "min_height": null,
            "padding": null,
            "grid_auto_rows": null,
            "grid_gap": null,
            "max_width": null,
            "order": null,
            "_view_module_version": "1.2.0",
            "grid_template_areas": null,
            "object_position": null,
            "object_fit": null,
            "grid_auto_columns": null,
            "margin": null,
            "display": null,
            "left": null
          }
        },
        "88e4d14af71a49b583cb2f5672b503e0": {
          "model_module": "@jupyter-widgets/controls",
          "model_name": "DescriptionStyleModel",
          "state": {
            "_view_name": "StyleView",
            "_model_name": "DescriptionStyleModel",
            "description_width": "",
            "_view_module": "@jupyter-widgets/base",
            "_model_module_version": "1.5.0",
            "_view_count": null,
            "_view_module_version": "1.2.0",
            "_model_module": "@jupyter-widgets/controls"
          }
        },
        "9e936e996ff74482b7fd4aa377e48735": {
          "model_module": "@jupyter-widgets/base",
          "model_name": "LayoutModel",
          "state": {
            "_view_name": "LayoutView",
            "grid_template_rows": null,
            "right": null,
            "justify_content": null,
            "_view_module": "@jupyter-widgets/base",
            "overflow": null,
            "_model_module_version": "1.2.0",
            "_view_count": null,
            "flex_flow": null,
            "width": null,
            "min_width": null,
            "border": null,
            "align_items": null,
            "bottom": null,
            "_model_module": "@jupyter-widgets/base",
            "top": null,
            "grid_column": null,
            "overflow_y": null,
            "overflow_x": null,
            "grid_auto_flow": null,
            "grid_area": null,
            "grid_template_columns": null,
            "flex": null,
            "_model_name": "LayoutModel",
            "justify_items": null,
            "grid_row": null,
            "max_height": null,
            "align_content": null,
            "visibility": null,
            "align_self": null,
            "height": null,
            "min_height": null,
            "padding": null,
            "grid_auto_rows": null,
            "grid_gap": null,
            "max_width": null,
            "order": null,
            "_view_module_version": "1.2.0",
            "grid_template_areas": null,
            "object_position": null,
            "object_fit": null,
            "grid_auto_columns": null,
            "margin": null,
            "display": null,
            "left": null
          }
        },
        "f08f5844d41d48da846b6af5d5d9e189": {
          "model_module": "@jupyter-widgets/controls",
          "model_name": "HBoxModel",
          "state": {
            "_view_name": "HBoxView",
            "_dom_classes": [],
            "_model_name": "HBoxModel",
            "_view_module": "@jupyter-widgets/controls",
            "_model_module_version": "1.5.0",
            "_view_count": null,
            "_view_module_version": "1.5.0",
            "box_style": "",
            "layout": "IPY_MODEL_8736affa23194d7e968f09bc50c21452",
            "_model_module": "@jupyter-widgets/controls",
            "children": [
              "IPY_MODEL_fe364e070b57442cb7e712b9e9651e74",
              "IPY_MODEL_cd515302baf349cea9c6e33a411ab071"
            ]
          }
        },
        "8736affa23194d7e968f09bc50c21452": {
          "model_module": "@jupyter-widgets/base",
          "model_name": "LayoutModel",
          "state": {
            "_view_name": "LayoutView",
            "grid_template_rows": null,
            "right": null,
            "justify_content": null,
            "_view_module": "@jupyter-widgets/base",
            "overflow": null,
            "_model_module_version": "1.2.0",
            "_view_count": null,
            "flex_flow": null,
            "width": null,
            "min_width": null,
            "border": null,
            "align_items": null,
            "bottom": null,
            "_model_module": "@jupyter-widgets/base",
            "top": null,
            "grid_column": null,
            "overflow_y": null,
            "overflow_x": null,
            "grid_auto_flow": null,
            "grid_area": null,
            "grid_template_columns": null,
            "flex": null,
            "_model_name": "LayoutModel",
            "justify_items": null,
            "grid_row": null,
            "max_height": null,
            "align_content": null,
            "visibility": null,
            "align_self": null,
            "height": null,
            "min_height": null,
            "padding": null,
            "grid_auto_rows": null,
            "grid_gap": null,
            "max_width": null,
            "order": null,
            "_view_module_version": "1.2.0",
            "grid_template_areas": null,
            "object_position": null,
            "object_fit": null,
            "grid_auto_columns": null,
            "margin": null,
            "display": null,
            "left": null
          }
        },
        "fe364e070b57442cb7e712b9e9651e74": {
          "model_module": "@jupyter-widgets/controls",
          "model_name": "FloatProgressModel",
          "state": {
            "_view_name": "ProgressView",
            "style": "IPY_MODEL_45b2befe838b4ce79d80c495c62ea67a",
            "_dom_classes": [],
            "description": "100%",
            "_model_name": "FloatProgressModel",
            "bar_style": "success",
            "max": 100,
            "_view_module": "@jupyter-widgets/controls",
            "_model_module_version": "1.5.0",
            "value": 100,
            "_view_count": null,
            "_view_module_version": "1.5.0",
            "orientation": "horizontal",
            "min": 0,
            "description_tooltip": null,
            "_model_module": "@jupyter-widgets/controls",
            "layout": "IPY_MODEL_ff01bbf2baae485bb6b3fbfd1618d8cb"
          }
        },
        "cd515302baf349cea9c6e33a411ab071": {
          "model_module": "@jupyter-widgets/controls",
          "model_name": "HTMLModel",
          "state": {
            "_view_name": "HTMLView",
            "style": "IPY_MODEL_0e7f46fcd52449a599d364d2cf93385f",
            "_dom_classes": [],
            "description": "",
            "_model_name": "HTMLModel",
            "placeholder": "​",
            "_view_module": "@jupyter-widgets/controls",
            "_model_module_version": "1.5.0",
            "value": " 100/100 [01:30&lt;00:00,  1.10it/s, correct=62.33%, skipped=0.09%]",
            "_view_count": null,
            "_view_module_version": "1.5.0",
            "description_tooltip": null,
            "_model_module": "@jupyter-widgets/controls",
            "layout": "IPY_MODEL_f24f4f9a9c43493ba8eb840aab9ea844"
          }
        },
        "45b2befe838b4ce79d80c495c62ea67a": {
          "model_module": "@jupyter-widgets/controls",
          "model_name": "ProgressStyleModel",
          "state": {
            "_view_name": "StyleView",
            "_model_name": "ProgressStyleModel",
            "description_width": "initial",
            "_view_module": "@jupyter-widgets/base",
            "_model_module_version": "1.5.0",
            "_view_count": null,
            "_view_module_version": "1.2.0",
            "bar_color": null,
            "_model_module": "@jupyter-widgets/controls"
          }
        },
        "ff01bbf2baae485bb6b3fbfd1618d8cb": {
          "model_module": "@jupyter-widgets/base",
          "model_name": "LayoutModel",
          "state": {
            "_view_name": "LayoutView",
            "grid_template_rows": null,
            "right": null,
            "justify_content": null,
            "_view_module": "@jupyter-widgets/base",
            "overflow": null,
            "_model_module_version": "1.2.0",
            "_view_count": null,
            "flex_flow": null,
            "width": null,
            "min_width": null,
            "border": null,
            "align_items": null,
            "bottom": null,
            "_model_module": "@jupyter-widgets/base",
            "top": null,
            "grid_column": null,
            "overflow_y": null,
            "overflow_x": null,
            "grid_auto_flow": null,
            "grid_area": null,
            "grid_template_columns": null,
            "flex": null,
            "_model_name": "LayoutModel",
            "justify_items": null,
            "grid_row": null,
            "max_height": null,
            "align_content": null,
            "visibility": null,
            "align_self": null,
            "height": null,
            "min_height": null,
            "padding": null,
            "grid_auto_rows": null,
            "grid_gap": null,
            "max_width": null,
            "order": null,
            "_view_module_version": "1.2.0",
            "grid_template_areas": null,
            "object_position": null,
            "object_fit": null,
            "grid_auto_columns": null,
            "margin": null,
            "display": null,
            "left": null
          }
        },
        "0e7f46fcd52449a599d364d2cf93385f": {
          "model_module": "@jupyter-widgets/controls",
          "model_name": "DescriptionStyleModel",
          "state": {
            "_view_name": "StyleView",
            "_model_name": "DescriptionStyleModel",
            "description_width": "",
            "_view_module": "@jupyter-widgets/base",
            "_model_module_version": "1.5.0",
            "_view_count": null,
            "_view_module_version": "1.2.0",
            "_model_module": "@jupyter-widgets/controls"
          }
        },
        "f24f4f9a9c43493ba8eb840aab9ea844": {
          "model_module": "@jupyter-widgets/base",
          "model_name": "LayoutModel",
          "state": {
            "_view_name": "LayoutView",
            "grid_template_rows": null,
            "right": null,
            "justify_content": null,
            "_view_module": "@jupyter-widgets/base",
            "overflow": null,
            "_model_module_version": "1.2.0",
            "_view_count": null,
            "flex_flow": null,
            "width": null,
            "min_width": null,
            "border": null,
            "align_items": null,
            "bottom": null,
            "_model_module": "@jupyter-widgets/base",
            "top": null,
            "grid_column": null,
            "overflow_y": null,
            "overflow_x": null,
            "grid_auto_flow": null,
            "grid_area": null,
            "grid_template_columns": null,
            "flex": null,
            "_model_name": "LayoutModel",
            "justify_items": null,
            "grid_row": null,
            "max_height": null,
            "align_content": null,
            "visibility": null,
            "align_self": null,
            "height": null,
            "min_height": null,
            "padding": null,
            "grid_auto_rows": null,
            "grid_gap": null,
            "max_width": null,
            "order": null,
            "_view_module_version": "1.2.0",
            "grid_template_areas": null,
            "object_position": null,
            "object_fit": null,
            "grid_auto_columns": null,
            "margin": null,
            "display": null,
            "left": null
          }
        },
        "0d6aba47ed584c5da2f77b9ac0d1d425": {
          "model_module": "@jupyter-widgets/controls",
          "model_name": "HBoxModel",
          "state": {
            "_view_name": "HBoxView",
            "_dom_classes": [],
            "_model_name": "HBoxModel",
            "_view_module": "@jupyter-widgets/controls",
            "_model_module_version": "1.5.0",
            "_view_count": null,
            "_view_module_version": "1.5.0",
            "box_style": "",
            "layout": "IPY_MODEL_f98938161d0049f58dadcf019555d392",
            "_model_module": "@jupyter-widgets/controls",
            "children": [
              "IPY_MODEL_7e4eb156cace4e738d15f13e3d504b9e",
              "IPY_MODEL_a902101e8e144954953e0e8704a7ee9e"
            ]
          }
        },
        "f98938161d0049f58dadcf019555d392": {
          "model_module": "@jupyter-widgets/base",
          "model_name": "LayoutModel",
          "state": {
            "_view_name": "LayoutView",
            "grid_template_rows": null,
            "right": null,
            "justify_content": null,
            "_view_module": "@jupyter-widgets/base",
            "overflow": null,
            "_model_module_version": "1.2.0",
            "_view_count": null,
            "flex_flow": null,
            "width": null,
            "min_width": null,
            "border": null,
            "align_items": null,
            "bottom": null,
            "_model_module": "@jupyter-widgets/base",
            "top": null,
            "grid_column": null,
            "overflow_y": null,
            "overflow_x": null,
            "grid_auto_flow": null,
            "grid_area": null,
            "grid_template_columns": null,
            "flex": null,
            "_model_name": "LayoutModel",
            "justify_items": null,
            "grid_row": null,
            "max_height": null,
            "align_content": null,
            "visibility": null,
            "align_self": null,
            "height": null,
            "min_height": null,
            "padding": null,
            "grid_auto_rows": null,
            "grid_gap": null,
            "max_width": null,
            "order": null,
            "_view_module_version": "1.2.0",
            "grid_template_areas": null,
            "object_position": null,
            "object_fit": null,
            "grid_auto_columns": null,
            "margin": null,
            "display": null,
            "left": null
          }
        },
        "7e4eb156cace4e738d15f13e3d504b9e": {
          "model_module": "@jupyter-widgets/controls",
          "model_name": "FloatProgressModel",
          "state": {
            "_view_name": "ProgressView",
            "style": "IPY_MODEL_f94fd8df5fdf4422bc9b6dd0a6f4f2e0",
            "_dom_classes": [],
            "description": "100%",
            "_model_name": "FloatProgressModel",
            "bar_style": "success",
            "max": 100,
            "_view_module": "@jupyter-widgets/controls",
            "_model_module_version": "1.5.0",
            "value": 100,
            "_view_count": null,
            "_view_module_version": "1.5.0",
            "orientation": "horizontal",
            "min": 0,
            "description_tooltip": null,
            "_model_module": "@jupyter-widgets/controls",
            "layout": "IPY_MODEL_491177264496490fb1d74506bb1a8a19"
          }
        },
        "a902101e8e144954953e0e8704a7ee9e": {
          "model_module": "@jupyter-widgets/controls",
          "model_name": "HTMLModel",
          "state": {
            "_view_name": "HTMLView",
            "style": "IPY_MODEL_8940dc9163de49d89604571d9b2c5a31",
            "_dom_classes": [],
            "description": "",
            "_model_name": "HTMLModel",
            "placeholder": "​",
            "_view_module": "@jupyter-widgets/controls",
            "_model_module_version": "1.5.0",
            "value": " 100/100 [00:07&lt;00:00, 13.89it/s, correct=62.02%, skipped=0.09%]",
            "_view_count": null,
            "_view_module_version": "1.5.0",
            "description_tooltip": null,
            "_model_module": "@jupyter-widgets/controls",
            "layout": "IPY_MODEL_7e3bd83afafd41819e03bef5681c411b"
          }
        },
        "f94fd8df5fdf4422bc9b6dd0a6f4f2e0": {
          "model_module": "@jupyter-widgets/controls",
          "model_name": "ProgressStyleModel",
          "state": {
            "_view_name": "StyleView",
            "_model_name": "ProgressStyleModel",
            "description_width": "initial",
            "_view_module": "@jupyter-widgets/base",
            "_model_module_version": "1.5.0",
            "_view_count": null,
            "_view_module_version": "1.2.0",
            "bar_color": null,
            "_model_module": "@jupyter-widgets/controls"
          }
        },
        "491177264496490fb1d74506bb1a8a19": {
          "model_module": "@jupyter-widgets/base",
          "model_name": "LayoutModel",
          "state": {
            "_view_name": "LayoutView",
            "grid_template_rows": null,
            "right": null,
            "justify_content": null,
            "_view_module": "@jupyter-widgets/base",
            "overflow": null,
            "_model_module_version": "1.2.0",
            "_view_count": null,
            "flex_flow": null,
            "width": null,
            "min_width": null,
            "border": null,
            "align_items": null,
            "bottom": null,
            "_model_module": "@jupyter-widgets/base",
            "top": null,
            "grid_column": null,
            "overflow_y": null,
            "overflow_x": null,
            "grid_auto_flow": null,
            "grid_area": null,
            "grid_template_columns": null,
            "flex": null,
            "_model_name": "LayoutModel",
            "justify_items": null,
            "grid_row": null,
            "max_height": null,
            "align_content": null,
            "visibility": null,
            "align_self": null,
            "height": null,
            "min_height": null,
            "padding": null,
            "grid_auto_rows": null,
            "grid_gap": null,
            "max_width": null,
            "order": null,
            "_view_module_version": "1.2.0",
            "grid_template_areas": null,
            "object_position": null,
            "object_fit": null,
            "grid_auto_columns": null,
            "margin": null,
            "display": null,
            "left": null
          }
        },
        "8940dc9163de49d89604571d9b2c5a31": {
          "model_module": "@jupyter-widgets/controls",
          "model_name": "DescriptionStyleModel",
          "state": {
            "_view_name": "StyleView",
            "_model_name": "DescriptionStyleModel",
            "description_width": "",
            "_view_module": "@jupyter-widgets/base",
            "_model_module_version": "1.5.0",
            "_view_count": null,
            "_view_module_version": "1.2.0",
            "_model_module": "@jupyter-widgets/controls"
          }
        },
        "7e3bd83afafd41819e03bef5681c411b": {
          "model_module": "@jupyter-widgets/base",
          "model_name": "LayoutModel",
          "state": {
            "_view_name": "LayoutView",
            "grid_template_rows": null,
            "right": null,
            "justify_content": null,
            "_view_module": "@jupyter-widgets/base",
            "overflow": null,
            "_model_module_version": "1.2.0",
            "_view_count": null,
            "flex_flow": null,
            "width": null,
            "min_width": null,
            "border": null,
            "align_items": null,
            "bottom": null,
            "_model_module": "@jupyter-widgets/base",
            "top": null,
            "grid_column": null,
            "overflow_y": null,
            "overflow_x": null,
            "grid_auto_flow": null,
            "grid_area": null,
            "grid_template_columns": null,
            "flex": null,
            "_model_name": "LayoutModel",
            "justify_items": null,
            "grid_row": null,
            "max_height": null,
            "align_content": null,
            "visibility": null,
            "align_self": null,
            "height": null,
            "min_height": null,
            "padding": null,
            "grid_auto_rows": null,
            "grid_gap": null,
            "max_width": null,
            "order": null,
            "_view_module_version": "1.2.0",
            "grid_template_areas": null,
            "object_position": null,
            "object_fit": null,
            "grid_auto_columns": null,
            "margin": null,
            "display": null,
            "left": null
          }
        },
        "efcd6ebeea014c789c95ce258fe64063": {
          "model_module": "@jupyter-widgets/controls",
          "model_name": "HBoxModel",
          "state": {
            "_view_name": "HBoxView",
            "_dom_classes": [],
            "_model_name": "HBoxModel",
            "_view_module": "@jupyter-widgets/controls",
            "_model_module_version": "1.5.0",
            "_view_count": null,
            "_view_module_version": "1.5.0",
            "box_style": "",
            "layout": "IPY_MODEL_941406e2ffcb4680aba60c59a9c29def",
            "_model_module": "@jupyter-widgets/controls",
            "children": [
              "IPY_MODEL_234c751c7a5e4139a5ea92b168c6df5e",
              "IPY_MODEL_de433ea108f542c7a2ccdb66269f01fa"
            ]
          }
        },
        "941406e2ffcb4680aba60c59a9c29def": {
          "model_module": "@jupyter-widgets/base",
          "model_name": "LayoutModel",
          "state": {
            "_view_name": "LayoutView",
            "grid_template_rows": null,
            "right": null,
            "justify_content": null,
            "_view_module": "@jupyter-widgets/base",
            "overflow": null,
            "_model_module_version": "1.2.0",
            "_view_count": null,
            "flex_flow": null,
            "width": null,
            "min_width": null,
            "border": null,
            "align_items": null,
            "bottom": null,
            "_model_module": "@jupyter-widgets/base",
            "top": null,
            "grid_column": null,
            "overflow_y": null,
            "overflow_x": null,
            "grid_auto_flow": null,
            "grid_area": null,
            "grid_template_columns": null,
            "flex": null,
            "_model_name": "LayoutModel",
            "justify_items": null,
            "grid_row": null,
            "max_height": null,
            "align_content": null,
            "visibility": null,
            "align_self": null,
            "height": null,
            "min_height": null,
            "padding": null,
            "grid_auto_rows": null,
            "grid_gap": null,
            "max_width": null,
            "order": null,
            "_view_module_version": "1.2.0",
            "grid_template_areas": null,
            "object_position": null,
            "object_fit": null,
            "grid_auto_columns": null,
            "margin": null,
            "display": null,
            "left": null
          }
        },
        "234c751c7a5e4139a5ea92b168c6df5e": {
          "model_module": "@jupyter-widgets/controls",
          "model_name": "FloatProgressModel",
          "state": {
            "_view_name": "ProgressView",
            "style": "IPY_MODEL_675288ee657e42c4825b2049e072c0f9",
            "_dom_classes": [],
            "description": "100%",
            "_model_name": "FloatProgressModel",
            "bar_style": "success",
            "max": 100,
            "_view_module": "@jupyter-widgets/controls",
            "_model_module_version": "1.5.0",
            "value": 100,
            "_view_count": null,
            "_view_module_version": "1.5.0",
            "orientation": "horizontal",
            "min": 0,
            "description_tooltip": null,
            "_model_module": "@jupyter-widgets/controls",
            "layout": "IPY_MODEL_be3af47448804e32a3de49e8fb91fd0d"
          }
        },
        "de433ea108f542c7a2ccdb66269f01fa": {
          "model_module": "@jupyter-widgets/controls",
          "model_name": "HTMLModel",
          "state": {
            "_view_name": "HTMLView",
            "style": "IPY_MODEL_c5df9fae210a4198aba3419a59b888f9",
            "_dom_classes": [],
            "description": "",
            "_model_name": "HTMLModel",
            "placeholder": "​",
            "_view_module": "@jupyter-widgets/controls",
            "_model_module_version": "1.5.0",
            "value": " 100/100 [00:03&lt;00:00, 28.29it/s, correct=100.00%, skipped=0.10%]",
            "_view_count": null,
            "_view_module_version": "1.5.0",
            "description_tooltip": null,
            "_model_module": "@jupyter-widgets/controls",
            "layout": "IPY_MODEL_f693ddc8a2f74e07919dd96ce1066cd7"
          }
        },
        "675288ee657e42c4825b2049e072c0f9": {
          "model_module": "@jupyter-widgets/controls",
          "model_name": "ProgressStyleModel",
          "state": {
            "_view_name": "StyleView",
            "_model_name": "ProgressStyleModel",
            "description_width": "initial",
            "_view_module": "@jupyter-widgets/base",
            "_model_module_version": "1.5.0",
            "_view_count": null,
            "_view_module_version": "1.2.0",
            "bar_color": null,
            "_model_module": "@jupyter-widgets/controls"
          }
        },
        "be3af47448804e32a3de49e8fb91fd0d": {
          "model_module": "@jupyter-widgets/base",
          "model_name": "LayoutModel",
          "state": {
            "_view_name": "LayoutView",
            "grid_template_rows": null,
            "right": null,
            "justify_content": null,
            "_view_module": "@jupyter-widgets/base",
            "overflow": null,
            "_model_module_version": "1.2.0",
            "_view_count": null,
            "flex_flow": null,
            "width": null,
            "min_width": null,
            "border": null,
            "align_items": null,
            "bottom": null,
            "_model_module": "@jupyter-widgets/base",
            "top": null,
            "grid_column": null,
            "overflow_y": null,
            "overflow_x": null,
            "grid_auto_flow": null,
            "grid_area": null,
            "grid_template_columns": null,
            "flex": null,
            "_model_name": "LayoutModel",
            "justify_items": null,
            "grid_row": null,
            "max_height": null,
            "align_content": null,
            "visibility": null,
            "align_self": null,
            "height": null,
            "min_height": null,
            "padding": null,
            "grid_auto_rows": null,
            "grid_gap": null,
            "max_width": null,
            "order": null,
            "_view_module_version": "1.2.0",
            "grid_template_areas": null,
            "object_position": null,
            "object_fit": null,
            "grid_auto_columns": null,
            "margin": null,
            "display": null,
            "left": null
          }
        },
        "c5df9fae210a4198aba3419a59b888f9": {
          "model_module": "@jupyter-widgets/controls",
          "model_name": "DescriptionStyleModel",
          "state": {
            "_view_name": "StyleView",
            "_model_name": "DescriptionStyleModel",
            "description_width": "",
            "_view_module": "@jupyter-widgets/base",
            "_model_module_version": "1.5.0",
            "_view_count": null,
            "_view_module_version": "1.2.0",
            "_model_module": "@jupyter-widgets/controls"
          }
        },
        "f693ddc8a2f74e07919dd96ce1066cd7": {
          "model_module": "@jupyter-widgets/base",
          "model_name": "LayoutModel",
          "state": {
            "_view_name": "LayoutView",
            "grid_template_rows": null,
            "right": null,
            "justify_content": null,
            "_view_module": "@jupyter-widgets/base",
            "overflow": null,
            "_model_module_version": "1.2.0",
            "_view_count": null,
            "flex_flow": null,
            "width": null,
            "min_width": null,
            "border": null,
            "align_items": null,
            "bottom": null,
            "_model_module": "@jupyter-widgets/base",
            "top": null,
            "grid_column": null,
            "overflow_y": null,
            "overflow_x": null,
            "grid_auto_flow": null,
            "grid_area": null,
            "grid_template_columns": null,
            "flex": null,
            "_model_name": "LayoutModel",
            "justify_items": null,
            "grid_row": null,
            "max_height": null,
            "align_content": null,
            "visibility": null,
            "align_self": null,
            "height": null,
            "min_height": null,
            "padding": null,
            "grid_auto_rows": null,
            "grid_gap": null,
            "max_width": null,
            "order": null,
            "_view_module_version": "1.2.0",
            "grid_template_areas": null,
            "object_position": null,
            "object_fit": null,
            "grid_auto_columns": null,
            "margin": null,
            "display": null,
            "left": null
          }
        },
        "a89ac6a9666a4dd89ef2bf300b86dad7": {
          "model_module": "@jupyter-widgets/controls",
          "model_name": "HBoxModel",
          "state": {
            "_view_name": "HBoxView",
            "_dom_classes": [],
            "_model_name": "HBoxModel",
            "_view_module": "@jupyter-widgets/controls",
            "_model_module_version": "1.5.0",
            "_view_count": null,
            "_view_module_version": "1.5.0",
            "box_style": "",
            "layout": "IPY_MODEL_8e8d5aa254e44bd88b97a7e8a958574f",
            "_model_module": "@jupyter-widgets/controls",
            "children": [
              "IPY_MODEL_9276ee1a676c483da27e316b80ea8caa",
              "IPY_MODEL_310095c37b51420a96e76217dbd98d43"
            ]
          }
        },
        "8e8d5aa254e44bd88b97a7e8a958574f": {
          "model_module": "@jupyter-widgets/base",
          "model_name": "LayoutModel",
          "state": {
            "_view_name": "LayoutView",
            "grid_template_rows": null,
            "right": null,
            "justify_content": null,
            "_view_module": "@jupyter-widgets/base",
            "overflow": null,
            "_model_module_version": "1.2.0",
            "_view_count": null,
            "flex_flow": null,
            "width": null,
            "min_width": null,
            "border": null,
            "align_items": null,
            "bottom": null,
            "_model_module": "@jupyter-widgets/base",
            "top": null,
            "grid_column": null,
            "overflow_y": null,
            "overflow_x": null,
            "grid_auto_flow": null,
            "grid_area": null,
            "grid_template_columns": null,
            "flex": null,
            "_model_name": "LayoutModel",
            "justify_items": null,
            "grid_row": null,
            "max_height": null,
            "align_content": null,
            "visibility": null,
            "align_self": null,
            "height": null,
            "min_height": null,
            "padding": null,
            "grid_auto_rows": null,
            "grid_gap": null,
            "max_width": null,
            "order": null,
            "_view_module_version": "1.2.0",
            "grid_template_areas": null,
            "object_position": null,
            "object_fit": null,
            "grid_auto_columns": null,
            "margin": null,
            "display": null,
            "left": null
          }
        },
        "9276ee1a676c483da27e316b80ea8caa": {
          "model_module": "@jupyter-widgets/controls",
          "model_name": "FloatProgressModel",
          "state": {
            "_view_name": "ProgressView",
            "style": "IPY_MODEL_ab3c0e77a87c473d9edec5924ade8e40",
            "_dom_classes": [],
            "description": "100%",
            "_model_name": "FloatProgressModel",
            "bar_style": "success",
            "max": 100,
            "_view_module": "@jupyter-widgets/controls",
            "_model_module_version": "1.5.0",
            "value": 100,
            "_view_count": null,
            "_view_module_version": "1.5.0",
            "orientation": "horizontal",
            "min": 0,
            "description_tooltip": null,
            "_model_module": "@jupyter-widgets/controls",
            "layout": "IPY_MODEL_4ee900c03a4a4956a101829b55e8ed9f"
          }
        },
        "310095c37b51420a96e76217dbd98d43": {
          "model_module": "@jupyter-widgets/controls",
          "model_name": "HTMLModel",
          "state": {
            "_view_name": "HTMLView",
            "style": "IPY_MODEL_cef56c4b76ea43a481df28c27a656a8a",
            "_dom_classes": [],
            "description": "",
            "_model_name": "HTMLModel",
            "placeholder": "​",
            "_view_module": "@jupyter-widgets/controls",
            "_model_module_version": "1.5.0",
            "value": " 100/100 [01:19&lt;00:00,  1.25it/s, correct=100.00%, skipped=0.09%]",
            "_view_count": null,
            "_view_module_version": "1.5.0",
            "description_tooltip": null,
            "_model_module": "@jupyter-widgets/controls",
            "layout": "IPY_MODEL_564969b0857d4d0b8f009fbf69940f02"
          }
        },
        "ab3c0e77a87c473d9edec5924ade8e40": {
          "model_module": "@jupyter-widgets/controls",
          "model_name": "ProgressStyleModel",
          "state": {
            "_view_name": "StyleView",
            "_model_name": "ProgressStyleModel",
            "description_width": "initial",
            "_view_module": "@jupyter-widgets/base",
            "_model_module_version": "1.5.0",
            "_view_count": null,
            "_view_module_version": "1.2.0",
            "bar_color": null,
            "_model_module": "@jupyter-widgets/controls"
          }
        },
        "4ee900c03a4a4956a101829b55e8ed9f": {
          "model_module": "@jupyter-widgets/base",
          "model_name": "LayoutModel",
          "state": {
            "_view_name": "LayoutView",
            "grid_template_rows": null,
            "right": null,
            "justify_content": null,
            "_view_module": "@jupyter-widgets/base",
            "overflow": null,
            "_model_module_version": "1.2.0",
            "_view_count": null,
            "flex_flow": null,
            "width": null,
            "min_width": null,
            "border": null,
            "align_items": null,
            "bottom": null,
            "_model_module": "@jupyter-widgets/base",
            "top": null,
            "grid_column": null,
            "overflow_y": null,
            "overflow_x": null,
            "grid_auto_flow": null,
            "grid_area": null,
            "grid_template_columns": null,
            "flex": null,
            "_model_name": "LayoutModel",
            "justify_items": null,
            "grid_row": null,
            "max_height": null,
            "align_content": null,
            "visibility": null,
            "align_self": null,
            "height": null,
            "min_height": null,
            "padding": null,
            "grid_auto_rows": null,
            "grid_gap": null,
            "max_width": null,
            "order": null,
            "_view_module_version": "1.2.0",
            "grid_template_areas": null,
            "object_position": null,
            "object_fit": null,
            "grid_auto_columns": null,
            "margin": null,
            "display": null,
            "left": null
          }
        },
        "cef56c4b76ea43a481df28c27a656a8a": {
          "model_module": "@jupyter-widgets/controls",
          "model_name": "DescriptionStyleModel",
          "state": {
            "_view_name": "StyleView",
            "_model_name": "DescriptionStyleModel",
            "description_width": "",
            "_view_module": "@jupyter-widgets/base",
            "_model_module_version": "1.5.0",
            "_view_count": null,
            "_view_module_version": "1.2.0",
            "_model_module": "@jupyter-widgets/controls"
          }
        },
        "564969b0857d4d0b8f009fbf69940f02": {
          "model_module": "@jupyter-widgets/base",
          "model_name": "LayoutModel",
          "state": {
            "_view_name": "LayoutView",
            "grid_template_rows": null,
            "right": null,
            "justify_content": null,
            "_view_module": "@jupyter-widgets/base",
            "overflow": null,
            "_model_module_version": "1.2.0",
            "_view_count": null,
            "flex_flow": null,
            "width": null,
            "min_width": null,
            "border": null,
            "align_items": null,
            "bottom": null,
            "_model_module": "@jupyter-widgets/base",
            "top": null,
            "grid_column": null,
            "overflow_y": null,
            "overflow_x": null,
            "grid_auto_flow": null,
            "grid_area": null,
            "grid_template_columns": null,
            "flex": null,
            "_model_name": "LayoutModel",
            "justify_items": null,
            "grid_row": null,
            "max_height": null,
            "align_content": null,
            "visibility": null,
            "align_self": null,
            "height": null,
            "min_height": null,
            "padding": null,
            "grid_auto_rows": null,
            "grid_gap": null,
            "max_width": null,
            "order": null,
            "_view_module_version": "1.2.0",
            "grid_template_areas": null,
            "object_position": null,
            "object_fit": null,
            "grid_auto_columns": null,
            "margin": null,
            "display": null,
            "left": null
          }
        },
        "2e8f4afc518d40f8a26bc11845023191": {
          "model_module": "@jupyter-widgets/controls",
          "model_name": "HBoxModel",
          "state": {
            "_view_name": "HBoxView",
            "_dom_classes": [],
            "_model_name": "HBoxModel",
            "_view_module": "@jupyter-widgets/controls",
            "_model_module_version": "1.5.0",
            "_view_count": null,
            "_view_module_version": "1.5.0",
            "box_style": "",
            "layout": "IPY_MODEL_54df09f723524246b2a22e8d48b3f23b",
            "_model_module": "@jupyter-widgets/controls",
            "children": [
              "IPY_MODEL_606c233ce8de453eaf57f82897f17245",
              "IPY_MODEL_a84bf864bd3c4627af000d71e33c88e5"
            ]
          }
        },
        "54df09f723524246b2a22e8d48b3f23b": {
          "model_module": "@jupyter-widgets/base",
          "model_name": "LayoutModel",
          "state": {
            "_view_name": "LayoutView",
            "grid_template_rows": null,
            "right": null,
            "justify_content": null,
            "_view_module": "@jupyter-widgets/base",
            "overflow": null,
            "_model_module_version": "1.2.0",
            "_view_count": null,
            "flex_flow": null,
            "width": null,
            "min_width": null,
            "border": null,
            "align_items": null,
            "bottom": null,
            "_model_module": "@jupyter-widgets/base",
            "top": null,
            "grid_column": null,
            "overflow_y": null,
            "overflow_x": null,
            "grid_auto_flow": null,
            "grid_area": null,
            "grid_template_columns": null,
            "flex": null,
            "_model_name": "LayoutModel",
            "justify_items": null,
            "grid_row": null,
            "max_height": null,
            "align_content": null,
            "visibility": null,
            "align_self": null,
            "height": null,
            "min_height": null,
            "padding": null,
            "grid_auto_rows": null,
            "grid_gap": null,
            "max_width": null,
            "order": null,
            "_view_module_version": "1.2.0",
            "grid_template_areas": null,
            "object_position": null,
            "object_fit": null,
            "grid_auto_columns": null,
            "margin": null,
            "display": null,
            "left": null
          }
        },
        "606c233ce8de453eaf57f82897f17245": {
          "model_module": "@jupyter-widgets/controls",
          "model_name": "FloatProgressModel",
          "state": {
            "_view_name": "ProgressView",
            "style": "IPY_MODEL_fc43534ee695465482056e4d207e7989",
            "_dom_classes": [],
            "description": "100%",
            "_model_name": "FloatProgressModel",
            "bar_style": "success",
            "max": 100,
            "_view_module": "@jupyter-widgets/controls",
            "_model_module_version": "1.5.0",
            "value": 100,
            "_view_count": null,
            "_view_module_version": "1.5.0",
            "orientation": "horizontal",
            "min": 0,
            "description_tooltip": null,
            "_model_module": "@jupyter-widgets/controls",
            "layout": "IPY_MODEL_946c18ce0b1b42878110e355693130b9"
          }
        },
        "a84bf864bd3c4627af000d71e33c88e5": {
          "model_module": "@jupyter-widgets/controls",
          "model_name": "HTMLModel",
          "state": {
            "_view_name": "HTMLView",
            "style": "IPY_MODEL_ed5558060cf1427aa9b32246f3e61e02",
            "_dom_classes": [],
            "description": "",
            "_model_name": "HTMLModel",
            "placeholder": "​",
            "_view_module": "@jupyter-widgets/controls",
            "_model_module_version": "1.5.0",
            "value": " 100/100 [00:07&lt;00:00, 13.87it/s, correct=100.00%, skipped=0.08%]",
            "_view_count": null,
            "_view_module_version": "1.5.0",
            "description_tooltip": null,
            "_model_module": "@jupyter-widgets/controls",
            "layout": "IPY_MODEL_4385d5a7c4004fafb7f45e75fdb3579e"
          }
        },
        "fc43534ee695465482056e4d207e7989": {
          "model_module": "@jupyter-widgets/controls",
          "model_name": "ProgressStyleModel",
          "state": {
            "_view_name": "StyleView",
            "_model_name": "ProgressStyleModel",
            "description_width": "initial",
            "_view_module": "@jupyter-widgets/base",
            "_model_module_version": "1.5.0",
            "_view_count": null,
            "_view_module_version": "1.2.0",
            "bar_color": null,
            "_model_module": "@jupyter-widgets/controls"
          }
        },
        "946c18ce0b1b42878110e355693130b9": {
          "model_module": "@jupyter-widgets/base",
          "model_name": "LayoutModel",
          "state": {
            "_view_name": "LayoutView",
            "grid_template_rows": null,
            "right": null,
            "justify_content": null,
            "_view_module": "@jupyter-widgets/base",
            "overflow": null,
            "_model_module_version": "1.2.0",
            "_view_count": null,
            "flex_flow": null,
            "width": null,
            "min_width": null,
            "border": null,
            "align_items": null,
            "bottom": null,
            "_model_module": "@jupyter-widgets/base",
            "top": null,
            "grid_column": null,
            "overflow_y": null,
            "overflow_x": null,
            "grid_auto_flow": null,
            "grid_area": null,
            "grid_template_columns": null,
            "flex": null,
            "_model_name": "LayoutModel",
            "justify_items": null,
            "grid_row": null,
            "max_height": null,
            "align_content": null,
            "visibility": null,
            "align_self": null,
            "height": null,
            "min_height": null,
            "padding": null,
            "grid_auto_rows": null,
            "grid_gap": null,
            "max_width": null,
            "order": null,
            "_view_module_version": "1.2.0",
            "grid_template_areas": null,
            "object_position": null,
            "object_fit": null,
            "grid_auto_columns": null,
            "margin": null,
            "display": null,
            "left": null
          }
        },
        "ed5558060cf1427aa9b32246f3e61e02": {
          "model_module": "@jupyter-widgets/controls",
          "model_name": "DescriptionStyleModel",
          "state": {
            "_view_name": "StyleView",
            "_model_name": "DescriptionStyleModel",
            "description_width": "",
            "_view_module": "@jupyter-widgets/base",
            "_model_module_version": "1.5.0",
            "_view_count": null,
            "_view_module_version": "1.2.0",
            "_model_module": "@jupyter-widgets/controls"
          }
        },
        "4385d5a7c4004fafb7f45e75fdb3579e": {
          "model_module": "@jupyter-widgets/base",
          "model_name": "LayoutModel",
          "state": {
            "_view_name": "LayoutView",
            "grid_template_rows": null,
            "right": null,
            "justify_content": null,
            "_view_module": "@jupyter-widgets/base",
            "overflow": null,
            "_model_module_version": "1.2.0",
            "_view_count": null,
            "flex_flow": null,
            "width": null,
            "min_width": null,
            "border": null,
            "align_items": null,
            "bottom": null,
            "_model_module": "@jupyter-widgets/base",
            "top": null,
            "grid_column": null,
            "overflow_y": null,
            "overflow_x": null,
            "grid_auto_flow": null,
            "grid_area": null,
            "grid_template_columns": null,
            "flex": null,
            "_model_name": "LayoutModel",
            "justify_items": null,
            "grid_row": null,
            "max_height": null,
            "align_content": null,
            "visibility": null,
            "align_self": null,
            "height": null,
            "min_height": null,
            "padding": null,
            "grid_auto_rows": null,
            "grid_gap": null,
            "max_width": null,
            "order": null,
            "_view_module_version": "1.2.0",
            "grid_template_areas": null,
            "object_position": null,
            "object_fit": null,
            "grid_auto_columns": null,
            "margin": null,
            "display": null,
            "left": null
          }
        },
        "0119a89603774fdcb5866fd3133dab0b": {
          "model_module": "@jupyter-widgets/controls",
          "model_name": "HBoxModel",
          "state": {
            "_view_name": "HBoxView",
            "_dom_classes": [],
            "_model_name": "HBoxModel",
            "_view_module": "@jupyter-widgets/controls",
            "_model_module_version": "1.5.0",
            "_view_count": null,
            "_view_module_version": "1.5.0",
            "box_style": "",
            "layout": "IPY_MODEL_e8101ce628e840a095aab5c917b6ebfa",
            "_model_module": "@jupyter-widgets/controls",
            "children": [
              "IPY_MODEL_040a35a2578949b28c2cbaa8b3ca1ab6",
              "IPY_MODEL_de4f196de4e94c19a59f24d1c95db2dd"
            ]
          }
        },
        "e8101ce628e840a095aab5c917b6ebfa": {
          "model_module": "@jupyter-widgets/base",
          "model_name": "LayoutModel",
          "state": {
            "_view_name": "LayoutView",
            "grid_template_rows": null,
            "right": null,
            "justify_content": null,
            "_view_module": "@jupyter-widgets/base",
            "overflow": null,
            "_model_module_version": "1.2.0",
            "_view_count": null,
            "flex_flow": null,
            "width": null,
            "min_width": null,
            "border": null,
            "align_items": null,
            "bottom": null,
            "_model_module": "@jupyter-widgets/base",
            "top": null,
            "grid_column": null,
            "overflow_y": null,
            "overflow_x": null,
            "grid_auto_flow": null,
            "grid_area": null,
            "grid_template_columns": null,
            "flex": null,
            "_model_name": "LayoutModel",
            "justify_items": null,
            "grid_row": null,
            "max_height": null,
            "align_content": null,
            "visibility": null,
            "align_self": null,
            "height": null,
            "min_height": null,
            "padding": null,
            "grid_auto_rows": null,
            "grid_gap": null,
            "max_width": null,
            "order": null,
            "_view_module_version": "1.2.0",
            "grid_template_areas": null,
            "object_position": null,
            "object_fit": null,
            "grid_auto_columns": null,
            "margin": null,
            "display": null,
            "left": null
          }
        },
        "040a35a2578949b28c2cbaa8b3ca1ab6": {
          "model_module": "@jupyter-widgets/controls",
          "model_name": "FloatProgressModel",
          "state": {
            "_view_name": "ProgressView",
            "style": "IPY_MODEL_a5d62d05157345c6ba056d528c70eb2f",
            "_dom_classes": [],
            "description": "100%",
            "_model_name": "FloatProgressModel",
            "bar_style": "success",
            "max": 100,
            "_view_module": "@jupyter-widgets/controls",
            "_model_module_version": "1.5.0",
            "value": 100,
            "_view_count": null,
            "_view_module_version": "1.5.0",
            "orientation": "horizontal",
            "min": 0,
            "description_tooltip": null,
            "_model_module": "@jupyter-widgets/controls",
            "layout": "IPY_MODEL_d8b5eadc7e5c49f5964d5595192d9adf"
          }
        },
        "de4f196de4e94c19a59f24d1c95db2dd": {
          "model_module": "@jupyter-widgets/controls",
          "model_name": "HTMLModel",
          "state": {
            "_view_name": "HTMLView",
            "style": "IPY_MODEL_3670e7f664804da8865df5c694b68c6b",
            "_dom_classes": [],
            "description": "",
            "_model_name": "HTMLModel",
            "placeholder": "​",
            "_view_module": "@jupyter-widgets/controls",
            "_model_module_version": "1.5.0",
            "value": " 100/100 [00:03&lt;00:00, 27.26it/s, correct=100.00%, skipped=0.08%]",
            "_view_count": null,
            "_view_module_version": "1.5.0",
            "description_tooltip": null,
            "_model_module": "@jupyter-widgets/controls",
            "layout": "IPY_MODEL_13f2e671fede4711aec8fce07d16bbd9"
          }
        },
        "a5d62d05157345c6ba056d528c70eb2f": {
          "model_module": "@jupyter-widgets/controls",
          "model_name": "ProgressStyleModel",
          "state": {
            "_view_name": "StyleView",
            "_model_name": "ProgressStyleModel",
            "description_width": "initial",
            "_view_module": "@jupyter-widgets/base",
            "_model_module_version": "1.5.0",
            "_view_count": null,
            "_view_module_version": "1.2.0",
            "bar_color": null,
            "_model_module": "@jupyter-widgets/controls"
          }
        },
        "d8b5eadc7e5c49f5964d5595192d9adf": {
          "model_module": "@jupyter-widgets/base",
          "model_name": "LayoutModel",
          "state": {
            "_view_name": "LayoutView",
            "grid_template_rows": null,
            "right": null,
            "justify_content": null,
            "_view_module": "@jupyter-widgets/base",
            "overflow": null,
            "_model_module_version": "1.2.0",
            "_view_count": null,
            "flex_flow": null,
            "width": null,
            "min_width": null,
            "border": null,
            "align_items": null,
            "bottom": null,
            "_model_module": "@jupyter-widgets/base",
            "top": null,
            "grid_column": null,
            "overflow_y": null,
            "overflow_x": null,
            "grid_auto_flow": null,
            "grid_area": null,
            "grid_template_columns": null,
            "flex": null,
            "_model_name": "LayoutModel",
            "justify_items": null,
            "grid_row": null,
            "max_height": null,
            "align_content": null,
            "visibility": null,
            "align_self": null,
            "height": null,
            "min_height": null,
            "padding": null,
            "grid_auto_rows": null,
            "grid_gap": null,
            "max_width": null,
            "order": null,
            "_view_module_version": "1.2.0",
            "grid_template_areas": null,
            "object_position": null,
            "object_fit": null,
            "grid_auto_columns": null,
            "margin": null,
            "display": null,
            "left": null
          }
        },
        "3670e7f664804da8865df5c694b68c6b": {
          "model_module": "@jupyter-widgets/controls",
          "model_name": "DescriptionStyleModel",
          "state": {
            "_view_name": "StyleView",
            "_model_name": "DescriptionStyleModel",
            "description_width": "",
            "_view_module": "@jupyter-widgets/base",
            "_model_module_version": "1.5.0",
            "_view_count": null,
            "_view_module_version": "1.2.0",
            "_model_module": "@jupyter-widgets/controls"
          }
        },
        "13f2e671fede4711aec8fce07d16bbd9": {
          "model_module": "@jupyter-widgets/base",
          "model_name": "LayoutModel",
          "state": {
            "_view_name": "LayoutView",
            "grid_template_rows": null,
            "right": null,
            "justify_content": null,
            "_view_module": "@jupyter-widgets/base",
            "overflow": null,
            "_model_module_version": "1.2.0",
            "_view_count": null,
            "flex_flow": null,
            "width": null,
            "min_width": null,
            "border": null,
            "align_items": null,
            "bottom": null,
            "_model_module": "@jupyter-widgets/base",
            "top": null,
            "grid_column": null,
            "overflow_y": null,
            "overflow_x": null,
            "grid_auto_flow": null,
            "grid_area": null,
            "grid_template_columns": null,
            "flex": null,
            "_model_name": "LayoutModel",
            "justify_items": null,
            "grid_row": null,
            "max_height": null,
            "align_content": null,
            "visibility": null,
            "align_self": null,
            "height": null,
            "min_height": null,
            "padding": null,
            "grid_auto_rows": null,
            "grid_gap": null,
            "max_width": null,
            "order": null,
            "_view_module_version": "1.2.0",
            "grid_template_areas": null,
            "object_position": null,
            "object_fit": null,
            "grid_auto_columns": null,
            "margin": null,
            "display": null,
            "left": null
          }
        },
        "8889e58797034d42acba6e9f688b227a": {
          "model_module": "@jupyter-widgets/controls",
          "model_name": "HBoxModel",
          "state": {
            "_view_name": "HBoxView",
            "_dom_classes": [],
            "_model_name": "HBoxModel",
            "_view_module": "@jupyter-widgets/controls",
            "_model_module_version": "1.5.0",
            "_view_count": null,
            "_view_module_version": "1.5.0",
            "box_style": "",
            "layout": "IPY_MODEL_d35218dd160d4d4e8937e0f67622799f",
            "_model_module": "@jupyter-widgets/controls",
            "children": [
              "IPY_MODEL_8abee4f30ab4471d90666f94a077e0bd",
              "IPY_MODEL_0648ae758ae047bfa686c18c15136736"
            ]
          }
        },
        "d35218dd160d4d4e8937e0f67622799f": {
          "model_module": "@jupyter-widgets/base",
          "model_name": "LayoutModel",
          "state": {
            "_view_name": "LayoutView",
            "grid_template_rows": null,
            "right": null,
            "justify_content": null,
            "_view_module": "@jupyter-widgets/base",
            "overflow": null,
            "_model_module_version": "1.2.0",
            "_view_count": null,
            "flex_flow": null,
            "width": null,
            "min_width": null,
            "border": null,
            "align_items": null,
            "bottom": null,
            "_model_module": "@jupyter-widgets/base",
            "top": null,
            "grid_column": null,
            "overflow_y": null,
            "overflow_x": null,
            "grid_auto_flow": null,
            "grid_area": null,
            "grid_template_columns": null,
            "flex": null,
            "_model_name": "LayoutModel",
            "justify_items": null,
            "grid_row": null,
            "max_height": null,
            "align_content": null,
            "visibility": null,
            "align_self": null,
            "height": null,
            "min_height": null,
            "padding": null,
            "grid_auto_rows": null,
            "grid_gap": null,
            "max_width": null,
            "order": null,
            "_view_module_version": "1.2.0",
            "grid_template_areas": null,
            "object_position": null,
            "object_fit": null,
            "grid_auto_columns": null,
            "margin": null,
            "display": null,
            "left": null
          }
        },
        "8abee4f30ab4471d90666f94a077e0bd": {
          "model_module": "@jupyter-widgets/controls",
          "model_name": "FloatProgressModel",
          "state": {
            "_view_name": "ProgressView",
            "style": "IPY_MODEL_1ce0e09fcfeb477bb7b49b40eb8be2e9",
            "_dom_classes": [],
            "description": "100%",
            "_model_name": "FloatProgressModel",
            "bar_style": "success",
            "max": 100,
            "_view_module": "@jupyter-widgets/controls",
            "_model_module_version": "1.5.0",
            "value": 100,
            "_view_count": null,
            "_view_module_version": "1.5.0",
            "orientation": "horizontal",
            "min": 0,
            "description_tooltip": null,
            "_model_module": "@jupyter-widgets/controls",
            "layout": "IPY_MODEL_73f91c58fde047c3a4b8a593be94c1ff"
          }
        },
        "0648ae758ae047bfa686c18c15136736": {
          "model_module": "@jupyter-widgets/controls",
          "model_name": "HTMLModel",
          "state": {
            "_view_name": "HTMLView",
            "style": "IPY_MODEL_562d5c8d7b074075a354e7d11546b251",
            "_dom_classes": [],
            "description": "",
            "_model_name": "HTMLModel",
            "placeholder": "​",
            "_view_module": "@jupyter-widgets/controls",
            "_model_module_version": "1.5.0",
            "value": " 100/100 [01:08&lt;00:00,  1.45it/s, correct=66.26%, skipped=0.09%]",
            "_view_count": null,
            "_view_module_version": "1.5.0",
            "description_tooltip": null,
            "_model_module": "@jupyter-widgets/controls",
            "layout": "IPY_MODEL_6a65356c0d2e43028cc4fdf152d4fbf7"
          }
        },
        "1ce0e09fcfeb477bb7b49b40eb8be2e9": {
          "model_module": "@jupyter-widgets/controls",
          "model_name": "ProgressStyleModel",
          "state": {
            "_view_name": "StyleView",
            "_model_name": "ProgressStyleModel",
            "description_width": "initial",
            "_view_module": "@jupyter-widgets/base",
            "_model_module_version": "1.5.0",
            "_view_count": null,
            "_view_module_version": "1.2.0",
            "bar_color": null,
            "_model_module": "@jupyter-widgets/controls"
          }
        },
        "73f91c58fde047c3a4b8a593be94c1ff": {
          "model_module": "@jupyter-widgets/base",
          "model_name": "LayoutModel",
          "state": {
            "_view_name": "LayoutView",
            "grid_template_rows": null,
            "right": null,
            "justify_content": null,
            "_view_module": "@jupyter-widgets/base",
            "overflow": null,
            "_model_module_version": "1.2.0",
            "_view_count": null,
            "flex_flow": null,
            "width": null,
            "min_width": null,
            "border": null,
            "align_items": null,
            "bottom": null,
            "_model_module": "@jupyter-widgets/base",
            "top": null,
            "grid_column": null,
            "overflow_y": null,
            "overflow_x": null,
            "grid_auto_flow": null,
            "grid_area": null,
            "grid_template_columns": null,
            "flex": null,
            "_model_name": "LayoutModel",
            "justify_items": null,
            "grid_row": null,
            "max_height": null,
            "align_content": null,
            "visibility": null,
            "align_self": null,
            "height": null,
            "min_height": null,
            "padding": null,
            "grid_auto_rows": null,
            "grid_gap": null,
            "max_width": null,
            "order": null,
            "_view_module_version": "1.2.0",
            "grid_template_areas": null,
            "object_position": null,
            "object_fit": null,
            "grid_auto_columns": null,
            "margin": null,
            "display": null,
            "left": null
          }
        },
        "562d5c8d7b074075a354e7d11546b251": {
          "model_module": "@jupyter-widgets/controls",
          "model_name": "DescriptionStyleModel",
          "state": {
            "_view_name": "StyleView",
            "_model_name": "DescriptionStyleModel",
            "description_width": "",
            "_view_module": "@jupyter-widgets/base",
            "_model_module_version": "1.5.0",
            "_view_count": null,
            "_view_module_version": "1.2.0",
            "_model_module": "@jupyter-widgets/controls"
          }
        },
        "6a65356c0d2e43028cc4fdf152d4fbf7": {
          "model_module": "@jupyter-widgets/base",
          "model_name": "LayoutModel",
          "state": {
            "_view_name": "LayoutView",
            "grid_template_rows": null,
            "right": null,
            "justify_content": null,
            "_view_module": "@jupyter-widgets/base",
            "overflow": null,
            "_model_module_version": "1.2.0",
            "_view_count": null,
            "flex_flow": null,
            "width": null,
            "min_width": null,
            "border": null,
            "align_items": null,
            "bottom": null,
            "_model_module": "@jupyter-widgets/base",
            "top": null,
            "grid_column": null,
            "overflow_y": null,
            "overflow_x": null,
            "grid_auto_flow": null,
            "grid_area": null,
            "grid_template_columns": null,
            "flex": null,
            "_model_name": "LayoutModel",
            "justify_items": null,
            "grid_row": null,
            "max_height": null,
            "align_content": null,
            "visibility": null,
            "align_self": null,
            "height": null,
            "min_height": null,
            "padding": null,
            "grid_auto_rows": null,
            "grid_gap": null,
            "max_width": null,
            "order": null,
            "_view_module_version": "1.2.0",
            "grid_template_areas": null,
            "object_position": null,
            "object_fit": null,
            "grid_auto_columns": null,
            "margin": null,
            "display": null,
            "left": null
          }
        },
        "c2b1b2150f324855856055338cf83121": {
          "model_module": "@jupyter-widgets/controls",
          "model_name": "HBoxModel",
          "state": {
            "_view_name": "HBoxView",
            "_dom_classes": [],
            "_model_name": "HBoxModel",
            "_view_module": "@jupyter-widgets/controls",
            "_model_module_version": "1.5.0",
            "_view_count": null,
            "_view_module_version": "1.5.0",
            "box_style": "",
            "layout": "IPY_MODEL_2c55a1410f234304b1dac241d4434dff",
            "_model_module": "@jupyter-widgets/controls",
            "children": [
              "IPY_MODEL_e7a1ea5277c6457ebd138c75dcca09a5",
              "IPY_MODEL_c2b58dc3c38e4350aa026b935af61ab9"
            ]
          }
        },
        "2c55a1410f234304b1dac241d4434dff": {
          "model_module": "@jupyter-widgets/base",
          "model_name": "LayoutModel",
          "state": {
            "_view_name": "LayoutView",
            "grid_template_rows": null,
            "right": null,
            "justify_content": null,
            "_view_module": "@jupyter-widgets/base",
            "overflow": null,
            "_model_module_version": "1.2.0",
            "_view_count": null,
            "flex_flow": null,
            "width": null,
            "min_width": null,
            "border": null,
            "align_items": null,
            "bottom": null,
            "_model_module": "@jupyter-widgets/base",
            "top": null,
            "grid_column": null,
            "overflow_y": null,
            "overflow_x": null,
            "grid_auto_flow": null,
            "grid_area": null,
            "grid_template_columns": null,
            "flex": null,
            "_model_name": "LayoutModel",
            "justify_items": null,
            "grid_row": null,
            "max_height": null,
            "align_content": null,
            "visibility": null,
            "align_self": null,
            "height": null,
            "min_height": null,
            "padding": null,
            "grid_auto_rows": null,
            "grid_gap": null,
            "max_width": null,
            "order": null,
            "_view_module_version": "1.2.0",
            "grid_template_areas": null,
            "object_position": null,
            "object_fit": null,
            "grid_auto_columns": null,
            "margin": null,
            "display": null,
            "left": null
          }
        },
        "e7a1ea5277c6457ebd138c75dcca09a5": {
          "model_module": "@jupyter-widgets/controls",
          "model_name": "FloatProgressModel",
          "state": {
            "_view_name": "ProgressView",
            "style": "IPY_MODEL_a132089a436444f993d9695330f1a843",
            "_dom_classes": [],
            "description": "100%",
            "_model_name": "FloatProgressModel",
            "bar_style": "success",
            "max": 100,
            "_view_module": "@jupyter-widgets/controls",
            "_model_module_version": "1.5.0",
            "value": 100,
            "_view_count": null,
            "_view_module_version": "1.5.0",
            "orientation": "horizontal",
            "min": 0,
            "description_tooltip": null,
            "_model_module": "@jupyter-widgets/controls",
            "layout": "IPY_MODEL_ef738b53fd6242099d2b9532fa934617"
          }
        },
        "c2b58dc3c38e4350aa026b935af61ab9": {
          "model_module": "@jupyter-widgets/controls",
          "model_name": "HTMLModel",
          "state": {
            "_view_name": "HTMLView",
            "style": "IPY_MODEL_1ffcbb2385a943e4bb5ae9f66e70dfa5",
            "_dom_classes": [],
            "description": "",
            "_model_name": "HTMLModel",
            "placeholder": "​",
            "_view_module": "@jupyter-widgets/controls",
            "_model_module_version": "1.5.0",
            "value": " 100/100 [00:10&lt;00:00,  9.87it/s, correct=66.11%, skipped=0.09%]",
            "_view_count": null,
            "_view_module_version": "1.5.0",
            "description_tooltip": null,
            "_model_module": "@jupyter-widgets/controls",
            "layout": "IPY_MODEL_aeb5a91d9d194de3a73e0f8b7d8f9275"
          }
        },
        "a132089a436444f993d9695330f1a843": {
          "model_module": "@jupyter-widgets/controls",
          "model_name": "ProgressStyleModel",
          "state": {
            "_view_name": "StyleView",
            "_model_name": "ProgressStyleModel",
            "description_width": "initial",
            "_view_module": "@jupyter-widgets/base",
            "_model_module_version": "1.5.0",
            "_view_count": null,
            "_view_module_version": "1.2.0",
            "bar_color": null,
            "_model_module": "@jupyter-widgets/controls"
          }
        },
        "ef738b53fd6242099d2b9532fa934617": {
          "model_module": "@jupyter-widgets/base",
          "model_name": "LayoutModel",
          "state": {
            "_view_name": "LayoutView",
            "grid_template_rows": null,
            "right": null,
            "justify_content": null,
            "_view_module": "@jupyter-widgets/base",
            "overflow": null,
            "_model_module_version": "1.2.0",
            "_view_count": null,
            "flex_flow": null,
            "width": null,
            "min_width": null,
            "border": null,
            "align_items": null,
            "bottom": null,
            "_model_module": "@jupyter-widgets/base",
            "top": null,
            "grid_column": null,
            "overflow_y": null,
            "overflow_x": null,
            "grid_auto_flow": null,
            "grid_area": null,
            "grid_template_columns": null,
            "flex": null,
            "_model_name": "LayoutModel",
            "justify_items": null,
            "grid_row": null,
            "max_height": null,
            "align_content": null,
            "visibility": null,
            "align_self": null,
            "height": null,
            "min_height": null,
            "padding": null,
            "grid_auto_rows": null,
            "grid_gap": null,
            "max_width": null,
            "order": null,
            "_view_module_version": "1.2.0",
            "grid_template_areas": null,
            "object_position": null,
            "object_fit": null,
            "grid_auto_columns": null,
            "margin": null,
            "display": null,
            "left": null
          }
        },
        "1ffcbb2385a943e4bb5ae9f66e70dfa5": {
          "model_module": "@jupyter-widgets/controls",
          "model_name": "DescriptionStyleModel",
          "state": {
            "_view_name": "StyleView",
            "_model_name": "DescriptionStyleModel",
            "description_width": "",
            "_view_module": "@jupyter-widgets/base",
            "_model_module_version": "1.5.0",
            "_view_count": null,
            "_view_module_version": "1.2.0",
            "_model_module": "@jupyter-widgets/controls"
          }
        },
        "aeb5a91d9d194de3a73e0f8b7d8f9275": {
          "model_module": "@jupyter-widgets/base",
          "model_name": "LayoutModel",
          "state": {
            "_view_name": "LayoutView",
            "grid_template_rows": null,
            "right": null,
            "justify_content": null,
            "_view_module": "@jupyter-widgets/base",
            "overflow": null,
            "_model_module_version": "1.2.0",
            "_view_count": null,
            "flex_flow": null,
            "width": null,
            "min_width": null,
            "border": null,
            "align_items": null,
            "bottom": null,
            "_model_module": "@jupyter-widgets/base",
            "top": null,
            "grid_column": null,
            "overflow_y": null,
            "overflow_x": null,
            "grid_auto_flow": null,
            "grid_area": null,
            "grid_template_columns": null,
            "flex": null,
            "_model_name": "LayoutModel",
            "justify_items": null,
            "grid_row": null,
            "max_height": null,
            "align_content": null,
            "visibility": null,
            "align_self": null,
            "height": null,
            "min_height": null,
            "padding": null,
            "grid_auto_rows": null,
            "grid_gap": null,
            "max_width": null,
            "order": null,
            "_view_module_version": "1.2.0",
            "grid_template_areas": null,
            "object_position": null,
            "object_fit": null,
            "grid_auto_columns": null,
            "margin": null,
            "display": null,
            "left": null
          }
        },
        "4b0304c89e154c9d95178c63cbb788a3": {
          "model_module": "@jupyter-widgets/controls",
          "model_name": "HBoxModel",
          "state": {
            "_view_name": "HBoxView",
            "_dom_classes": [],
            "_model_name": "HBoxModel",
            "_view_module": "@jupyter-widgets/controls",
            "_model_module_version": "1.5.0",
            "_view_count": null,
            "_view_module_version": "1.5.0",
            "box_style": "",
            "layout": "IPY_MODEL_b0d6fa7504774001977d49fc01fcfafa",
            "_model_module": "@jupyter-widgets/controls",
            "children": [
              "IPY_MODEL_b22fe0fe97874cd7a9d055b62bc1f29e",
              "IPY_MODEL_3eb051357d5e4332b08ddf38f5b0fe72"
            ]
          }
        },
        "b0d6fa7504774001977d49fc01fcfafa": {
          "model_module": "@jupyter-widgets/base",
          "model_name": "LayoutModel",
          "state": {
            "_view_name": "LayoutView",
            "grid_template_rows": null,
            "right": null,
            "justify_content": null,
            "_view_module": "@jupyter-widgets/base",
            "overflow": null,
            "_model_module_version": "1.2.0",
            "_view_count": null,
            "flex_flow": null,
            "width": null,
            "min_width": null,
            "border": null,
            "align_items": null,
            "bottom": null,
            "_model_module": "@jupyter-widgets/base",
            "top": null,
            "grid_column": null,
            "overflow_y": null,
            "overflow_x": null,
            "grid_auto_flow": null,
            "grid_area": null,
            "grid_template_columns": null,
            "flex": null,
            "_model_name": "LayoutModel",
            "justify_items": null,
            "grid_row": null,
            "max_height": null,
            "align_content": null,
            "visibility": null,
            "align_self": null,
            "height": null,
            "min_height": null,
            "padding": null,
            "grid_auto_rows": null,
            "grid_gap": null,
            "max_width": null,
            "order": null,
            "_view_module_version": "1.2.0",
            "grid_template_areas": null,
            "object_position": null,
            "object_fit": null,
            "grid_auto_columns": null,
            "margin": null,
            "display": null,
            "left": null
          }
        },
        "b22fe0fe97874cd7a9d055b62bc1f29e": {
          "model_module": "@jupyter-widgets/controls",
          "model_name": "FloatProgressModel",
          "state": {
            "_view_name": "ProgressView",
            "style": "IPY_MODEL_cbadb104de344ca38e707ca9150d4c82",
            "_dom_classes": [],
            "description": "100%",
            "_model_name": "FloatProgressModel",
            "bar_style": "success",
            "max": 100,
            "_view_module": "@jupyter-widgets/controls",
            "_model_module_version": "1.5.0",
            "value": 100,
            "_view_count": null,
            "_view_module_version": "1.5.0",
            "orientation": "horizontal",
            "min": 0,
            "description_tooltip": null,
            "_model_module": "@jupyter-widgets/controls",
            "layout": "IPY_MODEL_8baa68918fa1412ea016aff69bcfe582"
          }
        },
        "3eb051357d5e4332b08ddf38f5b0fe72": {
          "model_module": "@jupyter-widgets/controls",
          "model_name": "HTMLModel",
          "state": {
            "_view_name": "HTMLView",
            "style": "IPY_MODEL_da3d328f1e6f4b079a4cc1fb08031b16",
            "_dom_classes": [],
            "description": "",
            "_model_name": "HTMLModel",
            "placeholder": "​",
            "_view_module": "@jupyter-widgets/controls",
            "_model_module_version": "1.5.0",
            "value": " 100/100 [00:05&lt;00:00, 19.75it/s, correct=56.42%, skipped=0.10%]",
            "_view_count": null,
            "_view_module_version": "1.5.0",
            "description_tooltip": null,
            "_model_module": "@jupyter-widgets/controls",
            "layout": "IPY_MODEL_95a9ebe77ae6450692b8f8b406a4a5bb"
          }
        },
        "cbadb104de344ca38e707ca9150d4c82": {
          "model_module": "@jupyter-widgets/controls",
          "model_name": "ProgressStyleModel",
          "state": {
            "_view_name": "StyleView",
            "_model_name": "ProgressStyleModel",
            "description_width": "initial",
            "_view_module": "@jupyter-widgets/base",
            "_model_module_version": "1.5.0",
            "_view_count": null,
            "_view_module_version": "1.2.0",
            "bar_color": null,
            "_model_module": "@jupyter-widgets/controls"
          }
        },
        "8baa68918fa1412ea016aff69bcfe582": {
          "model_module": "@jupyter-widgets/base",
          "model_name": "LayoutModel",
          "state": {
            "_view_name": "LayoutView",
            "grid_template_rows": null,
            "right": null,
            "justify_content": null,
            "_view_module": "@jupyter-widgets/base",
            "overflow": null,
            "_model_module_version": "1.2.0",
            "_view_count": null,
            "flex_flow": null,
            "width": null,
            "min_width": null,
            "border": null,
            "align_items": null,
            "bottom": null,
            "_model_module": "@jupyter-widgets/base",
            "top": null,
            "grid_column": null,
            "overflow_y": null,
            "overflow_x": null,
            "grid_auto_flow": null,
            "grid_area": null,
            "grid_template_columns": null,
            "flex": null,
            "_model_name": "LayoutModel",
            "justify_items": null,
            "grid_row": null,
            "max_height": null,
            "align_content": null,
            "visibility": null,
            "align_self": null,
            "height": null,
            "min_height": null,
            "padding": null,
            "grid_auto_rows": null,
            "grid_gap": null,
            "max_width": null,
            "order": null,
            "_view_module_version": "1.2.0",
            "grid_template_areas": null,
            "object_position": null,
            "object_fit": null,
            "grid_auto_columns": null,
            "margin": null,
            "display": null,
            "left": null
          }
        },
        "da3d328f1e6f4b079a4cc1fb08031b16": {
          "model_module": "@jupyter-widgets/controls",
          "model_name": "DescriptionStyleModel",
          "state": {
            "_view_name": "StyleView",
            "_model_name": "DescriptionStyleModel",
            "description_width": "",
            "_view_module": "@jupyter-widgets/base",
            "_model_module_version": "1.5.0",
            "_view_count": null,
            "_view_module_version": "1.2.0",
            "_model_module": "@jupyter-widgets/controls"
          }
        },
        "95a9ebe77ae6450692b8f8b406a4a5bb": {
          "model_module": "@jupyter-widgets/base",
          "model_name": "LayoutModel",
          "state": {
            "_view_name": "LayoutView",
            "grid_template_rows": null,
            "right": null,
            "justify_content": null,
            "_view_module": "@jupyter-widgets/base",
            "overflow": null,
            "_model_module_version": "1.2.0",
            "_view_count": null,
            "flex_flow": null,
            "width": null,
            "min_width": null,
            "border": null,
            "align_items": null,
            "bottom": null,
            "_model_module": "@jupyter-widgets/base",
            "top": null,
            "grid_column": null,
            "overflow_y": null,
            "overflow_x": null,
            "grid_auto_flow": null,
            "grid_area": null,
            "grid_template_columns": null,
            "flex": null,
            "_model_name": "LayoutModel",
            "justify_items": null,
            "grid_row": null,
            "max_height": null,
            "align_content": null,
            "visibility": null,
            "align_self": null,
            "height": null,
            "min_height": null,
            "padding": null,
            "grid_auto_rows": null,
            "grid_gap": null,
            "max_width": null,
            "order": null,
            "_view_module_version": "1.2.0",
            "grid_template_areas": null,
            "object_position": null,
            "object_fit": null,
            "grid_auto_columns": null,
            "margin": null,
            "display": null,
            "left": null
          }
        },
        "fa818f6f275648779ea44cabefc8fb6b": {
          "model_module": "@jupyter-widgets/controls",
          "model_name": "HBoxModel",
          "state": {
            "_view_name": "HBoxView",
            "_dom_classes": [],
            "_model_name": "HBoxModel",
            "_view_module": "@jupyter-widgets/controls",
            "_model_module_version": "1.5.0",
            "_view_count": null,
            "_view_module_version": "1.5.0",
            "box_style": "",
            "layout": "IPY_MODEL_426907c901c046bf8649b8b9245ee834",
            "_model_module": "@jupyter-widgets/controls",
            "children": [
              "IPY_MODEL_7c4975e650e44daeb2c99a49c5f00958",
              "IPY_MODEL_81e19d868ac64823a74f1d9382482530"
            ]
          }
        },
        "426907c901c046bf8649b8b9245ee834": {
          "model_module": "@jupyter-widgets/base",
          "model_name": "LayoutModel",
          "state": {
            "_view_name": "LayoutView",
            "grid_template_rows": null,
            "right": null,
            "justify_content": null,
            "_view_module": "@jupyter-widgets/base",
            "overflow": null,
            "_model_module_version": "1.2.0",
            "_view_count": null,
            "flex_flow": null,
            "width": null,
            "min_width": null,
            "border": null,
            "align_items": null,
            "bottom": null,
            "_model_module": "@jupyter-widgets/base",
            "top": null,
            "grid_column": null,
            "overflow_y": null,
            "overflow_x": null,
            "grid_auto_flow": null,
            "grid_area": null,
            "grid_template_columns": null,
            "flex": null,
            "_model_name": "LayoutModel",
            "justify_items": null,
            "grid_row": null,
            "max_height": null,
            "align_content": null,
            "visibility": null,
            "align_self": null,
            "height": null,
            "min_height": null,
            "padding": null,
            "grid_auto_rows": null,
            "grid_gap": null,
            "max_width": null,
            "order": null,
            "_view_module_version": "1.2.0",
            "grid_template_areas": null,
            "object_position": null,
            "object_fit": null,
            "grid_auto_columns": null,
            "margin": null,
            "display": null,
            "left": null
          }
        },
        "7c4975e650e44daeb2c99a49c5f00958": {
          "model_module": "@jupyter-widgets/controls",
          "model_name": "FloatProgressModel",
          "state": {
            "_view_name": "ProgressView",
            "style": "IPY_MODEL_007f409680ee423d9399cb88312b1401",
            "_dom_classes": [],
            "description": "100%",
            "_model_name": "FloatProgressModel",
            "bar_style": "success",
            "max": 100,
            "_view_module": "@jupyter-widgets/controls",
            "_model_module_version": "1.5.0",
            "value": 100,
            "_view_count": null,
            "_view_module_version": "1.5.0",
            "orientation": "horizontal",
            "min": 0,
            "description_tooltip": null,
            "_model_module": "@jupyter-widgets/controls",
            "layout": "IPY_MODEL_3fc6ea3990fe45769230ccd44fc87282"
          }
        },
        "81e19d868ac64823a74f1d9382482530": {
          "model_module": "@jupyter-widgets/controls",
          "model_name": "HTMLModel",
          "state": {
            "_view_name": "HTMLView",
            "style": "IPY_MODEL_4c4f489aaa6b4dbca2f42167310ca4c0",
            "_dom_classes": [],
            "description": "",
            "_model_name": "HTMLModel",
            "placeholder": "​",
            "_view_module": "@jupyter-widgets/controls",
            "_model_module_version": "1.5.0",
            "value": " 100/100 [00:53&lt;00:00,  1.86it/s, correct=56.40%, skipped=0.07%]",
            "_view_count": null,
            "_view_module_version": "1.5.0",
            "description_tooltip": null,
            "_model_module": "@jupyter-widgets/controls",
            "layout": "IPY_MODEL_764511453af346bdb2bc65337843e7a0"
          }
        },
        "007f409680ee423d9399cb88312b1401": {
          "model_module": "@jupyter-widgets/controls",
          "model_name": "ProgressStyleModel",
          "state": {
            "_view_name": "StyleView",
            "_model_name": "ProgressStyleModel",
            "description_width": "initial",
            "_view_module": "@jupyter-widgets/base",
            "_model_module_version": "1.5.0",
            "_view_count": null,
            "_view_module_version": "1.2.0",
            "bar_color": null,
            "_model_module": "@jupyter-widgets/controls"
          }
        },
        "3fc6ea3990fe45769230ccd44fc87282": {
          "model_module": "@jupyter-widgets/base",
          "model_name": "LayoutModel",
          "state": {
            "_view_name": "LayoutView",
            "grid_template_rows": null,
            "right": null,
            "justify_content": null,
            "_view_module": "@jupyter-widgets/base",
            "overflow": null,
            "_model_module_version": "1.2.0",
            "_view_count": null,
            "flex_flow": null,
            "width": null,
            "min_width": null,
            "border": null,
            "align_items": null,
            "bottom": null,
            "_model_module": "@jupyter-widgets/base",
            "top": null,
            "grid_column": null,
            "overflow_y": null,
            "overflow_x": null,
            "grid_auto_flow": null,
            "grid_area": null,
            "grid_template_columns": null,
            "flex": null,
            "_model_name": "LayoutModel",
            "justify_items": null,
            "grid_row": null,
            "max_height": null,
            "align_content": null,
            "visibility": null,
            "align_self": null,
            "height": null,
            "min_height": null,
            "padding": null,
            "grid_auto_rows": null,
            "grid_gap": null,
            "max_width": null,
            "order": null,
            "_view_module_version": "1.2.0",
            "grid_template_areas": null,
            "object_position": null,
            "object_fit": null,
            "grid_auto_columns": null,
            "margin": null,
            "display": null,
            "left": null
          }
        },
        "4c4f489aaa6b4dbca2f42167310ca4c0": {
          "model_module": "@jupyter-widgets/controls",
          "model_name": "DescriptionStyleModel",
          "state": {
            "_view_name": "StyleView",
            "_model_name": "DescriptionStyleModel",
            "description_width": "",
            "_view_module": "@jupyter-widgets/base",
            "_model_module_version": "1.5.0",
            "_view_count": null,
            "_view_module_version": "1.2.0",
            "_model_module": "@jupyter-widgets/controls"
          }
        },
        "764511453af346bdb2bc65337843e7a0": {
          "model_module": "@jupyter-widgets/base",
          "model_name": "LayoutModel",
          "state": {
            "_view_name": "LayoutView",
            "grid_template_rows": null,
            "right": null,
            "justify_content": null,
            "_view_module": "@jupyter-widgets/base",
            "overflow": null,
            "_model_module_version": "1.2.0",
            "_view_count": null,
            "flex_flow": null,
            "width": null,
            "min_width": null,
            "border": null,
            "align_items": null,
            "bottom": null,
            "_model_module": "@jupyter-widgets/base",
            "top": null,
            "grid_column": null,
            "overflow_y": null,
            "overflow_x": null,
            "grid_auto_flow": null,
            "grid_area": null,
            "grid_template_columns": null,
            "flex": null,
            "_model_name": "LayoutModel",
            "justify_items": null,
            "grid_row": null,
            "max_height": null,
            "align_content": null,
            "visibility": null,
            "align_self": null,
            "height": null,
            "min_height": null,
            "padding": null,
            "grid_auto_rows": null,
            "grid_gap": null,
            "max_width": null,
            "order": null,
            "_view_module_version": "1.2.0",
            "grid_template_areas": null,
            "object_position": null,
            "object_fit": null,
            "grid_auto_columns": null,
            "margin": null,
            "display": null,
            "left": null
          }
        },
        "357b9d4c14ed4ddb8199317128c1d6e6": {
          "model_module": "@jupyter-widgets/controls",
          "model_name": "HBoxModel",
          "state": {
            "_view_name": "HBoxView",
            "_dom_classes": [],
            "_model_name": "HBoxModel",
            "_view_module": "@jupyter-widgets/controls",
            "_model_module_version": "1.5.0",
            "_view_count": null,
            "_view_module_version": "1.5.0",
            "box_style": "",
            "layout": "IPY_MODEL_0e3b945c6abc44c7b7c148222222e02d",
            "_model_module": "@jupyter-widgets/controls",
            "children": [
              "IPY_MODEL_034c514c1afd4413b42f4ee92582fb11",
              "IPY_MODEL_81e863c1e39d4cb2a8b0d848c2bbe05f"
            ]
          }
        },
        "0e3b945c6abc44c7b7c148222222e02d": {
          "model_module": "@jupyter-widgets/base",
          "model_name": "LayoutModel",
          "state": {
            "_view_name": "LayoutView",
            "grid_template_rows": null,
            "right": null,
            "justify_content": null,
            "_view_module": "@jupyter-widgets/base",
            "overflow": null,
            "_model_module_version": "1.2.0",
            "_view_count": null,
            "flex_flow": null,
            "width": null,
            "min_width": null,
            "border": null,
            "align_items": null,
            "bottom": null,
            "_model_module": "@jupyter-widgets/base",
            "top": null,
            "grid_column": null,
            "overflow_y": null,
            "overflow_x": null,
            "grid_auto_flow": null,
            "grid_area": null,
            "grid_template_columns": null,
            "flex": null,
            "_model_name": "LayoutModel",
            "justify_items": null,
            "grid_row": null,
            "max_height": null,
            "align_content": null,
            "visibility": null,
            "align_self": null,
            "height": null,
            "min_height": null,
            "padding": null,
            "grid_auto_rows": null,
            "grid_gap": null,
            "max_width": null,
            "order": null,
            "_view_module_version": "1.2.0",
            "grid_template_areas": null,
            "object_position": null,
            "object_fit": null,
            "grid_auto_columns": null,
            "margin": null,
            "display": null,
            "left": null
          }
        },
        "034c514c1afd4413b42f4ee92582fb11": {
          "model_module": "@jupyter-widgets/controls",
          "model_name": "FloatProgressModel",
          "state": {
            "_view_name": "ProgressView",
            "style": "IPY_MODEL_3dda311cf14f4892a8812983b12e5cf9",
            "_dom_classes": [],
            "description": "100%",
            "_model_name": "FloatProgressModel",
            "bar_style": "success",
            "max": 100,
            "_view_module": "@jupyter-widgets/controls",
            "_model_module_version": "1.5.0",
            "value": 100,
            "_view_count": null,
            "_view_module_version": "1.5.0",
            "orientation": "horizontal",
            "min": 0,
            "description_tooltip": null,
            "_model_module": "@jupyter-widgets/controls",
            "layout": "IPY_MODEL_1880be4ed5a8471fa6fd703086054208"
          }
        },
        "81e863c1e39d4cb2a8b0d848c2bbe05f": {
          "model_module": "@jupyter-widgets/controls",
          "model_name": "HTMLModel",
          "state": {
            "_view_name": "HTMLView",
            "style": "IPY_MODEL_87a4c0b082f144b18c0e8d19b60adff8",
            "_dom_classes": [],
            "description": "",
            "_model_name": "HTMLModel",
            "placeholder": "​",
            "_view_module": "@jupyter-widgets/controls",
            "_model_module_version": "1.5.0",
            "value": " 100/100 [00:09&lt;00:00, 10.10it/s, correct=100.00%, skipped=0.09%]",
            "_view_count": null,
            "_view_module_version": "1.5.0",
            "description_tooltip": null,
            "_model_module": "@jupyter-widgets/controls",
            "layout": "IPY_MODEL_ed5a9b05bdee4f869e495a4251e54692"
          }
        },
        "3dda311cf14f4892a8812983b12e5cf9": {
          "model_module": "@jupyter-widgets/controls",
          "model_name": "ProgressStyleModel",
          "state": {
            "_view_name": "StyleView",
            "_model_name": "ProgressStyleModel",
            "description_width": "initial",
            "_view_module": "@jupyter-widgets/base",
            "_model_module_version": "1.5.0",
            "_view_count": null,
            "_view_module_version": "1.2.0",
            "bar_color": null,
            "_model_module": "@jupyter-widgets/controls"
          }
        },
        "1880be4ed5a8471fa6fd703086054208": {
          "model_module": "@jupyter-widgets/base",
          "model_name": "LayoutModel",
          "state": {
            "_view_name": "LayoutView",
            "grid_template_rows": null,
            "right": null,
            "justify_content": null,
            "_view_module": "@jupyter-widgets/base",
            "overflow": null,
            "_model_module_version": "1.2.0",
            "_view_count": null,
            "flex_flow": null,
            "width": null,
            "min_width": null,
            "border": null,
            "align_items": null,
            "bottom": null,
            "_model_module": "@jupyter-widgets/base",
            "top": null,
            "grid_column": null,
            "overflow_y": null,
            "overflow_x": null,
            "grid_auto_flow": null,
            "grid_area": null,
            "grid_template_columns": null,
            "flex": null,
            "_model_name": "LayoutModel",
            "justify_items": null,
            "grid_row": null,
            "max_height": null,
            "align_content": null,
            "visibility": null,
            "align_self": null,
            "height": null,
            "min_height": null,
            "padding": null,
            "grid_auto_rows": null,
            "grid_gap": null,
            "max_width": null,
            "order": null,
            "_view_module_version": "1.2.0",
            "grid_template_areas": null,
            "object_position": null,
            "object_fit": null,
            "grid_auto_columns": null,
            "margin": null,
            "display": null,
            "left": null
          }
        },
        "87a4c0b082f144b18c0e8d19b60adff8": {
          "model_module": "@jupyter-widgets/controls",
          "model_name": "DescriptionStyleModel",
          "state": {
            "_view_name": "StyleView",
            "_model_name": "DescriptionStyleModel",
            "description_width": "",
            "_view_module": "@jupyter-widgets/base",
            "_model_module_version": "1.5.0",
            "_view_count": null,
            "_view_module_version": "1.2.0",
            "_model_module": "@jupyter-widgets/controls"
          }
        },
        "ed5a9b05bdee4f869e495a4251e54692": {
          "model_module": "@jupyter-widgets/base",
          "model_name": "LayoutModel",
          "state": {
            "_view_name": "LayoutView",
            "grid_template_rows": null,
            "right": null,
            "justify_content": null,
            "_view_module": "@jupyter-widgets/base",
            "overflow": null,
            "_model_module_version": "1.2.0",
            "_view_count": null,
            "flex_flow": null,
            "width": null,
            "min_width": null,
            "border": null,
            "align_items": null,
            "bottom": null,
            "_model_module": "@jupyter-widgets/base",
            "top": null,
            "grid_column": null,
            "overflow_y": null,
            "overflow_x": null,
            "grid_auto_flow": null,
            "grid_area": null,
            "grid_template_columns": null,
            "flex": null,
            "_model_name": "LayoutModel",
            "justify_items": null,
            "grid_row": null,
            "max_height": null,
            "align_content": null,
            "visibility": null,
            "align_self": null,
            "height": null,
            "min_height": null,
            "padding": null,
            "grid_auto_rows": null,
            "grid_gap": null,
            "max_width": null,
            "order": null,
            "_view_module_version": "1.2.0",
            "grid_template_areas": null,
            "object_position": null,
            "object_fit": null,
            "grid_auto_columns": null,
            "margin": null,
            "display": null,
            "left": null
          }
        },
        "a0ef217efe6541d3900ef6af3bf59f23": {
          "model_module": "@jupyter-widgets/controls",
          "model_name": "HBoxModel",
          "state": {
            "_view_name": "HBoxView",
            "_dom_classes": [],
            "_model_name": "HBoxModel",
            "_view_module": "@jupyter-widgets/controls",
            "_model_module_version": "1.5.0",
            "_view_count": null,
            "_view_module_version": "1.5.0",
            "box_style": "",
            "layout": "IPY_MODEL_94936aac61e747c7b9537e2baa2c62b9",
            "_model_module": "@jupyter-widgets/controls",
            "children": [
              "IPY_MODEL_10f3a7edef4a4fbc9587b8e824f368bc",
              "IPY_MODEL_00b252c83e874b42a8d8c4d2a6984da7"
            ]
          }
        },
        "94936aac61e747c7b9537e2baa2c62b9": {
          "model_module": "@jupyter-widgets/base",
          "model_name": "LayoutModel",
          "state": {
            "_view_name": "LayoutView",
            "grid_template_rows": null,
            "right": null,
            "justify_content": null,
            "_view_module": "@jupyter-widgets/base",
            "overflow": null,
            "_model_module_version": "1.2.0",
            "_view_count": null,
            "flex_flow": null,
            "width": null,
            "min_width": null,
            "border": null,
            "align_items": null,
            "bottom": null,
            "_model_module": "@jupyter-widgets/base",
            "top": null,
            "grid_column": null,
            "overflow_y": null,
            "overflow_x": null,
            "grid_auto_flow": null,
            "grid_area": null,
            "grid_template_columns": null,
            "flex": null,
            "_model_name": "LayoutModel",
            "justify_items": null,
            "grid_row": null,
            "max_height": null,
            "align_content": null,
            "visibility": null,
            "align_self": null,
            "height": null,
            "min_height": null,
            "padding": null,
            "grid_auto_rows": null,
            "grid_gap": null,
            "max_width": null,
            "order": null,
            "_view_module_version": "1.2.0",
            "grid_template_areas": null,
            "object_position": null,
            "object_fit": null,
            "grid_auto_columns": null,
            "margin": null,
            "display": null,
            "left": null
          }
        },
        "10f3a7edef4a4fbc9587b8e824f368bc": {
          "model_module": "@jupyter-widgets/controls",
          "model_name": "FloatProgressModel",
          "state": {
            "_view_name": "ProgressView",
            "style": "IPY_MODEL_b79f0d307f8b4e63b1b3aafc4553e4f6",
            "_dom_classes": [],
            "description": "100%",
            "_model_name": "FloatProgressModel",
            "bar_style": "success",
            "max": 100,
            "_view_module": "@jupyter-widgets/controls",
            "_model_module_version": "1.5.0",
            "value": 100,
            "_view_count": null,
            "_view_module_version": "1.5.0",
            "orientation": "horizontal",
            "min": 0,
            "description_tooltip": null,
            "_model_module": "@jupyter-widgets/controls",
            "layout": "IPY_MODEL_0eca295f8ea642e099fcd94c5f9a82e8"
          }
        },
        "00b252c83e874b42a8d8c4d2a6984da7": {
          "model_module": "@jupyter-widgets/controls",
          "model_name": "HTMLModel",
          "state": {
            "_view_name": "HTMLView",
            "style": "IPY_MODEL_7b34f779dc584d5385f2c8c0ab224d67",
            "_dom_classes": [],
            "description": "",
            "_model_name": "HTMLModel",
            "placeholder": "​",
            "_view_module": "@jupyter-widgets/controls",
            "_model_module_version": "1.5.0",
            "value": " 100/100 [00:04&lt;00:00, 20.14it/s, correct=100.00%, skipped=0.07%]",
            "_view_count": null,
            "_view_module_version": "1.5.0",
            "description_tooltip": null,
            "_model_module": "@jupyter-widgets/controls",
            "layout": "IPY_MODEL_0391be94bbf54660b2b13f7558c10465"
          }
        },
        "b79f0d307f8b4e63b1b3aafc4553e4f6": {
          "model_module": "@jupyter-widgets/controls",
          "model_name": "ProgressStyleModel",
          "state": {
            "_view_name": "StyleView",
            "_model_name": "ProgressStyleModel",
            "description_width": "initial",
            "_view_module": "@jupyter-widgets/base",
            "_model_module_version": "1.5.0",
            "_view_count": null,
            "_view_module_version": "1.2.0",
            "bar_color": null,
            "_model_module": "@jupyter-widgets/controls"
          }
        },
        "0eca295f8ea642e099fcd94c5f9a82e8": {
          "model_module": "@jupyter-widgets/base",
          "model_name": "LayoutModel",
          "state": {
            "_view_name": "LayoutView",
            "grid_template_rows": null,
            "right": null,
            "justify_content": null,
            "_view_module": "@jupyter-widgets/base",
            "overflow": null,
            "_model_module_version": "1.2.0",
            "_view_count": null,
            "flex_flow": null,
            "width": null,
            "min_width": null,
            "border": null,
            "align_items": null,
            "bottom": null,
            "_model_module": "@jupyter-widgets/base",
            "top": null,
            "grid_column": null,
            "overflow_y": null,
            "overflow_x": null,
            "grid_auto_flow": null,
            "grid_area": null,
            "grid_template_columns": null,
            "flex": null,
            "_model_name": "LayoutModel",
            "justify_items": null,
            "grid_row": null,
            "max_height": null,
            "align_content": null,
            "visibility": null,
            "align_self": null,
            "height": null,
            "min_height": null,
            "padding": null,
            "grid_auto_rows": null,
            "grid_gap": null,
            "max_width": null,
            "order": null,
            "_view_module_version": "1.2.0",
            "grid_template_areas": null,
            "object_position": null,
            "object_fit": null,
            "grid_auto_columns": null,
            "margin": null,
            "display": null,
            "left": null
          }
        },
        "7b34f779dc584d5385f2c8c0ab224d67": {
          "model_module": "@jupyter-widgets/controls",
          "model_name": "DescriptionStyleModel",
          "state": {
            "_view_name": "StyleView",
            "_model_name": "DescriptionStyleModel",
            "description_width": "",
            "_view_module": "@jupyter-widgets/base",
            "_model_module_version": "1.5.0",
            "_view_count": null,
            "_view_module_version": "1.2.0",
            "_model_module": "@jupyter-widgets/controls"
          }
        },
        "0391be94bbf54660b2b13f7558c10465": {
          "model_module": "@jupyter-widgets/base",
          "model_name": "LayoutModel",
          "state": {
            "_view_name": "LayoutView",
            "grid_template_rows": null,
            "right": null,
            "justify_content": null,
            "_view_module": "@jupyter-widgets/base",
            "overflow": null,
            "_model_module_version": "1.2.0",
            "_view_count": null,
            "flex_flow": null,
            "width": null,
            "min_width": null,
            "border": null,
            "align_items": null,
            "bottom": null,
            "_model_module": "@jupyter-widgets/base",
            "top": null,
            "grid_column": null,
            "overflow_y": null,
            "overflow_x": null,
            "grid_auto_flow": null,
            "grid_area": null,
            "grid_template_columns": null,
            "flex": null,
            "_model_name": "LayoutModel",
            "justify_items": null,
            "grid_row": null,
            "max_height": null,
            "align_content": null,
            "visibility": null,
            "align_self": null,
            "height": null,
            "min_height": null,
            "padding": null,
            "grid_auto_rows": null,
            "grid_gap": null,
            "max_width": null,
            "order": null,
            "_view_module_version": "1.2.0",
            "grid_template_areas": null,
            "object_position": null,
            "object_fit": null,
            "grid_auto_columns": null,
            "margin": null,
            "display": null,
            "left": null
          }
        },
        "4348139c45ba4ae8b58814c42c48238d": {
          "model_module": "@jupyter-widgets/controls",
          "model_name": "HBoxModel",
          "state": {
            "_view_name": "HBoxView",
            "_dom_classes": [],
            "_model_name": "HBoxModel",
            "_view_module": "@jupyter-widgets/controls",
            "_model_module_version": "1.5.0",
            "_view_count": null,
            "_view_module_version": "1.5.0",
            "box_style": "",
            "layout": "IPY_MODEL_647eee250d974de89adf645626a3373e",
            "_model_module": "@jupyter-widgets/controls",
            "children": [
              "IPY_MODEL_550da55975d142438e28d15b28b908fb",
              "IPY_MODEL_947a4aa065dd48d08ab72eecaa60c09d"
            ]
          }
        },
        "647eee250d974de89adf645626a3373e": {
          "model_module": "@jupyter-widgets/base",
          "model_name": "LayoutModel",
          "state": {
            "_view_name": "LayoutView",
            "grid_template_rows": null,
            "right": null,
            "justify_content": null,
            "_view_module": "@jupyter-widgets/base",
            "overflow": null,
            "_model_module_version": "1.2.0",
            "_view_count": null,
            "flex_flow": null,
            "width": null,
            "min_width": null,
            "border": null,
            "align_items": null,
            "bottom": null,
            "_model_module": "@jupyter-widgets/base",
            "top": null,
            "grid_column": null,
            "overflow_y": null,
            "overflow_x": null,
            "grid_auto_flow": null,
            "grid_area": null,
            "grid_template_columns": null,
            "flex": null,
            "_model_name": "LayoutModel",
            "justify_items": null,
            "grid_row": null,
            "max_height": null,
            "align_content": null,
            "visibility": null,
            "align_self": null,
            "height": null,
            "min_height": null,
            "padding": null,
            "grid_auto_rows": null,
            "grid_gap": null,
            "max_width": null,
            "order": null,
            "_view_module_version": "1.2.0",
            "grid_template_areas": null,
            "object_position": null,
            "object_fit": null,
            "grid_auto_columns": null,
            "margin": null,
            "display": null,
            "left": null
          }
        },
        "550da55975d142438e28d15b28b908fb": {
          "model_module": "@jupyter-widgets/controls",
          "model_name": "FloatProgressModel",
          "state": {
            "_view_name": "ProgressView",
            "style": "IPY_MODEL_4b5457b251cc4a84bcc4770139e4ae1e",
            "_dom_classes": [],
            "description": "100%",
            "_model_name": "FloatProgressModel",
            "bar_style": "success",
            "max": 100,
            "_view_module": "@jupyter-widgets/controls",
            "_model_module_version": "1.5.0",
            "value": 100,
            "_view_count": null,
            "_view_module_version": "1.5.0",
            "orientation": "horizontal",
            "min": 0,
            "description_tooltip": null,
            "_model_module": "@jupyter-widgets/controls",
            "layout": "IPY_MODEL_efabf32cc3764222aa6a065d37e6fc7d"
          }
        },
        "947a4aa065dd48d08ab72eecaa60c09d": {
          "model_module": "@jupyter-widgets/controls",
          "model_name": "HTMLModel",
          "state": {
            "_view_name": "HTMLView",
            "style": "IPY_MODEL_5a72f979a9b949c1ade66e5bc74df255",
            "_dom_classes": [],
            "description": "",
            "_model_name": "HTMLModel",
            "placeholder": "​",
            "_view_module": "@jupyter-widgets/controls",
            "_model_module_version": "1.5.0",
            "value": " 100/100 [00:38&lt;00:00,  2.58it/s, correct=100.00%, skipped=0.11%]",
            "_view_count": null,
            "_view_module_version": "1.5.0",
            "description_tooltip": null,
            "_model_module": "@jupyter-widgets/controls",
            "layout": "IPY_MODEL_0707ea7cde8f4bb4863b0505bc00831d"
          }
        },
        "4b5457b251cc4a84bcc4770139e4ae1e": {
          "model_module": "@jupyter-widgets/controls",
          "model_name": "ProgressStyleModel",
          "state": {
            "_view_name": "StyleView",
            "_model_name": "ProgressStyleModel",
            "description_width": "initial",
            "_view_module": "@jupyter-widgets/base",
            "_model_module_version": "1.5.0",
            "_view_count": null,
            "_view_module_version": "1.2.0",
            "bar_color": null,
            "_model_module": "@jupyter-widgets/controls"
          }
        },
        "efabf32cc3764222aa6a065d37e6fc7d": {
          "model_module": "@jupyter-widgets/base",
          "model_name": "LayoutModel",
          "state": {
            "_view_name": "LayoutView",
            "grid_template_rows": null,
            "right": null,
            "justify_content": null,
            "_view_module": "@jupyter-widgets/base",
            "overflow": null,
            "_model_module_version": "1.2.0",
            "_view_count": null,
            "flex_flow": null,
            "width": null,
            "min_width": null,
            "border": null,
            "align_items": null,
            "bottom": null,
            "_model_module": "@jupyter-widgets/base",
            "top": null,
            "grid_column": null,
            "overflow_y": null,
            "overflow_x": null,
            "grid_auto_flow": null,
            "grid_area": null,
            "grid_template_columns": null,
            "flex": null,
            "_model_name": "LayoutModel",
            "justify_items": null,
            "grid_row": null,
            "max_height": null,
            "align_content": null,
            "visibility": null,
            "align_self": null,
            "height": null,
            "min_height": null,
            "padding": null,
            "grid_auto_rows": null,
            "grid_gap": null,
            "max_width": null,
            "order": null,
            "_view_module_version": "1.2.0",
            "grid_template_areas": null,
            "object_position": null,
            "object_fit": null,
            "grid_auto_columns": null,
            "margin": null,
            "display": null,
            "left": null
          }
        },
        "5a72f979a9b949c1ade66e5bc74df255": {
          "model_module": "@jupyter-widgets/controls",
          "model_name": "DescriptionStyleModel",
          "state": {
            "_view_name": "StyleView",
            "_model_name": "DescriptionStyleModel",
            "description_width": "",
            "_view_module": "@jupyter-widgets/base",
            "_model_module_version": "1.5.0",
            "_view_count": null,
            "_view_module_version": "1.2.0",
            "_model_module": "@jupyter-widgets/controls"
          }
        },
        "0707ea7cde8f4bb4863b0505bc00831d": {
          "model_module": "@jupyter-widgets/base",
          "model_name": "LayoutModel",
          "state": {
            "_view_name": "LayoutView",
            "grid_template_rows": null,
            "right": null,
            "justify_content": null,
            "_view_module": "@jupyter-widgets/base",
            "overflow": null,
            "_model_module_version": "1.2.0",
            "_view_count": null,
            "flex_flow": null,
            "width": null,
            "min_width": null,
            "border": null,
            "align_items": null,
            "bottom": null,
            "_model_module": "@jupyter-widgets/base",
            "top": null,
            "grid_column": null,
            "overflow_y": null,
            "overflow_x": null,
            "grid_auto_flow": null,
            "grid_area": null,
            "grid_template_columns": null,
            "flex": null,
            "_model_name": "LayoutModel",
            "justify_items": null,
            "grid_row": null,
            "max_height": null,
            "align_content": null,
            "visibility": null,
            "align_self": null,
            "height": null,
            "min_height": null,
            "padding": null,
            "grid_auto_rows": null,
            "grid_gap": null,
            "max_width": null,
            "order": null,
            "_view_module_version": "1.2.0",
            "grid_template_areas": null,
            "object_position": null,
            "object_fit": null,
            "grid_auto_columns": null,
            "margin": null,
            "display": null,
            "left": null
          }
        },
        "a9c9263280f249b18ccd3a8bcf76fcad": {
          "model_module": "@jupyter-widgets/controls",
          "model_name": "HBoxModel",
          "state": {
            "_view_name": "HBoxView",
            "_dom_classes": [],
            "_model_name": "HBoxModel",
            "_view_module": "@jupyter-widgets/controls",
            "_model_module_version": "1.5.0",
            "_view_count": null,
            "_view_module_version": "1.5.0",
            "box_style": "",
            "layout": "IPY_MODEL_31d30b85bd0b4432b32aecc8416de4c4",
            "_model_module": "@jupyter-widgets/controls",
            "children": [
              "IPY_MODEL_765c27267c3a4bf58c126c2981d9a8fa",
              "IPY_MODEL_ccfb439d540746e9b3d94a7a9e96b9b5"
            ]
          }
        },
        "31d30b85bd0b4432b32aecc8416de4c4": {
          "model_module": "@jupyter-widgets/base",
          "model_name": "LayoutModel",
          "state": {
            "_view_name": "LayoutView",
            "grid_template_rows": null,
            "right": null,
            "justify_content": null,
            "_view_module": "@jupyter-widgets/base",
            "overflow": null,
            "_model_module_version": "1.2.0",
            "_view_count": null,
            "flex_flow": null,
            "width": null,
            "min_width": null,
            "border": null,
            "align_items": null,
            "bottom": null,
            "_model_module": "@jupyter-widgets/base",
            "top": null,
            "grid_column": null,
            "overflow_y": null,
            "overflow_x": null,
            "grid_auto_flow": null,
            "grid_area": null,
            "grid_template_columns": null,
            "flex": null,
            "_model_name": "LayoutModel",
            "justify_items": null,
            "grid_row": null,
            "max_height": null,
            "align_content": null,
            "visibility": null,
            "align_self": null,
            "height": null,
            "min_height": null,
            "padding": null,
            "grid_auto_rows": null,
            "grid_gap": null,
            "max_width": null,
            "order": null,
            "_view_module_version": "1.2.0",
            "grid_template_areas": null,
            "object_position": null,
            "object_fit": null,
            "grid_auto_columns": null,
            "margin": null,
            "display": null,
            "left": null
          }
        },
        "765c27267c3a4bf58c126c2981d9a8fa": {
          "model_module": "@jupyter-widgets/controls",
          "model_name": "FloatProgressModel",
          "state": {
            "_view_name": "ProgressView",
            "style": "IPY_MODEL_6e4cdb9130344ac58b406f17e520b6aa",
            "_dom_classes": [],
            "description": "100%",
            "_model_name": "FloatProgressModel",
            "bar_style": "success",
            "max": 100,
            "_view_module": "@jupyter-widgets/controls",
            "_model_module_version": "1.5.0",
            "value": 100,
            "_view_count": null,
            "_view_module_version": "1.5.0",
            "orientation": "horizontal",
            "min": 0,
            "description_tooltip": null,
            "_model_module": "@jupyter-widgets/controls",
            "layout": "IPY_MODEL_b6aadec834004a5c9e0448d189023370"
          }
        },
        "ccfb439d540746e9b3d94a7a9e96b9b5": {
          "model_module": "@jupyter-widgets/controls",
          "model_name": "HTMLModel",
          "state": {
            "_view_name": "HTMLView",
            "style": "IPY_MODEL_fc8cf9de4e234a63b311fc60835b12db",
            "_dom_classes": [],
            "description": "",
            "_model_name": "HTMLModel",
            "placeholder": "​",
            "_view_module": "@jupyter-widgets/controls",
            "_model_module_version": "1.5.0",
            "value": " 100/100 [00:04&lt;00:00, 21.06it/s, correct=100.00%, skipped=0.10%]",
            "_view_count": null,
            "_view_module_version": "1.5.0",
            "description_tooltip": null,
            "_model_module": "@jupyter-widgets/controls",
            "layout": "IPY_MODEL_d1696e088938417e81e6e30c39278fbf"
          }
        },
        "6e4cdb9130344ac58b406f17e520b6aa": {
          "model_module": "@jupyter-widgets/controls",
          "model_name": "ProgressStyleModel",
          "state": {
            "_view_name": "StyleView",
            "_model_name": "ProgressStyleModel",
            "description_width": "initial",
            "_view_module": "@jupyter-widgets/base",
            "_model_module_version": "1.5.0",
            "_view_count": null,
            "_view_module_version": "1.2.0",
            "bar_color": null,
            "_model_module": "@jupyter-widgets/controls"
          }
        },
        "b6aadec834004a5c9e0448d189023370": {
          "model_module": "@jupyter-widgets/base",
          "model_name": "LayoutModel",
          "state": {
            "_view_name": "LayoutView",
            "grid_template_rows": null,
            "right": null,
            "justify_content": null,
            "_view_module": "@jupyter-widgets/base",
            "overflow": null,
            "_model_module_version": "1.2.0",
            "_view_count": null,
            "flex_flow": null,
            "width": null,
            "min_width": null,
            "border": null,
            "align_items": null,
            "bottom": null,
            "_model_module": "@jupyter-widgets/base",
            "top": null,
            "grid_column": null,
            "overflow_y": null,
            "overflow_x": null,
            "grid_auto_flow": null,
            "grid_area": null,
            "grid_template_columns": null,
            "flex": null,
            "_model_name": "LayoutModel",
            "justify_items": null,
            "grid_row": null,
            "max_height": null,
            "align_content": null,
            "visibility": null,
            "align_self": null,
            "height": null,
            "min_height": null,
            "padding": null,
            "grid_auto_rows": null,
            "grid_gap": null,
            "max_width": null,
            "order": null,
            "_view_module_version": "1.2.0",
            "grid_template_areas": null,
            "object_position": null,
            "object_fit": null,
            "grid_auto_columns": null,
            "margin": null,
            "display": null,
            "left": null
          }
        },
        "fc8cf9de4e234a63b311fc60835b12db": {
          "model_module": "@jupyter-widgets/controls",
          "model_name": "DescriptionStyleModel",
          "state": {
            "_view_name": "StyleView",
            "_model_name": "DescriptionStyleModel",
            "description_width": "",
            "_view_module": "@jupyter-widgets/base",
            "_model_module_version": "1.5.0",
            "_view_count": null,
            "_view_module_version": "1.2.0",
            "_model_module": "@jupyter-widgets/controls"
          }
        },
        "d1696e088938417e81e6e30c39278fbf": {
          "model_module": "@jupyter-widgets/base",
          "model_name": "LayoutModel",
          "state": {
            "_view_name": "LayoutView",
            "grid_template_rows": null,
            "right": null,
            "justify_content": null,
            "_view_module": "@jupyter-widgets/base",
            "overflow": null,
            "_model_module_version": "1.2.0",
            "_view_count": null,
            "flex_flow": null,
            "width": null,
            "min_width": null,
            "border": null,
            "align_items": null,
            "bottom": null,
            "_model_module": "@jupyter-widgets/base",
            "top": null,
            "grid_column": null,
            "overflow_y": null,
            "overflow_x": null,
            "grid_auto_flow": null,
            "grid_area": null,
            "grid_template_columns": null,
            "flex": null,
            "_model_name": "LayoutModel",
            "justify_items": null,
            "grid_row": null,
            "max_height": null,
            "align_content": null,
            "visibility": null,
            "align_self": null,
            "height": null,
            "min_height": null,
            "padding": null,
            "grid_auto_rows": null,
            "grid_gap": null,
            "max_width": null,
            "order": null,
            "_view_module_version": "1.2.0",
            "grid_template_areas": null,
            "object_position": null,
            "object_fit": null,
            "grid_auto_columns": null,
            "margin": null,
            "display": null,
            "left": null
          }
        }
      }
    }
  },
  "cells": [
    {
      "cell_type": "markdown",
      "metadata": {
        "id": "Q_ue9h2nZ5R_",
        "colab_type": "text"
      },
      "source": [
        "## Realizar el Acceso a Drive"
      ]
    },
    {
      "cell_type": "code",
      "metadata": {
        "id": "_XTmFr1vaPad",
        "colab_type": "code",
        "colab": {
          "base_uri": "https://localhost:8080/",
          "height": 34
        },
        "outputId": "5b8f3910-48b2-4a11-e369-a25513a7de7d"
      },
      "source": [
        "from google.colab import drive\n",
        "drive.mount('/content/drive')"
      ],
      "execution_count": null,
      "outputs": [
        {
          "output_type": "stream",
          "text": [
            "Mounted at /content/drive\n"
          ],
          "name": "stdout"
        }
      ]
    },
    {
      "cell_type": "markdown",
      "metadata": {
        "id": "Vd1mZ00I6Sxo",
        "colab_type": "text"
      },
      "source": [
        "# Instalación y Carga de Librerías para la actividad"
      ]
    },
    {
      "cell_type": "markdown",
      "metadata": {
        "id": "VjCtvJWnQfu1",
        "colab_type": "text"
      },
      "source": [
        "**Instalación de Implicit**"
      ]
    },
    {
      "cell_type": "code",
      "metadata": {
        "id": "fBjlHLMJYLB_",
        "colab_type": "code",
        "colab": {
          "base_uri": "https://localhost:8080/",
          "height": 258
        },
        "outputId": "5222444d-b46e-43e3-d1b4-6c51904f13f1"
      },
      "source": [
        "!pip3 install implicit --upgrade"
      ],
      "execution_count": null,
      "outputs": [
        {
          "output_type": "stream",
          "text": [
            "Collecting implicit\n",
            "\u001b[?25l  Downloading https://files.pythonhosted.org/packages/bc/07/c0121884722d16e2c5beeb815f6b84b41cbf22e738e4075f1475be2791bc/implicit-0.4.4.tar.gz (1.1MB)\n",
            "\u001b[K     |████████████████████████████████| 1.1MB 2.9MB/s \n",
            "\u001b[?25hRequirement already satisfied, skipping upgrade: numpy in /usr/local/lib/python3.6/dist-packages (from implicit) (1.18.5)\n",
            "Requirement already satisfied, skipping upgrade: scipy>=0.16 in /usr/local/lib/python3.6/dist-packages (from implicit) (1.4.1)\n",
            "Requirement already satisfied, skipping upgrade: tqdm>=4.27 in /usr/local/lib/python3.6/dist-packages (from implicit) (4.41.1)\n",
            "Building wheels for collected packages: implicit\n",
            "  Building wheel for implicit (setup.py) ... \u001b[?25l\u001b[?25hdone\n",
            "  Created wheel for implicit: filename=implicit-0.4.4-cp36-cp36m-linux_x86_64.whl size=3419442 sha256=cb337d77f4aca4dcaeb7b5e97781048656d246cbda94ceb35aeb95a8d48b7724\n",
            "  Stored in directory: /root/.cache/pip/wheels/bf/d4/ec/fd4f622fcbefb7521f149905295b2c26adecb23af38aa28217\n",
            "Successfully built implicit\n",
            "Installing collected packages: implicit\n",
            "Successfully installed implicit-0.4.4\n"
          ],
          "name": "stdout"
        }
      ]
    },
    {
      "cell_type": "markdown",
      "metadata": {
        "id": "g-YA1S3sQqDC",
        "colab_type": "text"
      },
      "source": [
        "**Carga de paqueteria necesaria**"
      ]
    },
    {
      "cell_type": "code",
      "metadata": {
        "id": "hSXLC-g8bMW1",
        "colab_type": "code",
        "colab": {
          "base_uri": "https://localhost:8080/",
          "height": 71
        },
        "outputId": "eed13ef2-9e3e-4ec1-a958-93441b9f0900"
      },
      "source": [
        "import csv\n",
        "import implicit\n",
        "import matplotlib.pyplot as plt\n",
        "import random\n",
        "import json\n",
        "#import tensorflow as tf\n",
        "import random, string\n",
        "import pickle\n",
        "import seaborn as sns\n",
        "from time import time #importamos la función time para capturar tiempos\n",
        "%matplotlib inline\n",
        "sns.set(style=\"whitegrid\")"
      ],
      "execution_count": null,
      "outputs": [
        {
          "output_type": "stream",
          "text": [
            "/usr/local/lib/python3.6/dist-packages/statsmodels/tools/_testing.py:19: FutureWarning: pandas.util.testing is deprecated. Use the functions in the public API at pandas.testing instead.\n",
            "  import pandas.util.testing as tm\n"
          ],
          "name": "stderr"
        }
      ]
    },
    {
      "cell_type": "code",
      "metadata": {
        "id": "ODG9YgyomEo4",
        "colab_type": "code",
        "colab": {}
      },
      "source": [
        "import scipy.sparse as sparse\n",
        "from scipy.sparse.linalg import spsolve\n",
        "OPENBLAS_NUM_THREADS=1"
      ],
      "execution_count": null,
      "outputs": []
    },
    {
      "cell_type": "code",
      "metadata": {
        "id": "YuO-4hzeC4ek",
        "colab_type": "code",
        "colab": {}
      },
      "source": [
        "import numpy as np\n",
        "import pandas as pd\n",
        "from math import ceil\n",
        "from tqdm import trange\n",
        "from subprocess import call\n",
        "from scipy.sparse import csr_matrix, dok_matrix"
      ],
      "execution_count": null,
      "outputs": []
    },
    {
      "cell_type": "code",
      "metadata": {
        "id": "BLPopuAkWSK1",
        "colab_type": "code",
        "colab": {}
      },
      "source": [
        "from time import time\n",
        "def count_elapsed_time(f):\n",
        "    \"\"\"\n",
        "    Decorator.\n",
        "    Execute the function and calculate the elapsed time.\n",
        "    Print the result to the standard output.\n",
        "    \"\"\"\n",
        "    def wrapper():\n",
        "        # Start counting.\n",
        "        start_time = time()\n",
        "        # Take the original function's return value.\n",
        "        ret = f()\n",
        "        # Calculate the elapsed time.\n",
        "        elapsed_time = time() - start_time\n",
        "        print(\"Elapsed time: %0.10f seconds.\" % elapsed_time)\n",
        "        return ret\n",
        "    \n",
        "    return wrapper"
      ],
      "execution_count": null,
      "outputs": []
    },
    {
      "cell_type": "markdown",
      "metadata": {
        "id": "4k-H8CjH73HG",
        "colab_type": "text"
      },
      "source": [
        "# **Resnet**"
      ]
    },
    {
      "cell_type": "markdown",
      "metadata": {
        "id": "gt5gQVNe78Bc",
        "colab_type": "text"
      },
      "source": [
        "## Carga de los embeddings Resnet50"
      ]
    },
    {
      "cell_type": "code",
      "metadata": {
        "id": "44gBoYp379jD",
        "colab_type": "code",
        "colab": {}
      },
      "source": [
        "df_item1=np.load('/content/drive/My Drive/Tarea_SR/data/resnet50_embeddings.npy', allow_pickle=True)"
      ],
      "execution_count": null,
      "outputs": []
    },
    {
      "cell_type": "code",
      "metadata": {
        "id": "x_LjQFFWFwhM",
        "colab_type": "code",
        "colab": {
          "base_uri": "https://localhost:8080/",
          "height": 340
        },
        "outputId": "87b8aa7e-76ba-473d-e6c1-5304da5aaf02"
      },
      "source": [
        "print(df_item1)"
      ],
      "execution_count": null,
      "outputs": [
        {
          "output_type": "stream",
          "text": [
            "[['b603f445fc6f72d89b7dcba38fbb3a72'\n",
            "  array([0.37427816, 1.0223378 , 0.05951078, ..., 0.18718696, 0.512178  ,\n",
            "       0.19899085], dtype=float32)]\n",
            " ['a5c93f071a28ef5b7503218835106266'\n",
            "  array([0.1860372 , 0.6666795 , 0.28292888, ..., 0.46189007, 1.3665308 ,\n",
            "       0.1318419 ], dtype=float32)]\n",
            " ['910df50522b97ee5661bc75b5e997226'\n",
            "  array([0.15570807, 0.5350622 , 1.4801795 , ..., 0.10824655, 0.2820762 ,\n",
            "       0.4309257 ], dtype=float32)]\n",
            " ...\n",
            " ['ca7f333886e56a1a95f775bbbeb14a74'\n",
            "  array([0.13141339, 2.2440066 , 0.13448334, ..., 0.5081015 , 0.31848136,\n",
            "       0.23972231], dtype=float32)]\n",
            " ['1e5b06bb1fdc96013251d007c96cec55'\n",
            "  array([2.1561399 , 1.3555701 , 1.2488506 , ..., 0.18485127, 0.63357466,\n",
            "       1.962909  ], dtype=float32)]\n",
            " ['212972e36e7059ee3d3dda65f3fb715c'\n",
            "  array([0.65191853, 0.354235  , 0.3253313 , ..., 0.12209289, 0.09699631,\n",
            "       0.516472  ], dtype=float32)]]\n"
          ],
          "name": "stdout"
        }
      ]
    },
    {
      "cell_type": "markdown",
      "metadata": {
        "id": "3ha-6ZxB8A_b",
        "colab_type": "text"
      },
      "source": [
        "## Selección embeddings"
      ]
    },
    {
      "cell_type": "code",
      "metadata": {
        "id": "wsUT9mtdZAiN",
        "colab_type": "code",
        "colab": {}
      },
      "source": [
        "df_itemEMbeddings=pd.DataFrame.from_records(df_item1, columns =['item_id', 'embedding']) "
      ],
      "execution_count": null,
      "outputs": []
    },
    {
      "cell_type": "code",
      "metadata": {
        "colab_type": "code",
        "id": "01a7IdEYJDMx",
        "colab": {
          "base_uri": "https://localhost:8080/",
          "height": 221
        },
        "outputId": "4d65d2c8-b39a-405e-a440-4b5fbabbc38d"
      },
      "source": [
        "print(df_itemEMbeddings.iloc[: , 1])\n",
        "prueba=df_itemEMbeddings.iloc[: , 1]"
      ],
      "execution_count": null,
      "outputs": [
        {
          "output_type": "stream",
          "text": [
            "0        [0.37427816, 1.0223378, 0.05951078, 0.53245056...\n",
            "1        [0.1860372, 0.6666795, 0.28292888, 0.6218527, ...\n",
            "2        [0.15570807, 0.5350622, 1.4801795, 0.16154194,...\n",
            "3        [0.060747527, 0.61796606, 0.42335093, 0.161621...\n",
            "4        [0.19465646, 0.29358056, 0.64005965, 0.2761311...\n",
            "                               ...                        \n",
            "71022    [0.014733706, 0.20050731, 0.040910818, 0.80886...\n",
            "71023    [0.16452798, 0.4965312, 0.19549541, 0.01773245...\n",
            "71024    [0.13141339, 2.2440066, 0.13448334, 0.06848573...\n",
            "71025    [2.1561399, 1.3555701, 1.2488506, 0.5615909, 0...\n",
            "71026    [0.65191853, 0.354235, 0.3253313, 0.18456644, ...\n",
            "Name: embedding, Length: 71027, dtype: object\n"
          ],
          "name": "stdout"
        }
      ]
    },
    {
      "cell_type": "markdown",
      "metadata": {
        "id": "KKZCoyGSvrhR",
        "colab_type": "text"
      },
      "source": [
        "# **Creacion de dataframe con los datos**"
      ]
    },
    {
      "cell_type": "markdown",
      "metadata": {
        "id": "yaQ8WLzN6kvo",
        "colab_type": "text"
      },
      "source": [
        "## Dataset para Entrenamiento y Testing"
      ]
    },
    {
      "cell_type": "code",
      "metadata": {
        "id": "8r0H1AdpBH6d",
        "colab_type": "code",
        "colab": {
          "base_uri": "https://localhost:8080/",
          "height": 51
        },
        "outputId": "e75161aa-cb81-4c2d-c92d-0cd1a3fc7d62"
      },
      "source": [
        "# Primero creamos el dataframe con los datos\n",
        "url = '/content/drive/My Drive/Tarea_SR/data/train1.csv'\n",
        "df = pd.read_csv(url  ,\n",
        "                         sep=',',\n",
        "                        index_col=None,\n",
        "                         names=['user_id', 'item_id', 'rating', 'timestamp'],\n",
        "                         header=0\n",
        "                  )\n",
        "\n",
        "print('data dimension: \\n', df.shape)\n",
        "#df.head()"
      ],
      "execution_count": null,
      "outputs": [
        {
          "output_type": "stream",
          "text": [
            "data dimension: \n",
            " (78023, 4)\n"
          ],
          "name": "stdout"
        }
      ]
    },
    {
      "cell_type": "code",
      "metadata": {
        "id": "NEdb0XqEB2G3",
        "colab_type": "code",
        "colab": {
          "base_uri": "https://localhost:8080/",
          "height": 204
        },
        "outputId": "243b2f17-01d2-4a1b-e6f5-a52788d04795"
      },
      "source": [
        "df.head()"
      ],
      "execution_count": null,
      "outputs": [
        {
          "output_type": "execute_result",
          "data": {
            "text/html": [
              "<div>\n",
              "<style scoped>\n",
              "    .dataframe tbody tr th:only-of-type {\n",
              "        vertical-align: middle;\n",
              "    }\n",
              "\n",
              "    .dataframe tbody tr th {\n",
              "        vertical-align: top;\n",
              "    }\n",
              "\n",
              "    .dataframe thead th {\n",
              "        text-align: right;\n",
              "    }\n",
              "</style>\n",
              "<table border=\"1\" class=\"dataframe\">\n",
              "  <thead>\n",
              "    <tr style=\"text-align: right;\">\n",
              "      <th></th>\n",
              "      <th>user_id</th>\n",
              "      <th>item_id</th>\n",
              "      <th>rating</th>\n",
              "      <th>timestamp</th>\n",
              "    </tr>\n",
              "  </thead>\n",
              "  <tbody>\n",
              "    <tr>\n",
              "      <th>0</th>\n",
              "      <td>0</td>\n",
              "      <td>e29e422c743a3d39a45c2bf777cc7091</td>\n",
              "      <td>1</td>\n",
              "      <td>1447833945</td>\n",
              "    </tr>\n",
              "    <tr>\n",
              "      <th>1</th>\n",
              "      <td>1</td>\n",
              "      <td>c0cefffdc4f2cb23c01fdd0257ffc82d</td>\n",
              "      <td>1</td>\n",
              "      <td>1447931155</td>\n",
              "    </tr>\n",
              "    <tr>\n",
              "      <th>2</th>\n",
              "      <td>2</td>\n",
              "      <td>77a5bb1f382cfa168f53e870bf7dc96b</td>\n",
              "      <td>1</td>\n",
              "      <td>1447867326</td>\n",
              "    </tr>\n",
              "    <tr>\n",
              "      <th>3</th>\n",
              "      <td>3</td>\n",
              "      <td>a0d92aa0cc44c61ac2c2592e6ed702d2</td>\n",
              "      <td>1</td>\n",
              "      <td>1447876751</td>\n",
              "    </tr>\n",
              "    <tr>\n",
              "      <th>4</th>\n",
              "      <td>4</td>\n",
              "      <td>664c68013188241c5ad641830e09c55f</td>\n",
              "      <td>1</td>\n",
              "      <td>1447890664</td>\n",
              "    </tr>\n",
              "  </tbody>\n",
              "</table>\n",
              "</div>"
            ],
            "text/plain": [
              "   user_id                           item_id  rating   timestamp\n",
              "0        0  e29e422c743a3d39a45c2bf777cc7091       1  1447833945\n",
              "1        1  c0cefffdc4f2cb23c01fdd0257ffc82d       1  1447931155\n",
              "2        2  77a5bb1f382cfa168f53e870bf7dc96b       1  1447867326\n",
              "3        3  a0d92aa0cc44c61ac2c2592e6ed702d2       1  1447876751\n",
              "4        4  664c68013188241c5ad641830e09c55f       1  1447890664"
            ]
          },
          "metadata": {
            "tags": []
          },
          "execution_count": 12
        }
      ]
    },
    {
      "cell_type": "code",
      "metadata": {
        "id": "1rGrhXLpQ_5Y",
        "colab_type": "code",
        "colab": {}
      },
      "source": [
        "def create_matrix(data, user_col, item_col, rating_col):\n",
        "    \"\"\"\n",
        "    creates the sparse user-item interaction matrix\n",
        "    \n",
        "    Parameters\n",
        "    ----------\n",
        "    data : DataFrame\n",
        "        implicit rating data\n",
        "\n",
        "    user_col : str\n",
        "        user column name\n",
        "\n",
        "    item_col : str\n",
        "        item column name\n",
        "    \n",
        "    ratings_col : str\n",
        "        implicit rating column name\n",
        "\n",
        "    Returns\n",
        "    -------\n",
        "    ratings : scipy sparse csr_matrix [n_users, n_items]\n",
        "        user/item ratings matrix\n",
        "\n",
        "    data : DataFrame\n",
        "        the implict rating data that retains only the positive feedback\n",
        "        (if specified to do so)\n",
        "    \"\"\"\n",
        "    # map each item and user to a unique numeric value\n",
        "    for col in (item_col, user_col):\n",
        "        data[col] = data[col].astype('category')\n",
        "    \n",
        "    # create a sparse matrix of using the (rating, (rows, cols)) format\n",
        "    rows = data[user_col].cat.codes\n",
        "    cols = data[item_col].cat.codes\n",
        "    rating = data[rating_col]\n",
        "    ratings = csr_matrix((rating, (rows, cols)))\n",
        "    ratings.eliminate_zeros()\n",
        "    return ratings, data"
      ],
      "execution_count": null,
      "outputs": []
    },
    {
      "cell_type": "code",
      "metadata": {
        "id": "cdvRuJkaTRL8",
        "colab_type": "code",
        "colab": {
          "base_uri": "https://localhost:8080/",
          "height": 51
        },
        "outputId": "cb42319a-6c7a-4aac-f2f0-09b160912ccc"
      },
      "source": [
        "user_col = 'user_id'\n",
        "item_col = 'item_id'\n",
        "rating_col = 'rating'\n",
        "X, df = create_matrix(df, user_col, item_col, rating_col)\n",
        "X"
      ],
      "execution_count": null,
      "outputs": [
        {
          "output_type": "execute_result",
          "data": {
            "text/plain": [
              "<1593x71027 sparse matrix of type '<class 'numpy.longlong'>'\n",
              "\twith 78023 stored elements in Compressed Sparse Row format>"
            ]
          },
          "metadata": {
            "tags": []
          },
          "execution_count": 14
        }
      ]
    },
    {
      "cell_type": "code",
      "metadata": {
        "id": "2fwVxAzTTlw9",
        "colab_type": "code",
        "colab": {}
      },
      "source": [
        "def create_train_test(ratings, test_size = 0.2, seed = 1234):\n",
        "    \"\"\"\n",
        "    split the user-item interactions matrix into train and test set\n",
        "    by removing some of the interactions from every user and pretend\n",
        "    that we never seen them\n",
        "    \n",
        "    Parameters\n",
        "    ----------\n",
        "    ratings : scipy sparse csr_matrix\n",
        "        The user-item interactions matrix\n",
        "    \n",
        "    test_size : float between 0.0 and 1.0, default 0.2\n",
        "        Proportion of the user-item interactions for each user\n",
        "        in the dataset to move to the test set; e.g. if set to 0.2\n",
        "        and a user has 10 interactions, then 2 will be moved to the\n",
        "        test set\n",
        "    \n",
        "    seed : int, default 1234\n",
        "        Seed for reproducible random splitting the \n",
        "        data into train/test set\n",
        "    \n",
        "    Returns\n",
        "    -------\n",
        "    train : scipy sparse csr_matrix\n",
        "        Training set\n",
        "    \n",
        "    test : scipy sparse csr_matrix\n",
        "        Test set\n",
        "    \"\"\"\n",
        "    assert test_size < 1.0 and test_size > 0.0\n",
        "\n",
        "    # Dictionary Of Keys based sparse matrix is more efficient\n",
        "    # for constructing sparse matrices incrementally compared with csr_matrix\n",
        "    train = ratings.copy().todok()\n",
        "    test = dok_matrix(train.shape)\n",
        "    \n",
        "    # 1. for all the users assign randomly chosen interactions\n",
        "    # to the test and assign those interactions to zero in the training;\n",
        "    # when computing the interactions to go into the test set, \n",
        "    # remember to round up the numbers (e.g. a user has 4 ratings, if the\n",
        "    # test_size is 0.2, then 0.8 ratings will go to test, thus we need to\n",
        "    # round up to ensure the test set gets at least 1 rating);\n",
        "    # 2. note that we can easily the parallelize the for loop if we were to\n",
        "    # aim for a more efficient implementation\n",
        "    rstate = np.random.RandomState(seed)\n",
        "    for u in range(ratings.shape[0]):\n",
        "        split_index = ratings[u].indices\n",
        "        n_splits = ceil(test_size * split_index.shape[0])\n",
        "        test_index = rstate.choice(split_index, size = n_splits, replace = False)\n",
        "        test[u, test_index] = ratings[u, test_index]\n",
        "        train[u, test_index] = 0\n",
        "    \n",
        "    train, test = train.tocsr(), test.tocsr()\n",
        "    return train, test"
      ],
      "execution_count": null,
      "outputs": []
    },
    {
      "cell_type": "code",
      "metadata": {
        "id": "uPNquIu0Tt2n",
        "colab_type": "code",
        "colab": {
          "base_uri": "https://localhost:8080/",
          "height": 51
        },
        "outputId": "6d72a231-7521-4162-b9fe-7b030eff93ef"
      },
      "source": [
        "seed = 1234\n",
        "test_size = 0.2\n",
        "X_train, X_test = create_train_test(X, test_size, seed)\n",
        "X_train"
      ],
      "execution_count": null,
      "outputs": [
        {
          "output_type": "execute_result",
          "data": {
            "text/plain": [
              "<1593x71027 sparse matrix of type '<class 'numpy.longlong'>'\n",
              "\twith 61780 stored elements in Compressed Sparse Row format>"
            ]
          },
          "metadata": {
            "tags": []
          },
          "execution_count": 16
        }
      ]
    },
    {
      "cell_type": "markdown",
      "metadata": {
        "id": "sFKEhaiGvV6q",
        "colab_type": "text"
      },
      "source": [
        "#  **Alternating Least Squares**"
      ]
    },
    {
      "cell_type": "markdown",
      "metadata": {
        "id": "G4BsD0xHv268",
        "colab_type": "text"
      },
      "source": [
        "## **AlternatingLeastSquares - Implicit**"
      ]
    },
    {
      "cell_type": "markdown",
      "metadata": {
        "id": "r8mjgqz1Zpyd",
        "colab_type": "text"
      },
      "source": [
        "Before we start building our own recommender system on an example problem, I want to explain some of the intuition behind how this method works and why it likely is the only chosen method in Spark's library. We discussed before how collaborative filtering doesn't require any information about the users or items. Well, is there another way we can figure out how the users and the items are related to each other?\n",
        "\n",
        "It turns out we can if we apply matrix factorization. Often, matrix factorization is applied in the realm of dimensionality reduction, where we are trying to reduce the number of features while still keeping the relevant information. This is the case with principal component analysis (PCA) and the very similar singular value decomposition (SVD).\n",
        "\n",
        "Essentially, can we take a large matrix of user/item interactions and figure out the latent (or hidden) features that relate them to each other in a much smaller matrix of user features and item features? That's exactly what ALS is trying to do through matrix factorization.\n",
        "\n",
        "As the image below demonstrates, let's assume we have an original ratings matrix R of size MxN, where M is the number of users and N is the number of items. This matrix is quite sparse, since most users only interact with a few items each. We can factorize this matrix into two separate smaller matrices: one with dimensions MxK which will be our latent user feature vectors for each user (U) and a second with dimensions KxN, which will have our latent item feature vectors for each item (V). Multiplying these two feature matrices together approximates the original matrix, but now we have two matrices that are dense including a number of latent features K for each of our items and users.\n",
        "\n",
        "![image.png](data:image/png;base64,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)\n",
        "\n",
        "In order to solve for U and V, we could either utilize SVD (which would require inverting a potentially very large matrix and be computationally expensive) to solve the factorization more precisely or apply ALS to approximate it. In the case of ALS, we only need to solve one feature vector at a time, which means it can be run in parallel! (This large advantage is probably why it is the method of choice for Spark). To do this, we can randomly initialize U and solve for V. Then we can go back and solve for U using our solution for V. Keep iterating back and forth like this until we get a convergence that approximates R as best as we can.\n",
        "\n",
        "After this has been finished, we can simply take the dot product of U and V to see what the predicted rating would be for a specific user/item interaction, even if there was no prior interaction. This basic methodology was adopted for implicit feedback problems in the paper Collaborative Filtering for Implicit Feedback Datasets by Hu, Koren, and Volinsky. We will use this paper's method on a real dataset and build our own recommender system."
      ]
    },
    {
      "cell_type": "markdown",
      "metadata": {
        "id": "NPJt0h4dwJtK",
        "colab_type": "text"
      },
      "source": [
        "### **Entrenamiento con ALS Conjugado**"
      ]
    },
    {
      "cell_type": "markdown",
      "metadata": {
        "id": "oP8N8Q_xBwVW",
        "colab_type": "text"
      },
      "source": [
        "* Factores Latentes (factors) = 50, 100, 200\n",
        "* Regularización = 0.01, 0.1"
      ]
    },
    {
      "cell_type": "markdown",
      "metadata": {
        "id": "4Qfpy2TyCuHF",
        "colab_type": "text"
      },
      "source": [
        "**class** implicit.als.AlternatingLeastSquares(factors=100, regularization=0.01, dtype=<type 'numpy.float32'>, use_native=True, use_cg=True, use_gpu=False, iterations=15, calculate_training_loss=False, num_threads=0, random_state=None)"
      ]
    },
    {
      "cell_type": "markdown",
      "metadata": {
        "id": "hTCmeHLK8sol",
        "colab_type": "text"
      },
      "source": [
        "## Realización de los experimentos en diferentes hiperpametros"
      ]
    },
    {
      "cell_type": "markdown",
      "metadata": {
        "colab_type": "text",
        "id": "r6dA_zSVF661"
      },
      "source": [
        "* Factores Latentes (factors) = 50\n",
        "* Regularización = 0.01"
      ]
    },
    {
      "cell_type": "markdown",
      "metadata": {
        "id": "qusuEWdUalf4",
        "colab_type": "text"
      },
      "source": [
        "Código extraido de http://ethen8181.github.io/machine-learning/recsys/2_implicit.html"
      ]
    },
    {
      "cell_type": "code",
      "metadata": {
        "id": "0Oyw7lTXUVS2",
        "colab_type": "code",
        "colab": {}
      },
      "source": [
        "class ALSWR:\n",
        "    \"\"\"\n",
        "    Alternating Least Squares with Weighted Regularization\n",
        "    for implicit feedback\n",
        "\n",
        "    Parameters\n",
        "    ----------\n",
        "    n_iters : int\n",
        "        number of iterations to train the algorithm\n",
        "\n",
        "    n_factors : int\n",
        "        number/dimension of user and item latent factors\n",
        "\n",
        "    alpha : int\n",
        "        scaling factor that indicates the level of confidence in preference\n",
        "\n",
        "    reg : int\n",
        "        regularization term for the user and item latent factors\n",
        "\n",
        "    seed : int\n",
        "        seed for the randomly initialized user, item latent factors\n",
        "\n",
        "    Reference\n",
        "    ---------\n",
        "    Y. Hu, Y. Koren, C. Volinsky Collaborative Filtering for Implicit Feedback Datasets\n",
        "    http://yifanhu.net/PUB/cf.pdf\n",
        "    \"\"\"\n",
        "    def __init__(self, n_iters, n_factors, alpha, reg, seed):\n",
        "        self.reg = reg\n",
        "        self.seed = seed\n",
        "        self.alpha = alpha\n",
        "        self.n_iters = n_iters\n",
        "        self.n_factors = n_factors\n",
        "    \n",
        "    def fit(self, ratings):\n",
        "        \"\"\"\n",
        "        ratings : scipy sparse csr_matrix [n_users, n_items]\n",
        "            sparse matrix of user-item interactions\n",
        "        \"\"\"        \n",
        "        # the original confidence vectors should include a + 1,\n",
        "        # but this direct addition is not allowed when using sparse matrix,\n",
        "        # thus we'll have to deal with this later in the computation\n",
        "        Cui = ratings.copy().tocsr()\n",
        "        Cui.data *= self.alpha\n",
        "        Ciu = Cui.T.tocsr()\n",
        "        self.n_users, self.n_items = Cui.shape\n",
        "        \n",
        "        # initialize user latent factors and item latent factors\n",
        "        # randomly with a specified set seed\n",
        "        rstate = np.random.RandomState(self.seed)\n",
        "        self.user_factors = rstate.normal(size = (self.n_users, self.n_factors))\n",
        "        self.item_factors = rstate.normal(size = (self.n_items, self.n_factors))\n",
        "        \n",
        "        for _ in trange(self.n_iters, desc = 'training progress'):\n",
        "            self._als_step(Cui, self.user_factors, self.item_factors)\n",
        "            self._als_step(Ciu, self.item_factors, self.user_factors)  \n",
        "        \n",
        "        return self\n",
        "    \n",
        "    def _als_step(self, Cui, X, Y):\n",
        "        \"\"\"\n",
        "        when solving the user latent vectors,\n",
        "        the item vectors will be fixed and vice versa\n",
        "        \"\"\"\n",
        "        # the variable name follows the notation when holding\n",
        "        # the item vector Y constant and solving for user vector X\n",
        "        \n",
        "        # YtY is a d * d matrix that is computed\n",
        "        # independently of each user\n",
        "        YtY = Y.T.dot(Y)\n",
        "        data = Cui.data\n",
        "        indptr, indices = Cui.indptr, Cui.indices\n",
        "\n",
        "        # for every user build up A and b then solve for Ax = b,\n",
        "        # this for loop is the bottleneck and can be easily parallized\n",
        "        # as each users' computation is independent of one another\n",
        "        for u in range(self.n_users):\n",
        "            # initialize a new A and b for every user\n",
        "            b = np.zeros(self.n_factors)\n",
        "            A = YtY + self.reg * np.eye(self.n_factors)\n",
        "            \n",
        "            for index in range(indptr[u], indptr[u + 1]):\n",
        "                # indices[index] stores non-zero positions for a given row\n",
        "                # data[index] stores corresponding confidence,\n",
        "                # we also add 1 to the confidence, since we did not \n",
        "                # do it in the beginning, when we were to give every \n",
        "                # user-item pair and minimal confidence\n",
        "                i = indices[index]\n",
        "                confidence = data[index] + 1\n",
        "                factor = Y[i]\n",
        "\n",
        "                # for b, Y^T C^u p_u\n",
        "                # there should be a times 1 for the preference \n",
        "                # Pui = 1\n",
        "                # b += confidence * Y[i] * Pui\n",
        "                # but the times 1 can be dropped\n",
        "                b += confidence * factor\n",
        "                \n",
        "                # for A, Y^T (C^u - I) Y\n",
        "                A += (confidence - 1) * np.outer(factor, factor)\n",
        "\n",
        "            X[u] = np.linalg.solve(A, b)\n",
        "        \n",
        "        return self\n",
        "\n",
        "    def predict(self):\n",
        "        \"\"\"predict ratings for every user and item\"\"\"\n",
        "        prediction = self.user_factors.dot(self.item_factors.T)\n",
        "        return prediction\n",
        "    \n",
        "    def _predict_user(self, user):\n",
        "        \"\"\"\n",
        "        returns the predicted ratings for the specified user,\n",
        "        this is mainly used in computing evaluation metric\n",
        "        \"\"\"\n",
        "        user_pred = self.user_factors[user].dot(self.item_factors.T)\n",
        "        return user_pred"
      ],
      "execution_count": null,
      "outputs": []
    },
    {
      "cell_type": "code",
      "metadata": {
        "id": "DmMGwusmUXzF",
        "colab_type": "code",
        "colab": {
          "base_uri": "https://localhost:8080/",
          "height": 51
        },
        "outputId": "e13003e6-e027-466a-c65f-320a887983b1"
      },
      "source": [
        "als = ALSWR(n_iters = 15, n_factors = 20, alpha = 15, reg = 0.01, seed = 1234)\n",
        "als.fit(X_train)"
      ],
      "execution_count": null,
      "outputs": [
        {
          "output_type": "stream",
          "text": [
            "training progress: 100%|██████████| 15/15 [00:25<00:00,  1.68s/it]\n"
          ],
          "name": "stderr"
        },
        {
          "output_type": "execute_result",
          "data": {
            "text/plain": [
              "<__main__.ALSWR at 0x7f82f2e91c18>"
            ]
          },
          "metadata": {
            "tags": []
          },
          "execution_count": 18
        }
      ]
    },
    {
      "cell_type": "markdown",
      "metadata": {
        "id": "zy63cUU5TcD3",
        "colab_type": "text"
      },
      "source": [
        "# **Simulaciones de ALS**"
      ]
    },
    {
      "cell_type": "markdown",
      "metadata": {
        "colab_type": "text",
        "id": "lzxrbhTKF7tz"
      },
      "source": [
        "* Factores Latentes (factors) = 50\n",
        "* Regularización = 0.1"
      ]
    },
    {
      "cell_type": "code",
      "metadata": {
        "colab_type": "code",
        "id": "1AKrLLs6Ty7m",
        "colab": {
          "base_uri": "https://localhost:8080/",
          "height": 120,
          "referenced_widgets": [
            "2e947683a7dd4103b7f10f82b9445454",
            "f074eee1177b42b0bc6a5d173e8c04ea",
            "c0ff12e9a0be48ffa7e62d92118bf0fc",
            "30abd0459a994035bb10e3f8f53cf265",
            "e8bee1d9dd4c44349de1c5bb3ccbfce1",
            "9b389cd45e6144e5b3e8a651f81aa822",
            "1b2d2dfc690b4736ba2a0d39f0f92457",
            "98c16833cfe4449db55cb5d7339901aa"
          ]
        },
        "outputId": "331c1d0d-287d-4f17-84ef-6fc7da9b6ef5"
      },
      "source": [
        "@count_elapsed_time\n",
        "def test():\n",
        "\n",
        "  # Definimos y entrenamos el modelo con optimización ALS\n",
        "  factors=50\n",
        "  regularization=0.1\n",
        "\n",
        "  model_als1 = implicit.als.AlternatingLeastSquares(factors,regularization,use_gpu=False, num_threads=1)\n",
        "  model_als1.fit(X_train)\n",
        "\n",
        "test()"
      ],
      "execution_count": null,
      "outputs": [
        {
          "output_type": "stream",
          "text": [
            "WARNING:root:OpenBLAS detected. Its highly recommend to set the environment variable 'export OPENBLAS_NUM_THREADS=1' to disable its internal multithreading\n"
          ],
          "name": "stderr"
        },
        {
          "output_type": "display_data",
          "data": {
            "application/vnd.jupyter.widget-view+json": {
              "model_id": "2e947683a7dd4103b7f10f82b9445454",
              "version_minor": 0,
              "version_major": 2
            },
            "text/plain": [
              "HBox(children=(FloatProgress(value=0.0, max=15.0), HTML(value='')))"
            ]
          },
          "metadata": {
            "tags": []
          }
        },
        {
          "output_type": "stream",
          "text": [
            "\n",
            "Elapsed time: 11.3709037304 seconds.\n"
          ],
          "name": "stdout"
        }
      ]
    },
    {
      "cell_type": "code",
      "metadata": {
        "id": "OdMHyg_SfRvC",
        "colab_type": "code",
        "colab": {
          "base_uri": "https://localhost:8080/",
          "height": 66,
          "referenced_widgets": [
            "6b55783a1dee4c36835c18b71fb39a0a",
            "6fa43f79057a4d6688ddf82b670bca0d",
            "ffcc4bc04d0142199404a7501cd97d08",
            "9c628100d2e6432ebb6b4fb5fd394ff0",
            "b0acd12b02e34f94adec4f84a9323051",
            "5c72b3dd897b42158baf4593ae606a46",
            "0237a558cd1d438e84befe56f318e111",
            "be2b96a95f8a42efb096136fda5d4fa4"
          ]
        },
        "outputId": "630dd227-d882-41d2-f0b1-28ab37af32fa"
      },
      "source": [
        "factors=50\n",
        "regularization=0.1\n",
        "\n",
        "model_als1 = implicit.als.AlternatingLeastSquares(factors,regularization,use_gpu=False, num_threads=1)\n",
        "model_als1.fit(X_train)"
      ],
      "execution_count": null,
      "outputs": [
        {
          "output_type": "display_data",
          "data": {
            "application/vnd.jupyter.widget-view+json": {
              "model_id": "6b55783a1dee4c36835c18b71fb39a0a",
              "version_minor": 0,
              "version_major": 2
            },
            "text/plain": [
              "HBox(children=(FloatProgress(value=0.0, max=15.0), HTML(value='')))"
            ]
          },
          "metadata": {
            "tags": []
          }
        },
        {
          "output_type": "stream",
          "text": [
            "\n"
          ],
          "name": "stdout"
        }
      ]
    },
    {
      "cell_type": "markdown",
      "metadata": {
        "colab_type": "text",
        "id": "TblYzwNcTy7j"
      },
      "source": [
        "* Factores Latentes (factors) = 50\n",
        "* Regularización = 0.01"
      ]
    },
    {
      "cell_type": "code",
      "metadata": {
        "colab_type": "code",
        "id": "X-Vz3GlpW-e8",
        "colab": {
          "base_uri": "https://localhost:8080/",
          "height": 83,
          "referenced_widgets": [
            "66fbbc8117424a03b8d7f30555b23759",
            "723fb4ac511240209af44c48ecbad9de",
            "0a71491c9dc2419a9a55d7b1aaec7175",
            "ac760f4289634a23ba859d64bc001012",
            "32d558f2b72742ce89267ffe425948e3",
            "9dd29707a7e941e8b993a08d89fe6a1c",
            "f61296310b1140bcb3d0f3502e65cd46",
            "2e1886f0b00c47c2ac523259742ed943"
          ]
        },
        "outputId": "820b7974-dece-447e-87f9-5b6164348f2b"
      },
      "source": [
        "@count_elapsed_time\n",
        "def test():\n",
        "\n",
        "  # Definimos y entrenamos el modelo con optimización ALS\n",
        "  factors=50\n",
        "  regularization=0.01\n",
        "\n",
        "  model_als2 = implicit.als.AlternatingLeastSquares(factors,regularization,use_gpu=False, num_threads=1)\n",
        "  model_als2.fit(X_train)\n",
        "\n",
        "test()"
      ],
      "execution_count": null,
      "outputs": [
        {
          "output_type": "display_data",
          "data": {
            "application/vnd.jupyter.widget-view+json": {
              "model_id": "66fbbc8117424a03b8d7f30555b23759",
              "version_minor": 0,
              "version_major": 2
            },
            "text/plain": [
              "HBox(children=(FloatProgress(value=0.0, max=15.0), HTML(value='')))"
            ]
          },
          "metadata": {
            "tags": []
          }
        },
        {
          "output_type": "stream",
          "text": [
            "\n",
            "Elapsed time: 11.2631514072 seconds.\n"
          ],
          "name": "stdout"
        }
      ]
    },
    {
      "cell_type": "code",
      "metadata": {
        "colab_type": "code",
        "id": "OziXTRvMfxgE",
        "colab": {
          "base_uri": "https://localhost:8080/",
          "height": 66,
          "referenced_widgets": [
            "20c078d865ef4b60bf868476144eb044",
            "ceddf64396304477ab0f30d8e9c89812",
            "6ce4c2d84297493dab1e04ec79b304f1",
            "0a8703b61ffe4d3a85eb0b0ef21a8193",
            "8a5ce6ac62e0442892c494cc349641c9",
            "836d9c0f52354026a5fe9b1cc8829d32",
            "00a2c153d36249af84288cb1ad7a3090",
            "9b44d02cdddd421c9d6013e57249987e"
          ]
        },
        "outputId": "bdc655ed-8cbb-4869-be8e-33029d75ee97"
      },
      "source": [
        "factors=50\n",
        "regularization=0.01\n",
        "\n",
        "model_als2 = implicit.als.AlternatingLeastSquares(factors,regularization,use_gpu=False, num_threads=1)\n",
        "model_als2.fit(X_train)"
      ],
      "execution_count": null,
      "outputs": [
        {
          "output_type": "display_data",
          "data": {
            "application/vnd.jupyter.widget-view+json": {
              "model_id": "20c078d865ef4b60bf868476144eb044",
              "version_minor": 0,
              "version_major": 2
            },
            "text/plain": [
              "HBox(children=(FloatProgress(value=0.0, max=15.0), HTML(value='')))"
            ]
          },
          "metadata": {
            "tags": []
          }
        },
        {
          "output_type": "stream",
          "text": [
            "\n"
          ],
          "name": "stdout"
        }
      ]
    },
    {
      "cell_type": "markdown",
      "metadata": {
        "colab_type": "text",
        "id": "K4kWFXo0F8Ba"
      },
      "source": [
        "* Factores Latentes (factors) = 100\n",
        "* Regularización = 0.1"
      ]
    },
    {
      "cell_type": "code",
      "metadata": {
        "colab_type": "code",
        "id": "rxnm7seeUNva",
        "colab": {
          "base_uri": "https://localhost:8080/",
          "height": 83,
          "referenced_widgets": [
            "628ca7e7847c4c7482db5d201c5936af",
            "2ed33660256c4c90a576c0c439ee4e40",
            "d2cb8cada30e4c14a1f564abdc6f155e",
            "ca12954daa664beba48cbd18b82c453b",
            "b2f7a1f7a1eb4e5ab68e55fe5cc8a2f8",
            "15f8495ef19a408399df79acf35cc813",
            "c555c3d7910b48fba9e7d599054c2bd5",
            "1659aecb111548c1852cf0350846a525"
          ]
        },
        "outputId": "0b40fb97-ba63-46db-cd3f-daf78c0d4b5d"
      },
      "source": [
        "@count_elapsed_time\n",
        "def test():\n",
        "\n",
        "  # Definimos y entrenamos el modelo con optimización ALS\n",
        "  factors=100\n",
        "  regularization=0.1\n",
        "\n",
        "  model_als3 = implicit.als.AlternatingLeastSquares(factors,regularization,use_gpu=False, num_threads=1)\n",
        "  model_als3.fit(X_train)\n",
        "\n",
        "test()"
      ],
      "execution_count": null,
      "outputs": [
        {
          "output_type": "display_data",
          "data": {
            "application/vnd.jupyter.widget-view+json": {
              "model_id": "628ca7e7847c4c7482db5d201c5936af",
              "version_minor": 0,
              "version_major": 2
            },
            "text/plain": [
              "HBox(children=(FloatProgress(value=0.0, max=15.0), HTML(value='')))"
            ]
          },
          "metadata": {
            "tags": []
          }
        },
        {
          "output_type": "stream",
          "text": [
            "\n",
            "Elapsed time: 13.9055831432 seconds.\n"
          ],
          "name": "stdout"
        }
      ]
    },
    {
      "cell_type": "code",
      "metadata": {
        "colab_type": "code",
        "id": "QCyCnMarfzhp",
        "colab": {
          "base_uri": "https://localhost:8080/",
          "height": 66,
          "referenced_widgets": [
            "63e91ae5ab034c95ad4611bbdf0a7924",
            "c02f02238fc545bd955b8131d8d39db7",
            "0c4de51aa2a64f8e866d70291a94bb47",
            "f570ade36d604f51a3e8c9e23ebdd78d",
            "a25d31b19fd443f4a935b854876b162d",
            "8c86ec1a054648d3abd5dc999b8ece66",
            "597273d67fb34101a6ca54162e52d8fa",
            "2958885cffaf41afac0b82c885a061e5"
          ]
        },
        "outputId": "0584a622-9445-454a-be59-123665e60d8b"
      },
      "source": [
        "factors=100\n",
        "regularization=0.1\n",
        "\n",
        "model_als3 = implicit.als.AlternatingLeastSquares(factors,regularization,use_gpu=False, num_threads=1)\n",
        "model_als3.fit(X_train)"
      ],
      "execution_count": null,
      "outputs": [
        {
          "output_type": "display_data",
          "data": {
            "application/vnd.jupyter.widget-view+json": {
              "model_id": "63e91ae5ab034c95ad4611bbdf0a7924",
              "version_minor": 0,
              "version_major": 2
            },
            "text/plain": [
              "HBox(children=(FloatProgress(value=0.0, max=15.0), HTML(value='')))"
            ]
          },
          "metadata": {
            "tags": []
          }
        },
        {
          "output_type": "stream",
          "text": [
            "\n"
          ],
          "name": "stdout"
        }
      ]
    },
    {
      "cell_type": "markdown",
      "metadata": {
        "colab_type": "text",
        "id": "8vyJ0UPJF737"
      },
      "source": [
        "* Factores Latentes (factors) =  100\n",
        "* Regularización = 0.01"
      ]
    },
    {
      "cell_type": "code",
      "metadata": {
        "colab_type": "code",
        "id": "S8XAcYNUUNH7",
        "colab": {
          "base_uri": "https://localhost:8080/",
          "height": 83,
          "referenced_widgets": [
            "5df244aff8c94addb91da9a539436cfe",
            "a60dca9112b04660a49e79a0255100f0",
            "b24317329fcc4ecb8ddaf565ccd62a3d",
            "9dd16a73e40d4358b07c45b6aed8f31b",
            "9a5b368bdd5f49b1abf6cbf86a7e5581",
            "c2b7ea354b8c4ab290ab54b0b0e82865",
            "d3f34106725b4ccd9b66cfd547037841",
            "f81a8d42c8634a3781d69d682ab1c77c"
          ]
        },
        "outputId": "661a1997-1cf6-4420-d913-0fe1b253274f"
      },
      "source": [
        "@count_elapsed_time\n",
        "def test():\n",
        "\n",
        "  # Definimos y entrenamos el modelo con optimización ALS\n",
        "  factors=100\n",
        "  regularization=0.01\n",
        "\n",
        "  model_als4 = implicit.als.AlternatingLeastSquares(factors,regularization,use_gpu=False, num_threads=1)\n",
        "  model_als4.fit(X_train)\n",
        "\n",
        "test()"
      ],
      "execution_count": null,
      "outputs": [
        {
          "output_type": "display_data",
          "data": {
            "application/vnd.jupyter.widget-view+json": {
              "model_id": "5df244aff8c94addb91da9a539436cfe",
              "version_minor": 0,
              "version_major": 2
            },
            "text/plain": [
              "HBox(children=(FloatProgress(value=0.0, max=15.0), HTML(value='')))"
            ]
          },
          "metadata": {
            "tags": []
          }
        },
        {
          "output_type": "stream",
          "text": [
            "\n",
            "Elapsed time: 13.8989467621 seconds.\n"
          ],
          "name": "stdout"
        }
      ]
    },
    {
      "cell_type": "code",
      "metadata": {
        "colab_type": "code",
        "id": "Y8jXgHEff1po",
        "colab": {
          "base_uri": "https://localhost:8080/",
          "height": 66,
          "referenced_widgets": [
            "c92ea10df79747c4b6f0b946ab752cd0",
            "38ad1ef06ebc42428c8f2e84aca6ee20",
            "bf6e2341b345439d90256cdec8b0be54",
            "0560b334ca154f03986baf8d26948880",
            "f8af4df7b5ff41279588c2fb5e51961b",
            "2121ca7761014183ae8b37e7007df6f7",
            "55e00efa529c424bb11b2dafdba83cda",
            "34be74dc4c3d4751ada5ad410e1925fb"
          ]
        },
        "outputId": "6dca2fd0-503e-4f8e-8c7b-b55159102664"
      },
      "source": [
        "factors=100\n",
        "regularization=0.01\n",
        "\n",
        "model_als4 = implicit.als.AlternatingLeastSquares(factors,regularization,use_gpu=False, num_threads=1)\n",
        "model_als4.fit(X_train)"
      ],
      "execution_count": null,
      "outputs": [
        {
          "output_type": "display_data",
          "data": {
            "application/vnd.jupyter.widget-view+json": {
              "model_id": "c92ea10df79747c4b6f0b946ab752cd0",
              "version_minor": 0,
              "version_major": 2
            },
            "text/plain": [
              "HBox(children=(FloatProgress(value=0.0, max=15.0), HTML(value='')))"
            ]
          },
          "metadata": {
            "tags": []
          }
        },
        {
          "output_type": "stream",
          "text": [
            "\n"
          ],
          "name": "stdout"
        }
      ]
    },
    {
      "cell_type": "markdown",
      "metadata": {
        "colab_type": "text",
        "id": "gCkacwfYYM2t"
      },
      "source": [
        "* Factores Latentes (factors) =  200\n",
        "* Regularización = 0.1"
      ]
    },
    {
      "cell_type": "code",
      "metadata": {
        "colab_type": "code",
        "id": "RpvwctElUMdv",
        "colab": {
          "base_uri": "https://localhost:8080/",
          "height": 83,
          "referenced_widgets": [
            "7bd2cba244774dd6acb13d847c546716",
            "20b2a0cc5384464793943e4682338e65",
            "f9ff2673627c411b9dd5088b6e0aea54",
            "e17b4783f18746308b4042248a788206",
            "b0cc37db93c14f96b85bb1a99c9b0ae9",
            "dbf5c8b22354445a8c33e2b0c083f0ad",
            "5dac333bc09e4478b1161a74bc366a2f",
            "90d52c701a5c4b45a5b7057c5decea3f"
          ]
        },
        "outputId": "02f39ff1-137f-4a25-da79-c679bd5f74d4"
      },
      "source": [
        "@count_elapsed_time\n",
        "def test():\n",
        "\n",
        "  # Definimos y entrenamos el modelo con optimización ALS\n",
        "  factors=200\n",
        "  regularization=0.1\n",
        "\n",
        "  model_als5 = implicit.als.AlternatingLeastSquares(factors,regularization,use_gpu=False, num_threads=1)\n",
        "  model_als5.fit(X_train)\n",
        "\n",
        "test()"
      ],
      "execution_count": null,
      "outputs": [
        {
          "output_type": "display_data",
          "data": {
            "application/vnd.jupyter.widget-view+json": {
              "model_id": "7bd2cba244774dd6acb13d847c546716",
              "version_minor": 0,
              "version_major": 2
            },
            "text/plain": [
              "HBox(children=(FloatProgress(value=0.0, max=15.0), HTML(value='')))"
            ]
          },
          "metadata": {
            "tags": []
          }
        },
        {
          "output_type": "stream",
          "text": [
            "\n",
            "Elapsed time: 23.7926082611 seconds.\n"
          ],
          "name": "stdout"
        }
      ]
    },
    {
      "cell_type": "code",
      "metadata": {
        "colab_type": "code",
        "id": "nYl6LMiFf4dy",
        "colab": {
          "base_uri": "https://localhost:8080/",
          "height": 66,
          "referenced_widgets": [
            "826cc3f6e2cd465d8b8095855d723a2d",
            "e79e55620a6f4f8db512544fd27b631a",
            "e3ec07d1efc447f292e488b59e35bacd",
            "6c37112003d2495088191b6006adacc2",
            "46e678815af6415eb985f7298efd972a",
            "3a3025e682ab4faf91adc8118f99c2f6",
            "845b130a91ca4ae0adc33565c310d0fc",
            "bf990809187a4da491dcbf24af9962d3"
          ]
        },
        "outputId": "042cf08c-f203-484b-b589-3f3ce737bca2"
      },
      "source": [
        "factors=200\n",
        "regularization=0.1\n",
        "\n",
        "model_als5 = implicit.als.AlternatingLeastSquares(factors,regularization,use_gpu=False, num_threads=1)\n",
        "model_als5.fit(X_train)"
      ],
      "execution_count": null,
      "outputs": [
        {
          "output_type": "display_data",
          "data": {
            "application/vnd.jupyter.widget-view+json": {
              "model_id": "826cc3f6e2cd465d8b8095855d723a2d",
              "version_minor": 0,
              "version_major": 2
            },
            "text/plain": [
              "HBox(children=(FloatProgress(value=0.0, max=15.0), HTML(value='')))"
            ]
          },
          "metadata": {
            "tags": []
          }
        },
        {
          "output_type": "stream",
          "text": [
            "\n"
          ],
          "name": "stdout"
        }
      ]
    },
    {
      "cell_type": "markdown",
      "metadata": {
        "colab_type": "text",
        "id": "OArH9LoVF8Jm"
      },
      "source": [
        "* Factores Latentes (factors) =  200\n",
        "* Regularización = 0.01"
      ]
    },
    {
      "cell_type": "code",
      "metadata": {
        "colab_type": "code",
        "id": "PYC2zAEzULnI",
        "colab": {
          "base_uri": "https://localhost:8080/",
          "height": 83,
          "referenced_widgets": [
            "f16e085ff50d476f802ac0c1e21596dd",
            "d7fe76cd87384d4c8d4cea85f423e6e1",
            "924b8b25d92b4eb5a6e3b67a8000cbc9",
            "cb6398a298414c9e9e7fc8aefc4805c7",
            "1e465f9cf1b4447eb31c7eeac6fc8a62",
            "4258605652494ff190a29edaf19e2270",
            "c0f393473076427592e0dac019f59106",
            "127cb9e7bf104298a95e11644e758024"
          ]
        },
        "outputId": "1999dbe9-cb03-412f-f45f-2e3758764dbe"
      },
      "source": [
        "@count_elapsed_time\n",
        "def test():\n",
        "\n",
        "  # Definimos y entrenamos el modelo con optimización ALS\n",
        "  factors=200\n",
        "  regularization=0.01\n",
        "\n",
        "  model_als6 = implicit.als.AlternatingLeastSquares(factors,regularization,use_gpu=False, num_threads=1)\n",
        "  model_als6.fit(X_train)\n",
        "\n",
        "test()"
      ],
      "execution_count": null,
      "outputs": [
        {
          "output_type": "display_data",
          "data": {
            "application/vnd.jupyter.widget-view+json": {
              "model_id": "f16e085ff50d476f802ac0c1e21596dd",
              "version_minor": 0,
              "version_major": 2
            },
            "text/plain": [
              "HBox(children=(FloatProgress(value=0.0, max=15.0), HTML(value='')))"
            ]
          },
          "metadata": {
            "tags": []
          }
        },
        {
          "output_type": "stream",
          "text": [
            "\n",
            "Elapsed time: 23.6185083389 seconds.\n"
          ],
          "name": "stdout"
        }
      ]
    },
    {
      "cell_type": "code",
      "metadata": {
        "colab_type": "code",
        "id": "MnmtUNmFf5v7",
        "colab": {
          "base_uri": "https://localhost:8080/",
          "height": 66,
          "referenced_widgets": [
            "1b0e2acdd3c74ca68e9e398df7e8b957",
            "a1151839bd614dbd966ca1a1c8a73f8e",
            "01896743f227425085c5f93a3f4e7d07",
            "c08e9f3380054de19853d011165b9e86",
            "78bf11c9f8fa4a11b80deeb60d03b728",
            "5ed900c423ff4202b9b23d22ad5139b3",
            "83ae940b87a24ad3b63319d5bf80ff38",
            "0a467ff1bee541e596938235c7632888"
          ]
        },
        "outputId": "2aa69073-9885-476e-d5d0-e4e3c072f56a"
      },
      "source": [
        "factors=200\n",
        "regularization=0.01\n",
        "\n",
        "model_als6 = implicit.als.AlternatingLeastSquares(factors,regularization,use_gpu=False, num_threads=1)\n",
        "model_als6.fit(X_train)"
      ],
      "execution_count": null,
      "outputs": [
        {
          "output_type": "display_data",
          "data": {
            "application/vnd.jupyter.widget-view+json": {
              "model_id": "1b0e2acdd3c74ca68e9e398df7e8b957",
              "version_minor": 0,
              "version_major": 2
            },
            "text/plain": [
              "HBox(children=(FloatProgress(value=0.0, max=15.0), HTML(value='')))"
            ]
          },
          "metadata": {
            "tags": []
          }
        },
        {
          "output_type": "stream",
          "text": [
            "\n"
          ],
          "name": "stdout"
        }
      ]
    },
    {
      "cell_type": "markdown",
      "metadata": {
        "id": "UZ3WTauXwvMB",
        "colab_type": "text"
      },
      "source": [
        "# **Bayesian Personalized Ranking**"
      ]
    },
    {
      "cell_type": "markdown",
      "metadata": {
        "id": "mG9a2uq-e4XD",
        "colab_type": "text"
      },
      "source": [
        "## **BayesianPersonalizedRanking - Implicit**"
      ]
    },
    {
      "cell_type": "markdown",
      "metadata": {
        "id": "DEEMhmSdxQyb",
        "colab_type": "text"
      },
      "source": [
        "### **Entrenamiento con optimizacion BPR**"
      ]
    },
    {
      "cell_type": "markdown",
      "metadata": {
        "id": "09Td4LJkB7Qt",
        "colab_type": "text"
      },
      "source": [
        "* Factores Latentes (factors) = 50, 100, 200\n",
        "* Regularización = 0.01, 0.1\n",
        "* Learning rate = 0.001, 0.01"
      ]
    },
    {
      "cell_type": "markdown",
      "metadata": {
        "id": "WiWbzLfae-ph",
        "colab_type": "text"
      },
      "source": [
        "**class** implicit.bpr.BayesianPersonalizedRanking"
      ]
    },
    {
      "cell_type": "markdown",
      "metadata": {
        "colab_type": "text",
        "id": "dEl1FLrqOxPO"
      },
      "source": [
        "* Factores Latentes (factors) = 50\n",
        "* Regularización = 0.01\n",
        "* Learning rate = 0.001"
      ]
    },
    {
      "cell_type": "code",
      "metadata": {
        "id": "ORsCeQPpfFxn",
        "colab_type": "code",
        "colab": {
          "base_uri": "https://localhost:8080/",
          "height": 83,
          "referenced_widgets": [
            "bb05194a3f184138bf5464b0b8baa34e",
            "4744534e5da94c11838a9486c3f09fdd",
            "968598a27fab4f3d919b7dafd75becb5",
            "c44f581ed46f4e0ea275ea24b664f423",
            "cf6087a1f4744dcabf2582aa9c5f9eb3",
            "1f8eaf66bb50432b9529cad096a5541b",
            "30a37ef8bc654d2abd05d2c048b409a0",
            "b05ceac5518d421597abdecb0806a03f"
          ]
        },
        "outputId": "2b4bfb3c-13d8-4311-e0a4-7881b499a2d0"
      },
      "source": [
        "@count_elapsed_time\n",
        "def test():\n",
        "\n",
        "  factors=50\n",
        "  regularization=0.01\n",
        "  learning_rate=0.001\n",
        "\n",
        "  # Definimos y entrenamos el modelo de implicit feedback utilizando optimizacion BPR\n",
        "  model_bpr1 = implicit.bpr.BayesianPersonalizedRanking(factors,regularization,learning_rate,use_gpu=False, num_threads=1)\n",
        "  model_bpr1.fit(X_train)\n",
        "\n",
        "test()"
      ],
      "execution_count": null,
      "outputs": [
        {
          "output_type": "display_data",
          "data": {
            "application/vnd.jupyter.widget-view+json": {
              "model_id": "bb05194a3f184138bf5464b0b8baa34e",
              "version_minor": 0,
              "version_major": 2
            },
            "text/plain": [
              "HBox(children=(FloatProgress(value=0.0), HTML(value='')))"
            ]
          },
          "metadata": {
            "tags": []
          }
        },
        {
          "output_type": "stream",
          "text": [
            "\n",
            "Elapsed time: 2.9155752659 seconds.\n"
          ],
          "name": "stdout"
        }
      ]
    },
    {
      "cell_type": "code",
      "metadata": {
        "colab_type": "code",
        "id": "UdWzWzOGgNCf",
        "colab": {
          "base_uri": "https://localhost:8080/",
          "height": 66,
          "referenced_widgets": [
            "6b9ad5d239064f5fb93ad4fc3f2aa6a8",
            "81ffe7d9c8514a7da5c5ee4d2c116216",
            "f72d8c62f5c74a96a76d2599128c0174",
            "e8c4b584427344bca434e0e53bbf712a",
            "a566b01c9a914913992b8edf691911ed",
            "4cb9e7a2f6c642329f53ab349c647a7e",
            "c4e66538a724420eb48a0e12cb298d0a",
            "61e654fd37144df1ac77e74fbb19a174"
          ]
        },
        "outputId": "609b11ab-3958-45ad-cedf-c39d1b38623e"
      },
      "source": [
        "factors=50\n",
        "regularization=0.01\n",
        "learning_rate=0.001\n",
        "\n",
        "# Definimos y entrenamos el modelo de implicit feedback utilizando optimizacion BPR\n",
        "model_bpr1 = implicit.bpr.BayesianPersonalizedRanking(factors,regularization,learning_rate,use_gpu=False, num_threads=1)\n",
        "model_bpr1.fit(X_train)"
      ],
      "execution_count": null,
      "outputs": [
        {
          "output_type": "display_data",
          "data": {
            "application/vnd.jupyter.widget-view+json": {
              "model_id": "6b9ad5d239064f5fb93ad4fc3f2aa6a8",
              "version_minor": 0,
              "version_major": 2
            },
            "text/plain": [
              "HBox(children=(FloatProgress(value=0.0), HTML(value='')))"
            ]
          },
          "metadata": {
            "tags": []
          }
        },
        {
          "output_type": "stream",
          "text": [
            "\n"
          ],
          "name": "stdout"
        }
      ]
    },
    {
      "cell_type": "markdown",
      "metadata": {
        "id": "6-g8wczuAGTZ",
        "colab_type": "text"
      },
      "source": [
        "* Array of latent factors for each item in the training set"
      ]
    },
    {
      "cell_type": "markdown",
      "metadata": {
        "colab_type": "text",
        "id": "6SzjC7SCMwO6"
      },
      "source": [
        "* Factores Latentes (factors) = 50\n",
        "* Regularización = 0.01\n",
        "* Learning rate = 0.01"
      ]
    },
    {
      "cell_type": "code",
      "metadata": {
        "colab_type": "code",
        "id": "sp3UlyP-Zz_f",
        "colab": {
          "base_uri": "https://localhost:8080/",
          "height": 83,
          "referenced_widgets": [
            "2026cf2ad1e441d09fe7e068252669a2",
            "918d11a1ff0340bd82313b1aeb969ec5",
            "35a192c2c22e4b34929308ae9bc53901",
            "296499375f00439aaf231eee244699be",
            "7b9c0d32827d4b199abee3856e046f4a",
            "70c2fcdc7af749e2a1fae2bf1e679f33",
            "be774b932b37400387ae72b5c0b82d32",
            "86584be741a440e08fcadd57155342f6"
          ]
        },
        "outputId": "63c12fd3-2e82-4bbf-eb75-394b54445e1b"
      },
      "source": [
        "@count_elapsed_time\n",
        "def test():\n",
        "\n",
        "  factors=50\n",
        "  regularization=0.01\n",
        "  learning_rate=0.01\n",
        "\n",
        "  # Definimos y entrenamos el modelo de implicit feedback utilizando optimizacion BPR\n",
        "  model_bpr2 = implicit.bpr.BayesianPersonalizedRanking(factors,regularization,learning_rate,use_gpu=False, num_threads=1)\n",
        "  model_bpr2.fit(X_train)\n",
        "\n",
        "test()"
      ],
      "execution_count": null,
      "outputs": [
        {
          "output_type": "display_data",
          "data": {
            "application/vnd.jupyter.widget-view+json": {
              "model_id": "2026cf2ad1e441d09fe7e068252669a2",
              "version_minor": 0,
              "version_major": 2
            },
            "text/plain": [
              "HBox(children=(FloatProgress(value=0.0), HTML(value='')))"
            ]
          },
          "metadata": {
            "tags": []
          }
        },
        {
          "output_type": "stream",
          "text": [
            "\n",
            "Elapsed time: 2.8428256512 seconds.\n"
          ],
          "name": "stdout"
        }
      ]
    },
    {
      "cell_type": "code",
      "metadata": {
        "colab_type": "code",
        "id": "GH2VO7vagO1u",
        "colab": {
          "base_uri": "https://localhost:8080/",
          "height": 66,
          "referenced_widgets": [
            "ba1af3579d794657b843d6114bcede30",
            "7c3593d2b1c047fd9bba01506740a26b",
            "753b53d878e841b2820d5ebbf51f1155",
            "8e7a8ba6d0f54121852b83e131330dcb",
            "63718326e4ac411cbe90211e07e00222",
            "b4a5db93bdf943e79ab999d81d842e42",
            "4c5629ce85014fe6ad8e0fb69f485267",
            "5458e3f4fe98462f9044bbb7afc1d5d0"
          ]
        },
        "outputId": "d8f94fab-88fa-4913-b1d5-97e9a5e21595"
      },
      "source": [
        "factors=50\n",
        "regularization=0.01\n",
        "learning_rate=0.01\n",
        "\n",
        "# Definimos y entrenamos el modelo de implicit feedback utilizando optimizacion BPR\n",
        "model_bpr2 = implicit.bpr.BayesianPersonalizedRanking(factors,regularization,learning_rate,use_gpu=False, num_threads=1)\n",
        "model_bpr2.fit(X_train)"
      ],
      "execution_count": null,
      "outputs": [
        {
          "output_type": "display_data",
          "data": {
            "application/vnd.jupyter.widget-view+json": {
              "model_id": "ba1af3579d794657b843d6114bcede30",
              "version_minor": 0,
              "version_major": 2
            },
            "text/plain": [
              "HBox(children=(FloatProgress(value=0.0), HTML(value='')))"
            ]
          },
          "metadata": {
            "tags": []
          }
        },
        {
          "output_type": "stream",
          "text": [
            "\n"
          ],
          "name": "stdout"
        }
      ]
    },
    {
      "cell_type": "markdown",
      "metadata": {
        "colab_type": "text",
        "id": "m2P8oPj1M7ci"
      },
      "source": [
        "* Factores Latentes (factors) = 50\n",
        "* Regularización = 0.1\n",
        "* Learning rate = 0.01"
      ]
    },
    {
      "cell_type": "code",
      "metadata": {
        "colab_type": "code",
        "id": "9f8ku1VUZ4lG",
        "colab": {
          "base_uri": "https://localhost:8080/",
          "height": 83,
          "referenced_widgets": [
            "862dbf4e938b48a0b4f36ca46c8111f8",
            "c554b94f9a2948d184267af35dbe48cd",
            "713238e73eeb4338b1b50762101c5e07",
            "337d3b89073a4bea857e0e16ddd1763f",
            "4ec50b1145724695aff66d6a8aebf9d5",
            "fa22d9f61ba5463f93b0a3f90e5016d1",
            "e58857c3aef340e1abc9ac578db2a0af",
            "fd9c5fc3cc764eeaab88b838fbb70fd7"
          ]
        },
        "outputId": "8458c9ec-e0d5-4063-ec24-b409486aae36"
      },
      "source": [
        "@count_elapsed_time\n",
        "def test():\n",
        "\n",
        "  factors=50\n",
        "  regularization=0.1\n",
        "  learning_rate=0.01\n",
        "\n",
        "  # Definimos y entrenamos el modelo de implicit feedback utilizando optimizacion BPR\n",
        "  model_bpr3 = implicit.bpr.BayesianPersonalizedRanking(factors,regularization,learning_rate,use_gpu=False, num_threads=1)\n",
        "  model_bpr3.fit(X_train)\n",
        "\n",
        "test()"
      ],
      "execution_count": null,
      "outputs": [
        {
          "output_type": "display_data",
          "data": {
            "application/vnd.jupyter.widget-view+json": {
              "model_id": "862dbf4e938b48a0b4f36ca46c8111f8",
              "version_minor": 0,
              "version_major": 2
            },
            "text/plain": [
              "HBox(children=(FloatProgress(value=0.0), HTML(value='')))"
            ]
          },
          "metadata": {
            "tags": []
          }
        },
        {
          "output_type": "stream",
          "text": [
            "\n",
            "Elapsed time: 2.8489432335 seconds.\n"
          ],
          "name": "stdout"
        }
      ]
    },
    {
      "cell_type": "code",
      "metadata": {
        "colab_type": "code",
        "id": "mqU9HR2tgQQO",
        "colab": {
          "base_uri": "https://localhost:8080/",
          "height": 66,
          "referenced_widgets": [
            "73bda5e45f664258aa9b3505b2dac7c6",
            "5e2437ccf8a5481b854f3ceb0bde5df6",
            "c4cc6025118144668f5ce88df1debd85",
            "a792bfd340bf4c5ab2a2c7bf28e35354",
            "507adee82060416cad3dc09043488eb9",
            "7a6f25994d98496a92d954569314eba9",
            "1a941dd1dc7143cbb7c299856e03750c",
            "432f4519b3c244c78587b1f2bb5c8290"
          ]
        },
        "outputId": "d151e86a-6798-404f-c035-2320d4c63b5e"
      },
      "source": [
        "factors=50\n",
        "regularization=0.1\n",
        "learning_rate=0.001\n",
        "\n",
        "# Definimos y entrenamos el modelo de implicit feedback utilizando optimizacion BPR\n",
        "model_bpr3 = implicit.bpr.BayesianPersonalizedRanking(factors,regularization,learning_rate,use_gpu=False, num_threads=1)\n",
        "model_bpr3.fit(X_train)"
      ],
      "execution_count": null,
      "outputs": [
        {
          "output_type": "display_data",
          "data": {
            "application/vnd.jupyter.widget-view+json": {
              "model_id": "73bda5e45f664258aa9b3505b2dac7c6",
              "version_minor": 0,
              "version_major": 2
            },
            "text/plain": [
              "HBox(children=(FloatProgress(value=0.0), HTML(value='')))"
            ]
          },
          "metadata": {
            "tags": []
          }
        },
        {
          "output_type": "stream",
          "text": [
            "\n"
          ],
          "name": "stdout"
        }
      ]
    },
    {
      "cell_type": "markdown",
      "metadata": {
        "colab_type": "text",
        "id": "l5GEjiIBM7cv"
      },
      "source": [
        "* Factores Latentes (factors) = 50\n",
        "* Regularización = 0.1\n",
        "* Learning rate = 0.01"
      ]
    },
    {
      "cell_type": "code",
      "metadata": {
        "colab_type": "code",
        "id": "axR7xTeWZ5oL",
        "colab": {
          "base_uri": "https://localhost:8080/",
          "height": 83,
          "referenced_widgets": [
            "613ea73184844309a0367da0acb7127d",
            "e5ca4a7880bd482d85c5c0a4dd56d90e",
            "febe8b58091f403da83416abbce40129",
            "2aaafa78c9ee45d698b584703b4ecce6",
            "267d9c415939429f9456e0f65ec08a13",
            "3b94ae90d1c04a2380b4c030f9ed1a08",
            "f25106727c9e4f40b2673a8c355e1cad",
            "6442eebe39234ae3a6ee3e1303b27dad"
          ]
        },
        "outputId": "4004f8f6-3b9a-4fe8-e51f-f9ff2d8ce0cb"
      },
      "source": [
        "@count_elapsed_time\n",
        "def test():\n",
        "\n",
        "  factors=50\n",
        "  regularization=0.1\n",
        "  learning_rate=0.01\n",
        "\n",
        "  # Definimos y entrenamos el modelo de implicit feedback utilizando optimizacion BPR\n",
        "  model_bpr4 = implicit.bpr.BayesianPersonalizedRanking(factors,regularization,learning_rate,use_gpu=False, num_threads=1)\n",
        "  model_bpr4.fit(X_train)\n",
        "\n",
        "test()"
      ],
      "execution_count": null,
      "outputs": [
        {
          "output_type": "display_data",
          "data": {
            "application/vnd.jupyter.widget-view+json": {
              "model_id": "613ea73184844309a0367da0acb7127d",
              "version_minor": 0,
              "version_major": 2
            },
            "text/plain": [
              "HBox(children=(FloatProgress(value=0.0), HTML(value='')))"
            ]
          },
          "metadata": {
            "tags": []
          }
        },
        {
          "output_type": "stream",
          "text": [
            "\n",
            "Elapsed time: 2.7760121822 seconds.\n"
          ],
          "name": "stdout"
        }
      ]
    },
    {
      "cell_type": "code",
      "metadata": {
        "colab_type": "code",
        "id": "cPQWqnXsgRoN",
        "colab": {
          "base_uri": "https://localhost:8080/",
          "height": 66,
          "referenced_widgets": [
            "872cd1d2c50a40c4bc4ef374792722a4",
            "abc10ae0fc3b45f385e4d5e622a4e561",
            "a3fe1b1114564fc88af03610215b9000",
            "090a0980b6b341628cf4f6e131778d8f",
            "999e589570f34f2c9884fc4cb83612cd",
            "8cf5a107f4d54064939a034a34bf11d1",
            "20078c6c1b6840278e47a45c59feb6cd",
            "7cf10616752a472b8f86bf60159b4edd"
          ]
        },
        "outputId": "f59d4e56-705a-4661-a501-91df3685f365"
      },
      "source": [
        "factors=50\n",
        "regularization=0.1\n",
        "learning_rate=0.001\n",
        "\n",
        "# Definimos y entrenamos el modelo de implicit feedback utilizando optimizacion BPR\n",
        "model_bpr4 = implicit.bpr.BayesianPersonalizedRanking(factors,regularization,learning_rate,use_gpu=False, num_threads=1)\n",
        "model_bpr4.fit(X_train)"
      ],
      "execution_count": null,
      "outputs": [
        {
          "output_type": "display_data",
          "data": {
            "application/vnd.jupyter.widget-view+json": {
              "model_id": "872cd1d2c50a40c4bc4ef374792722a4",
              "version_minor": 0,
              "version_major": 2
            },
            "text/plain": [
              "HBox(children=(FloatProgress(value=0.0), HTML(value='')))"
            ]
          },
          "metadata": {
            "tags": []
          }
        },
        {
          "output_type": "stream",
          "text": [
            "\n"
          ],
          "name": "stdout"
        }
      ]
    },
    {
      "cell_type": "markdown",
      "metadata": {
        "colab_type": "text",
        "id": "lmW6k_U_M7c4"
      },
      "source": [
        "* Factores Latentes (factors) = 100\n",
        "* Regularización = 0.01\n",
        "* Learning rate = 0.001"
      ]
    },
    {
      "cell_type": "code",
      "metadata": {
        "colab_type": "code",
        "id": "2KhLuH-kZ6fB",
        "colab": {
          "base_uri": "https://localhost:8080/",
          "height": 83,
          "referenced_widgets": [
            "5ea29e498136425884e576034dcd47e6",
            "ca65ea0ce1754c61a44b255208ac3357",
            "335b1a8dd42747f08529f78dffea8ceb",
            "698757901a654883a2b993ec76c7f47a",
            "2d3e8154dad946768e885b2ab4b22279",
            "79e871f8236246a89e320ea46dc48085",
            "6b784d73ea864f3d9a356835a8b81896",
            "2af67b641930448aaad831f4ceeb63b6"
          ]
        },
        "outputId": "93fcef27-4eda-4dc4-9003-2e9f46e3dd7d"
      },
      "source": [
        "@count_elapsed_time\n",
        "def test():\n",
        "\n",
        "  factors=100\n",
        "  regularization=0.01\n",
        "  learning_rate=0.001\n",
        "\n",
        "  # Definimos y entrenamos el modelo de implicit feedback utilizando optimizacion BPR\n",
        "  model_bpr5 = implicit.bpr.BayesianPersonalizedRanking(factors,regularization,learning_rate,use_gpu=False, num_threads=1)\n",
        "  model_bpr5.fit(X_train)\n",
        "\n",
        "test()"
      ],
      "execution_count": null,
      "outputs": [
        {
          "output_type": "display_data",
          "data": {
            "application/vnd.jupyter.widget-view+json": {
              "model_id": "5ea29e498136425884e576034dcd47e6",
              "version_minor": 0,
              "version_major": 2
            },
            "text/plain": [
              "HBox(children=(FloatProgress(value=0.0), HTML(value='')))"
            ]
          },
          "metadata": {
            "tags": []
          }
        },
        {
          "output_type": "stream",
          "text": [
            "\n",
            "Elapsed time: 3.6388626099 seconds.\n"
          ],
          "name": "stdout"
        }
      ]
    },
    {
      "cell_type": "code",
      "metadata": {
        "colab_type": "code",
        "id": "r7oWzrIygT1_",
        "colab": {
          "base_uri": "https://localhost:8080/",
          "height": 66,
          "referenced_widgets": [
            "bbaf63e0c33243ff88acbe288374a0dc",
            "638df6f5d89b4cf2b110e95c8d90b081",
            "60d947907fdf4dd7ad42c53ee1beb51a",
            "833a9e832b8e469eac4eaa6da91344b1",
            "cb882c2356a64a279d8e4b452d4db2c7",
            "7a213f81a78b482cac6a06d8e095fc87",
            "88e4d14af71a49b583cb2f5672b503e0",
            "9e936e996ff74482b7fd4aa377e48735"
          ]
        },
        "outputId": "d380408c-263d-4aa9-f84c-29c68c49c165"
      },
      "source": [
        "factors=100\n",
        "regularization=0.01\n",
        "learning_rate=0.001\n",
        "\n",
        "# Definimos y entrenamos el modelo de implicit feedback utilizando optimizacion BPR\n",
        "model_bpr5 = implicit.bpr.BayesianPersonalizedRanking(factors,regularization,learning_rate,use_gpu=False, num_threads=1)\n",
        "model_bpr5.fit(X_train)"
      ],
      "execution_count": null,
      "outputs": [
        {
          "output_type": "display_data",
          "data": {
            "application/vnd.jupyter.widget-view+json": {
              "model_id": "bbaf63e0c33243ff88acbe288374a0dc",
              "version_minor": 0,
              "version_major": 2
            },
            "text/plain": [
              "HBox(children=(FloatProgress(value=0.0), HTML(value='')))"
            ]
          },
          "metadata": {
            "tags": []
          }
        },
        {
          "output_type": "stream",
          "text": [
            "\n"
          ],
          "name": "stdout"
        }
      ]
    },
    {
      "cell_type": "markdown",
      "metadata": {
        "colab_type": "text",
        "id": "3mcF5-0CR_XF"
      },
      "source": [
        "* Factores Latentes (factors) = 100\n",
        "* Regularización = 0.01\n",
        "* Learning rate = 0.01"
      ]
    },
    {
      "cell_type": "code",
      "metadata": {
        "colab_type": "code",
        "id": "xtsjLRP4Z8No",
        "colab": {
          "base_uri": "https://localhost:8080/",
          "height": 83,
          "referenced_widgets": [
            "f08f5844d41d48da846b6af5d5d9e189",
            "8736affa23194d7e968f09bc50c21452",
            "fe364e070b57442cb7e712b9e9651e74",
            "cd515302baf349cea9c6e33a411ab071",
            "45b2befe838b4ce79d80c495c62ea67a",
            "ff01bbf2baae485bb6b3fbfd1618d8cb",
            "0e7f46fcd52449a599d364d2cf93385f",
            "f24f4f9a9c43493ba8eb840aab9ea844"
          ]
        },
        "outputId": "717a6142-1b1e-46a7-f09f-a5b1ac865058"
      },
      "source": [
        "@count_elapsed_time\n",
        "def test():\n",
        "\n",
        "  factors=100\n",
        "  regularization=0.01\n",
        "  learning_rate=0.01\n",
        "\n",
        "  # Definimos y entrenamos el modelo de implicit feedback utilizando optimizacion BPR\n",
        "  model_bpr6 = implicit.bpr.BayesianPersonalizedRanking(factors,regularization,learning_rate,use_gpu=False, num_threads=1)\n",
        "  model_bpr6.fit(X_train)\n",
        "\n",
        "test()"
      ],
      "execution_count": null,
      "outputs": [
        {
          "output_type": "display_data",
          "data": {
            "application/vnd.jupyter.widget-view+json": {
              "model_id": "f08f5844d41d48da846b6af5d5d9e189",
              "version_minor": 0,
              "version_major": 2
            },
            "text/plain": [
              "HBox(children=(FloatProgress(value=0.0), HTML(value='')))"
            ]
          },
          "metadata": {
            "tags": []
          }
        },
        {
          "output_type": "stream",
          "text": [
            "\n",
            "Elapsed time: 3.6991169453 seconds.\n"
          ],
          "name": "stdout"
        }
      ]
    },
    {
      "cell_type": "code",
      "metadata": {
        "colab_type": "code",
        "id": "-RLRi9LzgV57",
        "colab": {
          "base_uri": "https://localhost:8080/",
          "height": 66,
          "referenced_widgets": [
            "0d6aba47ed584c5da2f77b9ac0d1d425",
            "f98938161d0049f58dadcf019555d392",
            "7e4eb156cace4e738d15f13e3d504b9e",
            "a902101e8e144954953e0e8704a7ee9e",
            "f94fd8df5fdf4422bc9b6dd0a6f4f2e0",
            "491177264496490fb1d74506bb1a8a19",
            "8940dc9163de49d89604571d9b2c5a31",
            "7e3bd83afafd41819e03bef5681c411b"
          ]
        },
        "outputId": "10df5b06-1335-4bae-d4fb-3146ba815d7b"
      },
      "source": [
        "factors=100\n",
        "regularization=0.01\n",
        "learning_rate=0.01\n",
        "\n",
        "# Definimos y entrenamos el modelo de implicit feedback utilizando optimizacion BPR\n",
        "model_bpr6 = implicit.bpr.BayesianPersonalizedRanking(factors,regularization,learning_rate,use_gpu=False, num_threads=1)\n",
        "model_bpr6.fit(X_train)"
      ],
      "execution_count": null,
      "outputs": [
        {
          "output_type": "display_data",
          "data": {
            "application/vnd.jupyter.widget-view+json": {
              "model_id": "0d6aba47ed584c5da2f77b9ac0d1d425",
              "version_minor": 0,
              "version_major": 2
            },
            "text/plain": [
              "HBox(children=(FloatProgress(value=0.0), HTML(value='')))"
            ]
          },
          "metadata": {
            "tags": []
          }
        },
        {
          "output_type": "stream",
          "text": [
            "\n"
          ],
          "name": "stdout"
        }
      ]
    },
    {
      "cell_type": "markdown",
      "metadata": {
        "colab_type": "text",
        "id": "McIULuxHR_vw"
      },
      "source": [
        "* Factores Latentes (factors) = 100\n",
        "* Regularización = 0.1\n",
        "* Learning rate = 0.001"
      ]
    },
    {
      "cell_type": "code",
      "metadata": {
        "colab_type": "code",
        "id": "12ggWMSXZ9Og",
        "colab": {
          "base_uri": "https://localhost:8080/",
          "height": 83,
          "referenced_widgets": [
            "efcd6ebeea014c789c95ce258fe64063",
            "941406e2ffcb4680aba60c59a9c29def",
            "234c751c7a5e4139a5ea92b168c6df5e",
            "de433ea108f542c7a2ccdb66269f01fa",
            "675288ee657e42c4825b2049e072c0f9",
            "be3af47448804e32a3de49e8fb91fd0d",
            "c5df9fae210a4198aba3419a59b888f9",
            "f693ddc8a2f74e07919dd96ce1066cd7"
          ]
        },
        "outputId": "240ef29b-e8f4-498f-dd69-52d10e0e3978"
      },
      "source": [
        "@count_elapsed_time\n",
        "def test():\n",
        "\n",
        "  factors=100\n",
        "  regularization=0.1\n",
        "  learning_rate=0.001\n",
        "\n",
        "  # Definimos y entrenamos el modelo de implicit feedback utilizando optimizacion BPR\n",
        "  model_bpr7 = implicit.bpr.BayesianPersonalizedRanking(factors,regularization,learning_rate,use_gpu=False, num_threads=1)\n",
        "  model_bpr7.fit(X_train)\n",
        "\n",
        "test()"
      ],
      "execution_count": null,
      "outputs": [
        {
          "output_type": "display_data",
          "data": {
            "application/vnd.jupyter.widget-view+json": {
              "model_id": "efcd6ebeea014c789c95ce258fe64063",
              "version_minor": 0,
              "version_major": 2
            },
            "text/plain": [
              "HBox(children=(FloatProgress(value=0.0), HTML(value='')))"
            ]
          },
          "metadata": {
            "tags": []
          }
        },
        {
          "output_type": "stream",
          "text": [
            "\n",
            "Elapsed time: 3.5153992176 seconds.\n"
          ],
          "name": "stdout"
        }
      ]
    },
    {
      "cell_type": "code",
      "metadata": {
        "colab_type": "code",
        "id": "FNQpe0PGgZaT",
        "colab": {
          "base_uri": "https://localhost:8080/",
          "height": 66,
          "referenced_widgets": [
            "a89ac6a9666a4dd89ef2bf300b86dad7",
            "8e8d5aa254e44bd88b97a7e8a958574f",
            "9276ee1a676c483da27e316b80ea8caa",
            "310095c37b51420a96e76217dbd98d43",
            "ab3c0e77a87c473d9edec5924ade8e40",
            "4ee900c03a4a4956a101829b55e8ed9f",
            "cef56c4b76ea43a481df28c27a656a8a",
            "564969b0857d4d0b8f009fbf69940f02"
          ]
        },
        "outputId": "d0bf9e3e-008e-42c7-da9e-2190e28f3401"
      },
      "source": [
        "factors=100\n",
        "regularization=0.1\n",
        "learning_rate=0.001\n",
        "\n",
        "# Definimos y entrenamos el modelo de implicit feedback utilizando optimizacion BPR\n",
        "model_bpr7 = implicit.bpr.BayesianPersonalizedRanking(factors,regularization,learning_rate,use_gpu=False, num_threads=1)\n",
        "model_bpr7.fit(X_train)"
      ],
      "execution_count": null,
      "outputs": [
        {
          "output_type": "display_data",
          "data": {
            "application/vnd.jupyter.widget-view+json": {
              "model_id": "a89ac6a9666a4dd89ef2bf300b86dad7",
              "version_minor": 0,
              "version_major": 2
            },
            "text/plain": [
              "HBox(children=(FloatProgress(value=0.0), HTML(value='')))"
            ]
          },
          "metadata": {
            "tags": []
          }
        },
        {
          "output_type": "stream",
          "text": [
            "\n"
          ],
          "name": "stdout"
        }
      ]
    },
    {
      "cell_type": "markdown",
      "metadata": {
        "colab_type": "text",
        "id": "cokIexl8SADm"
      },
      "source": [
        "* Factores Latentes (factors) = 100\n",
        "* Regularización = 0.1\n",
        "* Learning rate = 0.01"
      ]
    },
    {
      "cell_type": "code",
      "metadata": {
        "colab_type": "code",
        "id": "BIDIESfYZ-E5",
        "colab": {
          "base_uri": "https://localhost:8080/",
          "height": 83,
          "referenced_widgets": [
            "2e8f4afc518d40f8a26bc11845023191",
            "54df09f723524246b2a22e8d48b3f23b",
            "606c233ce8de453eaf57f82897f17245",
            "a84bf864bd3c4627af000d71e33c88e5",
            "fc43534ee695465482056e4d207e7989",
            "946c18ce0b1b42878110e355693130b9",
            "ed5558060cf1427aa9b32246f3e61e02",
            "4385d5a7c4004fafb7f45e75fdb3579e"
          ]
        },
        "outputId": "5b8fee16-a29a-420e-8fb4-ea048e661f91"
      },
      "source": [
        "@count_elapsed_time\n",
        "def test():\n",
        "\n",
        "  factors=100\n",
        "  regularization=0.1\n",
        "  learning_rate=0.01\n",
        "\n",
        "  # Definimos y entrenamos el modelo de implicit feedback utilizando optimizacion BPR\n",
        "  model_bpr8 = implicit.bpr.BayesianPersonalizedRanking(factors,regularization,learning_rate,use_gpu=False, num_threads=1)\n",
        "  model_bpr8.fit(X_train)\n",
        "\n",
        "test()"
      ],
      "execution_count": null,
      "outputs": [
        {
          "output_type": "display_data",
          "data": {
            "application/vnd.jupyter.widget-view+json": {
              "model_id": "2e8f4afc518d40f8a26bc11845023191",
              "version_minor": 0,
              "version_major": 2
            },
            "text/plain": [
              "HBox(children=(FloatProgress(value=0.0), HTML(value='')))"
            ]
          },
          "metadata": {
            "tags": []
          }
        },
        {
          "output_type": "stream",
          "text": [
            "\n",
            "Elapsed time: 3.5482349396 seconds.\n"
          ],
          "name": "stdout"
        }
      ]
    },
    {
      "cell_type": "code",
      "metadata": {
        "colab_type": "code",
        "id": "-tFiPZISga0Y",
        "colab": {
          "base_uri": "https://localhost:8080/",
          "height": 66,
          "referenced_widgets": [
            "0119a89603774fdcb5866fd3133dab0b",
            "e8101ce628e840a095aab5c917b6ebfa",
            "040a35a2578949b28c2cbaa8b3ca1ab6",
            "de4f196de4e94c19a59f24d1c95db2dd",
            "a5d62d05157345c6ba056d528c70eb2f",
            "d8b5eadc7e5c49f5964d5595192d9adf",
            "3670e7f664804da8865df5c694b68c6b",
            "13f2e671fede4711aec8fce07d16bbd9"
          ]
        },
        "outputId": "6f37e184-85f7-4ef7-f84c-5b3a6227ecea"
      },
      "source": [
        "factors=100\n",
        "regularization=0.1\n",
        "learning_rate=0.01\n",
        "\n",
        "# Definimos y entrenamos el modelo de implicit feedback utilizando optimizacion BPR\n",
        "model_bpr8 = implicit.bpr.BayesianPersonalizedRanking(factors,regularization,learning_rate,use_gpu=False, num_threads=1)\n",
        "model_bpr8.fit(X_train)"
      ],
      "execution_count": null,
      "outputs": [
        {
          "output_type": "display_data",
          "data": {
            "application/vnd.jupyter.widget-view+json": {
              "model_id": "0119a89603774fdcb5866fd3133dab0b",
              "version_minor": 0,
              "version_major": 2
            },
            "text/plain": [
              "HBox(children=(FloatProgress(value=0.0), HTML(value='')))"
            ]
          },
          "metadata": {
            "tags": []
          }
        },
        {
          "output_type": "stream",
          "text": [
            "\n"
          ],
          "name": "stdout"
        }
      ]
    },
    {
      "cell_type": "markdown",
      "metadata": {
        "colab_type": "text",
        "id": "oRR5rQknRzqc"
      },
      "source": [
        "* Factores Latentes (factors) = 200\n",
        "* Regularización = 0.01\n",
        "* Learning rate = 0.001"
      ]
    },
    {
      "cell_type": "code",
      "metadata": {
        "colab_type": "code",
        "id": "dTvE3gj5aAYe",
        "colab": {
          "base_uri": "https://localhost:8080/",
          "height": 83,
          "referenced_widgets": [
            "8889e58797034d42acba6e9f688b227a",
            "d35218dd160d4d4e8937e0f67622799f",
            "8abee4f30ab4471d90666f94a077e0bd",
            "0648ae758ae047bfa686c18c15136736",
            "1ce0e09fcfeb477bb7b49b40eb8be2e9",
            "73f91c58fde047c3a4b8a593be94c1ff",
            "562d5c8d7b074075a354e7d11546b251",
            "6a65356c0d2e43028cc4fdf152d4fbf7"
          ]
        },
        "outputId": "4677f648-6808-4a6b-f0dd-24a85582bbb6"
      },
      "source": [
        "@count_elapsed_time\n",
        "def test():\n",
        "\n",
        "  factors=200\n",
        "  regularization=0.01\n",
        "  learning_rate=0.001\n",
        "\n",
        "  # Definimos y entrenamos el modelo de implicit feedback utilizando optimizacion BPR\n",
        "  model_bpr9 = implicit.bpr.BayesianPersonalizedRanking(factors,regularization,learning_rate,use_gpu=False, num_threads=1)\n",
        "  model_bpr9.fit(X_train)\n",
        "\n",
        "test()"
      ],
      "execution_count": null,
      "outputs": [
        {
          "output_type": "display_data",
          "data": {
            "application/vnd.jupyter.widget-view+json": {
              "model_id": "8889e58797034d42acba6e9f688b227a",
              "version_minor": 0,
              "version_major": 2
            },
            "text/plain": [
              "HBox(children=(FloatProgress(value=0.0), HTML(value='')))"
            ]
          },
          "metadata": {
            "tags": []
          }
        },
        {
          "output_type": "stream",
          "text": [
            "\n",
            "Elapsed time: 5.0914733410 seconds.\n"
          ],
          "name": "stdout"
        }
      ]
    },
    {
      "cell_type": "code",
      "metadata": {
        "colab_type": "code",
        "id": "5Mry2ZuAgcK6",
        "colab": {
          "base_uri": "https://localhost:8080/",
          "height": 66,
          "referenced_widgets": [
            "c2b1b2150f324855856055338cf83121",
            "2c55a1410f234304b1dac241d4434dff",
            "e7a1ea5277c6457ebd138c75dcca09a5",
            "c2b58dc3c38e4350aa026b935af61ab9",
            "a132089a436444f993d9695330f1a843",
            "ef738b53fd6242099d2b9532fa934617",
            "1ffcbb2385a943e4bb5ae9f66e70dfa5",
            "aeb5a91d9d194de3a73e0f8b7d8f9275"
          ]
        },
        "outputId": "881708d0-67d7-4234-bff6-d054a1a2fe97"
      },
      "source": [
        "factors=200\n",
        "regularization=0.01\n",
        "learning_rate=0.001\n",
        "\n",
        "# Definimos y entrenamos el modelo de implicit feedback utilizando optimizacion BPR\n",
        "model_bpr9 = implicit.bpr.BayesianPersonalizedRanking(factors,regularization,learning_rate,use_gpu=False, num_threads=1)\n",
        "model_bpr9.fit(X_train)"
      ],
      "execution_count": null,
      "outputs": [
        {
          "output_type": "display_data",
          "data": {
            "application/vnd.jupyter.widget-view+json": {
              "model_id": "c2b1b2150f324855856055338cf83121",
              "version_minor": 0,
              "version_major": 2
            },
            "text/plain": [
              "HBox(children=(FloatProgress(value=0.0), HTML(value='')))"
            ]
          },
          "metadata": {
            "tags": []
          }
        },
        {
          "output_type": "stream",
          "text": [
            "\n"
          ],
          "name": "stdout"
        }
      ]
    },
    {
      "cell_type": "markdown",
      "metadata": {
        "colab_type": "text",
        "id": "nRkQ2_S3SB72"
      },
      "source": [
        "* Factores Latentes (factors) = 200\n",
        "* Regularización = 0.01\n",
        "* Learning rate = 0.01"
      ]
    },
    {
      "cell_type": "code",
      "metadata": {
        "colab_type": "code",
        "id": "Hvo7Is2paBWM",
        "colab": {
          "base_uri": "https://localhost:8080/",
          "height": 83,
          "referenced_widgets": [
            "4b0304c89e154c9d95178c63cbb788a3",
            "b0d6fa7504774001977d49fc01fcfafa",
            "b22fe0fe97874cd7a9d055b62bc1f29e",
            "3eb051357d5e4332b08ddf38f5b0fe72",
            "cbadb104de344ca38e707ca9150d4c82",
            "8baa68918fa1412ea016aff69bcfe582",
            "da3d328f1e6f4b079a4cc1fb08031b16",
            "95a9ebe77ae6450692b8f8b406a4a5bb"
          ]
        },
        "outputId": "3bdfe7fe-90ec-405f-dcea-545d19399bd7"
      },
      "source": [
        "@count_elapsed_time\n",
        "def test():\n",
        "\n",
        "  factors=200\n",
        "  regularization=0.01\n",
        "  learning_rate=0.01\n",
        "\n",
        "  # Definimos y entrenamos el modelo de implicit feedback utilizando optimizacion BPR\n",
        "  model_bpr10 = implicit.bpr.BayesianPersonalizedRanking(factors,regularization,learning_rate,use_gpu=False, num_threads=1)\n",
        "  model_bpr10.fit(X_train)\n",
        "\n",
        "test()"
      ],
      "execution_count": null,
      "outputs": [
        {
          "output_type": "display_data",
          "data": {
            "application/vnd.jupyter.widget-view+json": {
              "model_id": "4b0304c89e154c9d95178c63cbb788a3",
              "version_minor": 0,
              "version_major": 2
            },
            "text/plain": [
              "HBox(children=(FloatProgress(value=0.0), HTML(value='')))"
            ]
          },
          "metadata": {
            "tags": []
          }
        },
        {
          "output_type": "stream",
          "text": [
            "\n",
            "Elapsed time: 5.0650684834 seconds.\n"
          ],
          "name": "stdout"
        }
      ]
    },
    {
      "cell_type": "code",
      "metadata": {
        "colab_type": "code",
        "id": "hdctjdMFgdnB",
        "colab": {
          "base_uri": "https://localhost:8080/",
          "height": 66,
          "referenced_widgets": [
            "fa818f6f275648779ea44cabefc8fb6b",
            "426907c901c046bf8649b8b9245ee834",
            "7c4975e650e44daeb2c99a49c5f00958",
            "81e19d868ac64823a74f1d9382482530",
            "007f409680ee423d9399cb88312b1401",
            "3fc6ea3990fe45769230ccd44fc87282",
            "4c4f489aaa6b4dbca2f42167310ca4c0",
            "764511453af346bdb2bc65337843e7a0"
          ]
        },
        "outputId": "2ab4d7dd-1c70-42ba-abc7-6f2ed55aa08b"
      },
      "source": [
        "factors=200\n",
        "regularization=0.01\n",
        "learning_rate=0.01\n",
        "\n",
        "# Definimos y entrenamos el modelo de implicit feedback utilizando optimizacion BPR\n",
        "model_bpr10 = implicit.bpr.BayesianPersonalizedRanking(factors,regularization,learning_rate,use_gpu=False, num_threads=1)\n",
        "model_bpr10.fit(X_train)"
      ],
      "execution_count": null,
      "outputs": [
        {
          "output_type": "display_data",
          "data": {
            "application/vnd.jupyter.widget-view+json": {
              "model_id": "fa818f6f275648779ea44cabefc8fb6b",
              "version_minor": 0,
              "version_major": 2
            },
            "text/plain": [
              "HBox(children=(FloatProgress(value=0.0), HTML(value='')))"
            ]
          },
          "metadata": {
            "tags": []
          }
        },
        {
          "output_type": "stream",
          "text": [
            "\n"
          ],
          "name": "stdout"
        }
      ]
    },
    {
      "cell_type": "markdown",
      "metadata": {
        "colab_type": "text",
        "id": "AjmpR7m6SD06"
      },
      "source": [
        "* Factores Latentes (factors) = 200\n",
        "* Regularización = 0.1\n",
        "* Learning rate = 0.001"
      ]
    },
    {
      "cell_type": "code",
      "metadata": {
        "colab_type": "code",
        "id": "vWet1euoaCak",
        "colab": {
          "base_uri": "https://localhost:8080/",
          "height": 83,
          "referenced_widgets": [
            "357b9d4c14ed4ddb8199317128c1d6e6",
            "0e3b945c6abc44c7b7c148222222e02d",
            "034c514c1afd4413b42f4ee92582fb11",
            "81e863c1e39d4cb2a8b0d848c2bbe05f",
            "3dda311cf14f4892a8812983b12e5cf9",
            "1880be4ed5a8471fa6fd703086054208",
            "87a4c0b082f144b18c0e8d19b60adff8",
            "ed5a9b05bdee4f869e495a4251e54692"
          ]
        },
        "outputId": "c16925c5-a8cb-4f2a-c832-019ea575ee19"
      },
      "source": [
        "@count_elapsed_time\n",
        "def test():\n",
        "\n",
        "  factors=200\n",
        "  regularization=0.1\n",
        "  learning_rate=0.001\n",
        "\n",
        "  # Definimos y entrenamos el modelo de implicit feedback utilizando optimizacion BPR\n",
        "  model_bpr11 = implicit.bpr.BayesianPersonalizedRanking(factors,regularization,learning_rate,use_gpu=False, num_threads=1)\n",
        "  model_bpr11.fit(X_train)\n",
        "\n",
        "test()"
      ],
      "execution_count": null,
      "outputs": [
        {
          "output_type": "display_data",
          "data": {
            "application/vnd.jupyter.widget-view+json": {
              "model_id": "357b9d4c14ed4ddb8199317128c1d6e6",
              "version_minor": 0,
              "version_major": 2
            },
            "text/plain": [
              "HBox(children=(FloatProgress(value=0.0), HTML(value='')))"
            ]
          },
          "metadata": {
            "tags": []
          }
        },
        {
          "output_type": "stream",
          "text": [
            "\n",
            "Elapsed time: 4.9426422119 seconds.\n"
          ],
          "name": "stdout"
        }
      ]
    },
    {
      "cell_type": "code",
      "metadata": {
        "colab_type": "code",
        "id": "XSJ0S9QEgfPO",
        "colab": {
          "base_uri": "https://localhost:8080/",
          "height": 66,
          "referenced_widgets": [
            "a0ef217efe6541d3900ef6af3bf59f23",
            "94936aac61e747c7b9537e2baa2c62b9",
            "10f3a7edef4a4fbc9587b8e824f368bc",
            "00b252c83e874b42a8d8c4d2a6984da7",
            "b79f0d307f8b4e63b1b3aafc4553e4f6",
            "0eca295f8ea642e099fcd94c5f9a82e8",
            "7b34f779dc584d5385f2c8c0ab224d67",
            "0391be94bbf54660b2b13f7558c10465"
          ]
        },
        "outputId": "b28b34d5-c65c-4007-ef76-c885f008c4bf"
      },
      "source": [
        "factors=200\n",
        "regularization=0.1\n",
        "learning_rate=0.001\n",
        "\n",
        "# Definimos y entrenamos el modelo de implicit feedback utilizando optimizacion BPR\n",
        "model_bpr11 = implicit.bpr.BayesianPersonalizedRanking(factors,regularization,learning_rate,use_gpu=False, num_threads=1)\n",
        "model_bpr11.fit(X_train)"
      ],
      "execution_count": null,
      "outputs": [
        {
          "output_type": "display_data",
          "data": {
            "application/vnd.jupyter.widget-view+json": {
              "model_id": "a0ef217efe6541d3900ef6af3bf59f23",
              "version_minor": 0,
              "version_major": 2
            },
            "text/plain": [
              "HBox(children=(FloatProgress(value=0.0), HTML(value='')))"
            ]
          },
          "metadata": {
            "tags": []
          }
        },
        {
          "output_type": "stream",
          "text": [
            "\n"
          ],
          "name": "stdout"
        }
      ]
    },
    {
      "cell_type": "markdown",
      "metadata": {
        "colab_type": "text",
        "id": "Lgw3o6q-SEJ-"
      },
      "source": [
        "* Factores Latentes (factors) = 200\n",
        "* Regularización = 0.1\n",
        "* Learning rate = 0.01"
      ]
    },
    {
      "cell_type": "code",
      "metadata": {
        "colab_type": "code",
        "id": "bZcCDqpSaDhL",
        "colab": {
          "base_uri": "https://localhost:8080/",
          "height": 83,
          "referenced_widgets": [
            "4348139c45ba4ae8b58814c42c48238d",
            "647eee250d974de89adf645626a3373e",
            "550da55975d142438e28d15b28b908fb",
            "947a4aa065dd48d08ab72eecaa60c09d",
            "4b5457b251cc4a84bcc4770139e4ae1e",
            "efabf32cc3764222aa6a065d37e6fc7d",
            "5a72f979a9b949c1ade66e5bc74df255",
            "0707ea7cde8f4bb4863b0505bc00831d"
          ]
        },
        "outputId": "38e2cea5-c0ec-48d6-84b3-6000799e640e"
      },
      "source": [
        "@count_elapsed_time\n",
        "def test():\n",
        "\n",
        "  factors=200\n",
        "  regularization=0.1\n",
        "  learning_rate=0.01\n",
        "\n",
        "  # Definimos y entrenamos el modelo de implicit feedback utilizando optimizacion BPR\n",
        "  model_bpr12 = implicit.bpr.BayesianPersonalizedRanking(factors,regularization,learning_rate,use_gpu=False, num_threads=1)\n",
        "  model_bpr12.fit(X_train)\n",
        "\n",
        "test()"
      ],
      "execution_count": null,
      "outputs": [
        {
          "output_type": "display_data",
          "data": {
            "application/vnd.jupyter.widget-view+json": {
              "model_id": "4348139c45ba4ae8b58814c42c48238d",
              "version_minor": 0,
              "version_major": 2
            },
            "text/plain": [
              "HBox(children=(FloatProgress(value=0.0), HTML(value='')))"
            ]
          },
          "metadata": {
            "tags": []
          }
        },
        {
          "output_type": "stream",
          "text": [
            "\n",
            "Elapsed time: 4.8526723385 seconds.\n"
          ],
          "name": "stdout"
        }
      ]
    },
    {
      "cell_type": "code",
      "metadata": {
        "colab_type": "code",
        "id": "rA5AQnv7gAy3",
        "colab": {
          "base_uri": "https://localhost:8080/",
          "height": 66,
          "referenced_widgets": [
            "a9c9263280f249b18ccd3a8bcf76fcad",
            "31d30b85bd0b4432b32aecc8416de4c4",
            "765c27267c3a4bf58c126c2981d9a8fa",
            "ccfb439d540746e9b3d94a7a9e96b9b5",
            "6e4cdb9130344ac58b406f17e520b6aa",
            "b6aadec834004a5c9e0448d189023370",
            "fc8cf9de4e234a63b311fc60835b12db",
            "d1696e088938417e81e6e30c39278fbf"
          ]
        },
        "outputId": "9cad1730-b078-4e33-bbbd-25238a2065ad"
      },
      "source": [
        "factors=200\n",
        "regularization=0.1\n",
        "learning_rate=0.01\n",
        "\n",
        "# Definimos y entrenamos el modelo de implicit feedback utilizando optimizacion BPR\n",
        "model_bpr12 = implicit.bpr.BayesianPersonalizedRanking(factors,regularization,learning_rate,use_gpu=False, num_threads=1)\n",
        "model_bpr12.fit(X_train)"
      ],
      "execution_count": null,
      "outputs": [
        {
          "output_type": "display_data",
          "data": {
            "application/vnd.jupyter.widget-view+json": {
              "model_id": "a9c9263280f249b18ccd3a8bcf76fcad",
              "version_minor": 0,
              "version_major": 2
            },
            "text/plain": [
              "HBox(children=(FloatProgress(value=0.0), HTML(value='')))"
            ]
          },
          "metadata": {
            "tags": []
          }
        },
        {
          "output_type": "stream",
          "text": [
            "\n"
          ],
          "name": "stdout"
        }
      ]
    },
    {
      "cell_type": "markdown",
      "metadata": {
        "id": "ZqNC2LXYOgOh",
        "colab_type": "text"
      },
      "source": [
        "### **Métricas**"
      ]
    },
    {
      "cell_type": "code",
      "metadata": {
        "id": "0ZXZxsVbDfif",
        "colab_type": "code",
        "colab": {}
      },
      "source": [
        "def compute_apk(y_true, y_pred, k):\n",
        "    \"\"\"\n",
        "    average precision at k, y_pred is assumed \n",
        "    to be truncated to length k prior to feeding\n",
        "    it to the function\n",
        "    \"\"\"\n",
        "    # convert to set since membership \n",
        "    # testing in a set is vastly faster\n",
        "    actual = set(y_true)\n",
        "    \n",
        "    # precision at i is a percentage of correct \n",
        "    # items among first i recommendations; the\n",
        "    # correct count will be summed up by n_hit\n",
        "    n_hit = 0\n",
        "    precision = 0\n",
        "    for i, p in enumerate(y_pred, 1):\n",
        "        if p in actual:\n",
        "            n_hit += 1\n",
        "            precision += n_hit / i\n",
        "\n",
        "    # divide by recall at the very end\n",
        "    avg_precision = precision / min(len(actual), k)\n",
        "    return avg_precision"
      ],
      "execution_count": null,
      "outputs": []
    },
    {
      "cell_type": "code",
      "metadata": {
        "colab_type": "code",
        "id": "CoqppmbPeLHN",
        "colab": {}
      },
      "source": [
        "def mapk_score(model, ratings, k):\n",
        "  item_factors=model.item_factors\n",
        "  user_factors=model.user_factors\n",
        "\n",
        "  mapk = 0\n",
        "  n_users = ratings.shape[0]\n",
        "  for u in range(n_users):\n",
        "    y_true = ratings[u].indices\n",
        "    u_pred = model.user_factors[u].dot(model.item_factors.T)\n",
        "    y_pred = np.argsort(u_pred)[::-1][:k]\n",
        "    mapk += compute_apk(y_true, y_pred, k)\n",
        "\n",
        "\n",
        "  mapk /= n_users\n",
        "  return mapk"
      ],
      "execution_count": null,
      "outputs": []
    },
    {
      "cell_type": "code",
      "metadata": {
        "id": "QcWmacPoEBY4",
        "colab_type": "code",
        "colab": {}
      },
      "source": [
        "def dcg_at_k(score, k = None):\n",
        "    \"\"\"\n",
        "    discounted cumulative gain (dcg)\n",
        "    \n",
        "    Parameters\n",
        "    ----------\n",
        "    score : 1d nd.array\n",
        "        ranking/relevance score\n",
        "        \n",
        "    k : int, default None\n",
        "        evaluate the measure for the top-k ranking score,\n",
        "        default None evaluates all\n",
        "        \n",
        "    Returns\n",
        "    -------\n",
        "    dcg: float\n",
        "    \"\"\"\n",
        "    if k is not None:\n",
        "        score = score[:k]\n",
        "\n",
        "    gain = 2 ** score - 1\n",
        "    discounts = np.log2(np.arange(2, score.size + 2))\n",
        "    dcg = np.sum(gain / discounts)\n",
        "    return dcg\n",
        "\n",
        "\n",
        "#score = np.array([2, 0, 3, 2])\n",
        "#dcg_at_k(score)"
      ],
      "execution_count": null,
      "outputs": []
    },
    {
      "cell_type": "code",
      "metadata": {
        "id": "My9-b3Q2EERv",
        "colab_type": "code",
        "colab": {}
      },
      "source": [
        "def ndcg_at_k(score, k = None):\n",
        "    \"\"\"\n",
        "    normalized discounted cumulative gain (ndcg)\n",
        "    \n",
        "    Parameters\n",
        "    ----------\n",
        "    score : 1d nd.array\n",
        "        ranking/relevance score\n",
        "        \n",
        "    k : int, default None\n",
        "        evaluate the measure for the top-k ranking score,\n",
        "        default None evaluates all\n",
        "        \n",
        "    Returns\n",
        "    -------\n",
        "    ndcg: float, 0.0 ~ 1.0\n",
        "    \"\"\"\n",
        "    actual_dcg = dcg_at_k(score, k)\n",
        "    sorted_score = np.sort(score)[::-1]\n",
        "    best_dcg = dcg_at_k(sorted_score, k)\n",
        "    ndcg = actual_dcg / best_dcg\n",
        "    return ndcg\n",
        "\n",
        "\n",
        "#ndcg_at_k(score)"
      ],
      "execution_count": null,
      "outputs": []
    },
    {
      "cell_type": "code",
      "metadata": {
        "id": "4vTPC4fdEEPw",
        "colab_type": "code",
        "colab": {}
      },
      "source": [
        "def ndcg_score(model, ratings, k):\n",
        "    \"\"\"\n",
        "    Normalized discounted cumulative gain (NDCG) at rank k\n",
        "    for the ALS model; which computes the ndcg score for\n",
        "    each users' recommendation and does a simply average\n",
        "    \n",
        "    Parameters\n",
        "    ----------\n",
        "    model : ALSWR instance\n",
        "        fitted ALSWR model\n",
        "\n",
        "    ratings : scipy sparse csr_matrix [n_users, n_items]\n",
        "        sparse matrix of user-item interactions\n",
        "\n",
        "    k : int\n",
        "        rank k's k\n",
        "        \n",
        "    Returns\n",
        "    -------\n",
        "    avg_ndcg : float\n",
        "        ndcg at k's score averaged across all users\n",
        "    \"\"\"\n",
        "    ndcg = 0.0\n",
        "    n_users, n_items = ratings.shape\n",
        "    for u in range(n_users):\n",
        "        y_true = np.zeros(n_items)\n",
        "        y_true[ratings[u].indices] = 1\n",
        "        u_pred = model.user_factors[u].dot(model.item_factors.T)\n",
        "        ndcg += ndcg_at_k(y_true, u_pred, k)\n",
        "        \n",
        "    avg_ndcg = ndcg / n_users\n",
        "    return avg_ndcg\n",
        "\n",
        "\n",
        "def ndcg_at_k(y_true, y_score, k = 10):\n",
        "    \"\"\"\n",
        "    Normalized discounted cumulative gain (NDCG) at rank k\n",
        "    \n",
        "    Parameters\n",
        "    ----------\n",
        "    y_true : array-like, shape = [n_samples]\n",
        "        Ground truth (true relevance labels)\n",
        "    \n",
        "    y_score : array-like, shape = [n_samples]\n",
        "        Predicted scores\n",
        "    \n",
        "    k : int\n",
        "        Rank\n",
        "\n",
        "    Returns\n",
        "    -------\n",
        "    ndcg : float, 0.0 ~ 1.0\n",
        "    \"\"\"\n",
        "    actual = dcg_at_k(y_true, y_score, k)\n",
        "    best = dcg_at_k(y_true, y_true, k) \n",
        "    ndcg = actual / best\n",
        "    return ndcg\n",
        "\n",
        "\n",
        "def dcg_at_k(y_true, y_score, k = 10):\n",
        "    \"\"\"\n",
        "    Discounted cumulative gain (DCG) at rank k\n",
        "    \n",
        "    Parameters\n",
        "    ----------\n",
        "    y_true : array-like, shape = [n_samples]\n",
        "        Ground truth (true relevance labels)\n",
        "    \n",
        "    y_score : array-like, shape = [n_samples]\n",
        "        Predicted scores\n",
        "    \n",
        "    k : int\n",
        "        Rank\n",
        "\n",
        "    Returns\n",
        "    -------\n",
        "    dcg : float\n",
        "    \"\"\"\n",
        "    order = np.argsort(y_score)[::-1]\n",
        "    y_true = np.take(y_true, order[:k])\n",
        "    gains = 2 ** y_true - 1\n",
        "    discounts = np.log2(np.arange(2, gains.size + 2))\n",
        "    dcg = np.sum(gains / discounts)\n",
        "    return dcg"
      ],
      "execution_count": null,
      "outputs": []
    },
    {
      "cell_type": "markdown",
      "metadata": {
        "id": "L_mV3w4mkPcG",
        "colab_type": "text"
      },
      "source": [
        ""
      ]
    },
    {
      "cell_type": "code",
      "metadata": {
        "id": "VkkYuzcSWKg-",
        "colab_type": "code",
        "colab": {}
      },
      "source": [
        "k = 20"
      ],
      "execution_count": null,
      "outputs": []
    },
    {
      "cell_type": "code",
      "metadata": {
        "colab_type": "code",
        "id": "aF-xDzUCj6CH",
        "colab": {
          "base_uri": "https://localhost:8080/",
          "height": 51
        },
        "outputId": "53f9c11b-3276-4a29-98a4-848ffb5921a6"
      },
      "source": [
        "mapk_train1 = mapk_score(model_als1, X_train, k)\n",
        "mapk_test1 = mapk_score(model_als1, X_test, k)\n",
        "print('mapk training:', mapk_train1)\n",
        "print('mapk testing:', mapk_test1)"
      ],
      "execution_count": null,
      "outputs": [
        {
          "output_type": "stream",
          "text": [
            "mapk training: 0.0001353687208622403\n",
            "mapk testing: 3.2005920936351866e-05\n"
          ],
          "name": "stdout"
        }
      ]
    },
    {
      "cell_type": "code",
      "metadata": {
        "colab_type": "code",
        "id": "7IkSVPI9j6CK",
        "colab": {
          "base_uri": "https://localhost:8080/",
          "height": 51
        },
        "outputId": "f28e13b9-86fe-4b8c-a587-76203dc93bff"
      },
      "source": [
        "ndcg_train1 = ndcg_score(model_als1, X_train, k)\n",
        "ndcg_test1 = ndcg_score(model_als1, X_test, k)\n",
        "print('ndcg training:', ndcg_train1)\n",
        "print('ndcg testing:', ndcg_test1)"
      ],
      "execution_count": null,
      "outputs": [
        {
          "output_type": "stream",
          "text": [
            "ndcg training: 0.0006428442110874949\n",
            "ndcg testing: 0.0002003068326054984\n"
          ],
          "name": "stdout"
        }
      ]
    },
    {
      "cell_type": "code",
      "metadata": {
        "colab_type": "code",
        "id": "hlwDOjUEWgrK",
        "colab": {
          "base_uri": "https://localhost:8080/",
          "height": 51
        },
        "outputId": "4917209e-b665-4d66-b406-b7f0ac858bc7"
      },
      "source": [
        "mapk_train2 = mapk_score(model_als2, X_train, k)\n",
        "mapk_test2 = mapk_score(model_als2, X_test, k)\n",
        "print('mapk training:', mapk_train2)\n",
        "print('mapk testing:', mapk_test2)"
      ],
      "execution_count": null,
      "outputs": [
        {
          "output_type": "stream",
          "text": [
            "mapk training: 0.00011186075022343993\n",
            "mapk testing: 9.353379571672062e-05\n"
          ],
          "name": "stdout"
        }
      ]
    },
    {
      "cell_type": "code",
      "metadata": {
        "colab_type": "code",
        "id": "E2Gr2Yu1WgrT",
        "colab": {
          "base_uri": "https://localhost:8080/",
          "height": 51
        },
        "outputId": "f7fda620-7e00-4c51-e804-73bd6433a04c"
      },
      "source": [
        "ndcg_train2 = ndcg_score(model_als2, X_train, k)\n",
        "ndcg_test2 = ndcg_score(model_als2, X_test, k)\n",
        "print('ndcg training:', ndcg_train2)\n",
        "print('ndcg testing:', ndcg_test2)"
      ],
      "execution_count": null,
      "outputs": [
        {
          "output_type": "stream",
          "text": [
            "ndcg training: 0.0006262994344093279\n",
            "ndcg testing: 0.0002993524849479761\n"
          ],
          "name": "stdout"
        }
      ]
    },
    {
      "cell_type": "code",
      "metadata": {
        "colab_type": "code",
        "id": "v78fiHRxWdGo",
        "colab": {
          "base_uri": "https://localhost:8080/",
          "height": 51
        },
        "outputId": "3eedd2cf-265b-4520-9c8e-0de9020bd4d7"
      },
      "source": [
        "mapk_train3 = mapk_score(model_als3, X_train, k)\n",
        "mapk_test3 = mapk_score(model_als3, X_test, k)\n",
        "print('mapk training:', mapk_train3)\n",
        "print('mapk testing:', mapk_test3)"
      ],
      "execution_count": null,
      "outputs": [
        {
          "output_type": "stream",
          "text": [
            "mapk training: 9.07982988131432e-05\n",
            "mapk testing: 2.9131106396386577e-05\n"
          ],
          "name": "stdout"
        }
      ]
    },
    {
      "cell_type": "code",
      "metadata": {
        "colab_type": "code",
        "id": "bRhDApNoWdGv",
        "colab": {
          "base_uri": "https://localhost:8080/",
          "height": 51
        },
        "outputId": "4c2b6eda-1213-439d-ac60-a7dd46e584ca"
      },
      "source": [
        "ndcg_train3 = ndcg_score(model_als3, X_train, k)\n",
        "ndcg_test3 = ndcg_score(model_als3, X_test, k)\n",
        "print('ndcg training:', ndcg_train3)\n",
        "print('ndcg testing:', ndcg_test3)"
      ],
      "execution_count": null,
      "outputs": [
        {
          "output_type": "stream",
          "text": [
            "ndcg training: 0.0004480254296676966\n",
            "ndcg testing: 0.00021462439971286994\n"
          ],
          "name": "stdout"
        }
      ]
    },
    {
      "cell_type": "code",
      "metadata": {
        "colab_type": "code",
        "id": "v0z-BZx1Wcl6",
        "colab": {
          "base_uri": "https://localhost:8080/",
          "height": 51
        },
        "outputId": "63e4c99b-add9-481b-c01d-0160e866318e"
      },
      "source": [
        "mapk_train4 = mapk_score(model_als4, X_train, k)\n",
        "mapk_test4 = mapk_score(model_als4, X_test, k)\n",
        "print('mapk training:', mapk_train4)\n",
        "print('mapk testing:', mapk_test4)"
      ],
      "execution_count": null,
      "outputs": [
        {
          "output_type": "stream",
          "text": [
            "mapk training: 8.680859181622973e-05\n",
            "mapk testing: 2.374380386178326e-05\n"
          ],
          "name": "stdout"
        }
      ]
    },
    {
      "cell_type": "code",
      "metadata": {
        "colab_type": "code",
        "id": "DOYQEz_4WcmA",
        "colab": {
          "base_uri": "https://localhost:8080/",
          "height": 51
        },
        "outputId": "e999065a-9f01-4773-dd58-892811f953b4"
      },
      "source": [
        "ndcg_train4 = ndcg_score(model_als4, X_train, k)\n",
        "ndcg_test4 = ndcg_score(model_als4, X_test, k)\n",
        "print('ndcg training:', ndcg_train4)\n",
        "print('ndcg testing:', ndcg_test4)"
      ],
      "execution_count": null,
      "outputs": [
        {
          "output_type": "stream",
          "text": [
            "ndcg training: 0.00045688312177086086\n",
            "ndcg testing: 0.00017265315101539714\n"
          ],
          "name": "stdout"
        }
      ]
    },
    {
      "cell_type": "code",
      "metadata": {
        "colab_type": "code",
        "id": "HaiNmp1TWcS5",
        "colab": {
          "base_uri": "https://localhost:8080/",
          "height": 51
        },
        "outputId": "9a43daf5-c0ee-4ad7-db1e-660151d4cf4b"
      },
      "source": [
        "mapk_train5 = mapk_score(model_als5, X_train, k)\n",
        "mapk_test5 = mapk_score(model_als5, X_test, k)\n",
        "print('mapk training:', mapk_train5)\n",
        "print('mapk testing:', mapk_test5)"
      ],
      "execution_count": null,
      "outputs": [
        {
          "output_type": "stream",
          "text": [
            "mapk training: 6.956035135385971e-05\n",
            "mapk testing: 3.336876821361639e-05\n"
          ],
          "name": "stdout"
        }
      ]
    },
    {
      "cell_type": "code",
      "metadata": {
        "colab_type": "code",
        "id": "gjMopQmZWcTA",
        "colab": {
          "base_uri": "https://localhost:8080/",
          "height": 51
        },
        "outputId": "175d3c9c-2f64-435a-f680-90ccca613768"
      },
      "source": [
        "ndcg_train5 = ndcg_score(model_als5, X_train, k)\n",
        "ndcg_test5 = ndcg_score(model_als5, X_test, k)\n",
        "print('ndcg training:', ndcg_train5)\n",
        "print('ndcg testing:', ndcg_test5)"
      ],
      "execution_count": null,
      "outputs": [
        {
          "output_type": "stream",
          "text": [
            "ndcg training: 0.00047626678442593066\n",
            "ndcg testing: 0.00022338020581878757\n"
          ],
          "name": "stdout"
        }
      ]
    },
    {
      "cell_type": "code",
      "metadata": {
        "colab_type": "code",
        "id": "TMUblZ-bWb8Z",
        "colab": {
          "base_uri": "https://localhost:8080/",
          "height": 51
        },
        "outputId": "dfd1d34d-599b-4e8a-baef-6958d5ec2f0b"
      },
      "source": [
        "mapk_train6 = mapk_score(model_als6, X_train, k)\n",
        "mapk_test6 = mapk_score(model_als6, X_test, k)\n",
        "print('mapk training:', mapk_train6)\n",
        "print('mapk testing:', mapk_test6)"
      ],
      "execution_count": null,
      "outputs": [
        {
          "output_type": "stream",
          "text": [
            "mapk training: 8.313092991440988e-05\n",
            "mapk testing: 3.6295396122348014e-05\n"
          ],
          "name": "stdout"
        }
      ]
    },
    {
      "cell_type": "code",
      "metadata": {
        "colab_type": "code",
        "id": "vjRveA1hWb8f",
        "colab": {
          "base_uri": "https://localhost:8080/",
          "height": 51
        },
        "outputId": "79aaa061-9591-4823-f6fe-4a7cfbbdfe96"
      },
      "source": [
        "ndcg_train = ndcg_score(model_als1, X_train, k)\n",
        "ndcg_test = ndcg_score(model_als1, X_test, k)\n",
        "print('ndcg training:', ndcg_train)\n",
        "print('ndcg testing:', ndcg_test)"
      ],
      "execution_count": null,
      "outputs": [
        {
          "output_type": "stream",
          "text": [
            "ndcg training: 0.0006428442110874949\n",
            "ndcg testing: 0.0002003068326054984\n"
          ],
          "name": "stdout"
        }
      ]
    },
    {
      "cell_type": "markdown",
      "metadata": {
        "id": "FllRH7mdk4GW",
        "colab_type": "text"
      },
      "source": [
        "# **BPR**"
      ]
    },
    {
      "cell_type": "code",
      "metadata": {
        "id": "DQ1nfz4QXcSE",
        "colab_type": "code",
        "colab": {}
      },
      "source": [
        "k = 20"
      ],
      "execution_count": null,
      "outputs": []
    },
    {
      "cell_type": "code",
      "metadata": {
        "colab_type": "code",
        "id": "BVTnykY3kHi_",
        "colab": {
          "base_uri": "https://localhost:8080/",
          "height": 51
        },
        "outputId": "fcd9e908-bfd1-49f4-bd60-a613782cb563"
      },
      "source": [
        "mapk_train01 = mapk_score(model_bpr1, X_train, k)\n",
        "mapk_test01 = mapk_score(model_bpr1, X_test, k)\n",
        "print('mapk training:', mapk_train01)\n",
        "print('mapk testing:', mapk_test01)"
      ],
      "execution_count": null,
      "outputs": [
        {
          "output_type": "stream",
          "text": [
            "mapk training: 0.00010996744168654689\n",
            "mapk testing: 5.73563743530966e-05\n"
          ],
          "name": "stdout"
        }
      ]
    },
    {
      "cell_type": "code",
      "metadata": {
        "colab_type": "code",
        "id": "KglMI4dhkHjC",
        "colab": {
          "base_uri": "https://localhost:8080/",
          "height": 51
        },
        "outputId": "3a172fb2-2be6-4d82-a235-8b60297389f1"
      },
      "source": [
        "ndcg_train01 = ndcg_score(model_bpr1, X_train, k)\n",
        "ndcg_test01 = ndcg_score(model_bpr1, X_test, k)\n",
        "print('ndcg training:', ndcg_train01)\n",
        "print('ndcg testing:', ndcg_test01)"
      ],
      "execution_count": null,
      "outputs": [
        {
          "output_type": "stream",
          "text": [
            "ndcg training: 0.0005691207588908935\n",
            "ndcg testing: 0.00020593615912693557\n"
          ],
          "name": "stdout"
        }
      ]
    },
    {
      "cell_type": "code",
      "metadata": {
        "colab_type": "code",
        "id": "B7aNhQEiYT-w",
        "colab": {
          "base_uri": "https://localhost:8080/",
          "height": 51
        },
        "outputId": "6192c791-ac48-43db-8fba-5072d8cfc53d"
      },
      "source": [
        "mapk_train02 = mapk_score(model_bpr2, X_train, k)\n",
        "mapk_test02 = mapk_score(model_bpr2, X_test, k)\n",
        "print('mapk training:', mapk_train02)\n",
        "print('mapk testing:', mapk_test02)"
      ],
      "execution_count": null,
      "outputs": [
        {
          "output_type": "stream",
          "text": [
            "mapk training: 9.675773536967731e-05\n",
            "mapk testing: 5.27146007371996e-05\n"
          ],
          "name": "stdout"
        }
      ]
    },
    {
      "cell_type": "code",
      "metadata": {
        "colab_type": "code",
        "id": "B2mA7VBUYT-2",
        "colab": {
          "base_uri": "https://localhost:8080/",
          "height": 51
        },
        "outputId": "549e4eba-1c45-42c5-8755-7e55a4432c12"
      },
      "source": [
        "ndcg_train02 = ndcg_score(model_bpr2, X_train, k)\n",
        "ndcg_test02 = ndcg_score(model_bpr2, X_test, k)\n",
        "print('ndcg training:', ndcg_train02)\n",
        "print('ndcg testing:', ndcg_test02)"
      ],
      "execution_count": null,
      "outputs": [
        {
          "output_type": "stream",
          "text": [
            "ndcg training: 0.0005341100147037986\n",
            "ndcg testing: 0.00018209403170697382\n"
          ],
          "name": "stdout"
        }
      ]
    },
    {
      "cell_type": "code",
      "metadata": {
        "colab_type": "code",
        "id": "m7kQWlLiYTte",
        "colab": {
          "base_uri": "https://localhost:8080/",
          "height": 51
        },
        "outputId": "d7fd8bf7-036c-47e2-d84c-2de5c6683784"
      },
      "source": [
        "mapk_train03 = mapk_score(model_bpr3, X_train, k)\n",
        "mapk_test03 = mapk_score(model_bpr3, X_test, k)\n",
        "print('mapk training:', mapk_train03)\n",
        "print('mapk testing:', mapk_test03)"
      ],
      "execution_count": null,
      "outputs": [
        {
          "output_type": "stream",
          "text": [
            "mapk training: 7.796499204220484e-05\n",
            "mapk testing: 2.3465891140644658e-05\n"
          ],
          "name": "stdout"
        }
      ]
    },
    {
      "cell_type": "code",
      "metadata": {
        "colab_type": "code",
        "id": "Dxo-9InCYTtk",
        "colab": {
          "base_uri": "https://localhost:8080/",
          "height": 51
        },
        "outputId": "774ffc94-4297-40a9-cbdc-d00277899edc"
      },
      "source": [
        "ndcg_train03 = ndcg_score(model_bpr3, X_train, k)\n",
        "ndcg_test03 = ndcg_score(model_bpr3, X_test, k)\n",
        "print('ndcg training:', ndcg_train03)\n",
        "print('ndcg testing:', ndcg_test03)"
      ],
      "execution_count": null,
      "outputs": [
        {
          "output_type": "stream",
          "text": [
            "ndcg training: 0.0005207788841954218\n",
            "ndcg testing: 0.00012107587114578008\n"
          ],
          "name": "stdout"
        }
      ]
    },
    {
      "cell_type": "code",
      "metadata": {
        "colab_type": "code",
        "id": "sXzUDbqwYTZK",
        "colab": {
          "base_uri": "https://localhost:8080/",
          "height": 51
        },
        "outputId": "b969b504-5f13-4174-c949-bd79c62d33de"
      },
      "source": [
        "mapk_train04 = mapk_score(model_bpr4, X_train, k)\n",
        "mapk_test04 = mapk_score(model_bpr4, X_test, k)\n",
        "print('mapk training:', mapk_train04)\n",
        "print('mapk testing:', mapk_test04)"
      ],
      "execution_count": null,
      "outputs": [
        {
          "output_type": "stream",
          "text": [
            "mapk training: 7.526303075692918e-05\n",
            "mapk testing: 2.5414833621791696e-06\n"
          ],
          "name": "stdout"
        }
      ]
    },
    {
      "cell_type": "code",
      "metadata": {
        "colab_type": "code",
        "id": "L9UlIc2TYTZP",
        "colab": {
          "base_uri": "https://localhost:8080/",
          "height": 51
        },
        "outputId": "b2e7daf8-8deb-4d1e-abd5-dee314ed164e"
      },
      "source": [
        "ndcg_train04 = ndcg_score(model_bpr4, X_train, k)\n",
        "ndcg_test04 = ndcg_score(model_bpr4, X_test, k)\n",
        "print('ndcg training:', ndcg_train04)\n",
        "print('ndcg testing:', ndcg_test04)"
      ],
      "execution_count": null,
      "outputs": [
        {
          "output_type": "stream",
          "text": [
            "ndcg training: 0.0005686643418662065\n",
            "ndcg testing: 2.4201823496823315e-05\n"
          ],
          "name": "stdout"
        }
      ]
    },
    {
      "cell_type": "code",
      "metadata": {
        "colab_type": "code",
        "id": "-xPWuvv5YTGL",
        "colab": {
          "base_uri": "https://localhost:8080/",
          "height": 51
        },
        "outputId": "43dda4b4-239d-4ba2-baf6-f02192f7a0a8"
      },
      "source": [
        "mapk_train05 = mapk_score(model_bpr5, X_train, k)\n",
        "mapk_test05 = mapk_score(model_bpr5, X_test, k)\n",
        "print('mapk training:', mapk_train05)\n",
        "print('mapk testing:', mapk_test05)"
      ],
      "execution_count": null,
      "outputs": [
        {
          "output_type": "stream",
          "text": [
            "mapk training: 0.00010521963655618249\n",
            "mapk testing: 2.9448134580315316e-05\n"
          ],
          "name": "stdout"
        }
      ]
    },
    {
      "cell_type": "code",
      "metadata": {
        "colab_type": "code",
        "id": "3X13r3uhYTGQ",
        "colab": {
          "base_uri": "https://localhost:8080/",
          "height": 51
        },
        "outputId": "13e53a0c-59f5-43d1-a720-8166f5600ce2"
      },
      "source": [
        "ndcg_train05 = ndcg_score(model_bpr5, X_train, k)\n",
        "ndcg_test05 = ndcg_score(model_bpr5, X_test, k)\n",
        "print('ndcg training:', ndcg_train05)\n",
        "print('ndcg testing:', ndcg_test05)"
      ],
      "execution_count": null,
      "outputs": [
        {
          "output_type": "stream",
          "text": [
            "ndcg training: 0.0005425586956622321\n",
            "ndcg testing: 0.00018790528884201057\n"
          ],
          "name": "stdout"
        }
      ]
    },
    {
      "cell_type": "code",
      "metadata": {
        "colab_type": "code",
        "id": "8MXHa9TYYSz7",
        "colab": {
          "base_uri": "https://localhost:8080/",
          "height": 51
        },
        "outputId": "6f453b3d-b341-4ed8-b267-9eaba3356319"
      },
      "source": [
        "mapk_train06 = mapk_score(model_bpr6, X_train, k)\n",
        "mapk_test06 = mapk_score(model_bpr6, X_test, k)\n",
        "print('mapk training:', mapk_train06)\n",
        "print('mapk testing:', mapk_test06)"
      ],
      "execution_count": null,
      "outputs": [
        {
          "output_type": "stream",
          "text": [
            "mapk training: 0.00011728933111390677\n",
            "mapk testing: 9.828352577881768e-06\n"
          ],
          "name": "stdout"
        }
      ]
    },
    {
      "cell_type": "code",
      "metadata": {
        "colab_type": "code",
        "id": "7rjPEv--YS0B",
        "colab": {
          "base_uri": "https://localhost:8080/",
          "height": 51
        },
        "outputId": "c9242c48-3ef6-43dd-d60b-1ad432ca20fe"
      },
      "source": [
        "ndcg_train06 = ndcg_score(model_bpr6, X_train, k)\n",
        "ndcg_test06 = ndcg_score(model_bpr6, X_test, k)\n",
        "print('ndcg training:', ndcg_train06)\n",
        "print('ndcg testing:', ndcg_test06)"
      ],
      "execution_count": null,
      "outputs": [
        {
          "output_type": "stream",
          "text": [
            "ndcg training: 0.0006595591653678763\n",
            "ndcg testing: 6.177174453846852e-05\n"
          ],
          "name": "stdout"
        }
      ]
    },
    {
      "cell_type": "code",
      "metadata": {
        "colab_type": "code",
        "id": "2XAj8Kv9YSg6",
        "colab": {
          "base_uri": "https://localhost:8080/",
          "height": 51
        },
        "outputId": "03f8258b-d3e5-4123-9769-4df88a676e6c"
      },
      "source": [
        "mapk_train07 = mapk_score(model_bpr7, X_train, k)\n",
        "mapk_test07 = mapk_score(model_bpr7, X_test, k)\n",
        "print('mapk training:', mapk_train07)\n",
        "print('mapk testing:', mapk_test07)"
      ],
      "execution_count": null,
      "outputs": [
        {
          "output_type": "stream",
          "text": [
            "mapk training: 7.077548392929734e-05\n",
            "mapk testing: 2.1485085736775117e-05\n"
          ],
          "name": "stdout"
        }
      ]
    },
    {
      "cell_type": "code",
      "metadata": {
        "colab_type": "code",
        "id": "c8koQQRIYShB",
        "colab": {
          "base_uri": "https://localhost:8080/",
          "height": 51
        },
        "outputId": "a36e75f6-1284-4855-e79a-88dfe4313207"
      },
      "source": [
        "ndcg_train07 = ndcg_score(model_bpr7, X_train, k)\n",
        "ndcg_test07 = ndcg_score(model_bpr7, X_test, k)\n",
        "print('ndcg training:', ndcg_train07)\n",
        "print('ndcg testing:', ndcg_test07)"
      ],
      "execution_count": null,
      "outputs": [
        {
          "output_type": "stream",
          "text": [
            "ndcg training: 0.0005331968594687677\n",
            "ndcg testing: 0.00014719616034274263\n"
          ],
          "name": "stdout"
        }
      ]
    },
    {
      "cell_type": "code",
      "metadata": {
        "colab_type": "code",
        "id": "9Ly8qOkcYSOT",
        "colab": {
          "base_uri": "https://localhost:8080/",
          "height": 51
        },
        "outputId": "01349273-912a-445a-ef93-52cfcc2678bf"
      },
      "source": [
        "mapk_train08 = mapk_score(model_bpr8, X_train, k)\n",
        "mapk_test08 = mapk_score(model_bpr8, X_test, k)\n",
        "print('mapk training:', mapk_train08)\n",
        "print('mapk testing:', mapk_test08)"
      ],
      "execution_count": null,
      "outputs": [
        {
          "output_type": "stream",
          "text": [
            "mapk training: 9.242288666443105e-05\n",
            "mapk testing: 0.00012433768344399026\n"
          ],
          "name": "stdout"
        }
      ]
    },
    {
      "cell_type": "code",
      "metadata": {
        "colab_type": "code",
        "id": "7DH2A3rsYSOY",
        "colab": {
          "base_uri": "https://localhost:8080/",
          "height": 51
        },
        "outputId": "0193351d-3fbd-4782-ab30-b96362450e25"
      },
      "source": [
        "ndcg_train08 = ndcg_score(model_bpr8, X_train, k)\n",
        "ndcg_test08 = ndcg_score(model_bpr8, X_test, k)\n",
        "print('ndcg training:', ndcg_train08)\n",
        "print('ndcg testing:', ndcg_test08)"
      ],
      "execution_count": null,
      "outputs": [
        {
          "output_type": "stream",
          "text": [
            "ndcg training: 0.00047763993402773577\n",
            "ndcg testing: 0.00040361698018568146\n"
          ],
          "name": "stdout"
        }
      ]
    },
    {
      "cell_type": "code",
      "metadata": {
        "colab_type": "code",
        "id": "7T3NnZP2YR7x",
        "colab": {
          "base_uri": "https://localhost:8080/",
          "height": 51
        },
        "outputId": "49b35bdc-bd8a-4df6-b274-cbd6436b74cb"
      },
      "source": [
        "mapk_train09 = mapk_score(model_bpr9, X_train, k)\n",
        "mapk_test09 = mapk_score(model_bpr9, X_test, k)\n",
        "print('mapk training:', mapk_train09)\n",
        "print('mapk testing:', mapk_test09)"
      ],
      "execution_count": null,
      "outputs": [
        {
          "output_type": "stream",
          "text": [
            "mapk training: 6.813765392196764e-05\n",
            "mapk testing: 5.611143872286371e-05\n"
          ],
          "name": "stdout"
        }
      ]
    },
    {
      "cell_type": "code",
      "metadata": {
        "colab_type": "code",
        "id": "IE7zss2LYR71",
        "colab": {
          "base_uri": "https://localhost:8080/",
          "height": 51
        },
        "outputId": "7498c0bb-3c5e-44b7-a55a-356361c3212c"
      },
      "source": [
        "ndcg_train09 = ndcg_score(model_bpr9, X_train, k)\n",
        "ndcg_test09 = ndcg_score(model_bpr9, X_test, k)\n",
        "print('ndcg training:', ndcg_train09)\n",
        "print('ndcg testing:', ndcg_test09)"
      ],
      "execution_count": null,
      "outputs": [
        {
          "output_type": "stream",
          "text": [
            "ndcg training: 0.0004508815193646297\n",
            "ndcg testing: 0.0002493674008680178\n"
          ],
          "name": "stdout"
        }
      ]
    },
    {
      "cell_type": "code",
      "metadata": {
        "colab_type": "code",
        "id": "Lc3gIkrDYRoB",
        "colab": {
          "base_uri": "https://localhost:8080/",
          "height": 51
        },
        "outputId": "588407c0-a2ed-462f-cac3-b597a64dfb5b"
      },
      "source": [
        "mapk_train010 = mapk_score(model_bpr10, X_train, k)\n",
        "mapk_test010 = mapk_score(model_bpr10, X_test, k)\n",
        "print('mapk training:', mapk_train010)\n",
        "print('mapk testing:', mapk_test010)"
      ],
      "execution_count": null,
      "outputs": [
        {
          "output_type": "stream",
          "text": [
            "mapk training: 0.00011359984572292094\n",
            "mapk testing: 2.8696977849520223e-05\n"
          ],
          "name": "stdout"
        }
      ]
    },
    {
      "cell_type": "code",
      "metadata": {
        "colab_type": "code",
        "id": "XQh_nLGbYRoI",
        "colab": {
          "base_uri": "https://localhost:8080/",
          "height": 51
        },
        "outputId": "3af39d15-1c9f-4016-bc24-2f837cdf6e11"
      },
      "source": [
        "ndcg_train010 = ndcg_score(model_bpr10, X_train, k)\n",
        "ndcg_test010 = ndcg_score(model_bpr10, X_test, k)\n",
        "print('ndcg training:', ndcg_train010)\n",
        "print('ndcg testing:', ndcg_test010)"
      ],
      "execution_count": null,
      "outputs": [
        {
          "output_type": "stream",
          "text": [
            "ndcg training: 0.0006466021375755573\n",
            "ndcg testing: 0.00010880814879306265\n"
          ],
          "name": "stdout"
        }
      ]
    },
    {
      "cell_type": "code",
      "metadata": {
        "colab_type": "code",
        "id": "nDwt1O8sYRTR",
        "colab": {
          "base_uri": "https://localhost:8080/",
          "height": 51
        },
        "outputId": "46f6196b-035b-4f94-8cd9-a3a24cc4a1bc"
      },
      "source": [
        "mapk_train011 = mapk_score(model_bpr11, X_train, k)\n",
        "mapk_test011 = mapk_score(model_bpr11, X_test, k)\n",
        "print('mapk training:', mapk_train011)\n",
        "print('mapk testing:', mapk_test011)"
      ],
      "execution_count": null,
      "outputs": [
        {
          "output_type": "stream",
          "text": [
            "mapk training: 4.227787828739361e-05\n",
            "mapk testing: 0.0001318278742949176\n"
          ],
          "name": "stdout"
        }
      ]
    },
    {
      "cell_type": "code",
      "metadata": {
        "colab_type": "code",
        "id": "GR8Q9gY-YRTZ",
        "colab": {
          "base_uri": "https://localhost:8080/",
          "height": 51
        },
        "outputId": "db6d490b-ac4e-45df-8fd0-6c332bd138c8"
      },
      "source": [
        "ndcg_train011 = ndcg_score(model_bpr11, X_train, k)\n",
        "ndcg_test011 = ndcg_score(model_bpr11, X_test, k)\n",
        "print('ndcg training:', ndcg_train011)\n",
        "print('ndcg testing:', ndcg_test011)"
      ],
      "execution_count": null,
      "outputs": [
        {
          "output_type": "stream",
          "text": [
            "ndcg training: 0.0003662491575230348\n",
            "ndcg testing: 0.00037665807288062605\n"
          ],
          "name": "stdout"
        }
      ]
    },
    {
      "cell_type": "code",
      "metadata": {
        "colab_type": "code",
        "id": "aZ66pFyoYQ9u",
        "colab": {
          "base_uri": "https://localhost:8080/",
          "height": 51
        },
        "outputId": "10fd13a5-7c00-413b-de70-7e33e69b8c58"
      },
      "source": [
        "mapk_train012 = mapk_score(model_bpr12, X_train, k)\n",
        "mapk_test012 = mapk_score(model_bpr12, X_test, k)\n",
        "print('mapk training:', mapk_train012)\n",
        "print('mapk testing:', mapk_test012)"
      ],
      "execution_count": null,
      "outputs": [
        {
          "output_type": "stream",
          "text": [
            "mapk training: 7.964003958841083e-05\n",
            "mapk testing: 5.548263552030031e-05\n"
          ],
          "name": "stdout"
        }
      ]
    },
    {
      "cell_type": "code",
      "metadata": {
        "colab_type": "code",
        "id": "z8_6X3xcYQ93",
        "colab": {
          "base_uri": "https://localhost:8080/",
          "height": 51
        },
        "outputId": "31758606-8c1c-4c8c-827a-7f9a2e0366d7"
      },
      "source": [
        "ndcg_train012 = ndcg_score(model_bpr12, X_train, k)\n",
        "ndcg_test012 = ndcg_score(model_bpr12, X_test, k)\n",
        "print('ndcg training:', ndcg_train012)\n",
        "print('ndcg testing:', ndcg_test012)"
      ],
      "execution_count": null,
      "outputs": [
        {
          "output_type": "stream",
          "text": [
            "ndcg training: 0.0005704457681144333\n",
            "ndcg testing: 0.0001531730738036554\n"
          ],
          "name": "stdout"
        }
      ]
    },
    {
      "cell_type": "markdown",
      "metadata": {
        "id": "NlUkGLDenEUo",
        "colab_type": "text"
      },
      "source": [
        "Ejemplo de recomendación y búsqueda de items similares con los factores latentes ya entrenados:"
      ]
    },
    {
      "cell_type": "markdown",
      "metadata": {
        "id": "24SRFUKlDhQ9",
        "colab_type": "text"
      },
      "source": [
        "**recommend()**\n",
        "\n",
        "Recommends items for a user\n",
        "\n",
        "Calculates the N best recommendations for a user, and returns a list of itemids, score.\n",
        "\n",
        "Parameters:\t\n",
        "* **userid** (int) – The userid to calculate recommendations for\n",
        "* **user_items** (csr_matrix) – A sparse matrix of shape (number_users, number_items). This lets us look up the liked items and their weights for the  user. This is used to filter out items that have already been liked from the output, and to also potentially calculate the best items for this user.\n",
        "* **N** (int, optional) – The number of results to return\n",
        "* **filter_already_liked_items** (bool, optional) – When true, don’t return items present in the training set that were rated by the specificed user.\n",
        "* **filter_items** (sequence of ints, optional) – List of extra item ids to filter out from the output\n",
        "* **recalculate_user** (bool, optional) – When true, don’t rely on stored user state and instead recalculate from the passed in user_items"
      ]
    },
    {
      "cell_type": "markdown",
      "metadata": {
        "id": "G4Vzpvtw-qlm",
        "colab_type": "text"
      },
      "source": [
        "## Creación de Código para pasar a *.JSON"
      ]
    },
    {
      "cell_type": "code",
      "metadata": {
        "colab_type": "code",
        "id": "v0i9PFe3r9dV",
        "colab": {
          "base_uri": "https://localhost:8080/",
          "height": 51
        },
        "outputId": "5d93737b-302a-4b52-ccf4-c9d2d49eb06f"
      },
      "source": [
        "# Primero creamos el dataframe con los datos\n",
        "url = '/content/drive/My Drive/Tarea_SR/data/train.csv'\n",
        "df_train = pd.read_csv(url  ,\n",
        "                         sep=',',\n",
        "                        index_col=None,\n",
        "                         names=['user_id', 'item_id', 'timestamp'],\n",
        "                         header=0\n",
        "                  )\n",
        "\n",
        "print('data dimension: \\n', df.shape)\n",
        "#df.head()"
      ],
      "execution_count": null,
      "outputs": [
        {
          "output_type": "stream",
          "text": [
            "data dimension: \n",
            " (78023, 4)\n"
          ],
          "name": "stdout"
        }
      ]
    },
    {
      "cell_type": "code",
      "metadata": {
        "id": "m1jvNnToMVke",
        "colab_type": "code",
        "colab": {}
      },
      "source": [
        "user_items = {}\n",
        "itemset = set()\n",
        "\n",
        "for row in df_train.itertuples():\n",
        "    if row[0] not in user_items:\n",
        "        user_items[row[0]] = []\n",
        "        \n",
        "    user_items[row[0]].append(row[2])\n",
        "    itemset.add(row[2])\n",
        "  \n",
        "\n",
        "itemset = np.sort(list(itemset))\n",
        "\n",
        "sparse_matrix = np.zeros((len(user_items), len(itemset)))\n",
        "\n",
        "for i, items in enumerate(user_items.values()):\n",
        "    sparse_matrix[i] = np.isin(itemset, items, assume_unique=True).astype(int)\n",
        "    \n",
        "matrix = sparse.csr_matrix(sparse_matrix.T)\n",
        "\n",
        "user_ids = {key: i for i, key in enumerate(user_items.keys())}\n",
        "user_item_matrix = matrix.T.tocsr()"
      ],
      "execution_count": null,
      "outputs": []
    },
    {
      "cell_type": "code",
      "metadata": {
        "id": "l14do3QAMyOk",
        "colab_type": "code",
        "colab": {}
      },
      "source": [
        "def show_recommendations(model, user, n):\n",
        "  recommendations = [t[0] for t in model.recommend(user, user_item_matrix, n)]\n",
        "  return df_items.loc[recommendations]['item_id']"
      ],
      "execution_count": null,
      "outputs": []
    },
    {
      "cell_type": "code",
      "metadata": {
        "id": "6mb9Q-ekqzub",
        "colab_type": "code",
        "colab": {}
      },
      "source": [
        "show_recommendations(model_bpr3, 10, 20)"
      ],
      "execution_count": null,
      "outputs": []
    },
    {
      "cell_type": "code",
      "metadata": {
        "id": "lTVGrmIP-jZG",
        "colab_type": "code",
        "colab": {}
      },
      "source": [
        "def crear_fila(model, item, m):\n",
        "  a=show_recommendations(model, user=int(item), n=m).array \n",
        "  data = list() \n",
        "  for x in range(len(a)):\n",
        "    data.insert(x,a[x])\n",
        "  return data"
      ],
      "execution_count": null,
      "outputs": []
    },
    {
      "cell_type": "code",
      "metadata": {
        "id": "Z2vEFfSW298T",
        "colab_type": "code",
        "colab": {}
      },
      "source": [
        ""
      ],
      "execution_count": null,
      "outputs": []
    },
    {
      "cell_type": "markdown",
      "metadata": {
        "colab_type": "text",
        "id": "nc6fhyNq3Bzd"
      },
      "source": [
        "## Carga de Datos para las recomendaciones"
      ]
    },
    {
      "cell_type": "code",
      "metadata": {
        "colab_type": "code",
        "id": "vuLdgSOY3Bzf",
        "colab": {}
      },
      "source": [
        "# Cargamos el dataset con los items\n",
        "user_items_test = pd.read_csv('/content/drive/My Drive/Tarea_SR/data/test_users.csv',\n",
        "                        sep=';',\n",
        "                        names = ['user_id'],\n",
        "                        header=None \n",
        "                        )"
      ],
      "execution_count": null,
      "outputs": []
    },
    {
      "cell_type": "code",
      "metadata": {
        "colab_type": "code",
        "id": "r8UmUxGf3Bzn",
        "colab": {}
      },
      "source": [
        "#df_items.head()"
      ],
      "execution_count": null,
      "outputs": []
    },
    {
      "cell_type": "markdown",
      "metadata": {
        "colab_type": "text",
        "id": "_suyy0Z82kFj"
      },
      "source": [
        "## Generación de archivos *.JSON"
      ]
    },
    {
      "cell_type": "code",
      "metadata": {
        "colab_type": "code",
        "id": "gRq_H1gq2kFl",
        "colab": {}
      },
      "source": [
        "data = {}\n",
        "#adj = [\"1\",\"2\",\"3\",\"4\"]\n",
        "adj=crear_fila1(pruebam)\n",
        "m=20\n",
        "model = model_bpr_200_01_001\n",
        "for x in adj:\n",
        "    x1=int(x)\n",
        "    data[\"user_\"+str(x)] = []\n",
        "    data[\"user_\"+str(x)].append(crear_fila(model,x1, m))\n",
        "\n",
        "\n",
        "\n",
        "with open('data_model_bpr_200_01_001_20.json', 'w') as outfile:\n",
        "   json.dump(data, outfile)"
      ],
      "execution_count": null,
      "outputs": []
    },
    {
      "cell_type": "markdown",
      "metadata": {
        "id": "27km-YLLbEWS",
        "colab_type": "text"
      },
      "source": [
        "# **Gráficos de Resultados Obtenidos**"
      ]
    },
    {
      "cell_type": "code",
      "metadata": {
        "id": "8UaBR7PZbL-G",
        "colab_type": "code",
        "colab": {
          "base_uri": "https://localhost:8080/",
          "height": 1000
        },
        "outputId": "6cf54503-7537-4e68-cb90-073975feb7ee"
      },
      "source": [
        "import numpy as np\n",
        "import matplotlib.pyplot as plt\n",
        "\n",
        "Tiempo1=  [11.37,11.26,13.91,13.90,23.79,23.62]\n",
        "\n",
        "MAPTraining1 = [1.35e-04,1.12e-04,9.08e-05,8.68e-05,6.96e-05,8.31e-05]          \n",
        "MAPTesting1 = [3.20e-05,9.35e-05,2.91e-05,2.37e-05,3.34e-05,3.63e-05]         \n",
        "\n",
        "nDCGTraining1 = [6.43e-04,6.26e-04,4.48e-04,4.57e-04,4.76e-04,6.43e-04]           \n",
        "nDCGTesting1 = [2.00e-04,2.99e-04,2.15e-04,1.73e-04,2.23e-04,2.00e-04]\n",
        "\n",
        "N=[1,2,3,4,5,6]\n",
        "\n",
        "plt.plot(N, Tiempo1)\n",
        "plt.xlabel(\"N° Test\")\n",
        "plt.ylabel(\"Tiempo (s)\")\n",
        "plt.title(\"Tiempo V/S N° Test\")\n",
        "\n",
        "plt.show()\n",
        "\n",
        "plt.plot(N, MAPTraining1)\n",
        "plt.plot(N, MAPTesting1)\n",
        "plt.xlabel(\"N° Test\")\n",
        "plt.ylabel(\"MAP@20\")\n",
        "plt.title(\"MAP@20 V/S N° Test\")\n",
        "plt.legend( ('MAP@20 Training', 'MAP@20 Testing'), loc = 'upper right')\n",
        "plt.show()\n",
        "\n",
        "plt.plot(N, nDCGTraining1)\n",
        "plt.plot(N, nDCGTesting1)\n",
        "plt.xlabel(\"N° Test\")\n",
        "plt.ylabel(\"nDCG@20\")\n",
        "plt.title(\"nDCG@20 V/S N° Test\")\n",
        "plt.legend( ('nDCG@20 Training', 'nDCG@20 Testing'), loc = 'center right')\n",
        "plt.show()\n",
        "\n",
        "\n",
        "\n",
        "import numpy as np\n",
        "import matplotlib.pyplot as plt\n",
        "\n",
        "Tiempo1=  [2.916,2.843,2.849,2.776,3.639,3.699,3.515,3.548,5.091,5.065,4.943,4.853]\n",
        "\n",
        "MAPTraining1 = [1.10e-04,9.68e-05,7.80e-05,7.53e-05,1.05e-04,1.17e-04,7.08e-05,9.24e-05,6.81e-05,1.14e-04,4.23e-05,7.96e-05]          \n",
        "MAPTesting1 = [5.74e-05,5.27e-05,2.35e-05,2.54e-06,2.94e-05,9.83e-06,2.15e-05,1.24e-04,5.61e-05,2.87e-05,1.32e-04,5.55e-05]         \n",
        "\n",
        "nDCGTraining1 = [5.69e-04,5.34e-04,5.21e-04,5.69e-04,5.43e-04,6.60e-04,5.33e-04,4.78e-04,4.51e-04,6.47e-04,3.66e-04,5.70e-04]           \n",
        "nDCGTesting1 = [2.06e-04,1.82e-04,1.21e-04,2.42e-05,1.88e-04,6.18e-05,1.47e-04,4.04e-04,2.49e-04,1.09e-04,3.77e-04,1.53e-04]\n",
        "\n",
        "N=[1,2,3,4,5,6,7,8,9,10,11,12]\n",
        "\n",
        "\n",
        "plt.plot(N, Tiempo1)\n",
        "plt.xlabel(\"N° Test\")\n",
        "plt.ylabel(\"Tiempo (s)\")\n",
        "plt.title(\"Tiempo V/S N° Test\")\n",
        "\n",
        "plt.show()\n",
        "\n",
        "plt.plot(N, MAPTraining1)\n",
        "plt.plot(N, MAPTesting1)\n",
        "plt.xlabel(\"N° Test\")\n",
        "plt.ylabel(\"MAP@20\")\n",
        "plt.title(\"MAP@20 V/S N° Test\")\n",
        "plt.legend( ('MAP@20 Training', 'MAP@20 Testing'), loc = 'lower right')\n",
        "plt.show()\n",
        "\n",
        "plt.plot(N, nDCGTraining1)\n",
        "plt.plot(N, nDCGTesting1)\n",
        "plt.xlabel(\"N° Test\")\n",
        "plt.ylabel(\"nDCG@20\")\n",
        "plt.title(\"nDCG@20 V/S N° Test\")\n",
        "plt.legend( ('nDCG@20 Training', 'nDCG@20 Testing'), loc = 'center left')\n",
        "plt.show()\n"
      ],
      "execution_count": 1,
      "outputs": [
        {
          "output_type": "display_data",
          "data": {
            "image/png": "[encoded data removed]",
            "text/plain": [
              "<Figure size 432x288 with 1 Axes>"
            ]
          },
          "metadata": {
            "tags": [],
            "needs_background": "light"
          }
        },
        {
          "output_type": "display_data",
          "data": {
            "image/png": "[encoded data removed]",
            "text/plain": [
              "<Figure size 432x288 with 1 Axes>"
            ]
          },
          "metadata": {
            "tags": [],
            "needs_background": "light"
          }
        },
        {
          "output_type": "display_data",
          "data": {
            "image/png": "[encoded data removed]",
            "text/plain": [
              "<Figure size 432x288 with 1 Axes>"
            ]
          },
          "metadata": {
            "tags": [],
            "needs_background": "light"
          }
        },
        {
          "output_type": "display_data",
          "data": {
            "image/png": "[encoded data removed]",
            "text/plain": [
              "<Figure size 432x288 with 1 Axes>"
            ]
          },
          "metadata": {
            "tags": [],
            "needs_background": "light"
          }
        },
        {
          "output_type": "display_data",
          "data": {
            "image/png": "[encoded data removed]",
            "text/plain": [
              "<Figure size 432x288 with 1 Axes>"
            ]
          },
          "metadata": {
            "tags": [],
            "needs_background": "light"
          }
        },
        {
          "output_type": "display_data",
          "data": {
            "image/png": "[encoded data removed]",
            "text/plain": [
              "<Figure size 432x288 with 1 Axes>"
            ]
          },
          "metadata": {
            "tags": [],
            "needs_background": "light"
          }
        }
      ]
    }
  ]
}