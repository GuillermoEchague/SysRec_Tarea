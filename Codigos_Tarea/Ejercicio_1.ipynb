{
  "nbformat": 4,
  "nbformat_minor": 0,
  "metadata": {
    "colab": {
      "name": "Ejercicio_1.ipynb",
      "provenance": [],
      "collapsed_sections": []
    },
    "kernelspec": {
      "name": "python3",
      "display_name": "Python 3"
    }
  },
  "cells": [
    {
      "cell_type": "markdown",
      "metadata": {
        "id": "Q_ue9h2nZ5R_",
        "colab_type": "text"
      },
      "source": [
        "## Realizar el Acceso a Drive"
      ]
    },
    {
      "cell_type": "code",
      "metadata": {
        "id": "_XTmFr1vaPad",
        "colab_type": "code",
        "colab": {
          "base_uri": "https://localhost:8080/",
          "height": 34
        },
        "outputId": "e850cd3b-6f81-4f96-e071-3b68489fd689"
      },
      "source": [
        "from google.colab import drive\n",
        "drive.mount('/content/drive')"
      ],
      "execution_count": null,
      "outputs": [
        {
          "output_type": "stream",
          "text": [
            "Mounted at /content/drive\n"
          ],
          "name": "stdout"
        }
      ]
    },
    {
      "cell_type": "markdown",
      "metadata": {
        "id": "uKoaInA_aB4e",
        "colab_type": "text"
      },
      "source": [
        "Instalar e importar librerias necesarias para el desarrollo de la actividad propuesta "
      ]
    },
    {
      "cell_type": "code",
      "metadata": {
        "id": "hSXLC-g8bMW1",
        "colab_type": "code",
        "colab": {
          "base_uri": "https://localhost:8080/",
          "height": 224
        },
        "outputId": "b01278d2-7cc1-40bc-c4bf-987efb6b3c59"
      },
      "source": [
        "pip install cytoolz"
      ],
      "execution_count": null,
      "outputs": [
        {
          "output_type": "stream",
          "text": [
            "Collecting cytoolz\n",
            "\u001b[?25l  Downloading https://files.pythonhosted.org/packages/62/b1/7f16703fe4a497879b1b457adf1e472fad2d4f030477698b16d2febf38bb/cytoolz-0.10.1.tar.gz (475kB)\n",
            "\u001b[K     |████████████████████████████████| 481kB 4.5MB/s \n",
            "\u001b[?25hRequirement already satisfied: toolz>=0.8.0 in /usr/local/lib/python3.6/dist-packages (from cytoolz) (0.10.0)\n",
            "Building wheels for collected packages: cytoolz\n",
            "  Building wheel for cytoolz (setup.py) ... \u001b[?25l\u001b[?25hdone\n",
            "  Created wheel for cytoolz: filename=cytoolz-0.10.1-cp36-cp36m-linux_x86_64.whl size=1232796 sha256=ff771810f21d9c21d5db4cd1824f262af142d2bf291eab26318b2062166a634d\n",
            "  Stored in directory: /root/.cache/pip/wheels/64/2a/18/d962b614e055577e7d9a3e4813e0742f822ca9c8800cc3783a\n",
            "Successfully built cytoolz\n",
            "Installing collected packages: cytoolz\n",
            "Successfully installed cytoolz-0.10.1\n"
          ],
          "name": "stdout"
        }
      ]
    },
    {
      "cell_type": "code",
      "metadata": {
        "id": "RnDAk8L-gKtM",
        "colab_type": "code",
        "colab": {
          "base_uri": "https://localhost:8080/",
          "height": 71
        },
        "outputId": "adef4b04-b3e2-4f0a-b734-9cd08b9b09f8"
      },
      "source": [
        "import pandas as pd\n",
        "import seaborn as sns\n",
        "import numpy as np\n",
        "import scipy.sparse as sparse\n",
        "import matplotlib.pyplot as plt\n",
        "from cytoolz import groupby\n",
        "\n",
        "%matplotlib inline\n",
        "sns.set(style=\"whitegrid\")"
      ],
      "execution_count": null,
      "outputs": [
        {
          "output_type": "stream",
          "text": [
            "/usr/local/lib/python3.6/dist-packages/statsmodels/tools/_testing.py:19: FutureWarning: pandas.util.testing is deprecated. Use the functions in the public API at pandas.testing instead.\n",
            "  import pandas.util.testing as tm\n"
          ],
          "name": "stderr"
        }
      ]
    },
    {
      "cell_type": "markdown",
      "metadata": {
        "id": "ipexcak7aVi9",
        "colab_type": "text"
      },
      "source": [
        "Importar el archivo *.csv con los datos de entretenamiento."
      ]
    },
    {
      "cell_type": "code",
      "metadata": {
        "id": "s1ItzefSenH0",
        "colab_type": "code",
        "colab": {}
      },
      "source": [
        "url = '/content/drive/My Drive/Tarea_SR/data/train.csv'\n",
        "df1 = pd.read_csv(url  ,\n",
        "                         sep=',',\n",
        "                        index_col=None,\n",
        "                         names=['user_id', 'item_id', 'timestamp'],\n",
        "                         header=0\n",
        "                  )"
      ],
      "execution_count": null,
      "outputs": []
    },
    {
      "cell_type": "markdown",
      "metadata": {
        "id": "ezc31xlcahn4",
        "colab_type": "text"
      },
      "source": [
        "Vista de como estan los datos que son exportados, esto es para verificar como son los datos para trabajar"
      ]
    },
    {
      "cell_type": "code",
      "metadata": {
        "id": "RNHkxTnEqUEJ",
        "colab_type": "code",
        "colab": {
          "base_uri": "https://localhost:8080/",
          "height": 265
        },
        "outputId": "848cfb15-2d85-476b-c4ad-ca96f02daf9d"
      },
      "source": [
        "df1.head"
      ],
      "execution_count": null,
      "outputs": [
        {
          "output_type": "execute_result",
          "data": {
            "text/plain": [
              "<bound method NDFrame.head of        user_id                           item_id   timestamp\n",
              "0            0  e29e422c743a3d39a45c2bf777cc7091  1447833945\n",
              "1            1  c0cefffdc4f2cb23c01fdd0257ffc82d  1447931155\n",
              "2            2  77a5bb1f382cfa168f53e870bf7dc96b  1447867326\n",
              "3            3  a0d92aa0cc44c61ac2c2592e6ed702d2  1447876751\n",
              "4            4  664c68013188241c5ad641830e09c55f  1447890664\n",
              "...        ...                               ...         ...\n",
              "78018     1239  dc18b6a667a0ccf8cd2b0389116cc119  1447855745\n",
              "78019     1200  09f7874454af89cdd3ad5601eea405f9  1448000097\n",
              "78020      192  4eb94f6e6769e69db5974c0197b094f1  1447861486\n",
              "78021      232  fc24feacb7fe3f7750a86d74148fe243  1447854372\n",
              "78022      723  93bc169ab88403c9a64a05ed8d0dae84  1447867198\n",
              "\n",
              "[78023 rows x 3 columns]>"
            ]
          },
          "metadata": {
            "tags": []
          },
          "execution_count": 40
        }
      ]
    },
    {
      "cell_type": "code",
      "metadata": {
        "id": "LYNcGy0HgWBR",
        "colab_type": "code",
        "colab": {
          "base_uri": "https://localhost:8080/",
          "height": 87
        },
        "outputId": "69d50560-324a-4d9f-afed-13794b3bb752"
      },
      "source": [
        "df1.dtypes"
      ],
      "execution_count": null,
      "outputs": [
        {
          "output_type": "execute_result",
          "data": {
            "text/plain": [
              "user_id       int64\n",
              "item_id      object\n",
              "timestamp     int64\n",
              "dtype: object"
            ]
          },
          "metadata": {
            "tags": []
          },
          "execution_count": 41
        }
      ]
    },
    {
      "cell_type": "markdown",
      "metadata": {
        "id": "qUSYydWbzlS-",
        "colab_type": "text"
      },
      "source": [
        "# **Medidas de la distribución imágenes por usuario**"
      ]
    },
    {
      "cell_type": "markdown",
      "metadata": {
        "id": "Dibm5dLQt_L-",
        "colab_type": "text"
      },
      "source": [
        "**Contar los ID que mas imagenes vieron**\n",
        "\n",
        "\n",
        "\n"
      ]
    },
    {
      "cell_type": "code",
      "metadata": {
        "id": "164Bhli8sHKi",
        "colab_type": "code",
        "colab": {
          "base_uri": "https://localhost:8080/",
          "height": 34
        },
        "outputId": "e30d56e6-2e50-4d9e-e4c3-6c48a13b5012"
      },
      "source": [
        "import collections\n",
        "\n",
        "prueba=df1.iloc[: , 0]\n",
        "lista1=prueba.array\n",
        "\n",
        "cuenta1 = collections.Counter(lista1)\n",
        "\n",
        "#print(cuenta1)\n",
        "mas_popular=cuenta1.most_common(5)\n",
        "\n",
        "print(mas_popular)"
      ],
      "execution_count": null,
      "outputs": [
        {
          "output_type": "stream",
          "text": [
            "[(566, 152), (350, 133), (103, 128), (144, 122), (1006, 122)]\n"
          ],
          "name": "stdout"
        }
      ]
    },
    {
      "cell_type": "markdown",
      "metadata": {
        "id": "w7kBwE7Oa84e",
        "colab_type": "text"
      },
      "source": [
        "Estos valores representan respextivamente los 5 usuarios que mas imagenes visitaron y la cantidad de veces respectivamente."
      ]
    },
    {
      "cell_type": "code",
      "metadata": {
        "id": "UNf2BP17mrfn",
        "colab_type": "code",
        "colab": {
          "base_uri": "https://localhost:8080/",
          "height": 136
        },
        "outputId": "709c99e6-f7dc-4b56-83d1-a700b2cd3015"
      },
      "source": [
        "df3=df1.groupby('user_id').agg({'timestamp':sum})[\"timestamp\"].nlargest(5) \n",
        "print(df3)"
      ],
      "execution_count": null,
      "outputs": [
        {
          "output_type": "stream",
          "text": [
            "user_id\n",
            "566     220074873730\n",
            "350     192594613964\n",
            "103     185325353216\n",
            "1006    176638440662\n",
            "144     176636721470\n",
            "Name: timestamp, dtype: int64\n"
          ],
          "name": "stdout"
        }
      ]
    },
    {
      "cell_type": "markdown",
      "metadata": {
        "id": "EoKIioQmLeAc",
        "colab_type": "text"
      },
      "source": [
        "## **Determinar la cantidad de usuarios**"
      ]
    },
    {
      "cell_type": "code",
      "metadata": {
        "id": "aLYF9ooawj3X",
        "colab_type": "code",
        "colab": {
          "base_uri": "https://localhost:8080/",
          "height": 34
        },
        "outputId": "d8f15832-d679-48df-c001-7ebc73cf912b"
      },
      "source": [
        "valor_id=list()\n",
        "tabla_id=list()\n",
        "cantidad_id=0\n",
        "i=0\n",
        "\n",
        "for id, valor in cuenta1.items():\n",
        "    id=id\n",
        "    cantidad_id=valor+cantidad_id\n",
        "    valor_id.insert(id,valor)\n",
        "    tabla_id.insert(id,id)\n",
        "\n",
        "id1=id+1 \n",
        "\n",
        "\n",
        "print(\"Cantidad de Usuarios: \"+str(id1))"
      ],
      "execution_count": null,
      "outputs": [
        {
          "output_type": "stream",
          "text": [
            "Cantidad de Usuarios: 1593\n"
          ],
          "name": "stdout"
        }
      ]
    },
    {
      "cell_type": "markdown",
      "metadata": {
        "id": "qhHeeApALmYj",
        "colab_type": "text"
      },
      "source": [
        "## **Valores Estadísticos**"
      ]
    },
    {
      "cell_type": "markdown",
      "metadata": {
        "id": "LHpe38pNbXgL",
        "colab_type": "text"
      },
      "source": [
        "Acá, se obtendran los valores como: Promedio, media, desviación estandar del Dataset."
      ]
    },
    {
      "cell_type": "code",
      "metadata": {
        "id": "udLH48-50PLi",
        "colab_type": "code",
        "colab": {
          "base_uri": "https://localhost:8080/",
          "height": 212
        },
        "outputId": "d628f1a1-61f7-42d4-b03c-2f19c9b5ca20"
      },
      "source": [
        "import statistics\n",
        "import numpy\n",
        "import pandas as pd\n",
        "import scipy\n",
        "\n",
        "\n",
        "Media=statistics.mean(valor_id)\n",
        "print(\"Media : \"+str(Media))\n",
        "\n",
        "Mediana=statistics.median(valor_id)\n",
        "print(\"Mediana : \"+str(Mediana))\n",
        "\n",
        "Moda=statistics.mode(valor_id)\n",
        "print(\"Moda : \"+str(Moda))\n",
        "\n",
        "Desviacion_estandar=statistics.stdev(valor_id)\n",
        "print(\"Desviacion Estandar : \"+str(Desviacion_estandar))\n",
        "\n",
        "Varianza=statistics.variance(valor_id)\n",
        "print(\"Varianza : \"+str(Varianza))\n",
        "\n",
        "v=pd.DataFrame(valor_id)\n",
        "Coef_asimetria=v.skew(axis = 0, skipna = True) \n",
        "print(\"Coeficiente de Asimetria : \"+str(Coef_asimetria))\n",
        "\n",
        "\n",
        "Minimo=numpy.min(valor_id)\n",
        "print(\"Minimo : \"+str(Minimo))\n",
        "\n",
        "Maximo=numpy.max(valor_id)\n",
        "print(\"Maximo : \"+str(Maximo))\n",
        "\n",
        "suma=numpy.sum(valor_id)\n",
        "print(\"suma : \"+str(suma))\n",
        "\n",
        "sesgo=(Media-Moda)/Desviacion_estandar\n",
        "print(\"Sesgo : \"+str(sesgo))\n",
        "\n",
        "\n"
      ],
      "execution_count": null,
      "outputs": [
        {
          "output_type": "stream",
          "text": [
            "Media : 48.97865662272442\n",
            "Mediana : 43\n",
            "Moda : 26\n",
            "Desviacion Estandar : 22.876543173984764\n",
            "Varianza : 523.3362275911888\n",
            "Coeficiente de Asimetria : 0    0.939976\n",
            "dtype: float64\n",
            "Minimo : 16\n",
            "Maximo : 152\n",
            "suma : 78023\n",
            "Sesgo : 1.0044636747765188\n"
          ],
          "name": "stdout"
        }
      ]
    },
    {
      "cell_type": "markdown",
      "metadata": {
        "id": "b_A_V-zWFGBN",
        "colab_type": "text"
      },
      "source": [
        "# **Medidas de la distribución  usuarios por imagen**"
      ]
    },
    {
      "cell_type": "markdown",
      "metadata": {
        "colab_type": "text",
        "id": "iZcYFC6UGUSZ"
      },
      "source": [
        "Contar la cantidad de imágenes más vistas"
      ]
    },
    {
      "cell_type": "code",
      "metadata": {
        "id": "ui0qFxsauLdb",
        "colab_type": "code",
        "colab": {
          "base_uri": "https://localhost:8080/",
          "height": 102
        },
        "outputId": "d4bfe949-6811-4112-94f4-a5b24e88cfa6"
      },
      "source": [
        "prueba2=df1.iloc[: , 1]\n",
        "lista2=prueba2.array\n",
        "\n",
        "cuenta2 = collections.Counter(lista2)\n",
        "\n",
        "#print(cuenta2)\n",
        "\n",
        "cuenta2.most_common(5)"
      ],
      "execution_count": null,
      "outputs": [
        {
          "output_type": "execute_result",
          "data": {
            "text/plain": [
              "[('d526333a98d58328d47265a4e067323f', 7),\n",
              " ('f9514478a48522018a1fe464c4baf8a7', 7),\n",
              " ('96b4d174650edf3f1bdf0bfa12d75dd3', 7),\n",
              " ('ee4f79c0209898b80839534b97c36eaf', 7),\n",
              " ('e2f366ef70185c50be8df2e1ccd3fc56', 7)]"
            ]
          },
          "metadata": {
            "tags": []
          },
          "execution_count": 10
        }
      ]
    },
    {
      "cell_type": "markdown",
      "metadata": {
        "id": "EeNpOY00fQjL",
        "colab_type": "text"
      },
      "source": [
        "Cantidad de imágenes no repetidas"
      ]
    },
    {
      "cell_type": "code",
      "metadata": {
        "id": "rOh9IXW0eux9",
        "colab_type": "code",
        "colab": {}
      },
      "source": [
        "imagenes=cuenta2.most_common()"
      ],
      "execution_count": null,
      "outputs": []
    },
    {
      "cell_type": "code",
      "metadata": {
        "id": "0v6ntFqQfEaU",
        "colab_type": "code",
        "colab": {
          "base_uri": "https://localhost:8080/",
          "height": 34
        },
        "outputId": "5de7f599-205a-4a3c-ec95-df0769782087"
      },
      "source": [
        "print('Cantidad de imágenes: ', len(imagenes))"
      ],
      "execution_count": null,
      "outputs": [
        {
          "output_type": "stream",
          "text": [
            "Cantidad de imágenes:  71027\n"
          ],
          "name": "stdout"
        }
      ]
    },
    {
      "cell_type": "markdown",
      "metadata": {
        "id": "KCC0sqGq1EU-",
        "colab_type": "text"
      },
      "source": [
        "Determinación de los item más visitados"
      ]
    },
    {
      "cell_type": "code",
      "metadata": {
        "id": "fYqPJ3NanXtt",
        "colab_type": "code",
        "colab": {
          "base_uri": "https://localhost:8080/",
          "height": 136
        },
        "outputId": "9cdd3c4b-af74-4974-cc60-60aa690c9a53"
      },
      "source": [
        "df4=df1.groupby('item_id').agg({'timestamp':sum})[\"timestamp\"].nlargest(5) \n",
        "print(df4)"
      ],
      "execution_count": null,
      "outputs": [
        {
          "output_type": "stream",
          "text": [
            "item_id\n",
            "d526333a98d58328d47265a4e067323f    10136307112\n",
            "8ef38896d10d839ae2d409b352e20c8a    10135328322\n",
            "e2f366ef70185c50be8df2e1ccd3fc56    10135302657\n",
            "1a92746ae6815bbba2770a8ee29ee69d    10135281573\n",
            "f9514478a48522018a1fe464c4baf8a7    10135044348\n",
            "Name: timestamp, dtype: int64\n"
          ],
          "name": "stdout"
        }
      ]
    },
    {
      "cell_type": "code",
      "metadata": {
        "colab_type": "code",
        "id": "jI6F6Gc2dSaz",
        "colab": {
          "base_uri": "https://localhost:8080/",
          "height": 34
        },
        "outputId": "1d45ee29-a2db-44e0-c7e6-7cdf0b13ad6c"
      },
      "source": [
        "valor_id2=list()\n",
        "tabla_id2=list()\n",
        "cantidad2_id=0\n",
        "valor_Item=list()\n",
        "i=0\n",
        "id1=0\n",
        "\n",
        "for i in range(len(imagenes)):\n",
        "    id1=i\n",
        "    cantidad2_id=imagenes[i][1]+cantidad2_id\n",
        "    valor_id2.insert(i,imagenes[i][1])\n",
        "    valor_Item.insert(i,i)\n",
        "\n",
        "id2=id1+1 \n",
        "\n",
        "\n",
        "print(\"Cantidad de imágenes: \"+str(id2))"
      ],
      "execution_count": null,
      "outputs": [
        {
          "output_type": "stream",
          "text": [
            "Cantidad de imágenes: 71027\n"
          ],
          "name": "stdout"
        }
      ]
    },
    {
      "cell_type": "markdown",
      "metadata": {
        "colab_type": "text",
        "id": "F-49-0jbL6Nc"
      },
      "source": [
        "## **Valores Estadísticos**"
      ]
    },
    {
      "cell_type": "code",
      "metadata": {
        "colab_type": "code",
        "id": "Lp4zaciVL_6K",
        "colab": {
          "base_uri": "https://localhost:8080/",
          "height": 212
        },
        "outputId": "2159d229-58ed-4430-d0d3-d619fca1bd61"
      },
      "source": [
        "#import statistics\n",
        "#import numpy\n",
        "#import pandas as pd\n",
        "#import scipy\n",
        "\n",
        "\n",
        "Media=statistics.mean(valor_id2)\n",
        "print(\"Media : \"+str(Media))\n",
        "\n",
        "Mediana=statistics.median(valor_id2)\n",
        "print(\"Mediana : \"+str(Mediana))\n",
        "\n",
        "Moda=statistics.mode(valor_id2)\n",
        "print(\"Moda : \"+str(Moda))\n",
        "\n",
        "Desviacion_estandar=statistics.stdev(valor_id2)\n",
        "print(\"Desviacion Estandar : \"+str(Desviacion_estandar))\n",
        "\n",
        "Varianza=statistics.variance(valor_id2)\n",
        "print(\"Varianza : \"+str(Varianza))\n",
        "\n",
        "v=pd.DataFrame(valor_id2)\n",
        "Coef_asimetria=v.skew(axis = 0, skipna = True) \n",
        "print(\"Coeficiente de Asimetria : \"+str(Coef_asimetria))\n",
        "\n",
        "\n",
        "Minimo=numpy.min(valor_id2)\n",
        "print(\"Minimo : \"+str(Minimo))\n",
        "\n",
        "Maximo=numpy.max(valor_id2)\n",
        "print(\"Maximo : \"+str(Maximo))\n",
        "\n",
        "suma=numpy.sum(valor_id2)\n",
        "print(\"suma : \"+str(suma))\n",
        "\n",
        "sesgo=(Media-Moda)/Desviacion_estandar\n",
        "print(\"Sesgo : \"+str(sesgo))\n",
        "\n",
        "\n"
      ],
      "execution_count": null,
      "outputs": [
        {
          "output_type": "stream",
          "text": [
            "Media : 1.098497754375097\n",
            "Mediana : 1\n",
            "Moda : 1\n",
            "Desviacion Estndar : 0.36620287981485133\n",
            "Varianza : 0.13410454918469045\n",
            "Coeficiente de Asimetria : 0    4.92254\n",
            "dtype: float64\n",
            "Minimo : 1\n",
            "Maximo : 7\n",
            "suma : 78023\n",
            "Sesgo : 0.2689704527307279\n"
          ],
          "name": "stdout"
        }
      ]
    },
    {
      "cell_type": "markdown",
      "metadata": {
        "id": "86T6H2LgMIyi",
        "colab_type": "text"
      },
      "source": [
        "# **Gráficos**"
      ]
    },
    {
      "cell_type": "markdown",
      "metadata": {
        "colab_type": "text",
        "id": "wovCbYDdMU34"
      },
      "source": [
        "## **Gráfico de los usuarios** "
      ]
    },
    {
      "cell_type": "markdown",
      "metadata": {
        "id": "qVgqhjfbnFsX",
        "colab_type": "text"
      },
      "source": [
        "**Gráficos de Usuarios por imagenes**"
      ]
    },
    {
      "cell_type": "code",
      "metadata": {
        "colab_type": "code",
        "id": "HCzUtwksQjWd",
        "colab": {
          "base_uri": "https://localhost:8080/",
          "height": 371
        },
        "outputId": "20b14c06-50e9-44d6-b0b3-ddd999d5db67"
      },
      "source": [
        "# %%\n",
        "# Gráficos usando figuras\n",
        "import numpy as np\n",
        "import matplotlib.pyplot as plt\n",
        "\n",
        "# La figura crea un espacio donde dibujar el gráfico\n",
        "fig = plt.figure()\n",
        "\n",
        "# Necesitamos definir una relación de tamaños para el rectángulo del dibujo (l,b,w,h)\n",
        "# Nota: En jupyter l(eft) y b(ottom) para el primer gráfico no se tienen en cuenta\n",
        "rect = (0, 0, 1, 1)\n",
        "\n",
        "# Añadimos los límites para crear un objeto de ejes sobre el que dibujar el gráfico\n",
        "axes = fig.add_axes(rect)\n",
        "\n",
        "\n",
        "valorX = valor_Item\n",
        "valorY = valor_id2\n",
        "\n",
        "xx = range(len(valorX))\n",
        "plt.bar(xx, valorY, width=0.5, align='center', edgecolor='black')\n",
        "\n",
        "\n",
        "# La mayor diferencia ahora es a la hora de personalizar el gráfico, teniéndonos\n",
        "# que referir a los métodos con la palabra set precediendo del nombre clásico\n",
        "axes.set_ylim(0, 8)\n",
        "axes.set_xlabel(\"ID_Imágenes\")\n",
        "axes.set_ylabel(\"Cantidad de Interacciones\")\n",
        "axes.set_title(\"Las cinco Cantidades de Interacciones V/S Id_imágenes\")\n",
        "\n",
        "# Finalmente mostramos la figura\n",
        "fig.show()"
      ],
      "execution_count": null,
      "outputs": [
        {
          "output_type": "display_data",
          "data": {
            "image/png": "[encoded data removed]",
            "text/plain": [
              "<Figure size 432x288 with 1 Axes>"
            ]
          },
          "metadata": {
            "tags": []
          }
        }
      ]
    },
    {
      "cell_type": "code",
      "metadata": {
        "id": "ZVjd6LCQUDr6",
        "colab_type": "code",
        "colab": {
          "base_uri": "https://localhost:8080/",
          "height": 301
        },
        "outputId": "3072b66d-20e7-42db-f7a3-00f2e09024e7"
      },
      "source": [
        "# Se obtienen los valores de los ejes X e Y respectivamente\n",
        "\n",
        "\n",
        "\n",
        "#valorX = valor_Item\n",
        "valorX =np.arange(len(valor_Item))\n",
        "valorY = valor_id2\n",
        "\"\"\"\n",
        "for i in range(len(cuenta1)):\n",
        "      y1.insert(i,cuenta1[i])\n",
        "      x2.insert(i,i)\n",
        "\n",
        "xx = range(len(x2))\n",
        "plt.bar(xx, y1, width=0.01, align='center', edgecolor='blue')\n",
        "ax.set_xticklabels(x2)\n",
        "\"\"\"\n",
        "\n",
        "\n",
        "plt.scatter(valorX,valorY)\n",
        "plt.xlabel(\"ID_Imágenes\")\n",
        "plt.ylabel(\"Cantidad de Interacciones\")\n",
        "plt.title('Gráfico dispersión Cantidades de Interacciones V/S Id_imágenes')\n",
        "\n",
        "plt.show()"
      ],
      "execution_count": null,
      "outputs": [
        {
          "output_type": "display_data",
          "data": {
            "image/png": "[encoded data removed]",
            "text/plain": [
              "<Figure size 432x288 with 1 Axes>"
            ]
          },
          "metadata": {
            "tags": []
          }
        }
      ]
    },
    {
      "cell_type": "markdown",
      "metadata": {
        "id": "bFfyOwA8RE2d",
        "colab_type": "text"
      },
      "source": [
        ""
      ]
    },
    {
      "cell_type": "markdown",
      "metadata": {
        "colab_type": "text",
        "id": "Zjt7N5JAqlI8"
      },
      "source": [
        "**Gráficos de imágenes por usuarios**"
      ]
    },
    {
      "cell_type": "code",
      "metadata": {
        "id": "2gPLXS48e2b-",
        "colab_type": "code",
        "colab": {
          "base_uri": "https://localhost:8080/",
          "height": 301
        },
        "outputId": "a961c7ea-3ea9-4f27-e922-589ae6c0c9af"
      },
      "source": [
        "# Se obtienen los valores de los ejes X e Y respectivamente\n",
        "x2=[]\n",
        "y1=[]\n",
        "\n",
        "for i in range(len(cuenta1)):\n",
        "      y1.insert(i,cuenta1[i])\n",
        "      x2.insert(i,i)\n",
        "\n",
        "xx = range(len(x2))\n",
        "plt.bar(xx, y1, width=0.01, align='center', edgecolor='blue')\n",
        "#ax.set_xticklabels(x2)\n",
        "\n",
        "plt.xlabel('ID_Usuarios')\n",
        "plt.ylabel('Cantidad imágenes por usuario')\n",
        "plt.title('Gráfico Cantidad de imágenes por usuario V/S ID_Usuarios')\n",
        "\n",
        "plt.show()\n"
      ],
      "execution_count": null,
      "outputs": [
        {
          "output_type": "display_data",
          "data": {
            "image/png": "[encoded data removed]",
            "text/plain": [
              "<Figure size 432x288 with 1 Axes>"
            ]
          },
          "metadata": {
            "tags": []
          }
        }
      ]
    },
    {
      "cell_type": "code",
      "metadata": {
        "id": "S6yjfBCuTFz8",
        "colab_type": "code",
        "colab": {
          "base_uri": "https://localhost:8080/",
          "height": 301
        },
        "outputId": "79a0a5c3-09c9-40d8-d6a4-9fc6ce5d100d"
      },
      "source": [
        "# Se obtienen los valores de los ejes X e Y respectivamente\n",
        "x2=[]\n",
        "y1=[]\n",
        "\n",
        "for i in range(len(cuenta1)):\n",
        "      y1.insert(i,cuenta1[i])\n",
        "      x2.insert(i,i)\n",
        "\"\"\"\n",
        "xx = range(len(x2))\n",
        "plt.bar(xx, y1, width=0.01, align='center', edgecolor='blue')\n",
        "ax.set_xticklabels(x2)\n",
        "\"\"\"\n",
        "plt.scatter(x2,y1)\n",
        "plt.xlabel('ID_Usuarios')\n",
        "plt.ylabel('Cantidad imágenes por usuario')\n",
        "plt.title('Gráfico dispersión Cantidad de imágenes por usuario V/S ID_Usuarios')\n",
        "\n",
        "plt.show()"
      ],
      "execution_count": null,
      "outputs": [
        {
          "output_type": "display_data",
          "data": {
            "image/png": "[encoded data removed]",
            "text/plain": [
              "<Figure size 432x288 with 1 Axes>"
            ]
          },
          "metadata": {
            "tags": []
          }
        }
      ]
    },
    {
      "cell_type": "markdown",
      "metadata": {
        "id": "ANEOtZjd1N6V",
        "colab_type": "text"
      },
      "source": [
        "## **Gráfico de los usuarios más visitados** "
      ]
    },
    {
      "cell_type": "markdown",
      "metadata": {
        "colab_type": "text",
        "id": "CiBmcWI5qiEU"
      },
      "source": [
        "**Gráficos de cantidad de Interacciones**"
      ]
    },
    {
      "cell_type": "code",
      "metadata": {
        "id": "Hxs-WPcqJm7S",
        "colab_type": "code",
        "colab": {
          "base_uri": "https://localhost:8080/",
          "height": 371
        },
        "outputId": "c9da5f9c-5229-4cb9-92e7-459b8b00873f"
      },
      "source": [
        "# %%\n",
        "# Gráficos usando figuras\n",
        "import numpy as np\n",
        "import matplotlib.pyplot as plt\n",
        "\n",
        "# La figura crea un espacio donde dibujar el gráfico\n",
        "fig = plt.figure()\n",
        "\n",
        "# Necesitamos definir una relación de tamaños para el rectángulo del dibujo (l,b,w,h)\n",
        "# Nota: En jupyter l(eft) y b(ottom) para el primer gráfico no se tienen en cuenta\n",
        "rect = (0, 0, 1, 1)\n",
        "\n",
        "# Añadimos los límites para crear un objeto de ejes sobre el que dibujar el gráfico\n",
        "axes = fig.add_axes(rect)\n",
        "\n",
        "# A partir de este objeto podremos crear nuestro gráfico como si fuera el clásico plt\n",
        "valorX=[]\n",
        "valorY=[]\n",
        "\n",
        "imagenes5=cuenta2.most_common(5)\n",
        "\n",
        "for i in range(5):\n",
        "    valorY.insert(i,imagenes5[i][1])\n",
        "    valorX.insert(i,i)\n",
        "\n",
        "xx = range(len(valorX))\n",
        "plt.bar(xx, valorY, width=0.5, align='center', edgecolor='black')\n",
        "\n",
        "#plot(np.random.randint(100, size=[6]), label=\"Pedro\", color=\"green\")\n",
        "#axes.plot(np.random.randint(100, size=[6]), label=\"Marta\", color=\"red\")\n",
        "#axes.plot(np.random.randint(100, size=[6]), label=\"Ana\", color=\"cyan\")\n",
        "\n",
        "# La mayor diferencia ahora es a la hora de personalizar el gráfico, teniéndonos\n",
        "# que referir a los métodos con la palabra set precediendo del nombre clásico\n",
        "axes.set_ylim(0, 8)\n",
        "axes.set_xlabel(\"ID_Imágenes\")\n",
        "axes.set_ylabel(\"Cantidad de Interacciones\")\n",
        "axes.set_title(\"Las cinco Cantidades de Interacciones V/S Id_imágenes\")\n",
        "\n",
        "# La parte de mapear los nombres cambia un poco y requiere usar dos métodos\n",
        "ID_I = ['d526333a98', 'f9514478a4', '96b4d17465', 'ee4f79c0209', 'e2f366ef701']\n",
        "mapeado = range(len(ID_I))\n",
        "axes.set_xticks(mapeado)\n",
        "axes.set_xticklabels(ID_I)\n",
        "\n",
        "axes.text(0,7.5,\"0.0090%\")\n",
        "axes.text(1,7.5,\"0.0090%\")\n",
        "axes.text(2,7.5,\"0.0090%\")\n",
        "axes.text(3,7.5,\"0.0090%\")\n",
        "axes.text(4,7.5,\"0.0090%\")\n",
        "# Finalmente mostramos la figura\n",
        "fig.show()"
      ],
      "execution_count": null,
      "outputs": [
        {
          "output_type": "display_data",
          "data": {
            "image/png": "[encoded data removed]",
            "text/plain": [
              "<Figure size 432x288 with 1 Axes>"
            ]
          },
          "metadata": {
            "tags": []
          }
        }
      ]
    },
    {
      "cell_type": "markdown",
      "metadata": {
        "id": "Gl2xTjIdncBE",
        "colab_type": "text"
      },
      "source": [
        "**Gráficos de imagenes por usuarios**"
      ]
    },
    {
      "cell_type": "code",
      "metadata": {
        "colab_type": "code",
        "id": "URYeYxkmMmSm",
        "colab": {
          "base_uri": "https://localhost:8080/",
          "height": 371
        },
        "outputId": "189ab304-5b82-4606-b1b3-531ccfbcec64"
      },
      "source": [
        "# %%\n",
        "# Gráficos usando figuras\n",
        "import numpy as np\n",
        "import matplotlib.pyplot as plt\n",
        "\n",
        "# La figura crea un espacio donde dibujar el gráfico\n",
        "fig = plt.figure()\n",
        "\n",
        "# Necesitamos definir una relación de tamaños para el rectángulo del dibujo (l,b,w,h)\n",
        "# Nota: En jupyter l(eft) y b(ottom) para el primer gráfico no se tienen en cuenta\n",
        "rect = (0, 0, 1, 1)\n",
        "\n",
        "# Añadimos los límites para crear un objeto de ejes sobre el que dibujar el gráfico\n",
        "axes = fig.add_axes(rect)\n",
        "\n",
        "# A partir de este objeto podremos crear nuestro gráfico como si fuera el clásico plt\n",
        "valorX1=[]\n",
        "valorY1=[]\n",
        "\n",
        "imagenes01=cuenta1.most_common(5)\n",
        "\n",
        "for i in range(5):\n",
        "    valorY1.insert(i,imagenes01[i][1])\n",
        "    valorX1.insert(i,imagenes01[i][0])\n",
        "\n",
        "xx = range(len(valorX1))\n",
        "plt.bar(xx, valorY1, width=0.5, align='center', edgecolor='black')\n",
        "\n",
        "\n",
        "# La mayor diferencia ahora es a la hora de personalizar el gráfico, teniéndonos\n",
        "# que referir a los métodos con la palabra set precediendo del nombre clásico\n",
        "axes.set_ylim(0, 170)\n",
        "axes.set_xlabel(\"ID_Imágenes\")\n",
        "axes.set_ylabel(\"Cantidad de Interacciones\")\n",
        "axes.set_title(\"Las cinco Cantidades de Interacciones V/S Id_imágenes\")\n",
        "\n",
        "# La parte de mapear los nombres cambia un poco y requiere usar dos métodos\n",
        "ID_I = ['566', '350', '103', '144', '1006']\n",
        "mapeado = range(len(ID_I))\n",
        "axes.set_xticks(mapeado)\n",
        "axes.set_xticklabels(ID_I)\n",
        "\n",
        "axes.text(0,155,\"0.195%\")\n",
        "axes.text(1,135,\"0.170%\")\n",
        "axes.text(2,130,\"0.164%\")\n",
        "axes.text(3,125,\"0.156%\")\n",
        "axes.text(4,125,\"0.156%\")\n",
        "# Finalmente mostramos la figura\n",
        "fig.show()"
      ],
      "execution_count": null,
      "outputs": [
        {
          "output_type": "display_data",
          "data": {
            "image/png": "[encoded data removed]",
            "text/plain": [
              "<Figure size 432x288 with 1 Axes>"
            ]
          },
          "metadata": {
            "tags": []
          }
        }
      ]
    }
  ]
}